{
  "nbformat": 4,
  "nbformat_minor": 0,
  "metadata": {
    "colab": {
      "name": "AG_News_NLP_Project.ipynb",
      "provenance": [],
      "collapsed_sections": [],
      "toc_visible": true
    },
    "kernelspec": {
      "name": "python3",
      "display_name": "Python 3"
    },
    "language_info": {
      "name": "python"
    },
    "accelerator": "GPU"
  },
  "cells": [
    {
      "cell_type": "markdown",
      "metadata": {
        "id": "fMLDOQwYEk9i"
      },
      "source": [
        "# AG NEWS NLP PROJECT"
      ]
    },
    {
      "cell_type": "markdown",
      "metadata": {
        "id": "aOJ5UgmxkunX"
      },
      "source": [
        "AG News is a subdataset of AG's corpus of news articles constructed by assembling titles and description fields of articles from the 4 largest classes (“World”, “Sports”, “Business”, “Sci/Tech”) of AG’s Corpus. This dataset is also commonly used for experimenting with Natural Language Processing and more specifically text classification models in the machine learning community. \n",
        "\n",
        "You can check the papers about the models that achieve the state-of-the-art results on this dataset from this link: https://paperswithcode.com/sota/text-classification-on-ag-news. \n",
        "\n",
        "I will go through several modelling experiments to display my knowledge in natural language processing and to see how close I can get to the state of the art results. \n",
        "\n",
        "Modelling Experiments Outline:\n",
        "\n",
        "* `Model_0 (Baseline)`: Multinomial Naive Bayes with TD-IDF\n",
        "* `Model_1`: 1D Convolutional Neural Network With Custom Token Embeddings\n",
        "* `Model_2`: Universal Sentence Encoder Feature Extraction\n",
        "* `Model_3`: 1D Convolutional Neural Network With Custom Token Embeddings Combined With Bi-LSTM With Custom Character Embeddings \n",
        "* `Model_4`: LSTM Model With BERT Feature Extraction \n",
        "* `Model_5`: 1D Convolutional Neural Network With BERT Tokem Embeddings Combined With Bi-LSTM With Custom Character Embeddings "
      ]
    },
    {
      "cell_type": "markdown",
      "metadata": {
        "id": "5AZuITe6GUmE"
      },
      "source": [
        "## Importing the Dependencies"
      ]
    },
    {
      "cell_type": "code",
      "metadata": {
        "id": "KYQvbk2cgrWG",
        "colab": {
          "base_uri": "https://localhost:8080/"
        },
        "outputId": "d609ddf1-55ce-4250-f19d-3f4f6fda43cd"
      },
      "source": [
        "!pip install datasets"
      ],
      "execution_count": 38,
      "outputs": [
        {
          "output_type": "stream",
          "text": [
            "Requirement already satisfied: datasets in /usr/local/lib/python3.7/dist-packages (1.11.0)\n",
            "Requirement already satisfied: xxhash in /usr/local/lib/python3.7/dist-packages (from datasets) (2.0.2)\n",
            "Requirement already satisfied: requests>=2.19.0 in /usr/local/lib/python3.7/dist-packages (from datasets) (2.23.0)\n",
            "Requirement already satisfied: fsspec>=2021.05.0 in /usr/local/lib/python3.7/dist-packages (from datasets) (2021.7.0)\n",
            "Requirement already satisfied: tqdm>=4.42 in /usr/local/lib/python3.7/dist-packages (from datasets) (4.62.0)\n",
            "Requirement already satisfied: multiprocess in /usr/local/lib/python3.7/dist-packages (from datasets) (0.70.12.2)\n",
            "Requirement already satisfied: huggingface-hub<0.1.0 in /usr/local/lib/python3.7/dist-packages (from datasets) (0.0.12)\n",
            "Requirement already satisfied: importlib-metadata in /usr/local/lib/python3.7/dist-packages (from datasets) (4.6.1)\n",
            "Requirement already satisfied: pyarrow!=4.0.0,>=1.0.0 in /usr/local/lib/python3.7/dist-packages (from datasets) (3.0.0)\n",
            "Requirement already satisfied: dill in /usr/local/lib/python3.7/dist-packages (from datasets) (0.3.4)\n",
            "Requirement already satisfied: numpy>=1.17 in /usr/local/lib/python3.7/dist-packages (from datasets) (1.19.5)\n",
            "Requirement already satisfied: pandas in /usr/local/lib/python3.7/dist-packages (from datasets) (1.1.5)\n",
            "Requirement already satisfied: packaging in /usr/local/lib/python3.7/dist-packages (from datasets) (21.0)\n",
            "Requirement already satisfied: filelock in /usr/local/lib/python3.7/dist-packages (from huggingface-hub<0.1.0->datasets) (3.0.12)\n",
            "Requirement already satisfied: typing-extensions in /usr/local/lib/python3.7/dist-packages (from huggingface-hub<0.1.0->datasets) (3.7.4.3)\n",
            "Requirement already satisfied: pyparsing>=2.0.2 in /usr/local/lib/python3.7/dist-packages (from packaging->datasets) (2.4.7)\n",
            "Requirement already satisfied: idna<3,>=2.5 in /usr/local/lib/python3.7/dist-packages (from requests>=2.19.0->datasets) (2.10)\n",
            "Requirement already satisfied: urllib3!=1.25.0,!=1.25.1,<1.26,>=1.21.1 in /usr/local/lib/python3.7/dist-packages (from requests>=2.19.0->datasets) (1.24.3)\n",
            "Requirement already satisfied: certifi>=2017.4.17 in /usr/local/lib/python3.7/dist-packages (from requests>=2.19.0->datasets) (2021.5.30)\n",
            "Requirement already satisfied: chardet<4,>=3.0.2 in /usr/local/lib/python3.7/dist-packages (from requests>=2.19.0->datasets) (3.0.4)\n",
            "Requirement already satisfied: zipp>=0.5 in /usr/local/lib/python3.7/dist-packages (from importlib-metadata->datasets) (3.5.0)\n",
            "Requirement already satisfied: pytz>=2017.2 in /usr/local/lib/python3.7/dist-packages (from pandas->datasets) (2018.9)\n",
            "Requirement already satisfied: python-dateutil>=2.7.3 in /usr/local/lib/python3.7/dist-packages (from pandas->datasets) (2.8.1)\n",
            "Requirement already satisfied: six>=1.5 in /usr/local/lib/python3.7/dist-packages (from python-dateutil>=2.7.3->pandas->datasets) (1.15.0)\n"
          ],
          "name": "stdout"
        }
      ]
    },
    {
      "cell_type": "code",
      "metadata": {
        "id": "fL5mgwK5At0T",
        "colab": {
          "base_uri": "https://localhost:8080/"
        },
        "outputId": "0a172db9-e3af-43c9-9c8a-37c368a0a70b"
      },
      "source": [
        "!pip install tensorflow-text"
      ],
      "execution_count": 39,
      "outputs": [
        {
          "output_type": "stream",
          "text": [
            "Requirement already satisfied: tensorflow-text in /usr/local/lib/python3.7/dist-packages (2.5.0)\n",
            "Requirement already satisfied: tensorflow-hub>=0.8.0 in /usr/local/lib/python3.7/dist-packages (from tensorflow-text) (0.12.0)\n",
            "Requirement already satisfied: tensorflow<2.6,>=2.5.0 in /usr/local/lib/python3.7/dist-packages (from tensorflow-text) (2.5.0)\n",
            "Requirement already satisfied: grpcio~=1.34.0 in /usr/local/lib/python3.7/dist-packages (from tensorflow<2.6,>=2.5.0->tensorflow-text) (1.34.1)\n",
            "Requirement already satisfied: termcolor~=1.1.0 in /usr/local/lib/python3.7/dist-packages (from tensorflow<2.6,>=2.5.0->tensorflow-text) (1.1.0)\n",
            "Requirement already satisfied: google-pasta~=0.2 in /usr/local/lib/python3.7/dist-packages (from tensorflow<2.6,>=2.5.0->tensorflow-text) (0.2.0)\n",
            "Requirement already satisfied: six~=1.15.0 in /usr/local/lib/python3.7/dist-packages (from tensorflow<2.6,>=2.5.0->tensorflow-text) (1.15.0)\n",
            "Requirement already satisfied: numpy~=1.19.2 in /usr/local/lib/python3.7/dist-packages (from tensorflow<2.6,>=2.5.0->tensorflow-text) (1.19.5)\n",
            "Requirement already satisfied: astunparse~=1.6.3 in /usr/local/lib/python3.7/dist-packages (from tensorflow<2.6,>=2.5.0->tensorflow-text) (1.6.3)\n",
            "Requirement already satisfied: typing-extensions~=3.7.4 in /usr/local/lib/python3.7/dist-packages (from tensorflow<2.6,>=2.5.0->tensorflow-text) (3.7.4.3)\n",
            "Requirement already satisfied: h5py~=3.1.0 in /usr/local/lib/python3.7/dist-packages (from tensorflow<2.6,>=2.5.0->tensorflow-text) (3.1.0)\n",
            "Requirement already satisfied: absl-py~=0.10 in /usr/local/lib/python3.7/dist-packages (from tensorflow<2.6,>=2.5.0->tensorflow-text) (0.12.0)\n",
            "Requirement already satisfied: wheel~=0.35 in /usr/local/lib/python3.7/dist-packages (from tensorflow<2.6,>=2.5.0->tensorflow-text) (0.36.2)\n",
            "Requirement already satisfied: gast==0.4.0 in /usr/local/lib/python3.7/dist-packages (from tensorflow<2.6,>=2.5.0->tensorflow-text) (0.4.0)\n",
            "Requirement already satisfied: tensorboard~=2.5 in /usr/local/lib/python3.7/dist-packages (from tensorflow<2.6,>=2.5.0->tensorflow-text) (2.5.0)\n",
            "Requirement already satisfied: wrapt~=1.12.1 in /usr/local/lib/python3.7/dist-packages (from tensorflow<2.6,>=2.5.0->tensorflow-text) (1.12.1)\n",
            "Requirement already satisfied: tensorflow-estimator<2.6.0,>=2.5.0rc0 in /usr/local/lib/python3.7/dist-packages (from tensorflow<2.6,>=2.5.0->tensorflow-text) (2.5.0)\n",
            "Requirement already satisfied: protobuf>=3.9.2 in /usr/local/lib/python3.7/dist-packages (from tensorflow<2.6,>=2.5.0->tensorflow-text) (3.17.3)\n",
            "Requirement already satisfied: keras-preprocessing~=1.1.2 in /usr/local/lib/python3.7/dist-packages (from tensorflow<2.6,>=2.5.0->tensorflow-text) (1.1.2)\n",
            "Requirement already satisfied: opt-einsum~=3.3.0 in /usr/local/lib/python3.7/dist-packages (from tensorflow<2.6,>=2.5.0->tensorflow-text) (3.3.0)\n",
            "Requirement already satisfied: keras-nightly~=2.5.0.dev in /usr/local/lib/python3.7/dist-packages (from tensorflow<2.6,>=2.5.0->tensorflow-text) (2.5.0.dev2021032900)\n",
            "Requirement already satisfied: flatbuffers~=1.12.0 in /usr/local/lib/python3.7/dist-packages (from tensorflow<2.6,>=2.5.0->tensorflow-text) (1.12)\n",
            "Requirement already satisfied: cached-property in /usr/local/lib/python3.7/dist-packages (from h5py~=3.1.0->tensorflow<2.6,>=2.5.0->tensorflow-text) (1.5.2)\n",
            "Requirement already satisfied: tensorboard-data-server<0.7.0,>=0.6.0 in /usr/local/lib/python3.7/dist-packages (from tensorboard~=2.5->tensorflow<2.6,>=2.5.0->tensorflow-text) (0.6.1)\n",
            "Requirement already satisfied: tensorboard-plugin-wit>=1.6.0 in /usr/local/lib/python3.7/dist-packages (from tensorboard~=2.5->tensorflow<2.6,>=2.5.0->tensorflow-text) (1.8.0)\n",
            "Requirement already satisfied: werkzeug>=0.11.15 in /usr/local/lib/python3.7/dist-packages (from tensorboard~=2.5->tensorflow<2.6,>=2.5.0->tensorflow-text) (1.0.1)\n",
            "Requirement already satisfied: setuptools>=41.0.0 in /usr/local/lib/python3.7/dist-packages (from tensorboard~=2.5->tensorflow<2.6,>=2.5.0->tensorflow-text) (57.2.0)\n",
            "Requirement already satisfied: google-auth<2,>=1.6.3 in /usr/local/lib/python3.7/dist-packages (from tensorboard~=2.5->tensorflow<2.6,>=2.5.0->tensorflow-text) (1.32.1)\n",
            "Requirement already satisfied: markdown>=2.6.8 in /usr/local/lib/python3.7/dist-packages (from tensorboard~=2.5->tensorflow<2.6,>=2.5.0->tensorflow-text) (3.3.4)\n",
            "Requirement already satisfied: google-auth-oauthlib<0.5,>=0.4.1 in /usr/local/lib/python3.7/dist-packages (from tensorboard~=2.5->tensorflow<2.6,>=2.5.0->tensorflow-text) (0.4.4)\n",
            "Requirement already satisfied: requests<3,>=2.21.0 in /usr/local/lib/python3.7/dist-packages (from tensorboard~=2.5->tensorflow<2.6,>=2.5.0->tensorflow-text) (2.23.0)\n",
            "Requirement already satisfied: pyasn1-modules>=0.2.1 in /usr/local/lib/python3.7/dist-packages (from google-auth<2,>=1.6.3->tensorboard~=2.5->tensorflow<2.6,>=2.5.0->tensorflow-text) (0.2.8)\n",
            "Requirement already satisfied: cachetools<5.0,>=2.0.0 in /usr/local/lib/python3.7/dist-packages (from google-auth<2,>=1.6.3->tensorboard~=2.5->tensorflow<2.6,>=2.5.0->tensorflow-text) (4.2.2)\n",
            "Requirement already satisfied: rsa<5,>=3.1.4 in /usr/local/lib/python3.7/dist-packages (from google-auth<2,>=1.6.3->tensorboard~=2.5->tensorflow<2.6,>=2.5.0->tensorflow-text) (4.7.2)\n",
            "Requirement already satisfied: requests-oauthlib>=0.7.0 in /usr/local/lib/python3.7/dist-packages (from google-auth-oauthlib<0.5,>=0.4.1->tensorboard~=2.5->tensorflow<2.6,>=2.5.0->tensorflow-text) (1.3.0)\n",
            "Requirement already satisfied: importlib-metadata in /usr/local/lib/python3.7/dist-packages (from markdown>=2.6.8->tensorboard~=2.5->tensorflow<2.6,>=2.5.0->tensorflow-text) (4.6.1)\n",
            "Requirement already satisfied: pyasn1<0.5.0,>=0.4.6 in /usr/local/lib/python3.7/dist-packages (from pyasn1-modules>=0.2.1->google-auth<2,>=1.6.3->tensorboard~=2.5->tensorflow<2.6,>=2.5.0->tensorflow-text) (0.4.8)\n",
            "Requirement already satisfied: chardet<4,>=3.0.2 in /usr/local/lib/python3.7/dist-packages (from requests<3,>=2.21.0->tensorboard~=2.5->tensorflow<2.6,>=2.5.0->tensorflow-text) (3.0.4)\n",
            "Requirement already satisfied: idna<3,>=2.5 in /usr/local/lib/python3.7/dist-packages (from requests<3,>=2.21.0->tensorboard~=2.5->tensorflow<2.6,>=2.5.0->tensorflow-text) (2.10)\n",
            "Requirement already satisfied: urllib3!=1.25.0,!=1.25.1,<1.26,>=1.21.1 in /usr/local/lib/python3.7/dist-packages (from requests<3,>=2.21.0->tensorboard~=2.5->tensorflow<2.6,>=2.5.0->tensorflow-text) (1.24.3)\n",
            "Requirement already satisfied: certifi>=2017.4.17 in /usr/local/lib/python3.7/dist-packages (from requests<3,>=2.21.0->tensorboard~=2.5->tensorflow<2.6,>=2.5.0->tensorflow-text) (2021.5.30)\n",
            "Requirement already satisfied: oauthlib>=3.0.0 in /usr/local/lib/python3.7/dist-packages (from requests-oauthlib>=0.7.0->google-auth-oauthlib<0.5,>=0.4.1->tensorboard~=2.5->tensorflow<2.6,>=2.5.0->tensorflow-text) (3.1.1)\n",
            "Requirement already satisfied: zipp>=0.5 in /usr/local/lib/python3.7/dist-packages (from importlib-metadata->markdown>=2.6.8->tensorboard~=2.5->tensorflow<2.6,>=2.5.0->tensorflow-text) (3.5.0)\n"
          ],
          "name": "stdout"
        }
      ]
    },
    {
      "cell_type": "code",
      "metadata": {
        "id": "V6ihEEcZytPd",
        "colab": {
          "base_uri": "https://localhost:8080/"
        },
        "outputId": "e58a6a93-16ca-4851-fb80-dec31f5f9ee5"
      },
      "source": [
        "!pip install transformers"
      ],
      "execution_count": 40,
      "outputs": [
        {
          "output_type": "stream",
          "text": [
            "Requirement already satisfied: transformers in /usr/local/lib/python3.7/dist-packages (4.9.1)\n",
            "Requirement already satisfied: tokenizers<0.11,>=0.10.1 in /usr/local/lib/python3.7/dist-packages (from transformers) (0.10.3)\n",
            "Requirement already satisfied: tqdm>=4.27 in /usr/local/lib/python3.7/dist-packages (from transformers) (4.62.0)\n",
            "Requirement already satisfied: importlib-metadata in /usr/local/lib/python3.7/dist-packages (from transformers) (4.6.1)\n",
            "Requirement already satisfied: filelock in /usr/local/lib/python3.7/dist-packages (from transformers) (3.0.12)\n",
            "Requirement already satisfied: numpy>=1.17 in /usr/local/lib/python3.7/dist-packages (from transformers) (1.19.5)\n",
            "Requirement already satisfied: packaging in /usr/local/lib/python3.7/dist-packages (from transformers) (21.0)\n",
            "Requirement already satisfied: regex!=2019.12.17 in /usr/local/lib/python3.7/dist-packages (from transformers) (2019.12.20)\n",
            "Requirement already satisfied: pyyaml>=5.1 in /usr/local/lib/python3.7/dist-packages (from transformers) (5.4.1)\n",
            "Requirement already satisfied: requests in /usr/local/lib/python3.7/dist-packages (from transformers) (2.23.0)\n",
            "Requirement already satisfied: sacremoses in /usr/local/lib/python3.7/dist-packages (from transformers) (0.0.45)\n",
            "Requirement already satisfied: huggingface-hub==0.0.12 in /usr/local/lib/python3.7/dist-packages (from transformers) (0.0.12)\n",
            "Requirement already satisfied: typing-extensions in /usr/local/lib/python3.7/dist-packages (from huggingface-hub==0.0.12->transformers) (3.7.4.3)\n",
            "Requirement already satisfied: pyparsing>=2.0.2 in /usr/local/lib/python3.7/dist-packages (from packaging->transformers) (2.4.7)\n",
            "Requirement already satisfied: zipp>=0.5 in /usr/local/lib/python3.7/dist-packages (from importlib-metadata->transformers) (3.5.0)\n",
            "Requirement already satisfied: chardet<4,>=3.0.2 in /usr/local/lib/python3.7/dist-packages (from requests->transformers) (3.0.4)\n",
            "Requirement already satisfied: certifi>=2017.4.17 in /usr/local/lib/python3.7/dist-packages (from requests->transformers) (2021.5.30)\n",
            "Requirement already satisfied: idna<3,>=2.5 in /usr/local/lib/python3.7/dist-packages (from requests->transformers) (2.10)\n",
            "Requirement already satisfied: urllib3!=1.25.0,!=1.25.1,<1.26,>=1.21.1 in /usr/local/lib/python3.7/dist-packages (from requests->transformers) (1.24.3)\n",
            "Requirement already satisfied: six in /usr/local/lib/python3.7/dist-packages (from sacremoses->transformers) (1.15.0)\n",
            "Requirement already satisfied: joblib in /usr/local/lib/python3.7/dist-packages (from sacremoses->transformers) (1.0.1)\n",
            "Requirement already satisfied: click in /usr/local/lib/python3.7/dist-packages (from sacremoses->transformers) (7.1.2)\n"
          ],
          "name": "stdout"
        }
      ]
    },
    {
      "cell_type": "code",
      "metadata": {
        "id": "b_EeDYZONicD"
      },
      "source": [
        "from datasets import list_datasets, list_metrics, load_dataset\n",
        "from pprint import pprint\n",
        "\n",
        "import pandas as pd\n",
        "import numpy as np\n",
        "\n",
        "import tensorflow as tf\n",
        "from tensorflow.keras import layers\n",
        "from tensorflow import keras\n",
        "from tensorflow.keras.layers.experimental.preprocessing import TextVectorization\n",
        "import tensorflow_text as text\n",
        "import tensorflow_hub as hub\n",
        "from tensorflow.keras.utils import plot_model\n",
        "\n",
        "import matplotlib.pyplot as plt\n",
        "\n",
        "from sklearn.metrics import precision_recall_fscore_support\n",
        "from sklearn.preprocessing import OneHotEncoder\n",
        "from sklearn.feature_extraction.text import TfidfVectorizer\n",
        "from sklearn.naive_bayes import MultinomialNB\n",
        "from sklearn.pipeline import Pipeline\n",
        "\n",
        "import string\n",
        "import random\n"
      ],
      "execution_count": 41,
      "outputs": []
    },
    {
      "cell_type": "markdown",
      "metadata": {
        "id": "-tiDMRXVGP7d"
      },
      "source": [
        "## Donwloading the Dataset"
      ]
    },
    {
      "cell_type": "code",
      "metadata": {
        "id": "s_gQ3wBVGSl_",
        "colab": {
          "base_uri": "https://localhost:8080/"
        },
        "outputId": "428ca56c-6ad3-4955-97cc-58720280e714"
      },
      "source": [
        "# Accessing various attributes of the ag_news dataset before downloading it\n",
        "datasets = list_datasets()\n",
        "metrics = list_metrics()\n",
        "dataset_info = list_datasets(with_details=True)[datasets.index('ag_news')]\n",
        "pprint(dataset_info.__dict__)"
      ],
      "execution_count": 42,
      "outputs": [
        {
          "output_type": "stream",
          "text": [
            "{'author': None,\n",
            " 'citation': '@inproceedings{Zhang2015CharacterlevelCN,\\n'\n",
            "             '  title={Character-level Convolutional Networks for Text '\n",
            "             'Classification},\\n'\n",
            "             '  author={Xiang Zhang and Junbo Jake Zhao and Yann LeCun},\\n'\n",
            "             '  booktitle={NIPS},\\n'\n",
            "             '  year={2015}\\n'\n",
            "             '}',\n",
            " 'description': 'AG is a collection of more than 1 million news articles. News '\n",
            "                'articles have been\\n'\n",
            "                'gathered from more than 2000 news sources by ComeToMyHead in '\n",
            "                'more than 1 year of\\n'\n",
            "                'activity. ComeToMyHead is an academic news search engine '\n",
            "                'which has been running\\n'\n",
            "                'since July, 2004. The dataset is provided by the academic '\n",
            "                'comunity for research\\n'\n",
            "                'purposes in data mining (clustering, classification, etc), '\n",
            "                'information retrieval\\n'\n",
            "                '(ranking, search, etc), xml, data compression, data '\n",
            "                'streaming, and any other\\n'\n",
            "                'non-commercial activity. For more information, please refer '\n",
            "                'to the link\\n'\n",
            "                'http://www.di.unipi.it/~gulli/AG_corpus_of_news_articles.html '\n",
            "                '.\\n'\n",
            "                '\\n'\n",
            "                \"The AG's news topic classification dataset is constructed by \"\n",
            "                'Xiang Zhang\\n'\n",
            "                '(xiang.zhang@nyu.edu) from the dataset above. It is used as a '\n",
            "                'text\\n'\n",
            "                'classification benchmark in the following paper: Xiang Zhang, '\n",
            "                'Junbo Zhao, Yann\\n'\n",
            "                'LeCun. Character-level Convolutional Networks for Text '\n",
            "                'Classification. Advances\\n'\n",
            "                'in Neural Information Processing Systems 28 (NIPS 2015).',\n",
            " 'etag': None,\n",
            " 'id': 'ag_news',\n",
            " 'key': '',\n",
            " 'lastModified': None,\n",
            " 'paperswithcode_id': 'ag-news',\n",
            " 'siblings': None,\n",
            " 'size': None,\n",
            " 'tags': ['annotations_creators:found',\n",
            "          'language_creators:found',\n",
            "          'languages:en',\n",
            "          'licenses:unknown',\n",
            "          'multilinguality:monolingual',\n",
            "          'size_categories:100K<n<1M',\n",
            "          'source_datasets:original',\n",
            "          'task_categories:text-classification',\n",
            "          'task_ids:topic-classification']}\n"
          ],
          "name": "stdout"
        }
      ]
    },
    {
      "cell_type": "code",
      "metadata": {
        "colab": {
          "base_uri": "https://localhost:8080/"
        },
        "id": "MJsQ4HCVOQ-X",
        "outputId": "8b4c90f3-a20b-4f09-e2eb-3c060ecc94b4"
      },
      "source": [
        "dataset = load_dataset('ag_news')"
      ],
      "execution_count": 43,
      "outputs": [
        {
          "output_type": "stream",
          "text": [
            "Using custom data configuration default\n",
            "Reusing dataset ag_news (/root/.cache/huggingface/datasets/ag_news/default/0.0.0/bc2bcb40336ace1a0374767fc29bb0296cdaf8a6da7298436239c54d79180548)\n"
          ],
          "name": "stderr"
        }
      ]
    },
    {
      "cell_type": "markdown",
      "metadata": {
        "id": "PujG8VYvfvUe"
      },
      "source": [
        "## Exploring the Dataset"
      ]
    },
    {
      "cell_type": "code",
      "metadata": {
        "colab": {
          "base_uri": "https://localhost:8080/"
        },
        "id": "seLmN1BLHkjG",
        "outputId": "3cc84921-626a-4e9a-ef88-bdff09d6872b"
      },
      "source": [
        "dataset"
      ],
      "execution_count": 44,
      "outputs": [
        {
          "output_type": "execute_result",
          "data": {
            "text/plain": [
              "DatasetDict({\n",
              "    train: Dataset({\n",
              "        features: ['text', 'label'],\n",
              "        num_rows: 120000\n",
              "    })\n",
              "    test: Dataset({\n",
              "        features: ['text', 'label'],\n",
              "        num_rows: 7600\n",
              "    })\n",
              "})"
            ]
          },
          "metadata": {
            "tags": []
          },
          "execution_count": 44
        }
      ]
    },
    {
      "cell_type": "code",
      "metadata": {
        "colab": {
          "base_uri": "https://localhost:8080/"
        },
        "id": "9XlDmSPdbq0Y",
        "outputId": "4ef4dc0e-283c-4ca4-8bfb-272fee9ff276"
      },
      "source": [
        "# Looking at a sample from the training dataset\n",
        "dataset['train'][0]"
      ],
      "execution_count": 45,
      "outputs": [
        {
          "output_type": "execute_result",
          "data": {
            "text/plain": [
              "{'label': 2,\n",
              " 'text': \"Wall St. Bears Claw Back Into the Black (Reuters) Reuters - Short-sellers, Wall Street's dwindling\\\\band of ultra-cynics, are seeing green again.\"}"
            ]
          },
          "metadata": {
            "tags": []
          },
          "execution_count": 45
        }
      ]
    },
    {
      "cell_type": "code",
      "metadata": {
        "colab": {
          "base_uri": "https://localhost:8080/"
        },
        "id": "kAuZovXWMm7-",
        "outputId": "7d46fbf9-d754-46f6-a7cf-8602c51c8152"
      },
      "source": [
        "# Visualizing the label counts\n",
        "pd.Series(dataset['train']['label']).value_counts()"
      ],
      "execution_count": 46,
      "outputs": [
        {
          "output_type": "execute_result",
          "data": {
            "text/plain": [
              "3    30000\n",
              "2    30000\n",
              "1    30000\n",
              "0    30000\n",
              "dtype: int64"
            ]
          },
          "metadata": {
            "tags": []
          },
          "execution_count": 46
        }
      ]
    },
    {
      "cell_type": "code",
      "metadata": {
        "colab": {
          "base_uri": "https://localhost:8080/"
        },
        "id": "935oyvn_mXEW",
        "outputId": "9293d7df-2639-4b92-db95-31be1bb80b78"
      },
      "source": [
        "pd.Series(dataset['test']['label']).value_counts()"
      ],
      "execution_count": 47,
      "outputs": [
        {
          "output_type": "execute_result",
          "data": {
            "text/plain": [
              "3    1900\n",
              "2    1900\n",
              "1    1900\n",
              "0    1900\n",
              "dtype: int64"
            ]
          },
          "metadata": {
            "tags": []
          },
          "execution_count": 47
        }
      ]
    },
    {
      "cell_type": "markdown",
      "metadata": {
        "id": "BAh9_pvhlyAm"
      },
      "source": [
        "Both datasets are prefectly balanced"
      ]
    },
    {
      "cell_type": "markdown",
      "metadata": {
        "id": "SNgqvz3P3Yn7"
      },
      "source": [
        "The labels are encoded accordingly:\n",
        "\n",
        "* 0: World\n",
        "* 1: Sports\n",
        "* 2: Business\n",
        "* 3: Sci/Tech\n",
        "\n",
        "For more information you can check the link: https://huggingface.co/datasets/ag_news"
      ]
    },
    {
      "cell_type": "code",
      "metadata": {
        "id": "DwvLsLGm37V4"
      },
      "source": [
        "# Creating variables for class names and number of classes\n",
        "class_names = ['World', 'Sports', 'Business', 'Sci/Tech']\n",
        "num_classes = len(class_names)"
      ],
      "execution_count": 48,
      "outputs": []
    },
    {
      "cell_type": "markdown",
      "metadata": {
        "id": "OHSUX2RuVRZC"
      },
      "source": [
        "## Preprocessing the Data"
      ]
    },
    {
      "cell_type": "code",
      "metadata": {
        "colab": {
          "base_uri": "https://localhost:8080/"
        },
        "id": "NOMZRrAXhLWy",
        "outputId": "48ea3afd-bed2-4cb4-de9e-89e90463ad8b"
      },
      "source": [
        "# Creating different variables for train, validation and test sets\n",
        "train_dataset = pd.DataFrame(dataset['train'])\n",
        "test_dataset = pd.DataFrame(dataset['test'])\n",
        "print(len(train_dataset), len(test_dataset))"
      ],
      "execution_count": 49,
      "outputs": [
        {
          "output_type": "stream",
          "text": [
            "120000 7600\n"
          ],
          "name": "stdout"
        }
      ]
    },
    {
      "cell_type": "code",
      "metadata": {
        "colab": {
          "base_uri": "https://localhost:8080/",
          "height": 363
        },
        "id": "gDr38FZYiSel",
        "outputId": "eee12b4d-ba9f-4fbe-f8f3-35e346a56c0a"
      },
      "source": [
        "# Visualizing the training dataset\n",
        "train_dataset.head(10)"
      ],
      "execution_count": 50,
      "outputs": [
        {
          "output_type": "execute_result",
          "data": {
            "text/html": [
              "<div>\n",
              "<style scoped>\n",
              "    .dataframe tbody tr th:only-of-type {\n",
              "        vertical-align: middle;\n",
              "    }\n",
              "\n",
              "    .dataframe tbody tr th {\n",
              "        vertical-align: top;\n",
              "    }\n",
              "\n",
              "    .dataframe thead th {\n",
              "        text-align: right;\n",
              "    }\n",
              "</style>\n",
              "<table border=\"1\" class=\"dataframe\">\n",
              "  <thead>\n",
              "    <tr style=\"text-align: right;\">\n",
              "      <th></th>\n",
              "      <th>text</th>\n",
              "      <th>label</th>\n",
              "    </tr>\n",
              "  </thead>\n",
              "  <tbody>\n",
              "    <tr>\n",
              "      <th>0</th>\n",
              "      <td>Wall St. Bears Claw Back Into the Black (Reute...</td>\n",
              "      <td>2</td>\n",
              "    </tr>\n",
              "    <tr>\n",
              "      <th>1</th>\n",
              "      <td>Carlyle Looks Toward Commercial Aerospace (Reu...</td>\n",
              "      <td>2</td>\n",
              "    </tr>\n",
              "    <tr>\n",
              "      <th>2</th>\n",
              "      <td>Oil and Economy Cloud Stocks' Outlook (Reuters...</td>\n",
              "      <td>2</td>\n",
              "    </tr>\n",
              "    <tr>\n",
              "      <th>3</th>\n",
              "      <td>Iraq Halts Oil Exports from Main Southern Pipe...</td>\n",
              "      <td>2</td>\n",
              "    </tr>\n",
              "    <tr>\n",
              "      <th>4</th>\n",
              "      <td>Oil prices soar to all-time record, posing new...</td>\n",
              "      <td>2</td>\n",
              "    </tr>\n",
              "    <tr>\n",
              "      <th>5</th>\n",
              "      <td>Stocks End Up, But Near Year Lows (Reuters) Re...</td>\n",
              "      <td>2</td>\n",
              "    </tr>\n",
              "    <tr>\n",
              "      <th>6</th>\n",
              "      <td>Money Funds Fell in Latest Week (AP) AP - Asse...</td>\n",
              "      <td>2</td>\n",
              "    </tr>\n",
              "    <tr>\n",
              "      <th>7</th>\n",
              "      <td>Fed minutes show dissent over inflation (USATO...</td>\n",
              "      <td>2</td>\n",
              "    </tr>\n",
              "    <tr>\n",
              "      <th>8</th>\n",
              "      <td>Safety Net (Forbes.com) Forbes.com - After ear...</td>\n",
              "      <td>2</td>\n",
              "    </tr>\n",
              "    <tr>\n",
              "      <th>9</th>\n",
              "      <td>Wall St. Bears Claw Back Into the Black  NEW Y...</td>\n",
              "      <td>2</td>\n",
              "    </tr>\n",
              "  </tbody>\n",
              "</table>\n",
              "</div>"
            ],
            "text/plain": [
              "                                                text  label\n",
              "0  Wall St. Bears Claw Back Into the Black (Reute...      2\n",
              "1  Carlyle Looks Toward Commercial Aerospace (Reu...      2\n",
              "2  Oil and Economy Cloud Stocks' Outlook (Reuters...      2\n",
              "3  Iraq Halts Oil Exports from Main Southern Pipe...      2\n",
              "4  Oil prices soar to all-time record, posing new...      2\n",
              "5  Stocks End Up, But Near Year Lows (Reuters) Re...      2\n",
              "6  Money Funds Fell in Latest Week (AP) AP - Asse...      2\n",
              "7  Fed minutes show dissent over inflation (USATO...      2\n",
              "8  Safety Net (Forbes.com) Forbes.com - After ear...      2\n",
              "9  Wall St. Bears Claw Back Into the Black  NEW Y...      2"
            ]
          },
          "metadata": {
            "tags": []
          },
          "execution_count": 50
        }
      ]
    },
    {
      "cell_type": "code",
      "metadata": {
        "colab": {
          "base_uri": "https://localhost:8080/",
          "height": 423
        },
        "id": "yHvEABvo3qd9",
        "outputId": "569c5429-1902-4a44-f837-0dc5fb7b3d2b"
      },
      "source": [
        "# Shuffling the training dataframe\n",
        "train_dataset = train_dataset.sample(frac=1, random_state=57) # shuffle with random_state=57 for reproducibility\n",
        "train_dataset"
      ],
      "execution_count": 51,
      "outputs": [
        {
          "output_type": "execute_result",
          "data": {
            "text/html": [
              "<div>\n",
              "<style scoped>\n",
              "    .dataframe tbody tr th:only-of-type {\n",
              "        vertical-align: middle;\n",
              "    }\n",
              "\n",
              "    .dataframe tbody tr th {\n",
              "        vertical-align: top;\n",
              "    }\n",
              "\n",
              "    .dataframe thead th {\n",
              "        text-align: right;\n",
              "    }\n",
              "</style>\n",
              "<table border=\"1\" class=\"dataframe\">\n",
              "  <thead>\n",
              "    <tr style=\"text-align: right;\">\n",
              "      <th></th>\n",
              "      <th>text</th>\n",
              "      <th>label</th>\n",
              "    </tr>\n",
              "  </thead>\n",
              "  <tbody>\n",
              "    <tr>\n",
              "      <th>27510</th>\n",
              "      <td>ABB won #39;t close Guelph transformer plant A...</td>\n",
              "      <td>2</td>\n",
              "    </tr>\n",
              "    <tr>\n",
              "      <th>84528</th>\n",
              "      <td>Poison pill for News NEWS Corporation yesterda...</td>\n",
              "      <td>2</td>\n",
              "    </tr>\n",
              "    <tr>\n",
              "      <th>96252</th>\n",
              "      <td>Does Your Site Need a Custom Search Engine Too...</td>\n",
              "      <td>3</td>\n",
              "    </tr>\n",
              "    <tr>\n",
              "      <th>92001</th>\n",
              "      <td>Europe's Mission to Moon Nears Lunar Orbit (AP...</td>\n",
              "      <td>3</td>\n",
              "    </tr>\n",
              "    <tr>\n",
              "      <th>26401</th>\n",
              "      <td>Neville injury is a blow for United and Englan...</td>\n",
              "      <td>1</td>\n",
              "    </tr>\n",
              "    <tr>\n",
              "      <th>...</th>\n",
              "      <td>...</td>\n",
              "      <td>...</td>\n",
              "    </tr>\n",
              "    <tr>\n",
              "      <th>85071</th>\n",
              "      <td>Stocks End Higher on Falling Oil Prices Stocks...</td>\n",
              "      <td>2</td>\n",
              "    </tr>\n",
              "    <tr>\n",
              "      <th>110998</th>\n",
              "      <td>Japanese Troops Authorised to Stay in Iraq Jap...</td>\n",
              "      <td>0</td>\n",
              "    </tr>\n",
              "    <tr>\n",
              "      <th>35845</th>\n",
              "      <td>Zero G Flights Could Bolster Space Tourism, Re...</td>\n",
              "      <td>3</td>\n",
              "    </tr>\n",
              "    <tr>\n",
              "      <th>11990</th>\n",
              "      <td>Friday Olympic Preview: How will Marion do? Da...</td>\n",
              "      <td>1</td>\n",
              "    </tr>\n",
              "    <tr>\n",
              "      <th>35791</th>\n",
              "      <td>Doornbos is Jordans third driver in remaining ...</td>\n",
              "      <td>1</td>\n",
              "    </tr>\n",
              "  </tbody>\n",
              "</table>\n",
              "<p>120000 rows × 2 columns</p>\n",
              "</div>"
            ],
            "text/plain": [
              "                                                     text  label\n",
              "27510   ABB won #39;t close Guelph transformer plant A...      2\n",
              "84528   Poison pill for News NEWS Corporation yesterda...      2\n",
              "96252   Does Your Site Need a Custom Search Engine Too...      3\n",
              "92001   Europe's Mission to Moon Nears Lunar Orbit (AP...      3\n",
              "26401   Neville injury is a blow for United and Englan...      1\n",
              "...                                                   ...    ...\n",
              "85071   Stocks End Higher on Falling Oil Prices Stocks...      2\n",
              "110998  Japanese Troops Authorised to Stay in Iraq Jap...      0\n",
              "35845   Zero G Flights Could Bolster Space Tourism, Re...      3\n",
              "11990   Friday Olympic Preview: How will Marion do? Da...      1\n",
              "35791   Doornbos is Jordans third driver in remaining ...      1\n",
              "\n",
              "[120000 rows x 2 columns]"
            ]
          },
          "metadata": {
            "tags": []
          },
          "execution_count": 51
        }
      ]
    },
    {
      "cell_type": "code",
      "metadata": {
        "id": "htWkI9yL4n2o"
      },
      "source": [
        "# Creating different variables (lists) for text and labels for each dataset\n",
        "train_text = train_dataset['text'].tolist()\n",
        "test_text = test_dataset['text'].tolist()\n",
        "\n",
        "train_labels = train_dataset['label'].tolist()\n",
        "test_labels = test_dataset['label'].tolist()"
      ],
      "execution_count": 52,
      "outputs": []
    },
    {
      "cell_type": "code",
      "metadata": {
        "colab": {
          "base_uri": "https://localhost:8080/"
        },
        "id": "W0ve4jgJ11KD",
        "outputId": "cb1ebb7a-f412-42da-d287-404fca257bbc"
      },
      "source": [
        "# One hot-encoding the labels for deep models\n",
        "one_hot_encoder = OneHotEncoder(sparse=False)\n",
        "train_labels_one_hot = one_hot_encoder.fit_transform(train_dataset['label'].to_numpy().reshape(-1, 1))\n",
        "test_labels_one_hot = one_hot_encoder.transform(test_dataset['label'].to_numpy().reshape(-1, 1))\n",
        "\n",
        "# Checking what training labels look like\n",
        "train_labels_one_hot"
      ],
      "execution_count": 53,
      "outputs": [
        {
          "output_type": "execute_result",
          "data": {
            "text/plain": [
              "array([[0., 0., 1., 0.],\n",
              "       [0., 0., 1., 0.],\n",
              "       [0., 0., 0., 1.],\n",
              "       ...,\n",
              "       [0., 0., 0., 1.],\n",
              "       [0., 1., 0., 0.],\n",
              "       [0., 1., 0., 0.]])"
            ]
          },
          "metadata": {
            "tags": []
          },
          "execution_count": 53
        }
      ]
    },
    {
      "cell_type": "code",
      "metadata": {
        "id": "0uIj7HOdk7mx",
        "colab": {
          "base_uri": "https://localhost:8080/",
          "height": 265
        },
        "outputId": "30b2ee07-de5c-48ce-806b-dde8ad67fc83"
      },
      "source": [
        "# Checking the statement length distribution for the training set\n",
        "statement_lengths = [len(statement.split()) for statement in train_text]\n",
        "plt.hist(statement_lengths, bins=20);"
      ],
      "execution_count": 54,
      "outputs": [
        {
          "output_type": "display_data",
          "data": {
            "image/png": "[encoded data removed]",
            "text/plain": [
              "<Figure size 432x288 with 1 Axes>"
            ]
          },
          "metadata": {
            "tags": [],
            "needs_background": "light"
          }
        }
      ]
    },
    {
      "cell_type": "code",
      "metadata": {
        "colab": {
          "base_uri": "https://localhost:8080/"
        },
        "id": "cvifn3UitZjZ",
        "outputId": "ce3044ee-4dac-46d0-83dd-317929bb8dff"
      },
      "source": [
        "# Checking the statement length that covers 95% of the statements\n",
        "output_seq_len = int(np.percentile(statement_lengths, 95))\n",
        "output_seq_len"
      ],
      "execution_count": 18,
      "outputs": [
        {
          "output_type": "execute_result",
          "data": {
            "text/plain": [
              "53"
            ]
          },
          "metadata": {
            "tags": []
          },
          "execution_count": 18
        }
      ]
    },
    {
      "cell_type": "markdown",
      "metadata": {
        "id": "nJ0mtqPZ3GzQ"
      },
      "source": [
        "## Baseline Model: TF-IDF MultinomialNB"
      ]
    },
    {
      "cell_type": "code",
      "metadata": {
        "colab": {
          "base_uri": "https://localhost:8080/"
        },
        "id": "SHo6WSMC3THG",
        "outputId": "602de3a4-4809-48ea-a93e-3fba8cd81fd0"
      },
      "source": [
        "# Creating tokenization and modelling pipeline\n",
        "model_0 = Pipeline([\n",
        "                    (\"tfidf\", TfidfVectorizer()), # convert words to numbers using tfidf\n",
        "                    (\"clf\", MultinomialNB()) # model the text\n",
        "])\n",
        "\n",
        "# Fitting the pipeline to the training data\n",
        "model_0.fit(train_text, train_labels)"
      ],
      "execution_count": 19,
      "outputs": [
        {
          "output_type": "execute_result",
          "data": {
            "text/plain": [
              "Pipeline(memory=None,\n",
              "         steps=[('tfidf',\n",
              "                 TfidfVectorizer(analyzer='word', binary=False,\n",
              "                                 decode_error='strict',\n",
              "                                 dtype=<class 'numpy.float64'>,\n",
              "                                 encoding='utf-8', input='content',\n",
              "                                 lowercase=True, max_df=1.0, max_features=None,\n",
              "                                 min_df=1, ngram_range=(1, 1), norm='l2',\n",
              "                                 preprocessor=None, smooth_idf=True,\n",
              "                                 stop_words=None, strip_accents=None,\n",
              "                                 sublinear_tf=False,\n",
              "                                 token_pattern='(?u)\\\\b\\\\w\\\\w+\\\\b',\n",
              "                                 tokenizer=None, use_idf=True,\n",
              "                                 vocabulary=None)),\n",
              "                ('clf',\n",
              "                 MultinomialNB(alpha=1.0, class_prior=None, fit_prior=True))],\n",
              "         verbose=False)"
            ]
          },
          "metadata": {
            "tags": []
          },
          "execution_count": 19
        }
      ]
    },
    {
      "cell_type": "code",
      "metadata": {
        "colab": {
          "base_uri": "https://localhost:8080/"
        },
        "id": "lJVpbuKV6Dpf",
        "outputId": "1cbe6854-c3a0-4d47-827d-4685f2a64221"
      },
      "source": [
        "# Evaluating the baseline model on the evaluation set\n",
        "baseline_score = model_0.score(test_text, test_labels)\n",
        "print(f\"Our baseline model achieves an accuracy of: {baseline_score*100:.2f}%\")"
      ],
      "execution_count": 20,
      "outputs": [
        {
          "output_type": "stream",
          "text": [
            "Our baseline model achieves an accuracy of: 90.21%\n"
          ],
          "name": "stdout"
        }
      ]
    },
    {
      "cell_type": "markdown",
      "metadata": {
        "id": "kIx4hIQcuK2R"
      },
      "source": [
        "## Creating Embedding Layers for the Deep Models\n"
      ]
    },
    {
      "cell_type": "markdown",
      "metadata": {
        "id": "GF7dkpalx1rf"
      },
      "source": [
        "### Custom Token Embedding Layer"
      ]
    },
    {
      "cell_type": "code",
      "metadata": {
        "id": "r7yFoTm2xrCg"
      },
      "source": [
        "# Creating a text vectorization layer \n",
        "text_vectorizer = TextVectorization(output_sequence_length=output_seq_len) # output_seq_len is set to 53"
      ],
      "execution_count": 21,
      "outputs": []
    },
    {
      "cell_type": "code",
      "metadata": {
        "id": "yiiIu8nu617q"
      },
      "source": [
        "# Adapting the text vectorizer to training statements\n",
        "text_vectorizer.adapt(train_text)"
      ],
      "execution_count": 22,
      "outputs": []
    },
    {
      "cell_type": "code",
      "metadata": {
        "colab": {
          "base_uri": "https://localhost:8080/"
        },
        "id": "_HrFifFV7IZ-",
        "outputId": "3fc62cd6-75d9-447e-e13a-f3d664552dcd"
      },
      "source": [
        "# Testing out the text vectorizer on random sentences\n",
        "random_text=random.choice(train_text)\n",
        "print(f\"Text:\\n{random_text}\")\n",
        "print(f\"\\nLength of text: {len(random_text.split())}\")\n",
        "print(f\"\\nVectorized text:\\n{text_vectorizer([random_text])}\")"
      ],
      "execution_count": 23,
      "outputs": [
        {
          "output_type": "stream",
          "text": [
            "Text:\n",
            "Michigan Forces Turnovers for 30-17 Win (AP) AP - Braylon Edwards caught six passes for 150 yards and a touchdown and No. 18 Michigan turned four turnovers into 27 points in a 30-17 win over Iowa on Saturday.\n",
            "\n",
            "Length of text: 38\n",
            "\n",
            "Vectorized text:\n",
            "[[ 1409   325  6121     9 30539    98    26    26 19410  2429  2351   338\n",
            "   1422     9  3146   822     7     4  1168     7    69   619  1409  1093\n",
            "    147  6121    55  1324   321     6     4 30539    98    32  3499     8\n",
            "    104     0     0     0     0     0     0     0     0     0     0     0\n",
            "      0     0     0     0     0]]\n"
          ],
          "name": "stdout"
        }
      ]
    },
    {
      "cell_type": "code",
      "metadata": {
        "colab": {
          "base_uri": "https://localhost:8080/"
        },
        "id": "HfAYTPZl7UZM",
        "outputId": "76375b07-a01a-491a-c98a-ef191ec5b817"
      },
      "source": [
        "# Checking the length of the vocab size and top 5 most and least common words\n",
        "tab_fact_text_vocab = text_vectorizer.get_vocabulary()\n",
        "print(f\"Number of words in vocabulary: {len(tab_fact_text_vocab)}\"), \n",
        "print(f\"Most common words in the vocabulary: {tab_fact_text_vocab[:5]}\")\n",
        "print(f\"Least common words in the vocabulary: {tab_fact_text_vocab[-5:]}\")"
      ],
      "execution_count": 24,
      "outputs": [
        {
          "output_type": "stream",
          "text": [
            "Number of words in vocabulary: 102171\n",
            "Most common words in the vocabulary: ['', '[UNK]', 'the', 'to', 'a']\n",
            "Least common words in the vocabulary: ['0029', '0013', '000th', '000strong', '000660se']\n"
          ],
          "name": "stdout"
        }
      ]
    },
    {
      "cell_type": "code",
      "metadata": {
        "id": "vRid0Nzi74wD"
      },
      "source": [
        "# Creating the embedding layer\n",
        "token_embed = layers.Embedding(input_dim=len(tab_fact_text_vocab),\n",
        "                               output_dim=128, # I chose 128, but it is a hyperparameter and we can experiment with different numbers\n",
        "                               mask_zero=True, \n",
        "                               name='token_embedding')"
      ],
      "execution_count": 25,
      "outputs": []
    },
    {
      "cell_type": "code",
      "metadata": {
        "colab": {
          "base_uri": "https://localhost:8080/"
        },
        "id": "o51F57yu8wwZ",
        "outputId": "56796474-cc4e-4036-ad2c-d7ef900f0b48"
      },
      "source": [
        "# Testing the embedding layer on a random sample\n",
        "print(f\"Sentence before vectorization:\\n{random_text}\\n\")\n",
        "vectorized_sentence = text_vectorizer([random_text])\n",
        "print(f\"Sentence after vectorization (before embedding):\\n{vectorized_sentence}\\n\")\n",
        "embedded_sentence = token_embed(vectorized_sentence)\n",
        "print(f\"Sentence after embedding:\\n{embedded_sentence}\\n\")\n",
        "print(f\"Embedded sentence shape: {embedded_sentence.shape}\")"
      ],
      "execution_count": 26,
      "outputs": [
        {
          "output_type": "stream",
          "text": [
            "Sentence before vectorization:\n",
            "Michigan Forces Turnovers for 30-17 Win (AP) AP - Braylon Edwards caught six passes for 150 yards and a touchdown and No. 18 Michigan turned four turnovers into 27 points in a 30-17 win over Iowa on Saturday.\n",
            "\n",
            "Sentence after vectorization (before embedding):\n",
            "[[ 1409   325  6121     9 30539    98    26    26 19410  2429  2351   338\n",
            "   1422     9  3146   822     7     4  1168     7    69   619  1409  1093\n",
            "    147  6121    55  1324   321     6     4 30539    98    32  3499     8\n",
            "    104     0     0     0     0     0     0     0     0     0     0     0\n",
            "      0     0     0     0     0]]\n",
            "\n",
            "Sentence after embedding:\n",
            "[[[ 0.04054881 -0.02407131 -0.03212489 ... -0.00277494  0.03059236\n",
            "    0.025927  ]\n",
            "  [ 0.04389056 -0.00075965 -0.00947731 ... -0.02243254 -0.0430246\n",
            "   -0.02014445]\n",
            "  [-0.02100829 -0.01400813  0.03629397 ... -0.01680348 -0.00889951\n",
            "   -0.03504385]\n",
            "  ...\n",
            "  [-0.01647451 -0.00070108 -0.03710514 ...  0.02840817 -0.03408928\n",
            "   -0.04454679]\n",
            "  [-0.01647451 -0.00070108 -0.03710514 ...  0.02840817 -0.03408928\n",
            "   -0.04454679]\n",
            "  [-0.01647451 -0.00070108 -0.03710514 ...  0.02840817 -0.03408928\n",
            "   -0.04454679]]]\n",
            "\n",
            "Embedded sentence shape: (1, 53, 128)\n"
          ],
          "name": "stdout"
        }
      ]
    },
    {
      "cell_type": "markdown",
      "metadata": {
        "id": "Lvt1fWCRPfqs"
      },
      "source": [
        "### Custom Character Embedding Layer"
      ]
    },
    {
      "cell_type": "code",
      "metadata": {
        "colab": {
          "base_uri": "https://localhost:8080/",
          "height": 87
        },
        "id": "TFTEES_hPjeY",
        "outputId": "25af497f-aab3-4563-c04e-a231783d86ae"
      },
      "source": [
        "# Making a function to split sentences into characters\n",
        "def split_chars(text):\n",
        "  return \" \".join(list(text))\n",
        "\n",
        "# Testing the function on the random sample\n",
        "split_chars(random_text)"
      ],
      "execution_count": 27,
      "outputs": [
        {
          "output_type": "execute_result",
          "data": {
            "application/vnd.google.colaboratory.intrinsic+json": {
              "type": "string"
            },
            "text/plain": [
              "'M i c h i g a n   F o r c e s   T u r n o v e r s   f o r   3 0 - 1 7   W i n   ( A P )   A P   -   B r a y l o n   E d w a r d s   c a u g h t   s i x   p a s s e s   f o r   1 5 0   y a r d s   a n d   a   t o u c h d o w n   a n d   N o .   1 8   M i c h i g a n   t u r n e d   f o u r   t u r n o v e r s   i n t o   2 7   p o i n t s   i n   a   3 0 - 1 7   w i n   o v e r   I o w a   o n   S a t u r d a y .'"
            ]
          },
          "metadata": {
            "tags": []
          },
          "execution_count": 27
        }
      ]
    },
    {
      "cell_type": "code",
      "metadata": {
        "colab": {
          "base_uri": "https://localhost:8080/",
          "height": 87
        },
        "id": "7wWQBa7vPxKz",
        "outputId": "1ad803f0-e4d3-4e0b-e311-829c89645c72"
      },
      "source": [
        "# Turn sequence-level data splits into character-level data splits\n",
        "train_chars = [split_chars(text) for text in train_text]\n",
        "test_chars = [split_chars(text) for text in test_text]\n",
        "train_chars[0]"
      ],
      "execution_count": 28,
      "outputs": [
        {
          "output_type": "execute_result",
          "data": {
            "application/vnd.google.colaboratory.intrinsic+json": {
              "type": "string"
            },
            "text/plain": [
              "'A B B   w o n   # 3 9 ; t   c l o s e   G u e l p h   t r a n s f o r m e r   p l a n t   A B B   I n c .   h a s   r e v e r s e d   a   d e c i s i o n   t o   c l o s e   i t s   t r a n s f o r m e r   p l a n t   i n   G u e l p h ,   O n t . ,   s a v i n g   3 0 0   j o b s ,   t h e   u n i o n   r e p r e s e n t i n g   t h e   w o r k e r s   s a i d   t o d a y .'"
            ]
          },
          "metadata": {
            "tags": []
          },
          "execution_count": 28
        }
      ]
    },
    {
      "cell_type": "code",
      "metadata": {
        "colab": {
          "base_uri": "https://localhost:8080/"
        },
        "id": "AMf0I6UBQKWR",
        "outputId": "2c7a3240-bbc7-466c-f3e9-00a49e170f57"
      },
      "source": [
        "# Finding the average character length?\n",
        "char_lens = [len(text) for text in train_text]\n",
        "mean_char_len = np.mean(char_lens)\n",
        "mean_char_len"
      ],
      "execution_count": 29,
      "outputs": [
        {
          "output_type": "execute_result",
          "data": {
            "text/plain": [
              "236.477525"
            ]
          },
          "metadata": {
            "tags": []
          },
          "execution_count": 29
        }
      ]
    },
    {
      "cell_type": "code",
      "metadata": {
        "colab": {
          "base_uri": "https://localhost:8080/",
          "height": 265
        },
        "id": "v0Kmk3byQ3P-",
        "outputId": "c1ad28c3-657d-4736-d6b2-ee5c58c255d6"
      },
      "source": [
        "# Checking the distribution of our sequences at character-level\n",
        "plt.hist(char_lens, bins=20);"
      ],
      "execution_count": 55,
      "outputs": [
        {
          "output_type": "display_data",
          "data": {
            "image/png": "[encoded data removed]",
            "text/plain": [
              "<Figure size 432x288 with 1 Axes>"
            ]
          },
          "metadata": {
            "tags": [],
            "needs_background": "light"
          }
        }
      ]
    },
    {
      "cell_type": "code",
      "metadata": {
        "colab": {
          "base_uri": "https://localhost:8080/"
        },
        "id": "kD7ulx1ARXBo",
        "outputId": "b49c3669-14f2-4350-c21e-355cc52e1a76"
      },
      "source": [
        "# Checking the character length that covers 95% of the statements\n",
        "output_char_len = int(np.percentile(char_lens, 95))\n",
        "output_char_len"
      ],
      "execution_count": null,
      "outputs": [
        {
          "output_type": "execute_result",
          "data": {
            "text/plain": [
              "343"
            ]
          },
          "metadata": {
            "tags": []
          },
          "execution_count": 103
        }
      ]
    },
    {
      "cell_type": "code",
      "metadata": {
        "colab": {
          "base_uri": "https://localhost:8080/",
          "height": 35
        },
        "id": "NRt8CmAMIPVa",
        "outputId": "e1c7e8c2-f083-4582-cb8a-ca60507f2736"
      },
      "source": [
        "# Getting all keyboard characters for char-level embedding\n",
        "alphabet = string.ascii_lowercase + string.digits + string.punctuation\n",
        "alphabet"
      ],
      "execution_count": null,
      "outputs": [
        {
          "output_type": "execute_result",
          "data": {
            "application/vnd.google.colaboratory.intrinsic+json": {
              "type": "string"
            },
            "text/plain": [
              "'abcdefghijklmnopqrstuvwxyz0123456789!\"#$%&\\'()*+,-./:;<=>?@[\\\\]^_`{|}~'"
            ]
          },
          "metadata": {
            "tags": []
          },
          "execution_count": 104
        }
      ]
    },
    {
      "cell_type": "code",
      "metadata": {
        "id": "ruIsbX5YISI5"
      },
      "source": [
        "# Creating char-level token vectorizer instance\n",
        "num_char_tokens = len(alphabet) + 2 # num characters in alphabet + space + OOV token\n",
        "char_vectorizer = TextVectorization(max_tokens=num_char_tokens,  \n",
        "                                    output_sequence_length= output_char_len,\n",
        "                                    standardize=\"lower_and_strip_punctuation\",\n",
        "                                    name=\"char_vectorizer\")\n",
        "\n",
        "# Adapting character vectorizer to training characters\n",
        "char_vectorizer.adapt(train_chars)"
      ],
      "execution_count": null,
      "outputs": []
    },
    {
      "cell_type": "code",
      "metadata": {
        "colab": {
          "base_uri": "https://localhost:8080/"
        },
        "id": "jzXoGu9yIpqy",
        "outputId": "02b22ab2-4380-4a75-df3b-24fe3d15bccf"
      },
      "source": [
        "# Checking character vocabulary characteristics\n",
        "char_vocab = char_vectorizer.get_vocabulary()\n",
        "print(f\"Number of different characters in character vocab: {len(char_vocab)}\")\n",
        "print(f\"5 most common characters: {char_vocab[:5]}\")\n",
        "print(f\"5 least common characters: {char_vocab[-5:]}\")"
      ],
      "execution_count": null,
      "outputs": [
        {
          "output_type": "stream",
          "text": [
            "Number of different characters in character vocab: 38\n",
            "5 most common characters: ['', '[UNK]', 'e', 'a', 't']\n",
            "5 least common characters: ['5', '4', '6', '7', '8']\n"
          ],
          "name": "stdout"
        }
      ]
    },
    {
      "cell_type": "code",
      "metadata": {
        "id": "xN9rbBcpI9U4"
      },
      "source": [
        "# Creating the character level embedding layer\n",
        "char_embed = layers.Embedding(input_dim=num_char_tokens,\n",
        "                              output_dim=128, \n",
        "                              mask_zero=True,\n",
        "                              name=\"char_embed\")"
      ],
      "execution_count": null,
      "outputs": []
    },
    {
      "cell_type": "markdown",
      "metadata": {
        "id": "kql1Dg2yk1lY"
      },
      "source": [
        "### Universal Sentence Encoder Embedding Layer"
      ]
    },
    {
      "cell_type": "code",
      "metadata": {
        "id": "FMkgbGcuk6qK"
      },
      "source": [
        "# Downloading pretrained TensorFlow Hub USE\n",
        "use_embedding = hub.KerasLayer('https://tfhub.dev/google/universal-sentence-encoder/4',\n",
        "                                        trainable = False,\n",
        "                                        name='universal_sentence_encoder')"
      ],
      "execution_count": null,
      "outputs": []
    },
    {
      "cell_type": "markdown",
      "metadata": {
        "id": "RbL-Q2F_x0Z5"
      },
      "source": [
        "### BERT Embedding Layer"
      ]
    },
    {
      "cell_type": "code",
      "metadata": {
        "id": "-uIx98BR-Oll"
      },
      "source": [
        "# Downloading the Bert Transformer\n",
        "text_input = tf.keras.layers.Input(shape=(), dtype=tf.string)\n",
        "preprocessor = hub.KerasLayer(\n",
        "    \"https://tfhub.dev/tensorflow/bert_en_uncased_preprocess/3\", \n",
        "    trainable=False)\n",
        "encoder_inputs = preprocessor(text_input)\n",
        "encoder = hub.KerasLayer(\n",
        "    \"https://tfhub.dev/tensorflow/bert_en_uncased_L-12_H-768_A-12/4\",\n",
        "    trainable=False)\n",
        "outputs = encoder(encoder_inputs)\n",
        "pooled_output = outputs[\"pooled_output\"]      # [batch_size, 768]\n",
        "sequence_output = outputs[\"sequence_output\"]  # [batch_size, seq_length, 768]\n",
        "bert_embedding_model = tf.keras.Model(text_input, sequence_output)"
      ],
      "execution_count": null,
      "outputs": []
    },
    {
      "cell_type": "code",
      "metadata": {
        "colab": {
          "base_uri": "https://localhost:8080/"
        },
        "id": "GhwaZOyBBjKO",
        "outputId": "6dc0d82c-2c60-4c5e-8b50-0d8212cc3fb1"
      },
      "source": [
        "print(f\"Sentence before vectorization:\\n{target_text}\\n\")\n",
        "embedded_sentence = bert_embedding_model(tf.constant([target_text]))\n",
        "print(f\"Sentence after embedding:\\n{embedded_sentence}\\n\")\n",
        "print(f\"Embedded sentence shape: {embedded_sentence.shape}\")"
      ],
      "execution_count": null,
      "outputs": [
        {
          "output_type": "stream",
          "text": [
            "Sentence before vectorization:\n",
            "Mariners reportedly land Beltre com. One day after signing a right-handed hitter with two 45-home runs seasons on his resume, the Mariners could be on the verge of signing the current Major League home run champion.\n",
            "\n",
            "Sentence after embedding:\n",
            "[[[-0.42464095 -0.21131477  0.2954899  ... -0.31684673  0.48595876\n",
            "    0.3248234 ]\n",
            "  [ 0.78360885  0.00165011  0.07729433 ... -0.2681083   0.4298331\n",
            "    0.1227963 ]\n",
            "  [ 0.41341433 -0.17600237  0.1030999  ... -0.11583686  0.2737989\n",
            "   -0.30665642]\n",
            "  ...\n",
            "  [-0.5939698  -0.46450517  0.27629188 ...  0.5174491   0.45493597\n",
            "   -0.3546823 ]\n",
            "  [-0.5966434  -0.4462755   0.24950106 ...  0.53510547  0.3247217\n",
            "   -0.28557107]\n",
            "  [-0.27720377 -0.54359245  0.19970278 ...  0.65216243  0.4818318\n",
            "   -0.33545652]]]\n",
            "\n",
            "Embedded sentence shape: (1, 128, 768)\n"
          ],
          "name": "stdout"
        }
      ]
    },
    {
      "cell_type": "markdown",
      "metadata": {
        "id": "vVSEi0Pv9TEL"
      },
      "source": [
        "## Creating Datasets for the Deep Models\n",
        "\n",
        "\n",
        "I am going to set up our data to run as fast as possible with TensorFlow tf.data.API, many of the steps here are discussed at length in these two resources:\n",
        "* [tf.data: Build TensorFlow input pipelines](https://www.tensorflow.org/guide/data)\n",
        "* [Better performance with the tf.data API](https://www.tensorflow.org/guide/data_performance)"
      ]
    },
    {
      "cell_type": "code",
      "metadata": {
        "id": "EPJ1TXu_88m-",
        "colab": {
          "base_uri": "https://localhost:8080/"
        },
        "outputId": "6629cc4e-334b-4714-f2bb-fc17bd91de0f"
      },
      "source": [
        "train_dataset = tf.data.Dataset.from_tensor_slices((train_text, train_labels_one_hot))\n",
        "test_dataset = tf.data.Dataset.from_tensor_slices((test_text, test_labels_one_hot))\n",
        "\n",
        "train_dataset"
      ],
      "execution_count": null,
      "outputs": [
        {
          "output_type": "execute_result",
          "data": {
            "text/plain": [
              "<TensorSliceDataset shapes: ((), (4,)), types: (tf.string, tf.float64)>"
            ]
          },
          "metadata": {
            "tags": []
          },
          "execution_count": 111
        }
      ]
    },
    {
      "cell_type": "code",
      "metadata": {
        "id": "cCrghlxo9usP",
        "colab": {
          "base_uri": "https://localhost:8080/"
        },
        "outputId": "4e253ae4-11ef-412d-8b1b-5dafca3e4d7e"
      },
      "source": [
        "# Batching the TensorSlicedDatasets and prefetching them\n",
        "train_dataset = train_dataset.batch(32).prefetch(tf.data.AUTOTUNE)\n",
        "test_dataset = test_dataset.batch(32).prefetch(tf.data.AUTOTUNE)\n",
        "\n",
        "print(train_dataset)\n",
        "print(test_dataset)"
      ],
      "execution_count": null,
      "outputs": [
        {
          "output_type": "stream",
          "text": [
            "<PrefetchDataset shapes: ((None,), (None, 4)), types: (tf.string, tf.float64)>\n",
            "<PrefetchDataset shapes: ((None,), (None, 4)), types: (tf.string, tf.float64)>\n"
          ],
          "name": "stdout"
        }
      ]
    },
    {
      "cell_type": "code",
      "metadata": {
        "id": "qYJYQcl9Jmj-"
      },
      "source": [
        "# Creating datasets with combined character level and token level data\n",
        "char_token_train =  tf.data.Dataset.from_tensor_slices((train_text, train_chars)) \n",
        "char_token_train_labels = tf.data.Dataset.from_tensor_slices(train_labels_one_hot) \n",
        "train_char_token_dataset = tf.data.Dataset.zip((char_token_train, char_token_train_labels))\n",
        "\n",
        "# Prefetching and batching the train data\n",
        "train_char_token_dataset = train_char_token_dataset.batch(32).prefetch(tf.data.AUTOTUNE) \n",
        "\n",
        "# Repeating the same process for the test dataset\n",
        "char_token_test = tf.data.Dataset.from_tensor_slices((test_text, test_chars)) \n",
        "char_token_test_labels = tf.data.Dataset.from_tensor_slices(test_labels_one_hot) \n",
        "test_char_token_dataset = tf.data.Dataset.zip((char_token_test, char_token_test_labels))\n",
        "\n",
        "test_char_token_dataset = test_char_token_dataset.batch(32).prefetch(tf.data.AUTOTUNE)"
      ],
      "execution_count": null,
      "outputs": []
    },
    {
      "cell_type": "markdown",
      "metadata": {
        "id": "IViMcF_y-IRG"
      },
      "source": [
        "## Deep Modelling Experiments"
      ]
    },
    {
      "cell_type": "code",
      "metadata": {
        "id": "lxulGB4LpMCh"
      },
      "source": [
        "# Creating a function to evaluate the models in terms of accuracy, precision, recall, f1 and save the results\n",
        "results = {}\n",
        "def evaluate_model(model, test_data):\n",
        "  model_accuracy = model.evaluate(test_data)[1]\n",
        "  y_pred_probs = model.predict(test_data) # getting the prediction probabilities\n",
        "  y_pred = tf.argmax(y_pred_probs, axis=1) # turning the prediction probabilities into prediction classes\n",
        "  model_precision, model_recall, model_f1, _ = precision_recall_fscore_support(test_labels, y_pred, average=\"weighted\")\n",
        "  model_results = {\"accuracy\": model_accuracy,\n",
        "                  \"precision\": model_precision,\n",
        "                  \"recall\": model_recall,\n",
        "                  \"f1\": model_f1}\n",
        "  results[f'{model.name}'] =  model_results"
      ],
      "execution_count": null,
      "outputs": []
    },
    {
      "cell_type": "markdown",
      "metadata": {
        "id": "SQdx-iKoooo5"
      },
      "source": [
        "### Model 1: Conv1D with Custom Token Embeddings"
      ]
    },
    {
      "cell_type": "code",
      "metadata": {
        "id": "u_3zLC5CovvY"
      },
      "source": [
        "# Creating the model\n",
        "inputs = layers.Input(shape=(1,), dtype=tf.string)\n",
        "text_vectors = text_vectorizer(inputs)\n",
        "token_embeddings = token_embed(text_vectors) \n",
        "x = layers.Conv1D(64, kernel_size=5, padding=\"same\", activation=\"relu\")(token_embeddings)\n",
        "x = layers.GlobalAveragePooling1D()(x)\n",
        "outputs = layers.Dense(num_classes, activation=\"softmax\")(x)\n",
        "model_1 = tf.keras.Model(inputs=inputs,\n",
        "                        outputs=outputs,\n",
        "                        name='model_1_conv1d_token_embedding')\n",
        "\n",
        "# compiling the model\n",
        "model_1.compile(loss='categorical_crossentropy',\n",
        "                optimizer='Adam',\n",
        "                metrics = ['accuracy'])"
      ],
      "execution_count": null,
      "outputs": []
    },
    {
      "cell_type": "code",
      "metadata": {
        "colab": {
          "base_uri": "https://localhost:8080/"
        },
        "id": "Yk9mcklgqKAQ",
        "outputId": "23d17699-99fb-4b03-c9c1-12b498159ec6"
      },
      "source": [
        "model_1.summary()"
      ],
      "execution_count": null,
      "outputs": [
        {
          "output_type": "stream",
          "text": [
            "Model: \"model_1_conv1d_token_embedding\"\n",
            "_________________________________________________________________\n",
            "Layer (type)                 Output Shape              Param #   \n",
            "=================================================================\n",
            "input_4 (InputLayer)         [(None, 1)]               0         \n",
            "_________________________________________________________________\n",
            "text_vectorization_2 (TextVe (None, 53)                0         \n",
            "_________________________________________________________________\n",
            "token_embedding (Embedding)  (None, 53, 128)           13077888  \n",
            "_________________________________________________________________\n",
            "conv1d_8 (Conv1D)            (None, 53, 64)            41024     \n",
            "_________________________________________________________________\n",
            "global_average_pooling1d_6 ( (None, 64)                0         \n",
            "_________________________________________________________________\n",
            "dense_16 (Dense)             (None, 4)                 260       \n",
            "=================================================================\n",
            "Total params: 13,119,172\n",
            "Trainable params: 13,119,172\n",
            "Non-trainable params: 0\n",
            "_________________________________________________________________\n"
          ],
          "name": "stdout"
        }
      ]
    },
    {
      "cell_type": "code",
      "metadata": {
        "colab": {
          "base_uri": "https://localhost:8080/"
        },
        "id": "NSp-wxCdp28d",
        "outputId": "d0dfdf6f-6ffa-4b46-9ed8-c83e0d572ee3"
      },
      "source": [
        "# fitting the model\n",
        "model_1_hist = model_1.fit(train_dataset,\n",
        "                           steps_per_epoch=int(0.1*len(train_dataset)),\n",
        "                           epochs=10,\n",
        "                           validation_data=test_dataset,\n",
        "                           validation_steps = int(0.1*len(test_dataset)))"
      ],
      "execution_count": null,
      "outputs": [
        {
          "output_type": "stream",
          "text": [
            "Epoch 1/10\n",
            "375/375 [==============================] - 48s 126ms/step - loss: 0.6301 - accuracy: 0.7710 - val_loss: 0.4366 - val_accuracy: 0.8573\n",
            "Epoch 2/10\n",
            "375/375 [==============================] - 47s 125ms/step - loss: 0.3181 - accuracy: 0.8978 - val_loss: 0.3905 - val_accuracy: 0.8614\n",
            "Epoch 3/10\n",
            "375/375 [==============================] - 47s 125ms/step - loss: 0.2911 - accuracy: 0.9048 - val_loss: 0.3691 - val_accuracy: 0.8764\n",
            "Epoch 4/10\n",
            "375/375 [==============================] - 47s 124ms/step - loss: 0.2888 - accuracy: 0.9048 - val_loss: 0.3631 - val_accuracy: 0.8668\n",
            "Epoch 5/10\n",
            "375/375 [==============================] - 46s 123ms/step - loss: 0.2564 - accuracy: 0.9172 - val_loss: 0.3370 - val_accuracy: 0.8859\n",
            "Epoch 6/10\n",
            "375/375 [==============================] - 47s 125ms/step - loss: 0.2665 - accuracy: 0.9088 - val_loss: 0.3111 - val_accuracy: 0.8886\n",
            "Epoch 7/10\n",
            "375/375 [==============================] - 47s 124ms/step - loss: 0.2488 - accuracy: 0.9200 - val_loss: 0.2999 - val_accuracy: 0.8913\n",
            "Epoch 8/10\n",
            "375/375 [==============================] - 46s 123ms/step - loss: 0.2622 - accuracy: 0.9118 - val_loss: 0.3053 - val_accuracy: 0.8927\n",
            "Epoch 9/10\n",
            "375/375 [==============================] - 47s 126ms/step - loss: 0.2518 - accuracy: 0.9155 - val_loss: 0.3024 - val_accuracy: 0.8954\n",
            "Epoch 10/10\n",
            "375/375 [==============================] - 46s 123ms/step - loss: 0.2437 - accuracy: 0.9216 - val_loss: 0.2921 - val_accuracy: 0.8981\n"
          ],
          "name": "stdout"
        }
      ]
    },
    {
      "cell_type": "code",
      "metadata": {
        "colab": {
          "base_uri": "https://localhost:8080/"
        },
        "id": "m2osHaI2pSvC",
        "outputId": "fc1c9457-ffea-4847-97b3-d83db030e3b9"
      },
      "source": [
        "evaluate_model(model_1, test_dataset)"
      ],
      "execution_count": null,
      "outputs": [
        {
          "output_type": "stream",
          "text": [
            "238/238 [==============================] - 1s 4ms/step - loss: 0.2497 - accuracy: 0.9183\n"
          ],
          "name": "stdout"
        }
      ]
    },
    {
      "cell_type": "markdown",
      "metadata": {
        "id": "7XiVtLWfsAzf"
      },
      "source": [
        "### Model 2: Universal Sentence Encoder Feature Extraction Model"
      ]
    },
    {
      "cell_type": "code",
      "metadata": {
        "id": "u3FdL8o6sM1M"
      },
      "source": [
        "# Creating the model\n",
        "inputs = layers.Input(shape=(), dtype=tf.string)\n",
        "embeddings = use_embedding(inputs)\n",
        "x = layers.Dense(256, activation='relu')(embeddings)\n",
        "x = layers.Dense(128, activation='relu')(x)\n",
        "outputs = layers.Dense(num_classes, activation='softmax')(x)\n",
        "model_2 = tf.keras.Model(inputs=inputs,\n",
        "                        outputs=outputs,\n",
        "                        name='model_2_USE_token_embedding')\n",
        "\n",
        "# compiling the model\n",
        "model_2.compile(loss='categorical_crossentropy',\n",
        "                optimizer='Adam',\n",
        "                metrics = ['accuracy'])"
      ],
      "execution_count": null,
      "outputs": []
    },
    {
      "cell_type": "code",
      "metadata": {
        "colab": {
          "base_uri": "https://localhost:8080/"
        },
        "id": "JuYOgFXAsoQa",
        "outputId": "0a05594c-ee14-4754-f731-692bfbbb6901"
      },
      "source": [
        "model_2.summary()"
      ],
      "execution_count": null,
      "outputs": [
        {
          "output_type": "stream",
          "text": [
            "Model: \"model_2_USE_token_embedding\"\n",
            "_________________________________________________________________\n",
            "Layer (type)                 Output Shape              Param #   \n",
            "=================================================================\n",
            "input_5 (InputLayer)         [(None,)]                 0         \n",
            "_________________________________________________________________\n",
            "universal_sentence_encoder ( (None, 512)               256797824 \n",
            "_________________________________________________________________\n",
            "dense_17 (Dense)             (None, 256)               131328    \n",
            "_________________________________________________________________\n",
            "dense_18 (Dense)             (None, 128)               32896     \n",
            "_________________________________________________________________\n",
            "dense_19 (Dense)             (None, 4)                 516       \n",
            "=================================================================\n",
            "Total params: 256,962,564\n",
            "Trainable params: 164,740\n",
            "Non-trainable params: 256,797,824\n",
            "_________________________________________________________________\n"
          ],
          "name": "stdout"
        }
      ]
    },
    {
      "cell_type": "code",
      "metadata": {
        "colab": {
          "base_uri": "https://localhost:8080/"
        },
        "id": "IrmaVi9CsXej",
        "outputId": "95cf39e7-62fd-47de-90f9-8f156d72876d"
      },
      "source": [
        "# fitting the model\n",
        "model_2_hist = model_2.fit(train_dataset,\n",
        "                           steps_per_epoch=int(0.1*len(train_dataset)),\n",
        "                           epochs=10,\n",
        "                           validation_data=test_dataset,\n",
        "                           validation_steps = int(0.1*len(test_dataset)))"
      ],
      "execution_count": null,
      "outputs": [
        {
          "output_type": "stream",
          "text": [
            "Epoch 1/10\n",
            "375/375 [==============================] - 7s 14ms/step - loss: 0.4091 - accuracy: 0.8631 - val_loss: 0.3884 - val_accuracy: 0.8750\n",
            "Epoch 2/10\n",
            "375/375 [==============================] - 5s 13ms/step - loss: 0.3194 - accuracy: 0.8851 - val_loss: 0.3480 - val_accuracy: 0.8818\n",
            "Epoch 3/10\n",
            "375/375 [==============================] - 5s 13ms/step - loss: 0.3005 - accuracy: 0.8942 - val_loss: 0.3474 - val_accuracy: 0.8913\n",
            "Epoch 4/10\n",
            "375/375 [==============================] - 5s 12ms/step - loss: 0.2970 - accuracy: 0.8968 - val_loss: 0.3471 - val_accuracy: 0.8777\n",
            "Epoch 5/10\n",
            "375/375 [==============================] - 5s 12ms/step - loss: 0.2795 - accuracy: 0.9007 - val_loss: 0.3358 - val_accuracy: 0.8750\n",
            "Epoch 6/10\n",
            "375/375 [==============================] - 5s 12ms/step - loss: 0.2879 - accuracy: 0.8967 - val_loss: 0.3333 - val_accuracy: 0.8832\n",
            "Epoch 7/10\n",
            "375/375 [==============================] - 5s 12ms/step - loss: 0.2751 - accuracy: 0.9035 - val_loss: 0.3262 - val_accuracy: 0.8913\n",
            "Epoch 8/10\n",
            "375/375 [==============================] - 5s 12ms/step - loss: 0.2879 - accuracy: 0.8975 - val_loss: 0.3197 - val_accuracy: 0.8967\n",
            "Epoch 9/10\n",
            "375/375 [==============================] - 5s 12ms/step - loss: 0.2726 - accuracy: 0.9051 - val_loss: 0.3157 - val_accuracy: 0.8940\n",
            "Epoch 10/10\n",
            "375/375 [==============================] - 5s 12ms/step - loss: 0.2649 - accuracy: 0.9078 - val_loss: 0.3145 - val_accuracy: 0.8940\n"
          ],
          "name": "stdout"
        }
      ]
    },
    {
      "cell_type": "code",
      "metadata": {
        "colab": {
          "base_uri": "https://localhost:8080/"
        },
        "id": "TjC4FRhGpbnk",
        "outputId": "4aea1751-8a81-4dd0-bfed-88fac8708a90"
      },
      "source": [
        "evaluate_model(model_2, test_dataset)"
      ],
      "execution_count": null,
      "outputs": [
        {
          "output_type": "stream",
          "text": [
            "238/238 [==============================] - 3s 11ms/step - loss: 0.2823 - accuracy: 0.9030\n"
          ],
          "name": "stdout"
        }
      ]
    },
    {
      "cell_type": "markdown",
      "metadata": {
        "id": "puwQSrm_MpD9"
      },
      "source": [
        "### Model 3: Conv1D with Custom Token Embeddings Combined with Caracter Level Embeddings with Bi-LSTM Layers"
      ]
    },
    {
      "cell_type": "code",
      "metadata": {
        "id": "u7c1_xprerzy"
      },
      "source": [
        "# resetting the token vectorizer and the embedding layer to reset learned patterns from the previous experiment\n",
        "text_vectorizer.adapt(train_text)\n",
        "token_embed = layers.Embedding(input_dim=len(tab_fact_text_vocab),\n",
        "                               output_dim=256, \n",
        "                               mask_zero=True, \n",
        "                               name='token_embedding')"
      ],
      "execution_count": null,
      "outputs": []
    },
    {
      "cell_type": "code",
      "metadata": {
        "id": "_QdCkKCGOMfy"
      },
      "source": [
        "# Setting up token inputs/model\n",
        "token_inputs = token_inputs = layers.Input(shape=[], dtype=tf.string, name=\"token_input\")\n",
        "text_vectors = text_vectorizer(token_inputs)\n",
        "token_embeddings = token_embed(text_vectors) \n",
        "x = layers.Conv1D(128, kernel_size=5, padding=\"same\", activation=\"relu\")(token_embeddings)\n",
        "x = layers.GlobalAveragePooling1D()(x)\n",
        "token_output = layers.Dense(64, activation=\"relu\")(x)\n",
        "token_model = tf.keras.Model(inputs=token_inputs,\n",
        "                             outputs=token_output)\n",
        "\n",
        "# 2. Setting up character inputs/model\n",
        "char_inputs = layers.Input(shape=(1,), dtype=tf.string, name=\"char_input\")\n",
        "char_vectors = char_vectorizer(char_inputs)\n",
        "char_embeddings = char_embed(char_vectors)\n",
        "char_bi_lstm = layers.Bidirectional(layers.LSTM(64, return_sequences=True))(char_embeddings)\n",
        "char_output = layers.Bidirectional(layers.LSTM(64))(char_bi_lstm)\n",
        "char_model = tf.keras.Model(inputs=char_inputs,\n",
        "                            outputs=char_output)\n",
        "\n",
        "# 3. Concatenating token and char inputs \n",
        "token_char_concat = layers.Concatenate(name=\"token_char_hybrid\")([token_model.output, \n",
        "                                                                  char_model.output])\n",
        "\n",
        "# 4. Creating output layers \n",
        "combined_dropout = layers.Dropout(0.5)(token_char_concat)\n",
        "combined_dense = layers.Dense(256, activation=\"relu\")(combined_dropout)\n",
        "final_dropout = layers.Dropout(0.5)(combined_dense)\n",
        "output_layer = layers.Dense(num_classes, activation=\"softmax\")(final_dropout)\n",
        "\n",
        "# 5. Constructing the multimodal model with character and token inputs\n",
        "model_3 = tf.keras.Model(inputs=[token_model.input, char_model.input],\n",
        "                         outputs=output_layer,\n",
        "                         name=\"model_3_bilstm_char_conv1d_token_embedding\")"
      ],
      "execution_count": null,
      "outputs": []
    },
    {
      "cell_type": "code",
      "metadata": {
        "colab": {
          "base_uri": "https://localhost:8080/",
          "height": 780
        },
        "id": "O5wjmqL2Pwe3",
        "outputId": "af0246d7-d44f-4b5e-d5c1-9b0dc9b4516b"
      },
      "source": [
        "# Plotting the hybrid token and character model\n",
        "plot_model(model_3, show_shapes=True)"
      ],
      "execution_count": null,
      "outputs": [
        {
          "output_type": "execute_result",
          "data": {
            "image/png": "[encoded data removed]",
            "text/plain": [
              "<IPython.core.display.Image object>"
            ]
          },
          "metadata": {
            "tags": []
          },
          "execution_count": 125
        }
      ]
    },
    {
      "cell_type": "code",
      "metadata": {
        "id": "M55JQxb8QKCF"
      },
      "source": [
        "# compiling the model\n",
        "model_3.compile(loss='categorical_crossentropy',\n",
        "                optimizer='Adam',\n",
        "                metrics = ['accuracy'])"
      ],
      "execution_count": null,
      "outputs": []
    },
    {
      "cell_type": "code",
      "metadata": {
        "colab": {
          "base_uri": "https://localhost:8080/"
        },
        "id": "XTpY0P_sQShw",
        "outputId": "482c56fb-18e5-4080-c6cc-037ab766495f"
      },
      "source": [
        "# fitting the model\n",
        "model_3_hist = model_3.fit(train_char_token_dataset, \n",
        "                            steps_per_epoch=int(0.1 * len(train_char_token_dataset)),\n",
        "                            epochs=10,\n",
        "                            validation_data=test_char_token_dataset,\n",
        "                            validation_steps=int(0.1 * len(test_char_token_dataset)))"
      ],
      "execution_count": null,
      "outputs": [
        {
          "output_type": "stream",
          "text": [
            "Epoch 1/10\n",
            "375/375 [==============================] - 126s 303ms/step - loss: 0.6817 - accuracy: 0.7225 - val_loss: 0.4623 - val_accuracy: 0.8370\n",
            "Epoch 2/10\n",
            "375/375 [==============================] - 110s 292ms/step - loss: 0.3756 - accuracy: 0.8878 - val_loss: 0.3996 - val_accuracy: 0.8696\n",
            "Epoch 3/10\n",
            "375/375 [==============================] - 110s 292ms/step - loss: 0.3386 - accuracy: 0.8968 - val_loss: 0.3883 - val_accuracy: 0.8736\n",
            "Epoch 4/10\n",
            "375/375 [==============================] - 109s 291ms/step - loss: 0.3212 - accuracy: 0.9007 - val_loss: 0.3682 - val_accuracy: 0.8791\n",
            "Epoch 5/10\n",
            "375/375 [==============================] - 110s 293ms/step - loss: 0.2840 - accuracy: 0.9128 - val_loss: 0.3414 - val_accuracy: 0.8872\n",
            "Epoch 6/10\n",
            "375/375 [==============================] - 110s 292ms/step - loss: 0.2937 - accuracy: 0.9066 - val_loss: 0.3212 - val_accuracy: 0.8913\n",
            "Epoch 7/10\n",
            "375/375 [==============================] - 109s 291ms/step - loss: 0.2759 - accuracy: 0.9142 - val_loss: 0.3133 - val_accuracy: 0.8954\n",
            "Epoch 8/10\n",
            "375/375 [==============================] - 110s 294ms/step - loss: 0.2870 - accuracy: 0.9095 - val_loss: 0.3058 - val_accuracy: 0.9062\n",
            "Epoch 9/10\n",
            "375/375 [==============================] - 109s 291ms/step - loss: 0.2835 - accuracy: 0.9104 - val_loss: 0.3035 - val_accuracy: 0.8927\n",
            "Epoch 10/10\n",
            "375/375 [==============================] - 109s 291ms/step - loss: 0.2674 - accuracy: 0.9140 - val_loss: 0.2931 - val_accuracy: 0.9049\n"
          ],
          "name": "stdout"
        }
      ]
    },
    {
      "cell_type": "code",
      "metadata": {
        "colab": {
          "base_uri": "https://localhost:8080/"
        },
        "id": "9tUTxcrKpiSe",
        "outputId": "e9509bd5-7422-43e3-e741-9327ff5d6f97"
      },
      "source": [
        "evaluate_model(model_3, test_char_token_dataset)"
      ],
      "execution_count": null,
      "outputs": [
        {
          "output_type": "stream",
          "text": [
            "238/238 [==============================] - 7s 29ms/step - loss: 0.2545 - accuracy: 0.9179\n"
          ],
          "name": "stdout"
        }
      ]
    },
    {
      "cell_type": "markdown",
      "metadata": {
        "id": "40jFU8XEqDdp"
      },
      "source": [
        "### Model 4: BERT Feature Extraction Model With LSTM Layers"
      ]
    },
    {
      "cell_type": "code",
      "metadata": {
        "id": "r7sYdeTZqCe0"
      },
      "source": [
        "# Creating the model\n",
        "inputs = layers.Input(shape=(), dtype=tf.string)\n",
        "embeddings = bert_embedding_model(inputs)\n",
        "x = layers.LSTM(128, return_sequences=True)(embeddings)\n",
        "x = layers.LSTM(128)(x)\n",
        "x = layers.Dense(64, activation='relu')(x)\n",
        "outputs = layers.Dense(num_classes, activation='softmax')(x)\n",
        "model_4 = tf.keras.Model(inputs=inputs,\n",
        "                        outputs=outputs,\n",
        "                        name='model_4_bert_token_embedding_lstm')\n",
        "\n",
        "# compiling the model\n",
        "model_4.compile(loss='categorical_crossentropy',\n",
        "                optimizer='Adam',\n",
        "                metrics = ['accuracy'])"
      ],
      "execution_count": null,
      "outputs": []
    },
    {
      "cell_type": "code",
      "metadata": {
        "colab": {
          "base_uri": "https://localhost:8080/"
        },
        "id": "W5tL7AJVS3zy",
        "outputId": "8e090524-dabd-42ce-a23b-d12830562049"
      },
      "source": [
        "model_4.summary()"
      ],
      "execution_count": null,
      "outputs": [
        {
          "output_type": "stream",
          "text": [
            "Model: \"model_4_bert_token_embedding_lstm\"\n",
            "_________________________________________________________________\n",
            "Layer (type)                 Output Shape              Param #   \n",
            "=================================================================\n",
            "input_6 (InputLayer)         [(None,)]                 0         \n",
            "_________________________________________________________________\n",
            "model_11 (Functional)        (None, 128, 768)          109482241 \n",
            "_________________________________________________________________\n",
            "lstm_8 (LSTM)                (None, 128, 128)          459264    \n",
            "_________________________________________________________________\n",
            "lstm_9 (LSTM)                (None, 128)               131584    \n",
            "_________________________________________________________________\n",
            "dense_23 (Dense)             (None, 64)                8256      \n",
            "_________________________________________________________________\n",
            "dense_24 (Dense)             (None, 4)                 260       \n",
            "=================================================================\n",
            "Total params: 110,081,605\n",
            "Trainable params: 599,364\n",
            "Non-trainable params: 109,482,241\n",
            "_________________________________________________________________\n"
          ],
          "name": "stdout"
        }
      ]
    },
    {
      "cell_type": "code",
      "metadata": {
        "id": "M9T1am4fKKVW",
        "colab": {
          "base_uri": "https://localhost:8080/"
        },
        "outputId": "b598c480-2c8e-44d2-b9c3-ffb61d4ded1c"
      },
      "source": [
        "# fitting the model\n",
        "model_4_hist = model_4.fit(train_dataset, \n",
        "                            steps_per_epoch=int(0.1 * len(train_dataset)),\n",
        "                            epochs=10,\n",
        "                            validation_data=test_dataset,\n",
        "                            validation_steps=int(0.1 * len(test_dataset)))"
      ],
      "execution_count": null,
      "outputs": [
        {
          "output_type": "stream",
          "text": [
            "Epoch 1/10\n",
            "375/375 [==============================] - 145s 363ms/step - loss: 0.4169 - accuracy: 0.8574 - val_loss: 0.3766 - val_accuracy: 0.8655\n",
            "Epoch 2/10\n",
            "375/375 [==============================] - 135s 360ms/step - loss: 0.3263 - accuracy: 0.8855 - val_loss: 0.3835 - val_accuracy: 0.8709\n",
            "Epoch 3/10\n",
            "375/375 [==============================] - 135s 360ms/step - loss: 0.2988 - accuracy: 0.8971 - val_loss: 0.3426 - val_accuracy: 0.8845\n",
            "Epoch 4/10\n",
            "375/375 [==============================] - 134s 359ms/step - loss: 0.2863 - accuracy: 0.9005 - val_loss: 0.3314 - val_accuracy: 0.8940\n",
            "Epoch 5/10\n",
            "375/375 [==============================] - 135s 359ms/step - loss: 0.2668 - accuracy: 0.9081 - val_loss: 0.3352 - val_accuracy: 0.8832\n",
            "Epoch 6/10\n",
            "375/375 [==============================] - 135s 359ms/step - loss: 0.2649 - accuracy: 0.9080 - val_loss: 0.3045 - val_accuracy: 0.8981\n",
            "Epoch 7/10\n",
            "375/375 [==============================] - 135s 359ms/step - loss: 0.2404 - accuracy: 0.9137 - val_loss: 0.3099 - val_accuracy: 0.8859\n",
            "Epoch 8/10\n",
            "375/375 [==============================] - 135s 361ms/step - loss: 0.2497 - accuracy: 0.9107 - val_loss: 0.3202 - val_accuracy: 0.8913\n",
            "Epoch 9/10\n",
            "375/375 [==============================] - 135s 359ms/step - loss: 0.2464 - accuracy: 0.9147 - val_loss: 0.2717 - val_accuracy: 0.9062\n",
            "Epoch 10/10\n",
            "375/375 [==============================] - 135s 361ms/step - loss: 0.2348 - accuracy: 0.9179 - val_loss: 0.2776 - val_accuracy: 0.9008\n"
          ],
          "name": "stdout"
        }
      ]
    },
    {
      "cell_type": "code",
      "metadata": {
        "colab": {
          "base_uri": "https://localhost:8080/"
        },
        "id": "PJ1E7Y4Dpn4I",
        "outputId": "474e250d-9544-4867-98e6-eb516ed8850b"
      },
      "source": [
        "evaluate_model(model_4, test_dataset)"
      ],
      "execution_count": null,
      "outputs": [
        {
          "output_type": "stream",
          "text": [
            "238/238 [==============================] - 79s 330ms/step - loss: 0.2328 - accuracy: 0.9175\n"
          ],
          "name": "stdout"
        }
      ]
    },
    {
      "cell_type": "markdown",
      "metadata": {
        "id": "v4iXw_TKbYde"
      },
      "source": [
        "### Model 5: Conv1D with BERT Token Embeddings Combined With Character Level Embeddings with a Bi-LSTM Layer"
      ]
    },
    {
      "cell_type": "code",
      "metadata": {
        "id": "jsKf3pGvfCWR"
      },
      "source": [
        "# resetting character vectorizer and the embedding layer\n",
        "char_vectorizer.adapt(train_chars)\n",
        "char_embed = layers.Embedding(input_dim=num_char_tokens,\n",
        "                              output_dim=256, \n",
        "                              mask_zero=True,\n",
        "                              name=\"char_embed\")"
      ],
      "execution_count": null,
      "outputs": []
    },
    {
      "cell_type": "code",
      "metadata": {
        "id": "TAitx_xWb0Sb"
      },
      "source": [
        "# Setting up token inputs/model\n",
        "token_inputs = token_inputs = layers.Input(shape=(), dtype=tf.string, name=\"token_input\")\n",
        "token_embeddings = bert_embedding_model(token_inputs)\n",
        "x = layers.Conv1D(64, kernel_size=5, padding=\"same\", activation=\"relu\")(token_embeddings)\n",
        "x = layers.GlobalAveragePooling1D()(x)\n",
        "token_output = layers.Dense(128, activation=\"relu\")(x)\n",
        "token_model = tf.keras.Model(inputs=token_inputs,\n",
        "                             outputs=token_output)\n",
        "\n",
        "# 2. Setting up character inputs/model\n",
        "char_inputs = layers.Input(shape=(1,), dtype=tf.string, name=\"char_input\")\n",
        "char_vectors = char_vectorizer(char_inputs)\n",
        "char_embeddings = char_embed(char_vectors)\n",
        "char_bi_lstm = layers.Bidirectional(layers.LSTM(64))(char_embeddings)\n",
        "char_model = tf.keras.Model(inputs=char_inputs,\n",
        "                            outputs=char_bi_lstm)\n",
        "\n",
        "# 3. Concatenating token and char inputs \n",
        "token_char_concat = layers.Concatenate(name=\"token_char_hybrid\")([token_model.output, \n",
        "                                                                  char_model.output])\n",
        "\n",
        "# 4. Creating output layers \n",
        "combined_dropout = layers.Dropout(0.5)(token_char_concat)\n",
        "combined_dense = layers.Dense(128, activation=\"relu\")(combined_dropout)\n",
        "final_dropout = layers.Dropout(0.5)(combined_dense)\n",
        "output_layer = layers.Dense(num_classes, activation=\"softmax\")(final_dropout)\n",
        "\n",
        "# 5. Constructing the multimodal model with character and token inputs\n",
        "model_5 = tf.keras.Model(inputs=[token_model.input, char_model.input],\n",
        "                         outputs=output_layer,\n",
        "                         name=\"model_5_conv1d_bert_token_and_bilstm_char_embeddings\")\n",
        "\n",
        "# compiling the model\n",
        "model_5.compile(loss='categorical_crossentropy',\n",
        "                optimizer='Adam',\n",
        "                metrics = ['accuracy'])"
      ],
      "execution_count": null,
      "outputs": []
    },
    {
      "cell_type": "code",
      "metadata": {
        "colab": {
          "base_uri": "https://localhost:8080/",
          "height": 763
        },
        "id": "1si3ulTWc0WR",
        "outputId": "29f65d79-3719-4c9e-94bd-c35c5c61b8a9"
      },
      "source": [
        "plot_model(model_5, show_shapes=True)"
      ],
      "execution_count": null,
      "outputs": [
        {
          "output_type": "execute_result",
          "data": {
            "image/png": "[encoded data removed]",
            "text/plain": [
              "<IPython.core.display.Image object>"
            ]
          },
          "metadata": {
            "tags": []
          },
          "execution_count": 136
        }
      ]
    },
    {
      "cell_type": "code",
      "metadata": {
        "colab": {
          "base_uri": "https://localhost:8080/"
        },
        "id": "fuJtRqCUdjJO",
        "outputId": "7b6b6800-ed37-4f23-af09-e12b86020805"
      },
      "source": [
        "# fitting the model\n",
        "model_5_hist = model_5.fit(train_char_token_dataset, \n",
        "                            steps_per_epoch=int(0.1 * len(train_char_token_dataset)),\n",
        "                            epochs=10,\n",
        "                            validation_data=test_char_token_dataset,\n",
        "                            validation_steps=int(0.1 * len(test_char_token_dataset)))"
      ],
      "execution_count": null,
      "outputs": [
        {
          "output_type": "stream",
          "text": [
            "Epoch 1/10\n",
            "375/375 [==============================] - 155s 392ms/step - loss: 0.4576 - accuracy: 0.8414 - val_loss: 0.3855 - val_accuracy: 0.8804\n",
            "Epoch 2/10\n",
            "375/375 [==============================] - 143s 382ms/step - loss: 0.3449 - accuracy: 0.8917 - val_loss: 0.3439 - val_accuracy: 0.8804\n",
            "Epoch 3/10\n",
            "375/375 [==============================] - 144s 384ms/step - loss: 0.3165 - accuracy: 0.9011 - val_loss: 0.3485 - val_accuracy: 0.8913\n",
            "Epoch 4/10\n",
            "375/375 [==============================] - 143s 382ms/step - loss: 0.3028 - accuracy: 0.9025 - val_loss: 0.3171 - val_accuracy: 0.8886\n",
            "Epoch 5/10\n",
            "375/375 [==============================] - 144s 383ms/step - loss: 0.2880 - accuracy: 0.9072 - val_loss: 0.3257 - val_accuracy: 0.8967\n",
            "Epoch 6/10\n",
            "375/375 [==============================] - 143s 382ms/step - loss: 0.2908 - accuracy: 0.9046 - val_loss: 0.3130 - val_accuracy: 0.8927\n",
            "Epoch 7/10\n",
            "375/375 [==============================] - 143s 382ms/step - loss: 0.2707 - accuracy: 0.9084 - val_loss: 0.3415 - val_accuracy: 0.8804\n",
            "Epoch 8/10\n",
            "375/375 [==============================] - 144s 384ms/step - loss: 0.2771 - accuracy: 0.9065 - val_loss: 0.2898 - val_accuracy: 0.8913\n",
            "Epoch 9/10\n",
            "375/375 [==============================] - 143s 382ms/step - loss: 0.2777 - accuracy: 0.9073 - val_loss: 0.2916 - val_accuracy: 0.8981\n",
            "Epoch 10/10\n",
            "375/375 [==============================] - 144s 385ms/step - loss: 0.2658 - accuracy: 0.9103 - val_loss: 0.3134 - val_accuracy: 0.8940\n"
          ],
          "name": "stdout"
        }
      ]
    },
    {
      "cell_type": "code",
      "metadata": {
        "colab": {
          "base_uri": "https://localhost:8080/"
        },
        "id": "8fDYl7FIpyHu",
        "outputId": "983a04ec-0150-4290-8ef9-a33f4afbe9c8"
      },
      "source": [
        "evaluate_model(model_5, test_char_token_dataset)"
      ],
      "execution_count": null,
      "outputs": [
        {
          "output_type": "stream",
          "text": [
            "238/238 [==============================] - 81s 339ms/step - loss: 0.2510 - accuracy: 0.9133\n"
          ],
          "name": "stdout"
        }
      ]
    },
    {
      "cell_type": "markdown",
      "metadata": {
        "id": "uvD7-eI3p3sB"
      },
      "source": [
        "## Comparing The Model Results"
      ]
    },
    {
      "cell_type": "code",
      "metadata": {
        "id": "BtFK797JiBRP"
      },
      "source": [
        "# Getting the precision, recall and f1 scores for the baseline model\n",
        "y_preds = model_0.predict(test_text)\n",
        "model_precision, model_recall, model_f1, _ = precision_recall_fscore_support(test_labels, y_preds, average=\"weighted\")\n",
        "baseline_results = {\"accuracy\": baseline_score,\n",
        "                  \"precision\": model_precision,\n",
        "                  \"recall\": model_recall,\n",
        "                  \"f1\": model_f1}"
      ],
      "execution_count": null,
      "outputs": []
    },
    {
      "cell_type": "code",
      "metadata": {
        "id": "v-VYDveHiuuY"
      },
      "source": [
        "# Adding the baseline results to the results dictionary \n",
        "results['basline_multinomialNB'] = baseline_results"
      ],
      "execution_count": null,
      "outputs": []
    },
    {
      "cell_type": "code",
      "metadata": {
        "colab": {
          "base_uri": "https://localhost:8080/",
          "height": 237
        },
        "id": "pRr1u1EGhV-G",
        "outputId": "c1e36fde-769c-4fb6-f611-69f91226aa3e"
      },
      "source": [
        "# Converting the results dictionary into a pandas dataframe\n",
        "results_df = pd.DataFrame.from_dict(results).transpose()\n",
        "results_df.sort_values('accuracy', ascending=False)"
      ],
      "execution_count": null,
      "outputs": [
        {
          "output_type": "execute_result",
          "data": {
            "text/html": [
              "<div>\n",
              "<style scoped>\n",
              "    .dataframe tbody tr th:only-of-type {\n",
              "        vertical-align: middle;\n",
              "    }\n",
              "\n",
              "    .dataframe tbody tr th {\n",
              "        vertical-align: top;\n",
              "    }\n",
              "\n",
              "    .dataframe thead th {\n",
              "        text-align: right;\n",
              "    }\n",
              "</style>\n",
              "<table border=\"1\" class=\"dataframe\">\n",
              "  <thead>\n",
              "    <tr style=\"text-align: right;\">\n",
              "      <th></th>\n",
              "      <th>accuracy</th>\n",
              "      <th>precision</th>\n",
              "      <th>recall</th>\n",
              "      <th>f1</th>\n",
              "    </tr>\n",
              "  </thead>\n",
              "  <tbody>\n",
              "    <tr>\n",
              "      <th>model_1_conv1d_token_embedding</th>\n",
              "      <td>0.918289</td>\n",
              "      <td>0.918261</td>\n",
              "      <td>0.918289</td>\n",
              "      <td>0.918166</td>\n",
              "    </tr>\n",
              "    <tr>\n",
              "      <th>model_3_bilstm_char_conv1d_token_embedding</th>\n",
              "      <td>0.917895</td>\n",
              "      <td>0.917885</td>\n",
              "      <td>0.917895</td>\n",
              "      <td>0.917761</td>\n",
              "    </tr>\n",
              "    <tr>\n",
              "      <th>model_4_bert_token_embedding_lstm</th>\n",
              "      <td>0.917500</td>\n",
              "      <td>0.917734</td>\n",
              "      <td>0.917500</td>\n",
              "      <td>0.917606</td>\n",
              "    </tr>\n",
              "    <tr>\n",
              "      <th>model_5_conv1d_bert_token_and_bilstm_char_embeddings</th>\n",
              "      <td>0.913289</td>\n",
              "      <td>0.913431</td>\n",
              "      <td>0.913289</td>\n",
              "      <td>0.913178</td>\n",
              "    </tr>\n",
              "    <tr>\n",
              "      <th>model_2_USE_token_embedding</th>\n",
              "      <td>0.903026</td>\n",
              "      <td>0.903465</td>\n",
              "      <td>0.903026</td>\n",
              "      <td>0.902964</td>\n",
              "    </tr>\n",
              "    <tr>\n",
              "      <th>basline_multinomialNB</th>\n",
              "      <td>0.902105</td>\n",
              "      <td>0.901746</td>\n",
              "      <td>0.902105</td>\n",
              "      <td>0.901834</td>\n",
              "    </tr>\n",
              "  </tbody>\n",
              "</table>\n",
              "</div>"
            ],
            "text/plain": [
              "                                                    accuracy  ...        f1\n",
              "model_1_conv1d_token_embedding                      0.918289  ...  0.918166\n",
              "model_3_bilstm_char_conv1d_token_embedding          0.917895  ...  0.917761\n",
              "model_4_bert_token_embedding_lstm                   0.917500  ...  0.917606\n",
              "model_5_conv1d_bert_token_and_bilstm_char_embed...  0.913289  ...  0.913178\n",
              "model_2_USE_token_embedding                         0.903026  ...  0.902964\n",
              "basline_multinomialNB                               0.902105  ...  0.901834\n",
              "\n",
              "[6 rows x 4 columns]"
            ]
          },
          "metadata": {
            "tags": []
          },
          "execution_count": 141
        }
      ]
    },
    {
      "cell_type": "markdown",
      "metadata": {
        "id": "JdBv1O6Fkkxp"
      },
      "source": [
        "## Saving The Best Model"
      ]
    },
    {
      "cell_type": "code",
      "metadata": {
        "colab": {
          "base_uri": "https://localhost:8080/"
        },
        "id": "BudxyKi1kpxr",
        "outputId": "ec25f8a7-cac5-4f41-bc87-d543e4092705"
      },
      "source": [
        "model_1.save(f'{model_1.name}')"
      ],
      "execution_count": null,
      "outputs": [
        {
          "output_type": "stream",
          "text": [
            "INFO:tensorflow:Assets written to: model_1_conv1d_token_embedding/assets\n"
          ],
          "name": "stdout"
        },
        {
          "output_type": "stream",
          "text": [
            "INFO:tensorflow:Assets written to: model_1_conv1d_token_embedding/assets\n"
          ],
          "name": "stderr"
        }
      ]
    },
    {
      "cell_type": "markdown",
      "metadata": {
        "id": "xbMR0zWKiVpr"
      },
      "source": [
        "## Most Wrong Predictions Of The Best Model"
      ]
    },
    {
      "cell_type": "code",
      "metadata": {
        "colab": {
          "base_uri": "https://localhost:8080/"
        },
        "id": "8aNUWh6ZkChW",
        "outputId": "bae97209-bcba-4fac-ce4a-81682735b5b9"
      },
      "source": [
        "# Loading the best model\n",
        "model_path = model_1.name\n",
        "best_model = tf.keras.models.load_model(model_path)\n",
        "\n",
        "test_pred_probs = best_model.predict(test_dataset,verbose=1)\n",
        "test_preds = tf.argmax(test_pred_probs, axis=1)\n",
        "test_preds[:10]"
      ],
      "execution_count": null,
      "outputs": [
        {
          "output_type": "stream",
          "text": [
            "238/238 [==============================] - 1s 3ms/step\n"
          ],
          "name": "stdout"
        },
        {
          "output_type": "execute_result",
          "data": {
            "text/plain": [
              "<tf.Tensor: shape=(10,), dtype=int64, numpy=array([2, 3, 3, 3, 3, 3, 3, 3, 3, 2])>"
            ]
          },
          "metadata": {
            "tags": []
          },
          "execution_count": 146
        }
      ]
    },
    {
      "cell_type": "code",
      "metadata": {
        "colab": {
          "base_uri": "https://localhost:8080/"
        },
        "id": "oHGjJ-cmmMOR",
        "outputId": "fc7f485d-5474-463a-d453-b6403f7e4f32"
      },
      "source": [
        "# checking the class names\n",
        "class_names"
      ],
      "execution_count": null,
      "outputs": [
        {
          "output_type": "execute_result",
          "data": {
            "text/plain": [
              "['World', 'Sports', 'Business', 'Sci/Tech']"
            ]
          },
          "metadata": {
            "tags": []
          },
          "execution_count": 147
        }
      ]
    },
    {
      "cell_type": "code",
      "metadata": {
        "colab": {
          "base_uri": "https://localhost:8080/"
        },
        "id": "VW6zUMk2l5_a",
        "outputId": "900218f8-55c0-4348-81fb-aa07d12a4078"
      },
      "source": [
        "# Getting a list of class names of the test predictions\n",
        "test_pred_classes = [class_names[pred] for pred in test_preds]\n",
        "test_pred_classes[:10]"
      ],
      "execution_count": null,
      "outputs": [
        {
          "output_type": "execute_result",
          "data": {
            "text/plain": [
              "['Business',\n",
              " 'Sci/Tech',\n",
              " 'Sci/Tech',\n",
              " 'Sci/Tech',\n",
              " 'Sci/Tech',\n",
              " 'Sci/Tech',\n",
              " 'Sci/Tech',\n",
              " 'Sci/Tech',\n",
              " 'Sci/Tech',\n",
              " 'Business']"
            ]
          },
          "metadata": {
            "tags": []
          },
          "execution_count": 149
        }
      ]
    },
    {
      "cell_type": "code",
      "metadata": {
        "colab": {
          "base_uri": "https://localhost:8080/",
          "height": 676
        },
        "id": "GIyaRS7ZmSup",
        "outputId": "e25f65a6-eb9c-477e-c389-fdc5b1f13298"
      },
      "source": [
        "# Creating prediction-enriched test dataframe\n",
        "test_df = pd.DataFrame(dataset['test'])\n",
        "test_df['class_name'] = [class_names[label] for label in test_df['label'].tolist()]\n",
        "test_df[\"prediction\"] = test_pred_classes # creating column with test prediction class names\n",
        "test_df[\"pred_prob\"] = tf.reduce_max(test_pred_probs, axis=1).numpy() # getting the maximum prediction probability\n",
        "test_df[\"correct\"] = test_df[\"prediction\"] == test_df[\"class_name\"] # creating a binary column for whether the prediction is right or not\n",
        "test_df.head(20)"
      ],
      "execution_count": null,
      "outputs": [
        {
          "output_type": "execute_result",
          "data": {
            "text/html": [
              "<div>\n",
              "<style scoped>\n",
              "    .dataframe tbody tr th:only-of-type {\n",
              "        vertical-align: middle;\n",
              "    }\n",
              "\n",
              "    .dataframe tbody tr th {\n",
              "        vertical-align: top;\n",
              "    }\n",
              "\n",
              "    .dataframe thead th {\n",
              "        text-align: right;\n",
              "    }\n",
              "</style>\n",
              "<table border=\"1\" class=\"dataframe\">\n",
              "  <thead>\n",
              "    <tr style=\"text-align: right;\">\n",
              "      <th></th>\n",
              "      <th>text</th>\n",
              "      <th>label</th>\n",
              "      <th>class_name</th>\n",
              "      <th>prediction</th>\n",
              "      <th>pred_prob</th>\n",
              "      <th>correct</th>\n",
              "    </tr>\n",
              "  </thead>\n",
              "  <tbody>\n",
              "    <tr>\n",
              "      <th>0</th>\n",
              "      <td>Fears for T N pension after talks Unions repre...</td>\n",
              "      <td>2</td>\n",
              "      <td>Business</td>\n",
              "      <td>Business</td>\n",
              "      <td>0.845059</td>\n",
              "      <td>True</td>\n",
              "    </tr>\n",
              "    <tr>\n",
              "      <th>1</th>\n",
              "      <td>The Race is On: Second Private Team Sets Launc...</td>\n",
              "      <td>3</td>\n",
              "      <td>Sci/Tech</td>\n",
              "      <td>Sci/Tech</td>\n",
              "      <td>0.999983</td>\n",
              "      <td>True</td>\n",
              "    </tr>\n",
              "    <tr>\n",
              "      <th>2</th>\n",
              "      <td>Ky. Company Wins Grant to Study Peptides (AP) ...</td>\n",
              "      <td>3</td>\n",
              "      <td>Sci/Tech</td>\n",
              "      <td>Sci/Tech</td>\n",
              "      <td>0.995309</td>\n",
              "      <td>True</td>\n",
              "    </tr>\n",
              "    <tr>\n",
              "      <th>3</th>\n",
              "      <td>Prediction Unit Helps Forecast Wildfires (AP) ...</td>\n",
              "      <td>3</td>\n",
              "      <td>Sci/Tech</td>\n",
              "      <td>Sci/Tech</td>\n",
              "      <td>0.482117</td>\n",
              "      <td>True</td>\n",
              "    </tr>\n",
              "    <tr>\n",
              "      <th>4</th>\n",
              "      <td>Calif. Aims to Limit Farm-Related Smog (AP) AP...</td>\n",
              "      <td>3</td>\n",
              "      <td>Sci/Tech</td>\n",
              "      <td>Sci/Tech</td>\n",
              "      <td>0.729252</td>\n",
              "      <td>True</td>\n",
              "    </tr>\n",
              "    <tr>\n",
              "      <th>5</th>\n",
              "      <td>Open Letter Against British Copyright Indoctri...</td>\n",
              "      <td>3</td>\n",
              "      <td>Sci/Tech</td>\n",
              "      <td>Sci/Tech</td>\n",
              "      <td>0.938596</td>\n",
              "      <td>True</td>\n",
              "    </tr>\n",
              "    <tr>\n",
              "      <th>6</th>\n",
              "      <td>Loosing the War on Terrorism \\\\\"Sven Jaschan, ...</td>\n",
              "      <td>3</td>\n",
              "      <td>Sci/Tech</td>\n",
              "      <td>Sci/Tech</td>\n",
              "      <td>0.998810</td>\n",
              "      <td>True</td>\n",
              "    </tr>\n",
              "    <tr>\n",
              "      <th>7</th>\n",
              "      <td>FOAFKey: FOAF, PGP, Key Distribution, and Bloo...</td>\n",
              "      <td>3</td>\n",
              "      <td>Sci/Tech</td>\n",
              "      <td>Sci/Tech</td>\n",
              "      <td>0.878278</td>\n",
              "      <td>True</td>\n",
              "    </tr>\n",
              "    <tr>\n",
              "      <th>8</th>\n",
              "      <td>E-mail scam targets police chief Wiltshire Pol...</td>\n",
              "      <td>3</td>\n",
              "      <td>Sci/Tech</td>\n",
              "      <td>Sci/Tech</td>\n",
              "      <td>0.642947</td>\n",
              "      <td>True</td>\n",
              "    </tr>\n",
              "    <tr>\n",
              "      <th>9</th>\n",
              "      <td>Card fraud unit nets 36,000 cards In its first...</td>\n",
              "      <td>3</td>\n",
              "      <td>Sci/Tech</td>\n",
              "      <td>Business</td>\n",
              "      <td>0.525027</td>\n",
              "      <td>False</td>\n",
              "    </tr>\n",
              "    <tr>\n",
              "      <th>10</th>\n",
              "      <td>Group to Propose New High-Speed Wireless Forma...</td>\n",
              "      <td>3</td>\n",
              "      <td>Sci/Tech</td>\n",
              "      <td>Sci/Tech</td>\n",
              "      <td>0.821471</td>\n",
              "      <td>True</td>\n",
              "    </tr>\n",
              "    <tr>\n",
              "      <th>11</th>\n",
              "      <td>Apple Launches Graphics Software, Video Bundle...</td>\n",
              "      <td>3</td>\n",
              "      <td>Sci/Tech</td>\n",
              "      <td>Sci/Tech</td>\n",
              "      <td>0.999450</td>\n",
              "      <td>True</td>\n",
              "    </tr>\n",
              "    <tr>\n",
              "      <th>12</th>\n",
              "      <td>Dutch Retailer Beats Apple to Local Download M...</td>\n",
              "      <td>3</td>\n",
              "      <td>Sci/Tech</td>\n",
              "      <td>Sci/Tech</td>\n",
              "      <td>0.973610</td>\n",
              "      <td>True</td>\n",
              "    </tr>\n",
              "    <tr>\n",
              "      <th>13</th>\n",
              "      <td>Super ant colony hits Australia A giant 100km ...</td>\n",
              "      <td>3</td>\n",
              "      <td>Sci/Tech</td>\n",
              "      <td>Sci/Tech</td>\n",
              "      <td>0.837192</td>\n",
              "      <td>True</td>\n",
              "    </tr>\n",
              "    <tr>\n",
              "      <th>14</th>\n",
              "      <td>Socialites unite dolphin groups Dolphin groups...</td>\n",
              "      <td>3</td>\n",
              "      <td>Sci/Tech</td>\n",
              "      <td>Sci/Tech</td>\n",
              "      <td>0.882904</td>\n",
              "      <td>True</td>\n",
              "    </tr>\n",
              "    <tr>\n",
              "      <th>15</th>\n",
              "      <td>Teenage T. rex's monster growth Tyrannosaurus ...</td>\n",
              "      <td>3</td>\n",
              "      <td>Sci/Tech</td>\n",
              "      <td>Sci/Tech</td>\n",
              "      <td>0.689527</td>\n",
              "      <td>True</td>\n",
              "    </tr>\n",
              "    <tr>\n",
              "      <th>16</th>\n",
              "      <td>Scientists Discover Ganymede has a Lumpy Inter...</td>\n",
              "      <td>3</td>\n",
              "      <td>Sci/Tech</td>\n",
              "      <td>Sci/Tech</td>\n",
              "      <td>0.994797</td>\n",
              "      <td>True</td>\n",
              "    </tr>\n",
              "    <tr>\n",
              "      <th>17</th>\n",
              "      <td>Mars Rovers Relay Images Through Mars Express ...</td>\n",
              "      <td>3</td>\n",
              "      <td>Sci/Tech</td>\n",
              "      <td>Sci/Tech</td>\n",
              "      <td>0.999976</td>\n",
              "      <td>True</td>\n",
              "    </tr>\n",
              "    <tr>\n",
              "      <th>18</th>\n",
              "      <td>Rocking the Cradle of Life When did life begin...</td>\n",
              "      <td>3</td>\n",
              "      <td>Sci/Tech</td>\n",
              "      <td>Sci/Tech</td>\n",
              "      <td>0.889038</td>\n",
              "      <td>True</td>\n",
              "    </tr>\n",
              "    <tr>\n",
              "      <th>19</th>\n",
              "      <td>Storage, servers bruise HP earnings update Ear...</td>\n",
              "      <td>3</td>\n",
              "      <td>Sci/Tech</td>\n",
              "      <td>Sci/Tech</td>\n",
              "      <td>0.725394</td>\n",
              "      <td>True</td>\n",
              "    </tr>\n",
              "  </tbody>\n",
              "</table>\n",
              "</div>"
            ],
            "text/plain": [
              "                                                 text  ...  correct\n",
              "0   Fears for T N pension after talks Unions repre...  ...     True\n",
              "1   The Race is On: Second Private Team Sets Launc...  ...     True\n",
              "2   Ky. Company Wins Grant to Study Peptides (AP) ...  ...     True\n",
              "3   Prediction Unit Helps Forecast Wildfires (AP) ...  ...     True\n",
              "4   Calif. Aims to Limit Farm-Related Smog (AP) AP...  ...     True\n",
              "5   Open Letter Against British Copyright Indoctri...  ...     True\n",
              "6   Loosing the War on Terrorism \\\\\"Sven Jaschan, ...  ...     True\n",
              "7   FOAFKey: FOAF, PGP, Key Distribution, and Bloo...  ...     True\n",
              "8   E-mail scam targets police chief Wiltshire Pol...  ...     True\n",
              "9   Card fraud unit nets 36,000 cards In its first...  ...    False\n",
              "10  Group to Propose New High-Speed Wireless Forma...  ...     True\n",
              "11  Apple Launches Graphics Software, Video Bundle...  ...     True\n",
              "12  Dutch Retailer Beats Apple to Local Download M...  ...     True\n",
              "13  Super ant colony hits Australia A giant 100km ...  ...     True\n",
              "14  Socialites unite dolphin groups Dolphin groups...  ...     True\n",
              "15  Teenage T. rex's monster growth Tyrannosaurus ...  ...     True\n",
              "16  Scientists Discover Ganymede has a Lumpy Inter...  ...     True\n",
              "17  Mars Rovers Relay Images Through Mars Express ...  ...     True\n",
              "18  Rocking the Cradle of Life When did life begin...  ...     True\n",
              "19  Storage, servers bruise HP earnings update Ear...  ...     True\n",
              "\n",
              "[20 rows x 6 columns]"
            ]
          },
          "metadata": {
            "tags": []
          },
          "execution_count": 159
        }
      ]
    },
    {
      "cell_type": "code",
      "metadata": {
        "id": "KYCnBlZAnI9P"
      },
      "source": [
        "# Creating a dataframe with the most wrong predictions\n",
        "top_wrong_preds_df = test_df[test_df[\"correct\"] == False].sort_values(\"pred_prob\", ascending=False)"
      ],
      "execution_count": null,
      "outputs": []
    },
    {
      "cell_type": "code",
      "metadata": {
        "colab": {
          "base_uri": "https://localhost:8080/"
        },
        "id": "ee2WsSqOm8a1",
        "outputId": "a54e520d-0eb0-4996-a57d-fd19ebf8c26c"
      },
      "source": [
        "# Investigating the most wrong predictions\n",
        "for row in top_wrong_preds_df[:10].itertuples(): # adjust indexes to view different samples\n",
        "  _, text, label, target, prediction, pred_prob, _ = row\n",
        "  print(f\"Target: {target}, Pred: {prediction}, Prob: {pred_prob}\\n\")\n",
        "  print(f\"Text:\\n{text}\\n\")\n",
        "  print(\"-----\\n\")"
      ],
      "execution_count": null,
      "outputs": [
        {
          "output_type": "stream",
          "text": [
            "Target: World, Pred: Sports, Prob: 0.9996696710586548\n",
            "\n",
            "Text:\n",
            "Argentina Beats U.S. Men's Basketball Team Argentina defeated the United States team of National Basketball Association stars 89-81 here Friday in the Olympic semi-finals, dethroning the three-time defending champions.\n",
            "\n",
            "-----\n",
            "\n",
            "Target: World, Pred: Sports, Prob: 0.9994953870773315\n",
            "\n",
            "Text:\n",
            "Sports Court Hears Hamm Gold Medal Appeal LAUSANNE, Switzerland - Paul Hamm appeared before the sports world's highest court Monday to argue why he should he keep his Olympic gymnastics gold medal.    The Court of Arbitration for Sport convened to hear the appeal from a South Korean gymnast who believes he was unfairly deprived of the gold in the men's all-around event in Athens last month because of a scoring error...\n",
            "\n",
            "-----\n",
            "\n",
            "Target: World, Pred: Sports, Prob: 0.9994805455207825\n",
            "\n",
            "Text:\n",
            "Munro, Morris Face Off in NLCS Game 2 ST. LOUIS - The Houston Astros put their hopes in a pitcher untested in the postseason when they give Pete Munro the ball to start Game 2 of the NL Championship series on Thursday, one night after dropping the opener to the St...\n",
            "\n",
            "-----\n",
            "\n",
            "Target: World, Pred: Sports, Prob: 0.9990830421447754\n",
            "\n",
            "Text:\n",
            "Dodgers Nip Giants 3-2 in Crucial Series SAN FRANCISCO - Shawn Green can sit out Saturday knowing he was a huge help to the Dodgers during their crucial series against San Francisco. Green hit a two-run homer in Los Angeles' 3-2 victory over the Giants on Friday night, a day before the first baseman will miss a game to observe the Jewish holiday Yom Kippur...\n",
            "\n",
            "-----\n",
            "\n",
            "Target: Business, Pred: Sci/Tech, Prob: 0.9988904595375061\n",
            "\n",
            "Text:\n",
            "Ask Jeeves retools search engine in bid to catch Google, Yahoo SAN FRANCISCO -- Hoping to emerge from the shadow of its more popular rivals, Ask Jeeves Inc. is adding new tools for visitors to save and organize links to Web pages they find through the company's online search engine.\n",
            "\n",
            "-----\n",
            "\n",
            "Target: World, Pred: Sports, Prob: 0.9986811280250549\n",
            "\n",
            "Text:\n",
            "Ken Caminiti, 1996 NL MVP, Dies at Age 41 NEW YORK - Ken Caminiti, the 1996 National League MVP who later admitted using steroids during his major league career, died Sunday. He was 41...\n",
            "\n",
            "-----\n",
            "\n",
            "Target: Sci/Tech, Pred: Business, Prob: 0.9984695315361023\n",
            "\n",
            "Text:\n",
            "Greenspan: Debt, home prices not dangerous The record level of debt carried by American households and soaring home prices do not appear to represent serious threats to the US economy, Federal Reserve Chairman Alan Greenspan said Tuesday.\n",
            "\n",
            "-----\n",
            "\n",
            "Target: World, Pred: Sci/Tech, Prob: 0.9984608888626099\n",
            "\n",
            "Text:\n",
            "Mars water tops science honours The discovery that salty, acidic water once flowed across the surface of Mars has topped a list of the 10 key scientific advances of 2004.\n",
            "\n",
            "-----\n",
            "\n",
            "Target: World, Pred: Sci/Tech, Prob: 0.9984261989593506\n",
            "\n",
            "Text:\n",
            "Gordon Cooper, NASA Mercury Pioneer, Dies LOS ANGELES - Gordon Cooper, who was the youngest and perhaps cockiest member of the original Mercury astronauts and set the space endurance record that helped clear the way for the first moon landing, has died. He was 77...\n",
            "\n",
            "-----\n",
            "\n",
            "Target: Sci/Tech, Pred: Business, Prob: 0.9978413581848145\n",
            "\n",
            "Text:\n",
            "DreamWorks Animation IPO Set at 29M Shares Underwriters for DreamWorks Animation SKG Inc., producer of the blockbuster \"Shrek\" movies, Tuesday set the terms of the company's pending initial public offering at 29 million common shares, with an estimated price range of \\$23 to \\$25 a share.\n",
            "\n",
            "-----\n",
            "\n"
          ],
          "name": "stdout"
        }
      ]
    },
    {
      "cell_type": "markdown",
      "metadata": {
        "id": "ZcoXqS8J2QHc"
      },
      "source": [
        "For the first 4 samples, the model predicts sports while the target is world news. It is understandable why the model predicts sports becauser they are related to sports events. An Olympic athlete winning a gold medal (the second example) is undoubtedly a sports news, however it can be interpreted as world news as well. Therefore, it is slightly ambiguous whether if the text is mislabelled or the model mispredicted that sample.\n",
        "\n",
        "On the other hand, a former major leage MVP passing away can be considered more of a world news rather than sports news like the model predicted."
      ]
    },
    {
      "cell_type": "markdown",
      "metadata": {
        "id": "sUmxK3ehne7Z"
      },
      "source": [
        "## Making Example Predictions"
      ]
    },
    {
      "cell_type": "code",
      "metadata": {
        "colab": {
          "base_uri": "https://localhost:8080/",
          "height": 175
        },
        "id": "9g4pd0RZnlKI",
        "outputId": "1c49be19-adc4-4dce-9f2b-b425eb10f6cb"
      },
      "source": [
        "# Setting up the sample news dataset\n",
        "news1 = {}\n",
        "news1['text'] = 'United Airlines will require its US staff to be vaccinated against COVID-19. The rule will kick in this fall, CEO Scott Kirby and president Brett Hart said in a memo to staff.'\n",
        "news1['source'] = 'https://www.cnet.com/health/united-airlines-will-require-staff-to-be-vaccinated/'\n",
        "news2 = {}\n",
        "news2['text'] = 'Brazil beat Spain in extra time to retain Olympic football gold'\n",
        "news2['source'] = 'https://www.aljazeera.com/news/2021/8/7/brazil-beat-spain-in-extra-time-to-retain-olympic-football-gold'\n",
        "news3 = {}\n",
        "news3['text'] = \"Barry the barred owl was flying low in search of a meal when it collided with one of the park's maintenance vans on Friday morning\"\n",
        "news3['source'] = 'https://www.bbc.com/news/world-us-canada-58127413'\n",
        "news4 = {}\n",
        "news4['text'] = 'A bounty of potential gravitational wave events hints at exciting possibilities'\n",
        "news4['source'] = 'https://www.sciencenews.org/article/gravitational-wave-ligo-virgo-new-signals-ripples-spacetime'\n",
        "\n",
        "sample_news = []\n",
        "sample_news.append(news1)\n",
        "sample_news.append(news2)\n",
        "sample_news.append(news3)\n",
        "sample_news.append(news4)\n",
        "\n",
        "sample_news_df = pd.DataFrame(sample_news)\n",
        "sample_news_df"
      ],
      "execution_count": null,
      "outputs": [
        {
          "output_type": "execute_result",
          "data": {
            "text/html": [
              "<div>\n",
              "<style scoped>\n",
              "    .dataframe tbody tr th:only-of-type {\n",
              "        vertical-align: middle;\n",
              "    }\n",
              "\n",
              "    .dataframe tbody tr th {\n",
              "        vertical-align: top;\n",
              "    }\n",
              "\n",
              "    .dataframe thead th {\n",
              "        text-align: right;\n",
              "    }\n",
              "</style>\n",
              "<table border=\"1\" class=\"dataframe\">\n",
              "  <thead>\n",
              "    <tr style=\"text-align: right;\">\n",
              "      <th></th>\n",
              "      <th>text</th>\n",
              "      <th>source</th>\n",
              "    </tr>\n",
              "  </thead>\n",
              "  <tbody>\n",
              "    <tr>\n",
              "      <th>0</th>\n",
              "      <td>United Airlines will require its US staff to b...</td>\n",
              "      <td>https://www.cnet.com/health/united-airlines-wi...</td>\n",
              "    </tr>\n",
              "    <tr>\n",
              "      <th>1</th>\n",
              "      <td>Brazil beat Spain in extra time to retain Olym...</td>\n",
              "      <td>https://www.aljazeera.com/news/2021/8/7/brazil...</td>\n",
              "    </tr>\n",
              "    <tr>\n",
              "      <th>2</th>\n",
              "      <td>Barry the barred owl was flying low in search ...</td>\n",
              "      <td>https://www.bbc.com/news/world-us-canada-58127413</td>\n",
              "    </tr>\n",
              "    <tr>\n",
              "      <th>3</th>\n",
              "      <td>A bounty of potential gravitational wave event...</td>\n",
              "      <td>https://www.sciencenews.org/article/gravitatio...</td>\n",
              "    </tr>\n",
              "  </tbody>\n",
              "</table>\n",
              "</div>"
            ],
            "text/plain": [
              "                                                text                                             source\n",
              "0  United Airlines will require its US staff to b...  https://www.cnet.com/health/united-airlines-wi...\n",
              "1  Brazil beat Spain in extra time to retain Olym...  https://www.aljazeera.com/news/2021/8/7/brazil...\n",
              "2  Barry the barred owl was flying low in search ...  https://www.bbc.com/news/world-us-canada-58127413\n",
              "3  A bounty of potential gravitational wave event...  https://www.sciencenews.org/article/gravitatio..."
            ]
          },
          "metadata": {
            "tags": []
          },
          "execution_count": 177
        }
      ]
    },
    {
      "cell_type": "code",
      "metadata": {
        "colab": {
          "base_uri": "https://localhost:8080/"
        },
        "id": "xmJNkx8Y7YtU",
        "outputId": "1fd7f761-9fcc-4618-b7a5-da46f7504915"
      },
      "source": [
        "# Preparing the sample news for predictions\n",
        "sample_data = sample_news_df['text'].tolist()\n",
        "sample_data"
      ],
      "execution_count": null,
      "outputs": [
        {
          "output_type": "execute_result",
          "data": {
            "text/plain": [
              "['United Airlines will require its US staff to be vaccinated against COVID-19. The rule will kick in this fall, CEO Scott Kirby and president Brett Hart said in a memo to staff.',\n",
              " 'Brazil beat Spain in extra time to retain Olympic football gold',\n",
              " \"Barry the barred owl was flying low in search of a meal when it collided with one of the park's maintenance vans on Friday morning\",\n",
              " 'A bounty of potential gravitational wave events hints at exciting possibilities']"
            ]
          },
          "metadata": {
            "tags": []
          },
          "execution_count": 179
        }
      ]
    },
    {
      "cell_type": "code",
      "metadata": {
        "colab": {
          "base_uri": "https://localhost:8080/"
        },
        "id": "KqtHiBId82kh",
        "outputId": "bda0400e-3fe4-47e9-a466-928682ddc00d"
      },
      "source": [
        "sample_pred_probs = best_model.predict(sample_data)\n",
        "sample_preds = tf.argmax(sample_pred_probs, axis=1)\n",
        "pred_classes = [class_names[pred] for pred in sample_preds]\n",
        "pred_classes"
      ],
      "execution_count": null,
      "outputs": [
        {
          "output_type": "execute_result",
          "data": {
            "text/plain": [
              "['Business', 'Sports', 'Sci/Tech', 'Sci/Tech']"
            ]
          },
          "metadata": {
            "tags": []
          },
          "execution_count": 182
        }
      ]
    },
    {
      "cell_type": "code",
      "metadata": {
        "colab": {
          "base_uri": "https://localhost:8080/"
        },
        "id": "XjZf6Ww99lrh",
        "outputId": "64ce4820-7823-47b7-e637-f47d40c347a1"
      },
      "source": [
        "sample_news_df['pred'] = pred_classes\n",
        "sample_news_df['pred_probs'] = tf.reduce_max(sample_pred_probs, axis=1).numpy()\n",
        "for row in sample_news_df.itertuples():\n",
        "  _, text, _, prediction, pred_prob = row\n",
        "  print(f\"Text:\\n{text}\\n\")\n",
        "  print(f\"Pred: {prediction}, Prob: {pred_prob}\\n\")\n",
        "  print(\"-----\\n\")"
      ],
      "execution_count": null,
      "outputs": [
        {
          "output_type": "stream",
          "text": [
            "Text:\n",
            "United Airlines will require its US staff to be vaccinated against COVID-19. The rule will kick in this fall, CEO Scott Kirby and president Brett Hart said in a memo to staff.\n",
            "\n",
            "Pred: Business, Prob: 0.5320504903793335\n",
            "\n",
            "-----\n",
            "\n",
            "Text:\n",
            "Brazil beat Spain in extra time to retain Olympic football gold\n",
            "\n",
            "Pred: Sports, Prob: 0.6981417536735535\n",
            "\n",
            "-----\n",
            "\n",
            "Text:\n",
            "Barry the barred owl was flying low in search of a meal when it collided with one of the park's maintenance vans on Friday morning\n",
            "\n",
            "Pred: Sci/Tech, Prob: 0.44104406237602234\n",
            "\n",
            "-----\n",
            "\n",
            "Text:\n",
            "A bounty of potential gravitational wave events hints at exciting possibilities\n",
            "\n",
            "Pred: Sci/Tech, Prob: 0.43269357085227966\n",
            "\n",
            "-----\n",
            "\n"
          ],
          "name": "stdout"
        }
      ]
    }
  ]
}