{
  "nbformat": 4,
  "nbformat_minor": 0,
  "metadata": {
    "accelerator": "GPU",
    "colab": {
      "name": "AG_News_NLP (1).ipynb",
      "provenance": [],
      "collapsed_sections": []
    },
    "kernelspec": {
      "display_name": "Python 3",
      "name": "python3"
    },
    "language_info": {
      "name": "python"
    }
  },
  "cells": [
    {
      "cell_type": "markdown",
      "metadata": {
        "id": "fMLDOQwYEk9i"
      },
      "source": [
        "# AG NEWS NLP PROJECT"
      ]
    },
    {
      "cell_type": "markdown",
      "metadata": {
        "id": "aOJ5UgmxkunX"
      },
      "source": [
        "AG News is a subdataset of AG's corpus of news articles constructed by assembling titles and description fields of articles from the 4 largest classes (“World”, “Sports”, “Business”, “Science/Technology”) of AG’s Corpus. This dataset is also commonly used for experimenting with Natural Language Processing and more specifically text classification models in the machine learning community. I will download it from the Hugging Face website.\n",
        "\n",
        "You can check the papers about the models that achieve the state-of-the-art results on this dataset from this link: https://paperswithcode.com/sota/text-classification-on-ag-news. \n",
        "\n",
        "I will go through several modelling experiments to display my knowledge in natural language processing and to see how close I can get to the state of the art results. \n",
        "\n",
        "Modelling Experiments Outline:\n",
        "\n",
        "* `Model_0 (Baseline)`: Multinomial Naive Bayes with TD-IDF\n",
        "* `Model_1`: 1D Convolutional Neural Network With Custom Token Embeddings\n",
        "* `Model_2`: Universal Sentence Encoder Feature Extraction\n",
        "* `Model_3`: 1D Convolutional Neural Network With Custom Token Embeddings Combined With Bi-LSTM With Custom Character Embeddings \n",
        "* `Model_4`: LSTM Model With BERT Feature Extraction \n",
        "* `Model_5`: 1D Convolutional Neural Network With BERT Tokem Embeddings Combined With Bi-LSTM With Custom Character Embeddings "
      ]
    },
    {
      "cell_type": "markdown",
      "metadata": {
        "id": "5AZuITe6GUmE"
      },
      "source": [
        "## Importing the Dependencies"
      ]
    },
    {
      "cell_type": "code",
      "metadata": {
        "id": "KYQvbk2cgrWG"
      },
      "source": [
        "!pip install datasets"
      ],
      "execution_count": null,
      "outputs": []
    },
    {
      "cell_type": "code",
      "metadata": {
        "id": "fL5mgwK5At0T"
      },
      "source": [
        "!pip install tensorflow-text"
      ],
      "execution_count": null,
      "outputs": []
    },
    {
      "cell_type": "code",
      "metadata": {
        "id": "V6ihEEcZytPd"
      },
      "source": [
        "!pip install transformers"
      ],
      "execution_count": null,
      "outputs": []
    },
    {
      "cell_type": "code",
      "metadata": {
        "id": "-O2iF7uHwVQw"
      },
      "source": [
        "!pip install wordcloud"
      ],
      "execution_count": null,
      "outputs": []
    },
    {
      "cell_type": "code",
      "metadata": {
        "id": "b_EeDYZONicD"
      },
      "source": [
        "from datasets import list_datasets, list_metrics, load_dataset\n",
        "from pprint import pprint\n",
        "\n",
        "import pandas as pd\n",
        "import numpy as np\n",
        "import re\n",
        "import string\n",
        "import random\n",
        "import itertools\n",
        "\n",
        "import tensorflow as tf\n",
        "from tensorflow.keras import layers\n",
        "from tensorflow import keras\n",
        "from tensorflow.keras.layers.experimental.preprocessing import TextVectorization\n",
        "import tensorflow_text as text\n",
        "import tensorflow_hub as hub\n",
        "from tensorflow.keras.utils import plot_model\n",
        "from tensorflow.keras import mixed_precision\n",
        "\n",
        "import spacy\n",
        "from spacy.lang.en import English\n",
        "from spacy.lang.en.stop_words import STOP_WORDS as stop_words  \n",
        "\n",
        "from wordcloud import WordCloud\n",
        "import matplotlib.pyplot as plt\n",
        "\n",
        "from sklearn.metrics import precision_recall_fscore_support\n",
        "from sklearn.metrics import confusion_matrix\n",
        "from sklearn.preprocessing import OneHotEncoder\n",
        "from sklearn.feature_extraction.text import TfidfVectorizer\n",
        "from sklearn.naive_bayes import MultinomialNB\n",
        "from sklearn.pipeline import Pipeline"
      ],
      "execution_count": null,
      "outputs": []
    },
    {
      "cell_type": "markdown",
      "metadata": {
        "id": "-tiDMRXVGP7d"
      },
      "source": [
        "## Donwloading the Dataset"
      ]
    },
    {
      "cell_type": "code",
      "metadata": {
        "colab": {
          "base_uri": "https://localhost:8080/"
        },
        "id": "s_gQ3wBVGSl_",
        "outputId": "3e91781d-6db2-4dac-dbc6-7bf4bd6a8b0c"
      },
      "source": [
        "# Accessing various attributes of the ag_news dataset before downloading it\n",
        "datasets = list_datasets()\n",
        "metrics = list_metrics()\n",
        "dataset_info = list_datasets(with_details=True)[datasets.index('ag_news')]\n",
        "pprint(dataset_info.__dict__['description'])"
      ],
      "execution_count": null,
      "outputs": [
        {
          "output_type": "stream",
          "text": [
            "('AG is a collection of more than 1 million news articles. News articles have '\n",
            " 'been\\n'\n",
            " 'gathered from more than 2000 news sources by ComeToMyHead in more than 1 '\n",
            " 'year of\\n'\n",
            " 'activity. ComeToMyHead is an academic news search engine which has been '\n",
            " 'running\\n'\n",
            " 'since July, 2004. The dataset is provided by the academic comunity for '\n",
            " 'research\\n'\n",
            " 'purposes in data mining (clustering, classification, etc), information '\n",
            " 'retrieval\\n'\n",
            " '(ranking, search, etc), xml, data compression, data streaming, and any '\n",
            " 'other\\n'\n",
            " 'non-commercial activity. For more information, please refer to the link\\n'\n",
            " 'http://www.di.unipi.it/~gulli/AG_corpus_of_news_articles.html .\\n'\n",
            " '\\n'\n",
            " \"The AG's news topic classification dataset is constructed by Xiang Zhang\\n\"\n",
            " '(xiang.zhang@nyu.edu) from the dataset above. It is used as a text\\n'\n",
            " 'classification benchmark in the following paper: Xiang Zhang, Junbo Zhao, '\n",
            " 'Yann\\n'\n",
            " 'LeCun. Character-level Convolutional Networks for Text Classification. '\n",
            " 'Advances\\n'\n",
            " 'in Neural Information Processing Systems 28 (NIPS 2015).')\n"
          ],
          "name": "stdout"
        }
      ]
    },
    {
      "cell_type": "code",
      "metadata": {
        "id": "MJsQ4HCVOQ-X"
      },
      "source": [
        "dataset = load_dataset('ag_news')"
      ],
      "execution_count": null,
      "outputs": []
    },
    {
      "cell_type": "markdown",
      "metadata": {
        "id": "PujG8VYvfvUe"
      },
      "source": [
        "## Exploring the Dataset"
      ]
    },
    {
      "cell_type": "code",
      "metadata": {
        "colab": {
          "base_uri": "https://localhost:8080/"
        },
        "id": "seLmN1BLHkjG",
        "outputId": "3053b607-5774-4503-fd0f-55a722d2d9b1"
      },
      "source": [
        "dataset"
      ],
      "execution_count": null,
      "outputs": [
        {
          "output_type": "execute_result",
          "data": {
            "text/plain": [
              "DatasetDict({\n",
              "    train: Dataset({\n",
              "        features: ['text', 'label'],\n",
              "        num_rows: 120000\n",
              "    })\n",
              "    test: Dataset({\n",
              "        features: ['text', 'label'],\n",
              "        num_rows: 7600\n",
              "    })\n",
              "})"
            ]
          },
          "metadata": {},
          "execution_count": 8
        }
      ]
    },
    {
      "cell_type": "code",
      "metadata": {
        "colab": {
          "base_uri": "https://localhost:8080/"
        },
        "id": "9XlDmSPdbq0Y",
        "outputId": "e72e1efa-16e9-4843-ae6b-416b5d5e6937"
      },
      "source": [
        "# Looking at a sample from the training dataset\n",
        "dataset['train'][0]"
      ],
      "execution_count": null,
      "outputs": [
        {
          "output_type": "execute_result",
          "data": {
            "text/plain": [
              "{'label': 2,\n",
              " 'text': \"Wall St. Bears Claw Back Into the Black (Reuters) Reuters - Short-sellers, Wall Street's dwindling\\\\band of ultra-cynics, are seeing green again.\"}"
            ]
          },
          "metadata": {},
          "execution_count": 9
        }
      ]
    },
    {
      "cell_type": "code",
      "metadata": {
        "colab": {
          "base_uri": "https://localhost:8080/"
        },
        "id": "kAuZovXWMm7-",
        "outputId": "e3bfa8ce-1a05-460d-c1cf-3c27e7b2b421"
      },
      "source": [
        "# Visualizing the label counts\n",
        "pd.Series(dataset['train']['label']).value_counts()"
      ],
      "execution_count": null,
      "outputs": [
        {
          "output_type": "execute_result",
          "data": {
            "text/plain": [
              "3    30000\n",
              "2    30000\n",
              "1    30000\n",
              "0    30000\n",
              "dtype: int64"
            ]
          },
          "metadata": {},
          "execution_count": 10
        }
      ]
    },
    {
      "cell_type": "code",
      "metadata": {
        "colab": {
          "base_uri": "https://localhost:8080/"
        },
        "id": "935oyvn_mXEW",
        "outputId": "20ff0b3f-c008-476c-d8d3-809c9692a6b0"
      },
      "source": [
        "pd.Series(dataset['test']['label']).value_counts()"
      ],
      "execution_count": null,
      "outputs": [
        {
          "output_type": "execute_result",
          "data": {
            "text/plain": [
              "3    1900\n",
              "2    1900\n",
              "1    1900\n",
              "0    1900\n",
              "dtype: int64"
            ]
          },
          "metadata": {},
          "execution_count": 11
        }
      ]
    },
    {
      "cell_type": "markdown",
      "metadata": {
        "id": "BAh9_pvhlyAm"
      },
      "source": [
        "Both datasets are prefectly balanced"
      ]
    },
    {
      "cell_type": "markdown",
      "metadata": {
        "id": "SNgqvz3P3Yn7"
      },
      "source": [
        "The labels are encoded accordingly:\n",
        "\n",
        "* 0: World\n",
        "* 1: Sports\n",
        "* 2: Business\n",
        "* 3: Sci/Tech\n",
        "\n",
        "For more information you can check the link: https://huggingface.co/datasets/ag_news"
      ]
    },
    {
      "cell_type": "code",
      "metadata": {
        "id": "DwvLsLGm37V4"
      },
      "source": [
        "# Creating variables for class names and number of classes\n",
        "class_names = ['World', 'Sports', 'Business', 'Sci/Tech']\n",
        "num_classes = len(class_names)"
      ],
      "execution_count": null,
      "outputs": []
    },
    {
      "cell_type": "code",
      "metadata": {
        "colab": {
          "base_uri": "https://localhost:8080/"
        },
        "id": "NOMZRrAXhLWy",
        "outputId": "4ae015ef-11f7-4138-c768-7a687e955449"
      },
      "source": [
        "# Creating different variables for train and test sets\n",
        "train_dataset = pd.DataFrame(dataset['train'])\n",
        "test_dataset = pd.DataFrame(dataset['test'])\n",
        "print(len(train_dataset), len(test_dataset))"
      ],
      "execution_count": null,
      "outputs": [
        {
          "output_type": "stream",
          "text": [
            "120000 7600\n"
          ],
          "name": "stdout"
        }
      ]
    },
    {
      "cell_type": "markdown",
      "metadata": {
        "id": "cC1SvdlXNgK0"
      },
      "source": [
        "### Checking the Word Counts"
      ]
    },
    {
      "cell_type": "code",
      "metadata": {
        "colab": {
          "base_uri": "https://localhost:8080/",
          "height": 265
        },
        "id": "ORACqV0QNken",
        "outputId": "81a3907a-bea9-44ea-93ec-de565b443a11"
      },
      "source": [
        "# Checking the statement length distribution for the training set\n",
        "train_statement_lengths = [len(statement.split()) for statement in train_dataset['text']]\n",
        "plt.hist(train_statement_lengths, bins=20);"
      ],
      "execution_count": null,
      "outputs": [
        {
          "output_type": "display_data",
          "data": {
            "image/png": "[encoded data removed]",
            "text/plain": [
              "<Figure size 432x288 with 1 Axes>"
            ]
          },
          "metadata": {
            "needs_background": "light"
          }
        }
      ]
    },
    {
      "cell_type": "code",
      "metadata": {
        "colab": {
          "base_uri": "https://localhost:8080/"
        },
        "id": "THtbgqNENr92",
        "outputId": "f816bf7e-b38a-4b98-9a60-b10472cccb1c"
      },
      "source": [
        "# Finding the maximum and minimum statement lengths\n",
        "max(train_statement_lengths), min(train_statement_lengths)"
      ],
      "execution_count": null,
      "outputs": [
        {
          "output_type": "execute_result",
          "data": {
            "text/plain": [
              "(177, 8)"
            ]
          },
          "metadata": {},
          "execution_count": 15
        }
      ]
    },
    {
      "cell_type": "code",
      "metadata": {
        "colab": {
          "base_uri": "https://localhost:8080/",
          "height": 265
        },
        "id": "MFnL-E9APLyW",
        "outputId": "24ddb111-55ef-41aa-aaba-d8d346aa4628"
      },
      "source": [
        "# Checking the statement length distribution for the test set\n",
        "test_statement_lengths = [len(statement.split()) for statement in test_dataset['text']]\n",
        "plt.hist(test_statement_lengths, bins=20);"
      ],
      "execution_count": null,
      "outputs": [
        {
          "output_type": "display_data",
          "data": {
            "image/png": "[encoded data removed]",
            "text/plain": [
              "<Figure size 432x288 with 1 Axes>"
            ]
          },
          "metadata": {
            "needs_background": "light"
          }
        }
      ]
    },
    {
      "cell_type": "code",
      "metadata": {
        "colab": {
          "base_uri": "https://localhost:8080/"
        },
        "id": "s2Vb5W9iPR_u",
        "outputId": "ff02154b-caa9-455b-a75b-cf031f076385"
      },
      "source": [
        "# Finding the maximum and minimum statement lengths\n",
        "max(test_statement_lengths), min(test_statement_lengths)"
      ],
      "execution_count": null,
      "outputs": [
        {
          "output_type": "execute_result",
          "data": {
            "text/plain": [
              "(137, 11)"
            ]
          },
          "metadata": {},
          "execution_count": 17
        }
      ]
    },
    {
      "cell_type": "markdown",
      "metadata": {
        "id": "F833KrCrOpBH"
      },
      "source": [
        "### Checking the Character counts"
      ]
    },
    {
      "cell_type": "code",
      "metadata": {
        "colab": {
          "base_uri": "https://localhost:8080/",
          "height": 35
        },
        "id": "CXDqcy9mfqxd",
        "outputId": "fb1e2127-7ca9-4200-d68d-e0bb9ac083f0"
      },
      "source": [
        "# creating a function to remove spaces from text and testing on a random sentence\n",
        "def remove_space(text):\n",
        "  return ''.join(text.split())\n",
        "\n",
        "random_text = random.choice(train_dataset['text'])\n",
        "remove_space(random_text)"
      ],
      "execution_count": null,
      "outputs": [
        {
          "output_type": "execute_result",
          "data": {
            "application/vnd.google.colaboratory.intrinsic+json": {
              "type": "string"
            },
            "text/plain": [
              "\"ChinasetforsurgeincarsalesThenumberofcarsonChina'sroadsissettorisesevenfoldto140millionby2020,accordingtogovernmentforecasts.\""
            ]
          },
          "metadata": {},
          "execution_count": 18
        }
      ]
    },
    {
      "cell_type": "code",
      "metadata": {
        "colab": {
          "base_uri": "https://localhost:8080/"
        },
        "id": "bn3jZpldRd3t",
        "outputId": "202111ed-173f-4fd0-ddce-74890ac10e8b"
      },
      "source": [
        "# getting number of characters in the random sentence\n",
        "len(remove_space(random_text))"
      ],
      "execution_count": null,
      "outputs": [
        {
          "output_type": "execute_result",
          "data": {
            "text/plain": [
              "125"
            ]
          },
          "metadata": {},
          "execution_count": 19
        }
      ]
    },
    {
      "cell_type": "code",
      "metadata": {
        "colab": {
          "base_uri": "https://localhost:8080/",
          "height": 265
        },
        "id": "huozqM53Sf4j",
        "outputId": "261a12c6-b212-45bf-f087-abe0ce0601b8"
      },
      "source": [
        "# Checking the character count distribution for the train set\n",
        "train_char_count = [len(remove_space(text)) for text in train_dataset['text']]\n",
        "plt.hist(train_char_count, bins=20);"
      ],
      "execution_count": null,
      "outputs": [
        {
          "output_type": "display_data",
          "data": {
            "image/png": "[encoded data removed]",
            "text/plain": [
              "<Figure size 432x288 with 1 Axes>"
            ]
          },
          "metadata": {
            "needs_background": "light"
          }
        }
      ]
    },
    {
      "cell_type": "code",
      "metadata": {
        "colab": {
          "base_uri": "https://localhost:8080/"
        },
        "id": "PwEgTMrFTauK",
        "outputId": "f4281bee-ce3f-4805-fb1c-c03d36a4870d"
      },
      "source": [
        "# Finding the maximum and minimum character counts\n",
        "max(train_char_count), min(train_char_count)"
      ],
      "execution_count": null,
      "outputs": [
        {
          "output_type": "execute_result",
          "data": {
            "text/plain": [
              "(911, 79)"
            ]
          },
          "metadata": {},
          "execution_count": 21
        }
      ]
    },
    {
      "cell_type": "code",
      "metadata": {
        "colab": {
          "base_uri": "https://localhost:8080/"
        },
        "id": "SDowOHOEgZ0_",
        "outputId": "97b34c94-b7bd-4bb2-9c44-1e9d4c7bdb22"
      },
      "source": [
        "# Checking the character length that covers 95% of the statements\n",
        "output_char_len = int(np.percentile(train_char_count, 95))\n",
        "output_char_len "
      ],
      "execution_count": null,
      "outputs": [
        {
          "output_type": "execute_result",
          "data": {
            "text/plain": [
              "290"
            ]
          },
          "metadata": {},
          "execution_count": 22
        }
      ]
    },
    {
      "cell_type": "code",
      "metadata": {
        "colab": {
          "base_uri": "https://localhost:8080/",
          "height": 265
        },
        "id": "_g0GHVePTMiq",
        "outputId": "7ed58c4a-0dba-4d16-cc45-e771c9b09598"
      },
      "source": [
        "# Checking the character count distribution for the test set\n",
        "test_char_count = [len(remove_space(text)) for text in test_dataset['text']]\n",
        "plt.hist(test_char_count, bins=20);"
      ],
      "execution_count": null,
      "outputs": [
        {
          "output_type": "display_data",
          "data": {
            "image/png": "[encoded data removed]",
            "text/plain": [
              "<Figure size 432x288 with 1 Axes>"
            ]
          },
          "metadata": {
            "needs_background": "light"
          }
        }
      ]
    },
    {
      "cell_type": "code",
      "metadata": {
        "colab": {
          "base_uri": "https://localhost:8080/"
        },
        "id": "2DsVH2l4TuRx",
        "outputId": "a64b02d6-1f65-4c48-eebf-e825bd5b21a8"
      },
      "source": [
        "# Finding the maximum and minimum character counts\n",
        "max(test_char_count), min(test_char_count)"
      ],
      "execution_count": null,
      "outputs": [
        {
          "output_type": "execute_result",
          "data": {
            "text/plain": [
              "(744, 82)"
            ]
          },
          "metadata": {},
          "execution_count": 24
        }
      ]
    },
    {
      "cell_type": "markdown",
      "metadata": {
        "id": "mBDij3S1UYLF"
      },
      "source": [
        "### Checking the Average Word Lenghts"
      ]
    },
    {
      "cell_type": "code",
      "metadata": {
        "colab": {
          "base_uri": "https://localhost:8080/",
          "height": 268
        },
        "id": "mofcpmFoUeYt",
        "outputId": "1f91d782-38e5-42fa-906c-74978ab7e599"
      },
      "source": [
        "# Checking the distribution of average word lengths for the training dataset\n",
        "train_avg_word_len = np.array(train_char_count) / np.array(train_statement_lengths) \n",
        "plt.hist(train_avg_word_len, bins=20);"
      ],
      "execution_count": null,
      "outputs": [
        {
          "output_type": "display_data",
          "data": {
            "image/png": "[encoded data removed]",
            "text/plain": [
              "<Figure size 432x288 with 1 Axes>"
            ]
          },
          "metadata": {
            "needs_background": "light"
          }
        }
      ]
    },
    {
      "cell_type": "code",
      "metadata": {
        "colab": {
          "base_uri": "https://localhost:8080/"
        },
        "id": "B4FVbKFzVv5a",
        "outputId": "267e6f91-f972-498d-c006-cef5e4028b08"
      },
      "source": [
        "# Finding the maximum and minimum average word lengths\n",
        "max(train_avg_word_len), min(train_avg_word_len)"
      ],
      "execution_count": null,
      "outputs": [
        {
          "output_type": "execute_result",
          "data": {
            "text/plain": [
              "(20.8, 3.357142857142857)"
            ]
          },
          "metadata": {},
          "execution_count": 26
        }
      ]
    },
    {
      "cell_type": "code",
      "metadata": {
        "colab": {
          "base_uri": "https://localhost:8080/",
          "height": 267
        },
        "id": "4dgNFa2gU7fL",
        "outputId": "0ed0df0d-d98d-4031-d585-1b2df028a4de"
      },
      "source": [
        "# Checking the distribution of average word lengths for the training dataset\n",
        "test_avg_word_len = np.array(test_char_count) / np.array(test_statement_lengths) \n",
        "plt.hist(test_avg_word_len, bins=20);"
      ],
      "execution_count": null,
      "outputs": [
        {
          "output_type": "display_data",
          "data": {
            "image/png": "[encoded data removed]",
            "text/plain": [
              "<Figure size 432x288 with 1 Axes>"
            ]
          },
          "metadata": {
            "needs_background": "light"
          }
        }
      ]
    },
    {
      "cell_type": "code",
      "metadata": {
        "colab": {
          "base_uri": "https://localhost:8080/"
        },
        "id": "c0nv054YWCy4",
        "outputId": "79fc8bcf-7ec4-4dbb-a572-8d925c1601de"
      },
      "source": [
        "# Finding the maximum and minimum average word lengths\n",
        "max(test_avg_word_len), min(test_avg_word_len)"
      ],
      "execution_count": null,
      "outputs": [
        {
          "output_type": "execute_result",
          "data": {
            "text/plain": [
              "(14.588235294117647, 2.8260869565217392)"
            ]
          },
          "metadata": {},
          "execution_count": 28
        }
      ]
    },
    {
      "cell_type": "markdown",
      "metadata": {
        "id": "YmFmmrVuj1xp"
      },
      "source": [
        "## Preprocessing the Data"
      ]
    },
    {
      "cell_type": "markdown",
      "metadata": {
        "id": "rWBLh-vbJvO7"
      },
      "source": [
        "### Removing the Unwanted Words and Characters"
      ]
    },
    {
      "cell_type": "code",
      "metadata": {
        "id": "LrjaRufuJ0u-"
      },
      "source": [
        "# creating a function to remove unwanted words\n",
        "def remove_unwanted(text):\n",
        "    #remove urls\n",
        "    text = re.sub(r'http\\S+', '', text)\n",
        "    \n",
        "    #remove mentions\n",
        "    text = re.sub(r'@\\w+','',text)\n",
        "    \n",
        "    #remove hashtags\n",
        "    text = re.sub(r'#\\w+', '', text)\n",
        "    \n",
        "    #remove html tags\n",
        "    text = re.sub('r<.*?>','', text)\n",
        "\n",
        "    #remove emails\n",
        "    text = re.sub(r'([a-zA-Z0-9+_-]+@[a-zA-Z0-9._-]+\\.[a-zA-Z0-9_-]+)','', text)\n",
        "\n",
        "    #remove special caharacters and punctuations\n",
        "    text = re.sub(r'[^\\w ]+','', text)\n",
        "\n",
        "    #remove stop words \n",
        "    text = text.split()\n",
        "    text = ' '.join([word for word in text if not word in stop_words])\n",
        "\n",
        "    #remove multiple spaces\n",
        "    text = ' '.join(text.split())\n",
        "    \n",
        "    return text"
      ],
      "execution_count": null,
      "outputs": []
    },
    {
      "cell_type": "code",
      "metadata": {
        "id": "VQmUF8loeZ2h"
      },
      "source": [
        "# removing the unwanted words from train and test sets\n",
        "train_dataset['text'] = train_dataset['text'].apply(lambda x: remove_unwanted(x))\n",
        "test_dataset['text'] = test_dataset['text'].apply(lambda x: remove_unwanted(x))"
      ],
      "execution_count": null,
      "outputs": []
    },
    {
      "cell_type": "markdown",
      "metadata": {
        "id": "GyWSCmjFrW9a"
      },
      "source": [
        "I lemmatized the text using the function below, but it ended up yielding less accurate models. Therefore, I decided not to use it."
      ]
    },
    {
      "cell_type": "code",
      "metadata": {
        "id": "Lv-ZEOParbM9"
      },
      "source": [
        "# creating a function to lemmatize the sentences using SpaCy\n",
        "nlp = spacy.load('en_core_web_sm')\n",
        "def lemmatize(text):\n",
        "  lem_text = []\n",
        "  doc = nlp(text)\n",
        "  for token in doc:\n",
        "    lemma = token.lemma_\n",
        "    if lemma == '-PRON-' or lemma == 'be':\n",
        "      lemma = token.text\n",
        "    lem_text.append(lemma)\n",
        "  return ' '.join(lem_text)\n",
        "\n",
        "# lemmatizing the train and test sets using the function\n",
        "#train_dataset['text'] = train_dataset['text'].apply(lambda x: lemmatize(x))\n",
        "#test_dataset['text'] = test_dataset['text'].apply(lambda x: lemmatize(x))"
      ],
      "execution_count": null,
      "outputs": []
    },
    {
      "cell_type": "code",
      "metadata": {
        "colab": {
          "base_uri": "https://localhost:8080/",
          "height": 363
        },
        "id": "-3RdM9E4zGVg",
        "outputId": "e9037107-1dc4-41d1-b74d-87cb090742b8"
      },
      "source": [
        "# Visualizing 10 samples from the training dataset\n",
        "train_dataset.sample(10)"
      ],
      "execution_count": null,
      "outputs": [
        {
          "output_type": "execute_result",
          "data": {
            "text/html": [
              "<div>\n",
              "<style scoped>\n",
              "    .dataframe tbody tr th:only-of-type {\n",
              "        vertical-align: middle;\n",
              "    }\n",
              "\n",
              "    .dataframe tbody tr th {\n",
              "        vertical-align: top;\n",
              "    }\n",
              "\n",
              "    .dataframe thead th {\n",
              "        text-align: right;\n",
              "    }\n",
              "</style>\n",
              "<table border=\"1\" class=\"dataframe\">\n",
              "  <thead>\n",
              "    <tr style=\"text-align: right;\">\n",
              "      <th></th>\n",
              "      <th>text</th>\n",
              "      <th>label</th>\n",
              "    </tr>\n",
              "  </thead>\n",
              "  <tbody>\n",
              "    <tr>\n",
              "      <th>72464</th>\n",
              "      <td>Any Command Line Interface Tricks The day I th...</td>\n",
              "      <td>3</td>\n",
              "    </tr>\n",
              "    <tr>\n",
              "      <th>113926</th>\n",
              "      <td>Getting Piece DVD Windfall The unexpected wind...</td>\n",
              "      <td>2</td>\n",
              "    </tr>\n",
              "    <tr>\n",
              "      <th>99783</th>\n",
              "      <td>Zimbabwe Ruling Party Elects Woman Mugabe Depu...</td>\n",
              "      <td>0</td>\n",
              "    </tr>\n",
              "    <tr>\n",
              "      <th>99528</th>\n",
              "      <td>Oil Dips Watches Heating Stocks Weather Reuter...</td>\n",
              "      <td>2</td>\n",
              "    </tr>\n",
              "    <tr>\n",
              "      <th>58925</th>\n",
              "      <td>Pocketing salestax receipts pays A bill expect...</td>\n",
              "      <td>2</td>\n",
              "    </tr>\n",
              "    <tr>\n",
              "      <th>108887</th>\n",
              "      <td>Hearing prisoners death halted access DENVER A...</td>\n",
              "      <td>0</td>\n",
              "    </tr>\n",
              "    <tr>\n",
              "      <th>79436</th>\n",
              "      <td>Stocks US data send Wall Street mixed message ...</td>\n",
              "      <td>2</td>\n",
              "    </tr>\n",
              "    <tr>\n",
              "      <th>90891</th>\n",
              "      <td>End line Waterloo s Eurostars cost 130million ...</td>\n",
              "      <td>2</td>\n",
              "    </tr>\n",
              "    <tr>\n",
              "      <th>9595</th>\n",
              "      <td>Israel celebrates joy gold medal Israel celebr...</td>\n",
              "      <td>1</td>\n",
              "    </tr>\n",
              "    <tr>\n",
              "      <th>76812</th>\n",
              "      <td>Local teams gear tournaments Some local womens...</td>\n",
              "      <td>1</td>\n",
              "    </tr>\n",
              "  </tbody>\n",
              "</table>\n",
              "</div>"
            ],
            "text/plain": [
              "                                                     text  label\n",
              "72464   Any Command Line Interface Tricks The day I th...      3\n",
              "113926  Getting Piece DVD Windfall The unexpected wind...      2\n",
              "99783   Zimbabwe Ruling Party Elects Woman Mugabe Depu...      0\n",
              "99528   Oil Dips Watches Heating Stocks Weather Reuter...      2\n",
              "58925   Pocketing salestax receipts pays A bill expect...      2\n",
              "108887  Hearing prisoners death halted access DENVER A...      0\n",
              "79436   Stocks US data send Wall Street mixed message ...      2\n",
              "90891   End line Waterloo s Eurostars cost 130million ...      2\n",
              "9595    Israel celebrates joy gold medal Israel celebr...      1\n",
              "76812   Local teams gear tournaments Some local womens...      1"
            ]
          },
          "metadata": {},
          "execution_count": 32
        }
      ]
    },
    {
      "cell_type": "markdown",
      "metadata": {
        "id": "PYKjsENmw7vo"
      },
      "source": [
        "### Checking the Word and Character Counts After Preprocessing"
      ]
    },
    {
      "cell_type": "code",
      "metadata": {
        "colab": {
          "base_uri": "https://localhost:8080/"
        },
        "id": "Y0swpy7LxFIS",
        "outputId": "84dbd17c-e03a-40ec-8d13-2e577ed4ec9e"
      },
      "source": [
        "# Finding the maximum and minimum statement lengths of the train set\n",
        "train_statement_lengths = [len(statement.split()) for statement in train_dataset['text']]\n",
        "max(train_statement_lengths), min(train_statement_lengths)"
      ],
      "execution_count": null,
      "outputs": [
        {
          "output_type": "execute_result",
          "data": {
            "text/plain": [
              "(98, 5)"
            ]
          },
          "metadata": {},
          "execution_count": 33
        }
      ]
    },
    {
      "cell_type": "code",
      "metadata": {
        "colab": {
          "base_uri": "https://localhost:8080/"
        },
        "id": "pUt5vLcOxP2W",
        "outputId": "fa821465-4e05-4ba8-fed7-e0e5901da46a"
      },
      "source": [
        "# Finding the maximum and minimum statement lengths of the test set\n",
        "test_statement_lengths = [len(statement.split()) for statement in test_dataset['text']]\n",
        "max(test_statement_lengths), min(test_statement_lengths)"
      ],
      "execution_count": null,
      "outputs": [
        {
          "output_type": "execute_result",
          "data": {
            "text/plain": [
              "(82, 8)"
            ]
          },
          "metadata": {},
          "execution_count": 34
        }
      ]
    },
    {
      "cell_type": "code",
      "metadata": {
        "colab": {
          "base_uri": "https://localhost:8080/"
        },
        "id": "lALsUUOFxtFc",
        "outputId": "30dedf68-f2b6-4e05-ea1c-933119f1e8ee"
      },
      "source": [
        "# Finding the maximum and minimum character counts of the train set\n",
        "train_char_count = [len(remove_space(text)) for text in train_dataset['text']]\n",
        "max(train_char_count), min(train_char_count)"
      ],
      "execution_count": null,
      "outputs": [
        {
          "output_type": "execute_result",
          "data": {
            "text/plain": [
              "(687, 22)"
            ]
          },
          "metadata": {},
          "execution_count": 35
        }
      ]
    },
    {
      "cell_type": "code",
      "metadata": {
        "colab": {
          "base_uri": "https://localhost:8080/"
        },
        "id": "Upqyimb8yKNn",
        "outputId": "b575fb1c-11f5-4727-b461-a5851960fca7"
      },
      "source": [
        "# Finding the maximum and minimum character counts of the test set\n",
        "test_char_count = [len(remove_space(text)) for text in test_dataset['text']]\n",
        "max(test_char_count), min(test_char_count)"
      ],
      "execution_count": null,
      "outputs": [
        {
          "output_type": "execute_result",
          "data": {
            "text/plain": [
              "(546, 50)"
            ]
          },
          "metadata": {},
          "execution_count": 36
        }
      ]
    },
    {
      "cell_type": "code",
      "metadata": {
        "colab": {
          "base_uri": "https://localhost:8080/"
        },
        "id": "28wP6Yd4yIfE",
        "outputId": "949697ab-5d9a-44a6-f659-fc0a88b02a6d"
      },
      "source": [
        "# Checking the word and character length that covers 95% of the statements\n",
        "output_seq_len = int(np.percentile(train_statement_lengths, 95))\n",
        "output_char_len = int(np.percentile(train_char_count, 95))\n",
        "print(output_seq_len , output_char_len) # I will use these numbers for the embedding layers"
      ],
      "execution_count": null,
      "outputs": [
        {
          "output_type": "stream",
          "text": [
            "35 221\n"
          ],
          "name": "stdout"
        }
      ]
    },
    {
      "cell_type": "code",
      "metadata": {
        "colab": {
          "base_uri": "https://localhost:8080/",
          "height": 248
        },
        "id": "WhqTMrQALADk",
        "outputId": "c1330e03-eb69-4acf-e12e-0bfed90b6b09"
      },
      "source": [
        "# Looking at the most common words in the training dataset with wordcloud\n",
        "wc = WordCloud(width=800, height=600).generate(str(train_dataset['text'].tolist()))\n",
        "plt.imshow(wc)\n",
        "plt.axis('off')\n",
        "plt.show()"
      ],
      "execution_count": null,
      "outputs": [
        {
          "output_type": "display_data",
          "data": {
            "image/png": "[encoded data removed]",
            "text/plain": [
              "<Figure size 432x288 with 1 Axes>"
            ]
          },
          "metadata": {
            "needs_background": "light"
          }
        }
      ]
    },
    {
      "cell_type": "code",
      "metadata": {
        "colab": {
          "base_uri": "https://localhost:8080/",
          "height": 363
        },
        "id": "KyohnmI1zLIW",
        "outputId": "a1c1361c-c5a9-4ab4-fabd-0a9095c7b484"
      },
      "source": [
        "# Shuffling the training dataframe\n",
        "train_dataset = train_dataset.sample(frac=1, random_state=57) # shuffle with random_state=57 for reproducibility\n",
        "train_dataset.head(10)"
      ],
      "execution_count": null,
      "outputs": [
        {
          "output_type": "execute_result",
          "data": {
            "text/html": [
              "<div>\n",
              "<style scoped>\n",
              "    .dataframe tbody tr th:only-of-type {\n",
              "        vertical-align: middle;\n",
              "    }\n",
              "\n",
              "    .dataframe tbody tr th {\n",
              "        vertical-align: top;\n",
              "    }\n",
              "\n",
              "    .dataframe thead th {\n",
              "        text-align: right;\n",
              "    }\n",
              "</style>\n",
              "<table border=\"1\" class=\"dataframe\">\n",
              "  <thead>\n",
              "    <tr style=\"text-align: right;\">\n",
              "      <th></th>\n",
              "      <th>text</th>\n",
              "      <th>label</th>\n",
              "    </tr>\n",
              "  </thead>\n",
              "  <tbody>\n",
              "    <tr>\n",
              "      <th>27510</th>\n",
              "      <td>ABB won t close Guelph transformer plant ABB I...</td>\n",
              "      <td>2</td>\n",
              "    </tr>\n",
              "    <tr>\n",
              "      <th>84528</th>\n",
              "      <td>Poison pill News NEWS Corporation yesterday in...</td>\n",
              "      <td>2</td>\n",
              "    </tr>\n",
              "    <tr>\n",
              "      <th>96252</th>\n",
              "      <td>Does Your Site Need Custom Search Engine Toolb...</td>\n",
              "      <td>3</td>\n",
              "    </tr>\n",
              "    <tr>\n",
              "      <th>92001</th>\n",
              "      <td>Europes Mission Moon Nears Lunar Orbit AP AP A...</td>\n",
              "      <td>3</td>\n",
              "    </tr>\n",
              "    <tr>\n",
              "      <th>26401</th>\n",
              "      <td>Neville injury blow United England SvenGoran E...</td>\n",
              "      <td>1</td>\n",
              "    </tr>\n",
              "    <tr>\n",
              "      <th>71693</th>\n",
              "      <td>Will Ericssons Future Match Its Past The big S...</td>\n",
              "      <td>2</td>\n",
              "    </tr>\n",
              "    <tr>\n",
              "      <th>119751</th>\n",
              "      <td>Langer batting Shoaib bowling AUSTRALIAN opene...</td>\n",
              "      <td>1</td>\n",
              "    </tr>\n",
              "    <tr>\n",
              "      <th>44743</th>\n",
              "      <td>Natural gas supply fears raise prices Natural ...</td>\n",
              "      <td>2</td>\n",
              "    </tr>\n",
              "    <tr>\n",
              "      <th>105454</th>\n",
              "      <td>Philly Broadband Clash Pits City Against Telco...</td>\n",
              "      <td>3</td>\n",
              "    </tr>\n",
              "    <tr>\n",
              "      <th>94525</th>\n",
              "      <td>Court Panel Skeptical About Penalty Sought Aga...</td>\n",
              "      <td>2</td>\n",
              "    </tr>\n",
              "  </tbody>\n",
              "</table>\n",
              "</div>"
            ],
            "text/plain": [
              "                                                     text  label\n",
              "27510   ABB won t close Guelph transformer plant ABB I...      2\n",
              "84528   Poison pill News NEWS Corporation yesterday in...      2\n",
              "96252   Does Your Site Need Custom Search Engine Toolb...      3\n",
              "92001   Europes Mission Moon Nears Lunar Orbit AP AP A...      3\n",
              "26401   Neville injury blow United England SvenGoran E...      1\n",
              "71693   Will Ericssons Future Match Its Past The big S...      2\n",
              "119751  Langer batting Shoaib bowling AUSTRALIAN opene...      1\n",
              "44743   Natural gas supply fears raise prices Natural ...      2\n",
              "105454  Philly Broadband Clash Pits City Against Telco...      3\n",
              "94525   Court Panel Skeptical About Penalty Sought Aga...      2"
            ]
          },
          "metadata": {},
          "execution_count": 39
        }
      ]
    },
    {
      "cell_type": "code",
      "metadata": {
        "id": "03OXvUuFzPsW"
      },
      "source": [
        "# Creating different variables (lists) for text and labels for each dataset\n",
        "train_text = train_dataset['text'].tolist()\n",
        "test_text = test_dataset['text'].tolist()\n",
        "\n",
        "train_labels = train_dataset['label'].tolist()\n",
        "test_labels = test_dataset['label'].tolist()"
      ],
      "execution_count": null,
      "outputs": []
    },
    {
      "cell_type": "markdown",
      "metadata": {
        "id": "GvlzAtPpYJs7"
      },
      "source": [
        "### One Hot Encoding the Labels"
      ]
    },
    {
      "cell_type": "code",
      "metadata": {
        "colab": {
          "base_uri": "https://localhost:8080/"
        },
        "id": "W0ve4jgJ11KD",
        "outputId": "ed4fddcd-cc13-4356-a1cb-a0391f25e70d"
      },
      "source": [
        "# One hot-encoding the labels for deep models\n",
        "one_hot_encoder = OneHotEncoder(sparse=False)\n",
        "train_labels_one_hot = one_hot_encoder.fit_transform(train_dataset['label'].to_numpy().reshape(-1, 1))\n",
        "test_labels_one_hot = one_hot_encoder.transform(test_dataset['label'].to_numpy().reshape(-1, 1))\n",
        "\n",
        "# Checking what training labels look like\n",
        "train_labels_one_hot"
      ],
      "execution_count": null,
      "outputs": [
        {
          "output_type": "execute_result",
          "data": {
            "text/plain": [
              "array([[0., 0., 1., 0.],\n",
              "       [0., 0., 1., 0.],\n",
              "       [0., 0., 0., 1.],\n",
              "       ...,\n",
              "       [0., 0., 0., 1.],\n",
              "       [0., 1., 0., 0.],\n",
              "       [0., 1., 0., 0.]])"
            ]
          },
          "metadata": {},
          "execution_count": 41
        }
      ]
    },
    {
      "cell_type": "markdown",
      "metadata": {
        "id": "nJ0mtqPZ3GzQ"
      },
      "source": [
        "## Baseline Model: TF-IDF MultinomialNB"
      ]
    },
    {
      "cell_type": "code",
      "metadata": {
        "colab": {
          "base_uri": "https://localhost:8080/"
        },
        "id": "SHo6WSMC3THG",
        "outputId": "e8c116f9-0ae4-400b-d1e7-8b93842f5e40"
      },
      "source": [
        "# Creating tokenization and modelling pipeline\n",
        "model_0 = Pipeline([\n",
        "                    (\"tfidf\", TfidfVectorizer()), # convert words to numbers using tfidf\n",
        "                    (\"clf\", MultinomialNB()) # model the text\n",
        "])\n",
        "\n",
        "# Fitting the pipeline to the training data\n",
        "model_0.fit(train_text, train_labels)"
      ],
      "execution_count": null,
      "outputs": [
        {
          "output_type": "execute_result",
          "data": {
            "text/plain": [
              "Pipeline(memory=None,\n",
              "         steps=[('tfidf',\n",
              "                 TfidfVectorizer(analyzer='word', binary=False,\n",
              "                                 decode_error='strict',\n",
              "                                 dtype=<class 'numpy.float64'>,\n",
              "                                 encoding='utf-8', input='content',\n",
              "                                 lowercase=True, max_df=1.0, max_features=None,\n",
              "                                 min_df=1, ngram_range=(1, 1), norm='l2',\n",
              "                                 preprocessor=None, smooth_idf=True,\n",
              "                                 stop_words=None, strip_accents=None,\n",
              "                                 sublinear_tf=False,\n",
              "                                 token_pattern='(?u)\\\\b\\\\w\\\\w+\\\\b',\n",
              "                                 tokenizer=None, use_idf=True,\n",
              "                                 vocabulary=None)),\n",
              "                ('clf',\n",
              "                 MultinomialNB(alpha=1.0, class_prior=None, fit_prior=True))],\n",
              "         verbose=False)"
            ]
          },
          "metadata": {},
          "execution_count": 42
        }
      ]
    },
    {
      "cell_type": "code",
      "metadata": {
        "colab": {
          "base_uri": "https://localhost:8080/"
        },
        "id": "lJVpbuKV6Dpf",
        "outputId": "7246fb90-db4e-4028-99af-99895fe2636a"
      },
      "source": [
        "# Evaluating the baseline model on the test set\n",
        "baseline_score = model_0.score(test_text, test_labels)\n",
        "print(f\"Our baseline model achieves an accuracy of: {baseline_score*100:.2f}%\")"
      ],
      "execution_count": null,
      "outputs": [
        {
          "output_type": "stream",
          "text": [
            "Our baseline model achieves an accuracy of: 90.34%\n"
          ],
          "name": "stdout"
        }
      ]
    },
    {
      "cell_type": "markdown",
      "metadata": {
        "id": "kIx4hIQcuK2R"
      },
      "source": [
        "## Creating Embedding Layers for the Deep Models\n"
      ]
    },
    {
      "cell_type": "markdown",
      "metadata": {
        "id": "GF7dkpalx1rf"
      },
      "source": [
        "### Custom Token Embedding Layer"
      ]
    },
    {
      "cell_type": "code",
      "metadata": {
        "id": "r7yFoTm2xrCg"
      },
      "source": [
        "# Creating a text vectorization layer \n",
        "text_vectorizer = TextVectorization(output_sequence_length=output_seq_len)"
      ],
      "execution_count": null,
      "outputs": []
    },
    {
      "cell_type": "code",
      "metadata": {
        "id": "yiiIu8nu617q"
      },
      "source": [
        "# Adapting the text vectorizer to training text data\n",
        "text_vectorizer.adapt(train_text)"
      ],
      "execution_count": null,
      "outputs": []
    },
    {
      "cell_type": "code",
      "metadata": {
        "colab": {
          "base_uri": "https://localhost:8080/"
        },
        "id": "_HrFifFV7IZ-",
        "outputId": "44ecef2d-f363-46b5-d229-e15088ce595d"
      },
      "source": [
        "# Testing out the text vectorizer on a random text\n",
        "print(f\"Text:\\n{random_text}\")\n",
        "print(f\"\\nLength of text: {len(random_text.split())}\")\n",
        "print(f\"\\nVectorized text:\\n{text_vectorizer([random_text])}\")"
      ],
      "execution_count": null,
      "outputs": [
        {
          "output_type": "stream",
          "text": [
            "Text:\n",
            "China set for surge in car sales The number of cars on China's roads is set to rise sevenfold to 140 million by 2020, according to government forecasts.\n",
            "\n",
            "Length of text: 28\n",
            "\n",
            "Vectorized text:\n",
            "[[   54    84   234  1439    70   250    51     3   306  1194  1562   386\n",
            "   1834  5085   436    84   327   216 12680   327  6074    25   232 13324\n",
            "    115   327    38  1628     0     0     0     0     0     0     0]]\n"
          ],
          "name": "stdout"
        }
      ]
    },
    {
      "cell_type": "code",
      "metadata": {
        "colab": {
          "base_uri": "https://localhost:8080/"
        },
        "id": "HfAYTPZl7UZM",
        "outputId": "de1f8267-04ae-4101-921d-7c955a2a4a36"
      },
      "source": [
        "# Checking the length of the vocab size and top 5 most and least common words\n",
        "ag_news_text_vocab = text_vectorizer.get_vocabulary()\n",
        "print(f\"Number of words in vocabulary: {len(ag_news_text_vocab)}\"), \n",
        "print(f\"Most common words in the vocabulary: {ag_news_text_vocab[:5]}\")\n",
        "print(f\"Least common words in the vocabulary: {ag_news_text_vocab[-5:]}\")"
      ],
      "execution_count": null,
      "outputs": [
        {
          "output_type": "stream",
          "text": [
            "Number of words in vocabulary: 99442\n",
            "Most common words in the vocabulary: ['', '[UNK]', 's', 'the', 'new']\n",
            "Least common words in the vocabulary: ['0029', '0013', '000th', '000strong', '000660se']\n"
          ],
          "name": "stdout"
        }
      ]
    },
    {
      "cell_type": "code",
      "metadata": {
        "id": "vRid0Nzi74wD"
      },
      "source": [
        "# Creating the embedding layer\n",
        "token_embed = layers.Embedding(input_dim=len(ag_news_text_vocab),\n",
        "                               output_dim=128, # I chose 128, but it is a hyperparameter and we can experiment with different numbers\n",
        "                               mask_zero=True, \n",
        "                               name='token_embedding')"
      ],
      "execution_count": null,
      "outputs": []
    },
    {
      "cell_type": "code",
      "metadata": {
        "colab": {
          "base_uri": "https://localhost:8080/"
        },
        "id": "o51F57yu8wwZ",
        "outputId": "5ef192c2-1a66-463e-977a-bd950f4305b0"
      },
      "source": [
        "# Testing the embedding layer on a random sample\n",
        "print(f\"Sentence before vectorization:\\n{random_text}\\n\")\n",
        "vectorized_sentence = text_vectorizer([random_text])\n",
        "print(f\"Sentence after vectorization (before embedding):\\n{vectorized_sentence}\\n\")\n",
        "embedded_sentence = token_embed(vectorized_sentence)\n",
        "print(f\"Sentence after embedding:\\n{embedded_sentence}\\n\")\n",
        "print(f\"Embedded sentence shape: {embedded_sentence.shape}\")"
      ],
      "execution_count": null,
      "outputs": [
        {
          "output_type": "stream",
          "text": [
            "Sentence before vectorization:\n",
            "China set for surge in car sales The number of cars on China's roads is set to rise sevenfold to 140 million by 2020, according to government forecasts.\n",
            "\n",
            "Sentence after vectorization (before embedding):\n",
            "[[   54    84   234  1439    70   250    51     3   306  1194  1562   386\n",
            "   1834  5085   436    84   327   216 12680   327  6074    25   232 13324\n",
            "    115   327    38  1628     0     0     0     0     0     0     0]]\n",
            "\n",
            "Sentence after embedding:\n",
            "[[[ 0.0370551   0.0468812   0.03741826 ...  0.00056567 -0.03041171\n",
            "    0.01040962]\n",
            "  [ 0.04747046  0.02994457  0.03140098 ... -0.00418973  0.04414089\n",
            "    0.01426586]\n",
            "  [ 0.03581959  0.03309718 -0.00379197 ... -0.02889127  0.02904263\n",
            "   -0.02822962]\n",
            "  ...\n",
            "  [-0.03970214 -0.04948744 -0.04524931 ...  0.00584563  0.02893848\n",
            "    0.00139649]\n",
            "  [-0.03970214 -0.04948744 -0.04524931 ...  0.00584563  0.02893848\n",
            "    0.00139649]\n",
            "  [-0.03970214 -0.04948744 -0.04524931 ...  0.00584563  0.02893848\n",
            "    0.00139649]]]\n",
            "\n",
            "Embedded sentence shape: (1, 35, 128)\n"
          ],
          "name": "stdout"
        }
      ]
    },
    {
      "cell_type": "markdown",
      "metadata": {
        "id": "Lvt1fWCRPfqs"
      },
      "source": [
        "### Custom Character Embedding Layer"
      ]
    },
    {
      "cell_type": "code",
      "metadata": {
        "colab": {
          "base_uri": "https://localhost:8080/",
          "height": 35
        },
        "id": "NRt8CmAMIPVa",
        "outputId": "8f6ef472-9c1a-4565-ca04-5929cc3fafe2"
      },
      "source": [
        "# Getting all keyboard characters for char-level embedding\n",
        "alphabet = string.ascii_lowercase + string.digits + string.punctuation\n",
        "alphabet"
      ],
      "execution_count": null,
      "outputs": [
        {
          "output_type": "execute_result",
          "data": {
            "application/vnd.google.colaboratory.intrinsic+json": {
              "type": "string"
            },
            "text/plain": [
              "'abcdefghijklmnopqrstuvwxyz0123456789!\"#$%&\\'()*+,-./:;<=>?@[\\\\]^_`{|}~'"
            ]
          },
          "metadata": {},
          "execution_count": 50
        }
      ]
    },
    {
      "cell_type": "code",
      "metadata": {
        "colab": {
          "base_uri": "https://localhost:8080/",
          "height": 70
        },
        "id": "ExP4Cgh3Z2Pf",
        "outputId": "932eb860-73d3-4a5c-ba47-2ea37d59ea13"
      },
      "source": [
        "# Making a function to split sentences into characters\n",
        "def split_chars(text):\n",
        "  return \" \".join(list(text))\n",
        "\n",
        "# Testing the function on the random sample\n",
        "split_chars(random_text)"
      ],
      "execution_count": null,
      "outputs": [
        {
          "output_type": "execute_result",
          "data": {
            "application/vnd.google.colaboratory.intrinsic+json": {
              "type": "string"
            },
            "text/plain": [
              "\"C h i n a   s e t   f o r   s u r g e   i n   c a r   s a l e s   T h e   n u m b e r   o f   c a r s   o n   C h i n a ' s   r o a d s   i s   s e t   t o   r i s e   s e v e n f o l d   t o   1 4 0   m i l l i o n   b y   2 0 2 0 ,   a c c o r d i n g   t o   g o v e r n m e n t   f o r e c a s t s .\""
            ]
          },
          "metadata": {},
          "execution_count": 51
        }
      ]
    },
    {
      "cell_type": "code",
      "metadata": {
        "colab": {
          "base_uri": "https://localhost:8080/",
          "height": 70
        },
        "id": "R5x7_59jZaQJ",
        "outputId": "f34c9225-f3cd-4b0c-e7fd-a205abf43886"
      },
      "source": [
        "# Turning sequence-level data splits into character-level data splits\n",
        "train_chars = [split_chars(text) for text in train_text]\n",
        "test_chars = [split_chars(text) for text in test_text]\n",
        "train_chars[0]"
      ],
      "execution_count": null,
      "outputs": [
        {
          "output_type": "execute_result",
          "data": {
            "application/vnd.google.colaboratory.intrinsic+json": {
              "type": "string"
            },
            "text/plain": [
              "'A B B   w o n   t   c l o s e   G u e l p h   t r a n s f o r m e r   p l a n t   A B B   I n c   r e v e r s e d   d e c i s i o n   c l o s e   t r a n s f o r m e r   p l a n t   G u e l p h   O n t   s a v i n g   3 0 0   j o b s   u n i o n   r e p r e s e n t i n g   w o r k e r s   s a i d   t o d a y'"
            ]
          },
          "metadata": {},
          "execution_count": 52
        }
      ]
    },
    {
      "cell_type": "code",
      "metadata": {
        "id": "ruIsbX5YISI5"
      },
      "source": [
        "# Creating char-level token vectorizer instance\n",
        "num_char_tokens = len(alphabet) + 2 # num characters in alphabet + space + OOV token\n",
        "char_vectorizer = TextVectorization(max_tokens=num_char_tokens,  \n",
        "                                    output_sequence_length= output_char_len,\n",
        "                                    standardize=\"lower_and_strip_punctuation\",\n",
        "                                    name=\"char_vectorizer\")\n",
        "\n",
        "# Adapting character vectorizer to training characters\n",
        "char_vectorizer.adapt(train_chars)"
      ],
      "execution_count": null,
      "outputs": []
    },
    {
      "cell_type": "code",
      "metadata": {
        "colab": {
          "base_uri": "https://localhost:8080/"
        },
        "id": "jzXoGu9yIpqy",
        "outputId": "408d2c64-eb82-4d89-a229-4283e0c42f16"
      },
      "source": [
        "# Checking character vocabulary characteristics\n",
        "char_vocab = char_vectorizer.get_vocabulary()\n",
        "print(f\"Number of different characters in character vocab: {len(char_vocab)}\")\n",
        "print(f\"5 most common characters: {char_vocab[:5]}\")\n",
        "print(f\"5 least common characters: {char_vocab[-5:]}\")"
      ],
      "execution_count": null,
      "outputs": [
        {
          "output_type": "stream",
          "text": [
            "Number of different characters in character vocab: 38\n",
            "5 most common characters: ['', '[UNK]', 'e', 'a', 's']\n",
            "5 least common characters: ['3', '6', '7', '9', '8']\n"
          ],
          "name": "stdout"
        }
      ]
    },
    {
      "cell_type": "code",
      "metadata": {
        "id": "xN9rbBcpI9U4"
      },
      "source": [
        "# Creating the character level embedding layer\n",
        "char_embed = layers.Embedding(input_dim=num_char_tokens,\n",
        "                              output_dim=128, \n",
        "                              mask_zero=True,\n",
        "                              name=\"char_embed\")"
      ],
      "execution_count": null,
      "outputs": []
    },
    {
      "cell_type": "markdown",
      "metadata": {
        "id": "kql1Dg2yk1lY"
      },
      "source": [
        "### Universal Sentence Encoder Embedding Layer"
      ]
    },
    {
      "cell_type": "code",
      "metadata": {
        "id": "FMkgbGcuk6qK"
      },
      "source": [
        "# Downloading pretrained TensorFlow Hub USE\n",
        "use_embedding = hub.KerasLayer('https://tfhub.dev/google/universal-sentence-encoder/4',\n",
        "                                        trainable = False,\n",
        "                                        name='universal_sentence_encoder')"
      ],
      "execution_count": null,
      "outputs": []
    },
    {
      "cell_type": "markdown",
      "metadata": {
        "id": "RbL-Q2F_x0Z5"
      },
      "source": [
        "### BERT Embedding Layer"
      ]
    },
    {
      "cell_type": "code",
      "metadata": {
        "id": "-uIx98BR-Oll"
      },
      "source": [
        "# Downloading the Bert Transformer\n",
        "text_input = tf.keras.layers.Input(shape=(), dtype=tf.string)\n",
        "preprocessor = hub.KerasLayer(\n",
        "    \"https://tfhub.dev/tensorflow/bert_en_uncased_preprocess/3\", \n",
        "    trainable=False)\n",
        "encoder_inputs = preprocessor(text_input)\n",
        "encoder = hub.KerasLayer(\n",
        "    \"https://tfhub.dev/tensorflow/bert_en_uncased_L-12_H-768_A-12/4\",\n",
        "    trainable=False)\n",
        "outputs = encoder(encoder_inputs)\n",
        "pooled_output = outputs[\"pooled_output\"]      # [batch_size, 768]\n",
        "sequence_output = outputs[\"sequence_output\"]  # [batch_size, seq_length, 768]\n",
        "bert_embedding_model = tf.keras.Model(text_input, sequence_output)"
      ],
      "execution_count": null,
      "outputs": []
    },
    {
      "cell_type": "code",
      "metadata": {
        "colab": {
          "base_uri": "https://localhost:8080/"
        },
        "id": "GhwaZOyBBjKO",
        "outputId": "d16cfeae-78cf-4c72-a0c4-2052b06612cd"
      },
      "source": [
        "print(f\"Sentence before vectorization:\\n{random_text}\\n\")\n",
        "embedded_sentence = bert_embedding_model(tf.constant([random_text]))\n",
        "print(f\"Sentence after embedding:\\n{embedded_sentence}\\n\")\n",
        "print(f\"Embedded sentence shape: {embedded_sentence.shape}\")"
      ],
      "execution_count": null,
      "outputs": [
        {
          "output_type": "stream",
          "text": [
            "Sentence before vectorization:\n",
            "China set for surge in car sales The number of cars on China's roads is set to rise sevenfold to 140 million by 2020, according to government forecasts.\n",
            "\n",
            "Sentence after embedding:\n",
            "[[[-0.33936295  0.22299519  0.44540325 ... -0.8828875   0.11533178\n",
            "   -0.4628067 ]\n",
            "  [-0.08179057  0.24933182  0.03145268 ... -0.40474126  0.21335815\n",
            "    0.03783422]\n",
            "  [ 0.03266663 -0.6893445   0.03407557 ... -0.40354085 -0.28535998\n",
            "   -0.8547112 ]\n",
            "  ...\n",
            "  [-0.33698827 -0.26451302  0.4510485  ...  0.17903574  0.41359633\n",
            "   -0.39136598]\n",
            "  [-0.04254387  0.0712024   0.6734934  ... -0.0028372   0.08432634\n",
            "   -0.0979014 ]\n",
            "  [-0.04282092 -0.10402124  0.58558345 ...  0.1128632   0.15181841\n",
            "   -0.0729937 ]]]\n",
            "\n",
            "Embedded sentence shape: (1, 128, 768)\n"
          ],
          "name": "stdout"
        }
      ]
    },
    {
      "cell_type": "markdown",
      "metadata": {
        "id": "vVSEi0Pv9TEL"
      },
      "source": [
        "## Creating Datasets for the Deep Models\n",
        "\n",
        "\n",
        "I am going to set up our data to run as fast as possible with TensorFlow tf.data.API, many of the steps here are discussed at length in these two resources:\n",
        "* [tf.data: Build TensorFlow input pipelines](https://www.tensorflow.org/guide/data)\n",
        "* [Better performance with the tf.data API](https://www.tensorflow.org/guide/data_performance)"
      ]
    },
    {
      "cell_type": "code",
      "metadata": {
        "colab": {
          "base_uri": "https://localhost:8080/"
        },
        "id": "EPJ1TXu_88m-",
        "outputId": "19e33f1f-3516-4756-9edf-bf02fb2f6edb"
      },
      "source": [
        "train_dataset = tf.data.Dataset.from_tensor_slices((train_text, train_labels_one_hot))\n",
        "test_dataset = tf.data.Dataset.from_tensor_slices((test_text, test_labels_one_hot))\n",
        "\n",
        "train_dataset"
      ],
      "execution_count": null,
      "outputs": [
        {
          "output_type": "execute_result",
          "data": {
            "text/plain": [
              "<TensorSliceDataset shapes: ((), (4,)), types: (tf.string, tf.float64)>"
            ]
          },
          "metadata": {},
          "execution_count": 59
        }
      ]
    },
    {
      "cell_type": "code",
      "metadata": {
        "colab": {
          "base_uri": "https://localhost:8080/"
        },
        "id": "cCrghlxo9usP",
        "outputId": "2f5a85dc-eed1-4d09-bb93-e3c4760e2ee4"
      },
      "source": [
        "# Batching the TensorSlicedDatasets and prefetching them\n",
        "train_dataset = train_dataset.batch(32).prefetch(tf.data.AUTOTUNE)\n",
        "test_dataset = test_dataset.batch(32).prefetch(tf.data.AUTOTUNE)\n",
        "\n",
        "print(train_dataset)\n",
        "print(test_dataset)"
      ],
      "execution_count": null,
      "outputs": [
        {
          "output_type": "stream",
          "text": [
            "<PrefetchDataset shapes: ((None,), (None, 4)), types: (tf.string, tf.float64)>\n",
            "<PrefetchDataset shapes: ((None,), (None, 4)), types: (tf.string, tf.float64)>\n"
          ],
          "name": "stdout"
        }
      ]
    },
    {
      "cell_type": "code",
      "metadata": {
        "id": "qYJYQcl9Jmj-"
      },
      "source": [
        "# Creating datasets with combined character level and token level data\n",
        "char_token_train =  tf.data.Dataset.from_tensor_slices((train_text, train_chars)) \n",
        "char_token_train_labels = tf.data.Dataset.from_tensor_slices(train_labels_one_hot) \n",
        "train_char_token_dataset = tf.data.Dataset.zip((char_token_train, char_token_train_labels))\n",
        "\n",
        "# Prefetching and batching the train data\n",
        "train_char_token_dataset = train_char_token_dataset.batch(32).prefetch(tf.data.AUTOTUNE) \n",
        "\n",
        "# Repeating the same process for the test dataset\n",
        "char_token_test = tf.data.Dataset.from_tensor_slices((test_text, test_chars)) \n",
        "char_token_test_labels = tf.data.Dataset.from_tensor_slices(test_labels_one_hot) \n",
        "test_char_token_dataset = tf.data.Dataset.zip((char_token_test, char_token_test_labels))\n",
        "\n",
        "test_char_token_dataset = test_char_token_dataset.batch(32).prefetch(tf.data.AUTOTUNE)"
      ],
      "execution_count": null,
      "outputs": []
    },
    {
      "cell_type": "markdown",
      "metadata": {
        "id": "IViMcF_y-IRG"
      },
      "source": [
        "## Deep Modelling Experiments"
      ]
    },
    {
      "cell_type": "code",
      "metadata": {
        "id": "-WTtWV_7GIXM"
      },
      "source": [
        "# Turning on mixed precision training\n",
        "mixed_precision.set_global_policy(policy=\"mixed_float16\")"
      ],
      "execution_count": null,
      "outputs": []
    },
    {
      "cell_type": "code",
      "metadata": {
        "id": "lxulGB4LpMCh"
      },
      "source": [
        "# Creating a function to evaluate the models in terms of accuracy, precision, recall, f1 and save the results\n",
        "results = {}\n",
        "def evaluate_model(model, test_data):\n",
        "  model_accuracy = model.evaluate(test_data)[1]\n",
        "  y_pred_probs = model.predict(test_data) # getting the prediction probabilities\n",
        "  y_pred = tf.argmax(y_pred_probs, axis=1) # turning the prediction probabilities into prediction classes\n",
        "  model_precision, model_recall, model_f1, _ = precision_recall_fscore_support(test_labels, y_pred, average=\"weighted\")\n",
        "  model_results = {\"accuracy\": model_accuracy,\n",
        "                  \"precision\": model_precision,\n",
        "                  \"recall\": model_recall,\n",
        "                  \"f1\": model_f1}\n",
        "  results[f'{model.name}'] =  model_results"
      ],
      "execution_count": null,
      "outputs": []
    },
    {
      "cell_type": "markdown",
      "metadata": {
        "id": "SQdx-iKoooo5"
      },
      "source": [
        "### Model 1: Conv1D with Custom Token Embeddings"
      ]
    },
    {
      "cell_type": "code",
      "metadata": {
        "id": "u_3zLC5CovvY"
      },
      "source": [
        "# Creating the model\n",
        "inputs = layers.Input(shape=(1,), dtype=tf.string)\n",
        "text_vectors = text_vectorizer(inputs)\n",
        "token_embeddings = token_embed(text_vectors) \n",
        "x = layers.Conv1D(64, kernel_size=5, padding=\"same\", activation=\"relu\")(token_embeddings)\n",
        "x = layers.GlobalAveragePooling1D()(x)\n",
        "outputs = layers.Dense(num_classes, activation=\"softmax\")(x)\n",
        "model_1 = tf.keras.Model(inputs=inputs,\n",
        "                        outputs=outputs,\n",
        "                        name='model_1_conv1d_token_embedding')\n",
        "\n",
        "# compiling the model\n",
        "model_1.compile(loss='categorical_crossentropy',\n",
        "                optimizer='Adam',\n",
        "                metrics = ['accuracy'])"
      ],
      "execution_count": null,
      "outputs": []
    },
    {
      "cell_type": "code",
      "metadata": {
        "colab": {
          "base_uri": "https://localhost:8080/"
        },
        "id": "Yk9mcklgqKAQ",
        "outputId": "7ffbab14-9a64-4186-9c5f-d0ad8fdf8bbc"
      },
      "source": [
        "model_1.summary()"
      ],
      "execution_count": null,
      "outputs": [
        {
          "output_type": "stream",
          "text": [
            "Model: \"model_1_conv1d_token_embedding\"\n",
            "_________________________________________________________________\n",
            "Layer (type)                 Output Shape              Param #   \n",
            "=================================================================\n",
            "input_2 (InputLayer)         [(None, 1)]               0         \n",
            "_________________________________________________________________\n",
            "text_vectorization (TextVect (None, 35)                0         \n",
            "_________________________________________________________________\n",
            "token_embedding (Embedding)  (None, 35, 128)           12728576  \n",
            "_________________________________________________________________\n",
            "conv1d (Conv1D)              (None, 35, 64)            41024     \n",
            "_________________________________________________________________\n",
            "global_average_pooling1d (Gl (None, 64)                0         \n",
            "_________________________________________________________________\n",
            "dense (Dense)                (None, 4)                 260       \n",
            "=================================================================\n",
            "Total params: 12,769,860\n",
            "Trainable params: 12,769,860\n",
            "Non-trainable params: 0\n",
            "_________________________________________________________________\n"
          ],
          "name": "stdout"
        }
      ]
    },
    {
      "cell_type": "code",
      "metadata": {
        "colab": {
          "base_uri": "https://localhost:8080/"
        },
        "id": "NSp-wxCdp28d",
        "outputId": "ab8868a4-469a-42eb-9ab7-282895f998e4"
      },
      "source": [
        "# fitting the model\n",
        "model_1_hist = model_1.fit(train_dataset,\n",
        "                           steps_per_epoch=int(0.1*len(train_dataset)),\n",
        "                           epochs=10,\n",
        "                           validation_data=test_dataset,\n",
        "                           validation_steps = int(0.1*len(test_dataset)))"
      ],
      "execution_count": null,
      "outputs": [
        {
          "output_type": "stream",
          "text": [
            "Epoch 1/10\n",
            "375/375 [==============================] - 9s 20ms/step - loss: 0.5750 - accuracy: 0.8114 - val_loss: 0.4101 - val_accuracy: 0.8696\n",
            "Epoch 2/10\n",
            "375/375 [==============================] - 7s 19ms/step - loss: 0.3085 - accuracy: 0.9007 - val_loss: 0.3745 - val_accuracy: 0.8777\n",
            "Epoch 3/10\n",
            "375/375 [==============================] - 7s 19ms/step - loss: 0.2823 - accuracy: 0.9108 - val_loss: 0.3494 - val_accuracy: 0.8967\n",
            "Epoch 4/10\n",
            "375/375 [==============================] - 7s 19ms/step - loss: 0.2841 - accuracy: 0.9085 - val_loss: 0.3405 - val_accuracy: 0.8764\n",
            "Epoch 5/10\n",
            "375/375 [==============================] - 7s 19ms/step - loss: 0.2534 - accuracy: 0.9193 - val_loss: 0.3153 - val_accuracy: 0.8927\n",
            "Epoch 6/10\n",
            "375/375 [==============================] - 7s 19ms/step - loss: 0.2652 - accuracy: 0.9087 - val_loss: 0.2934 - val_accuracy: 0.8995\n",
            "Epoch 7/10\n",
            "375/375 [==============================] - 7s 19ms/step - loss: 0.2424 - accuracy: 0.9204 - val_loss: 0.2877 - val_accuracy: 0.8995\n",
            "Epoch 8/10\n",
            "375/375 [==============================] - 7s 19ms/step - loss: 0.2600 - accuracy: 0.9140 - val_loss: 0.2943 - val_accuracy: 0.8927\n",
            "Epoch 9/10\n",
            "375/375 [==============================] - 7s 19ms/step - loss: 0.2486 - accuracy: 0.9162 - val_loss: 0.2952 - val_accuracy: 0.8954\n",
            "Epoch 10/10\n",
            "375/375 [==============================] - 7s 19ms/step - loss: 0.2414 - accuracy: 0.9214 - val_loss: 0.2877 - val_accuracy: 0.8995\n"
          ],
          "name": "stdout"
        }
      ]
    },
    {
      "cell_type": "code",
      "metadata": {
        "id": "m2osHaI2pSvC",
        "colab": {
          "base_uri": "https://localhost:8080/"
        },
        "outputId": "b691ab5c-8cc3-4320-ba65-5122575cf631"
      },
      "source": [
        "evaluate_model(model_1, test_dataset)"
      ],
      "execution_count": null,
      "outputs": [
        {
          "output_type": "stream",
          "text": [
            "238/238 [==============================] - 1s 4ms/step - loss: 0.2481 - accuracy: 0.9171\n"
          ],
          "name": "stdout"
        }
      ]
    },
    {
      "cell_type": "markdown",
      "metadata": {
        "id": "7XiVtLWfsAzf"
      },
      "source": [
        "### Model 2: Universal Sentence Encoder Feature Extraction Model"
      ]
    },
    {
      "cell_type": "code",
      "metadata": {
        "id": "u3FdL8o6sM1M"
      },
      "source": [
        "# Creating the model\n",
        "inputs = layers.Input(shape=(), dtype=tf.string)\n",
        "embeddings = use_embedding(inputs)\n",
        "x = layers.Dense(128, activation='relu')(embeddings)\n",
        "x = layers.Dense(128, activation='relu')(x)\n",
        "outputs = layers.Dense(num_classes, activation='softmax')(x)\n",
        "model_2 = tf.keras.Model(inputs=inputs,\n",
        "                        outputs=outputs,\n",
        "                        name='model_2_USE_token_embedding')\n",
        "\n",
        "# compiling the model\n",
        "model_2.compile(loss='categorical_crossentropy',\n",
        "                optimizer='Adam',\n",
        "                metrics = ['accuracy'])"
      ],
      "execution_count": null,
      "outputs": []
    },
    {
      "cell_type": "code",
      "metadata": {
        "id": "JuYOgFXAsoQa",
        "colab": {
          "base_uri": "https://localhost:8080/"
        },
        "outputId": "26ba7d5e-7997-4c23-c485-f5924ad04271"
      },
      "source": [
        "model_2.summary()"
      ],
      "execution_count": null,
      "outputs": [
        {
          "output_type": "stream",
          "text": [
            "Model: \"model_2_USE_token_embedding\"\n",
            "_________________________________________________________________\n",
            "Layer (type)                 Output Shape              Param #   \n",
            "=================================================================\n",
            "input_3 (InputLayer)         [(None,)]                 0         \n",
            "_________________________________________________________________\n",
            "universal_sentence_encoder ( (None, 512)               256797824 \n",
            "_________________________________________________________________\n",
            "dense_1 (Dense)              (None, 128)               65664     \n",
            "_________________________________________________________________\n",
            "dense_2 (Dense)              (None, 128)               16512     \n",
            "_________________________________________________________________\n",
            "dense_3 (Dense)              (None, 4)                 516       \n",
            "=================================================================\n",
            "Total params: 256,880,516\n",
            "Trainable params: 82,692\n",
            "Non-trainable params: 256,797,824\n",
            "_________________________________________________________________\n"
          ],
          "name": "stdout"
        }
      ]
    },
    {
      "cell_type": "code",
      "metadata": {
        "colab": {
          "base_uri": "https://localhost:8080/"
        },
        "id": "IrmaVi9CsXej",
        "outputId": "25f6107b-c222-40cf-e0b6-537e64e72e0b"
      },
      "source": [
        "# fitting the model\n",
        "model_2_hist = model_2.fit(train_dataset,\n",
        "                           steps_per_epoch=int(0.1*len(train_dataset)),\n",
        "                           epochs=10,\n",
        "                           validation_data=test_dataset,\n",
        "                           validation_steps = int(0.1*len(test_dataset)))"
      ],
      "execution_count": null,
      "outputs": [
        {
          "output_type": "stream",
          "text": [
            "Epoch 1/10\n",
            "375/375 [==============================] - 11s 21ms/step - loss: 0.4331 - accuracy: 0.8570 - val_loss: 0.4019 - val_accuracy: 0.8668\n",
            "Epoch 2/10\n",
            "375/375 [==============================] - 7s 19ms/step - loss: 0.3222 - accuracy: 0.8863 - val_loss: 0.3478 - val_accuracy: 0.8845\n",
            "Epoch 3/10\n",
            "375/375 [==============================] - 7s 19ms/step - loss: 0.3047 - accuracy: 0.8925 - val_loss: 0.3512 - val_accuracy: 0.8832\n",
            "Epoch 4/10\n",
            "375/375 [==============================] - 7s 20ms/step - loss: 0.3032 - accuracy: 0.8924 - val_loss: 0.3395 - val_accuracy: 0.8872\n",
            "Epoch 5/10\n",
            "375/375 [==============================] - 7s 20ms/step - loss: 0.2830 - accuracy: 0.9006 - val_loss: 0.3384 - val_accuracy: 0.8832\n",
            "Epoch 6/10\n",
            "375/375 [==============================] - 7s 19ms/step - loss: 0.2949 - accuracy: 0.8946 - val_loss: 0.3359 - val_accuracy: 0.8764\n",
            "Epoch 7/10\n",
            "375/375 [==============================] - 7s 19ms/step - loss: 0.2808 - accuracy: 0.9022 - val_loss: 0.3345 - val_accuracy: 0.8872\n",
            "Epoch 8/10\n",
            "375/375 [==============================] - 7s 19ms/step - loss: 0.2936 - accuracy: 0.8957 - val_loss: 0.3209 - val_accuracy: 0.8899\n",
            "Epoch 9/10\n",
            "375/375 [==============================] - 7s 20ms/step - loss: 0.2792 - accuracy: 0.8997 - val_loss: 0.3117 - val_accuracy: 0.8927\n",
            "Epoch 10/10\n",
            "375/375 [==============================] - 7s 19ms/step - loss: 0.2706 - accuracy: 0.9038 - val_loss: 0.3117 - val_accuracy: 0.8913\n"
          ],
          "name": "stdout"
        }
      ]
    },
    {
      "cell_type": "code",
      "metadata": {
        "colab": {
          "base_uri": "https://localhost:8080/"
        },
        "id": "TjC4FRhGpbnk",
        "outputId": "2b5805a9-451c-4429-fb8c-f69bd0ccf523"
      },
      "source": [
        "evaluate_model(model_2, test_dataset)"
      ],
      "execution_count": null,
      "outputs": [
        {
          "output_type": "stream",
          "text": [
            "238/238 [==============================] - 4s 17ms/step - loss: 0.2932 - accuracy: 0.8987\n"
          ],
          "name": "stdout"
        }
      ]
    },
    {
      "cell_type": "markdown",
      "metadata": {
        "id": "puwQSrm_MpD9"
      },
      "source": [
        "### Model 3: Conv1D with Custom Token Embeddings Combined with Caracter Level Embeddings with Bi-LSTM Layers"
      ]
    },
    {
      "cell_type": "code",
      "metadata": {
        "id": "thCktsAisL0-"
      },
      "source": [
        "# resetting the learned patterns from the previous experiments\n",
        "text_vectorizer.adapt(train_text)\n",
        "token_embed = layers.Embedding(input_dim=len(ag_news_text_vocab),\n",
        "                               output_dim=128,\n",
        "                               mask_zero=True, \n",
        "                               name='token_embedding')"
      ],
      "execution_count": null,
      "outputs": []
    },
    {
      "cell_type": "code",
      "metadata": {
        "id": "_QdCkKCGOMfy"
      },
      "source": [
        "# Setting up token inputs/model\n",
        "token_inputs = token_inputs = layers.Input(shape=[], dtype=tf.string, name=\"token_input\")\n",
        "text_vectors = text_vectorizer(token_inputs)\n",
        "token_embeddings = token_embed(text_vectors) \n",
        "x = layers.Conv1D(128, kernel_size=5, padding=\"same\", activation=\"relu\")(token_embeddings)\n",
        "x = layers.GlobalAveragePooling1D()(x)\n",
        "token_output = layers.Dense(64, activation=\"relu\")(x)\n",
        "token_model = tf.keras.Model(inputs=token_inputs,\n",
        "                             outputs=token_output)\n",
        "\n",
        "# 2. Setting up character inputs/model\n",
        "char_inputs = layers.Input(shape=(1,), dtype=tf.string, name=\"char_input\")\n",
        "char_vectors = char_vectorizer(char_inputs)\n",
        "char_embeddings = char_embed(char_vectors)\n",
        "char_bi_lstm = layers.Bidirectional(layers.LSTM(64, return_sequences=True))(char_embeddings)\n",
        "char_bi_lstm2 = layers.Bidirectional(layers.LSTM(64, return_sequences=True))(char_bi_lstm)\n",
        "char_output = layers.LSTM(64)(char_bi_lstm2)\n",
        "char_model = tf.keras.Model(inputs=char_inputs,\n",
        "                            outputs=char_output)\n",
        "\n",
        "# 3. Concatenating token and char inputs \n",
        "token_char_concat = layers.Concatenate(name=\"token_char_hybrid\")([token_model.output, \n",
        "                                                                  char_model.output])\n",
        "\n",
        "# 4. Creating output layers \n",
        "combined_dropout = layers.Dropout(0.5)(token_char_concat)\n",
        "combined_dense = layers.Dense(128, activation=\"relu\")(combined_dropout)\n",
        "final_dropout = layers.Dropout(0.5)(combined_dense)\n",
        "output_layer = layers.Dense(num_classes, activation=\"softmax\")(final_dropout)\n",
        "\n",
        "# 5. Constructing the multimodal model with character and token inputs\n",
        "model_3 = tf.keras.Model(inputs=[token_model.input, char_model.input],\n",
        "                         outputs=output_layer,\n",
        "                         name=\"model_3_bilstm_char_conv1d_token_embedding\")"
      ],
      "execution_count": null,
      "outputs": []
    },
    {
      "cell_type": "code",
      "metadata": {
        "colab": {
          "base_uri": "https://localhost:8080/",
          "height": 1000
        },
        "id": "O5wjmqL2Pwe3",
        "outputId": "f460ac93-406e-4dd9-c650-20343f9ee1ae"
      },
      "source": [
        "# Plotting the hybrid token and character model\n",
        "plot_model(model_3, show_shapes=True)"
      ],
      "execution_count": null,
      "outputs": [
        {
          "output_type": "execute_result",
          "data": {
            "image/png": "[encoded data removed]",
            "text/plain": [
              "<IPython.core.display.Image object>"
            ]
          },
          "metadata": {},
          "execution_count": 74
        }
      ]
    },
    {
      "cell_type": "code",
      "metadata": {
        "id": "M55JQxb8QKCF"
      },
      "source": [
        "# compiling the model\n",
        "model_3.compile(loss='categorical_crossentropy',\n",
        "                optimizer='Adam',\n",
        "                metrics = ['accuracy'])"
      ],
      "execution_count": null,
      "outputs": []
    },
    {
      "cell_type": "code",
      "metadata": {
        "id": "XTpY0P_sQShw",
        "colab": {
          "base_uri": "https://localhost:8080/"
        },
        "outputId": "96b29158-ab75-4438-f7f1-52679de1774a"
      },
      "source": [
        "# fitting the model\n",
        "model_3_hist = model_3.fit(train_char_token_dataset, \n",
        "                            steps_per_epoch=int(0.1 * len(train_char_token_dataset)),\n",
        "                            epochs=10,\n",
        "                            validation_data=test_char_token_dataset,\n",
        "                            validation_steps=int(0.1 * len(test_char_token_dataset)))"
      ],
      "execution_count": null,
      "outputs": [
        {
          "output_type": "stream",
          "text": [
            "Epoch 1/10\n",
            "375/375 [==============================] - 127s 281ms/step - loss: 0.7259 - accuracy: 0.7044 - val_loss: 0.4303 - val_accuracy: 0.8601\n",
            "Epoch 2/10\n",
            "375/375 [==============================] - 98s 262ms/step - loss: 0.3749 - accuracy: 0.8907 - val_loss: 0.3924 - val_accuracy: 0.8682\n",
            "Epoch 3/10\n",
            "375/375 [==============================] - 98s 261ms/step - loss: 0.3320 - accuracy: 0.9007 - val_loss: 0.3735 - val_accuracy: 0.8845\n",
            "Epoch 4/10\n",
            "375/375 [==============================] - 98s 261ms/step - loss: 0.3317 - accuracy: 0.9013 - val_loss: 0.3510 - val_accuracy: 0.8764\n",
            "Epoch 5/10\n",
            "375/375 [==============================] - 98s 261ms/step - loss: 0.2931 - accuracy: 0.9126 - val_loss: 0.3290 - val_accuracy: 0.9022\n",
            "Epoch 6/10\n",
            "375/375 [==============================] - 98s 261ms/step - loss: 0.3049 - accuracy: 0.9039 - val_loss: 0.3030 - val_accuracy: 0.9062\n",
            "Epoch 7/10\n",
            "375/375 [==============================] - 98s 261ms/step - loss: 0.2811 - accuracy: 0.9154 - val_loss: 0.3062 - val_accuracy: 0.9022\n",
            "Epoch 8/10\n",
            "375/375 [==============================] - 98s 262ms/step - loss: 0.2970 - accuracy: 0.9090 - val_loss: 0.3095 - val_accuracy: 0.8981\n",
            "Epoch 9/10\n",
            "375/375 [==============================] - 98s 261ms/step - loss: 0.2838 - accuracy: 0.9122 - val_loss: 0.2996 - val_accuracy: 0.9035\n",
            "Epoch 10/10\n",
            "375/375 [==============================] - 97s 259ms/step - loss: 0.2740 - accuracy: 0.9172 - val_loss: 0.2955 - val_accuracy: 0.9022\n"
          ],
          "name": "stdout"
        }
      ]
    },
    {
      "cell_type": "code",
      "metadata": {
        "id": "9tUTxcrKpiSe",
        "colab": {
          "base_uri": "https://localhost:8080/"
        },
        "outputId": "e7a2d59f-c412-48aa-95a9-56e92d931b76"
      },
      "source": [
        "evaluate_model(model_3, test_char_token_dataset)"
      ],
      "execution_count": null,
      "outputs": [
        {
          "output_type": "stream",
          "text": [
            "238/238 [==============================] - 22s 91ms/step - loss: 0.2512 - accuracy: 0.9197\n"
          ],
          "name": "stdout"
        }
      ]
    },
    {
      "cell_type": "markdown",
      "metadata": {
        "id": "40jFU8XEqDdp"
      },
      "source": [
        "### Model 4: BERT Feature Extraction Model With LSTM Layers"
      ]
    },
    {
      "cell_type": "code",
      "metadata": {
        "id": "r7sYdeTZqCe0"
      },
      "source": [
        "# Creating the model\n",
        "inputs = layers.Input(shape=(), dtype=tf.string)\n",
        "token_embeddings = bert_embedding_model(inputs)\n",
        "x = layers.LSTM(128, return_sequences=True)(token_embeddings)\n",
        "x = layers.LSTM(64)(x)\n",
        "outputs = layers.Dense(num_classes, activation='softmax')(x)\n",
        "model_4 = tf.keras.Model(inputs=inputs,\n",
        "                        outputs=outputs,\n",
        "                        name='model_4_bert_token_embedding_lstm')\n",
        "\n",
        "# compiling the model\n",
        "model_4.compile(loss='categorical_crossentropy',\n",
        "                optimizer='Adam',\n",
        "                metrics = ['accuracy'])"
      ],
      "execution_count": null,
      "outputs": []
    },
    {
      "cell_type": "code",
      "metadata": {
        "id": "W5tL7AJVS3zy",
        "colab": {
          "base_uri": "https://localhost:8080/"
        },
        "outputId": "6e262210-0f0c-4c3a-b05e-b9ec78f3ad0f"
      },
      "source": [
        "model_4.summary()"
      ],
      "execution_count": null,
      "outputs": [
        {
          "output_type": "stream",
          "text": [
            "Model: \"model_4_bert_token_embedding_lstm\"\n",
            "_________________________________________________________________\n",
            "Layer (type)                 Output Shape              Param #   \n",
            "=================================================================\n",
            "input_4 (InputLayer)         [(None,)]                 0         \n",
            "_________________________________________________________________\n",
            "model (Functional)           (None, 128, 768)          109482241 \n",
            "_________________________________________________________________\n",
            "lstm_3 (LSTM)                (None, 128, 128)          459264    \n",
            "_________________________________________________________________\n",
            "lstm_4 (LSTM)                (None, 64)                49408     \n",
            "_________________________________________________________________\n",
            "dense_7 (Dense)              (None, 4)                 260       \n",
            "=================================================================\n",
            "Total params: 109,991,173\n",
            "Trainable params: 508,932\n",
            "Non-trainable params: 109,482,241\n",
            "_________________________________________________________________\n"
          ],
          "name": "stdout"
        }
      ]
    },
    {
      "cell_type": "code",
      "metadata": {
        "id": "M9T1am4fKKVW",
        "colab": {
          "base_uri": "https://localhost:8080/"
        },
        "outputId": "97205453-f00a-498e-c5ec-221c0114190f"
      },
      "source": [
        "# fitting the model\n",
        "model_4_hist = model_4.fit(train_dataset, \n",
        "                            steps_per_epoch=int(0.1 * len(train_dataset)),\n",
        "                            epochs=10,\n",
        "                            validation_data=test_dataset,\n",
        "                            validation_steps=int(0.1 * len(test_dataset)))"
      ],
      "execution_count": null,
      "outputs": [
        {
          "output_type": "stream",
          "text": [
            "Epoch 1/10\n",
            "375/375 [==============================] - 280s 713ms/step - loss: 0.4202 - accuracy: 0.8513 - val_loss: 0.4756 - val_accuracy: 0.8274\n",
            "Epoch 2/10\n",
            "375/375 [==============================] - 266s 708ms/step - loss: 0.3585 - accuracy: 0.8767 - val_loss: 0.3796 - val_accuracy: 0.8832\n",
            "Epoch 3/10\n",
            "375/375 [==============================] - 266s 709ms/step - loss: 0.3386 - accuracy: 0.8877 - val_loss: 0.3867 - val_accuracy: 0.8777\n",
            "Epoch 4/10\n",
            "375/375 [==============================] - 266s 709ms/step - loss: 0.3253 - accuracy: 0.8880 - val_loss: 0.3534 - val_accuracy: 0.8872\n",
            "Epoch 5/10\n",
            "375/375 [==============================] - 265s 708ms/step - loss: 0.2953 - accuracy: 0.9004 - val_loss: 0.3639 - val_accuracy: 0.8913\n",
            "Epoch 6/10\n",
            "375/375 [==============================] - 265s 707ms/step - loss: 0.2987 - accuracy: 0.8973 - val_loss: 0.3376 - val_accuracy: 0.8886\n",
            "Epoch 7/10\n",
            "375/375 [==============================] - 266s 709ms/step - loss: 0.2745 - accuracy: 0.9062 - val_loss: 0.3236 - val_accuracy: 0.8940\n",
            "Epoch 8/10\n",
            "375/375 [==============================] - 266s 709ms/step - loss: 0.2855 - accuracy: 0.9022 - val_loss: 0.3208 - val_accuracy: 0.9062\n",
            "Epoch 9/10\n",
            "375/375 [==============================] - 266s 708ms/step - loss: 0.2766 - accuracy: 0.9057 - val_loss: 0.3150 - val_accuracy: 0.8927\n",
            "Epoch 10/10\n",
            "375/375 [==============================] - 266s 709ms/step - loss: 0.2583 - accuracy: 0.9121 - val_loss: 0.2972 - val_accuracy: 0.9090\n"
          ],
          "name": "stdout"
        }
      ]
    },
    {
      "cell_type": "code",
      "metadata": {
        "id": "PJ1E7Y4Dpn4I",
        "colab": {
          "base_uri": "https://localhost:8080/"
        },
        "outputId": "d6a58ec2-111c-4b1a-8b56-19bb265d0c0b"
      },
      "source": [
        "evaluate_model(model_4, test_dataset)"
      ],
      "execution_count": null,
      "outputs": [
        {
          "output_type": "stream",
          "text": [
            "238/238 [==============================] - 149s 624ms/step - loss: 0.2656 - accuracy: 0.9088\n"
          ],
          "name": "stdout"
        }
      ]
    },
    {
      "cell_type": "markdown",
      "metadata": {
        "id": "v4iXw_TKbYde"
      },
      "source": [
        "### Model 5: Conv1D with BERT Token Embeddings Combined With Character Level Embeddings with a Bi-LSTM Layer"
      ]
    },
    {
      "cell_type": "code",
      "metadata": {
        "id": "jsKf3pGvfCWR"
      },
      "source": [
        "# resetting character vectorizer and the embedding layer\n",
        "char_vectorizer.adapt(train_chars)\n",
        "char_embed = layers.Embedding(input_dim=num_char_tokens,\n",
        "                              output_dim=256, \n",
        "                              mask_zero=True,\n",
        "                              name=\"char_embed\")"
      ],
      "execution_count": null,
      "outputs": []
    },
    {
      "cell_type": "code",
      "metadata": {
        "id": "TAitx_xWb0Sb"
      },
      "source": [
        "# Setting up token inputs/model\n",
        "token_inputs = token_inputs = layers.Input(shape=(), dtype=tf.string, name=\"token_input\")\n",
        "token_embeddings = bert_embedding_model(token_inputs)\n",
        "x = layers.Conv1D(64, kernel_size=5, padding=\"same\", activation=\"relu\")(token_embeddings)\n",
        "x = layers.GlobalAveragePooling1D()(x)\n",
        "token_output = layers.Dense(128, activation=\"relu\")(x)\n",
        "token_model = tf.keras.Model(inputs=token_inputs,\n",
        "                             outputs=token_output)\n",
        "\n",
        "# 2. Setting up character inputs/model\n",
        "char_inputs = layers.Input(shape=(1,), dtype=tf.string, name=\"char_input\")\n",
        "char_vectors = char_vectorizer(char_inputs)\n",
        "char_embeddings = char_embed(char_vectors)\n",
        "char_bi_lstm = layers.Bidirectional(layers.LSTM(64))(char_embeddings)\n",
        "char_model = tf.keras.Model(inputs=char_inputs,\n",
        "                            outputs=char_bi_lstm)\n",
        "\n",
        "# 3. Concatenating token and char inputs \n",
        "token_char_concat = layers.Concatenate(name=\"token_char_hybrid\")([token_model.output, \n",
        "                                                                  char_model.output])\n",
        "\n",
        "# 4. Creating output layers \n",
        "combined_dropout = layers.Dropout(0.5)(token_char_concat)\n",
        "combined_dense = layers.Dense(128, activation=\"relu\")(combined_dropout)\n",
        "final_dropout = layers.Dropout(0.5)(combined_dense)\n",
        "output_layer = layers.Dense(num_classes, activation=\"softmax\")(final_dropout)\n",
        "\n",
        "# 5. Constructing the multimodal model with character and token inputs\n",
        "model_5 = tf.keras.Model(inputs=[token_model.input, char_model.input],\n",
        "                         outputs=output_layer,\n",
        "                         name=\"model_5_conv1d_bert_token_and_bilstm_char_embeddings\")\n",
        "\n",
        "# compiling the model\n",
        "model_5.compile(loss='categorical_crossentropy',\n",
        "                optimizer='Adam',\n",
        "                metrics = ['accuracy'])"
      ],
      "execution_count": null,
      "outputs": []
    },
    {
      "cell_type": "code",
      "metadata": {
        "id": "1si3ulTWc0WR",
        "colab": {
          "base_uri": "https://localhost:8080/",
          "height": 1000
        },
        "outputId": "b6f69d4b-41e9-4498-8b00-37a6f4a9a9e1"
      },
      "source": [
        "plot_model(model_5, show_shapes=True)"
      ],
      "execution_count": null,
      "outputs": [
        {
          "output_type": "execute_result",
          "data": {
            "image/png": "[encoded data removed]",
            "text/plain": [
              "<IPython.core.display.Image object>"
            ]
          },
          "metadata": {},
          "execution_count": 84
        }
      ]
    },
    {
      "cell_type": "code",
      "metadata": {
        "id": "fuJtRqCUdjJO",
        "colab": {
          "base_uri": "https://localhost:8080/"
        },
        "outputId": "70ebd678-119f-4483-ead6-c637ae9a25de"
      },
      "source": [
        "# fitting the model\n",
        "model_5_hist = model_5.fit(train_char_token_dataset, \n",
        "                            steps_per_epoch=int(0.1 * len(train_char_token_dataset)),\n",
        "                            epochs=10,\n",
        "                            validation_data=test_char_token_dataset,\n",
        "                            validation_steps=int(0.1 * len(test_char_token_dataset)))"
      ],
      "execution_count": null,
      "outputs": [
        {
          "output_type": "stream",
          "text": [
            "Epoch 1/10\n",
            "375/375 [==============================] - 294s 755ms/step - loss: 0.4726 - accuracy: 0.8403 - val_loss: 0.4290 - val_accuracy: 0.8696\n",
            "Epoch 2/10\n",
            "375/375 [==============================] - 280s 746ms/step - loss: 0.3703 - accuracy: 0.8809 - val_loss: 0.3557 - val_accuracy: 0.8886\n",
            "Epoch 3/10\n",
            "375/375 [==============================] - 280s 746ms/step - loss: 0.3469 - accuracy: 0.8899 - val_loss: 0.3652 - val_accuracy: 0.8804\n",
            "Epoch 4/10\n",
            "375/375 [==============================] - 279s 745ms/step - loss: 0.3412 - accuracy: 0.8888 - val_loss: 0.3797 - val_accuracy: 0.8750\n",
            "Epoch 5/10\n",
            "375/375 [==============================] - 279s 744ms/step - loss: 0.3196 - accuracy: 0.8986 - val_loss: 0.3597 - val_accuracy: 0.8845\n",
            "Epoch 6/10\n",
            "375/375 [==============================] - 279s 745ms/step - loss: 0.3223 - accuracy: 0.8941 - val_loss: 0.3431 - val_accuracy: 0.8886\n",
            "Epoch 7/10\n",
            "375/375 [==============================] - 279s 744ms/step - loss: 0.3023 - accuracy: 0.9020 - val_loss: 0.3252 - val_accuracy: 0.8940\n",
            "Epoch 8/10\n",
            "375/375 [==============================] - 279s 745ms/step - loss: 0.3218 - accuracy: 0.8950 - val_loss: 0.3170 - val_accuracy: 0.9035\n",
            "Epoch 9/10\n",
            "375/375 [==============================] - 279s 744ms/step - loss: 0.3069 - accuracy: 0.8977 - val_loss: 0.3175 - val_accuracy: 0.8967\n",
            "Epoch 10/10\n",
            "375/375 [==============================] - 278s 742ms/step - loss: 0.3002 - accuracy: 0.9039 - val_loss: 0.3161 - val_accuracy: 0.8913\n"
          ],
          "name": "stdout"
        }
      ]
    },
    {
      "cell_type": "code",
      "metadata": {
        "id": "8fDYl7FIpyHu",
        "colab": {
          "base_uri": "https://localhost:8080/"
        },
        "outputId": "63259f71-2a25-4f0a-cee5-5fce7b78444e"
      },
      "source": [
        "evaluate_model(model_5, test_char_token_dataset)"
      ],
      "execution_count": null,
      "outputs": [
        {
          "output_type": "stream",
          "text": [
            "238/238 [==============================] - 149s 626ms/step - loss: 0.2914 - accuracy: 0.9029\n"
          ],
          "name": "stdout"
        }
      ]
    },
    {
      "cell_type": "markdown",
      "metadata": {
        "id": "uvD7-eI3p3sB"
      },
      "source": [
        "## Comparing The Model Results"
      ]
    },
    {
      "cell_type": "code",
      "metadata": {
        "id": "BtFK797JiBRP"
      },
      "source": [
        "# Getting the precision, recall and f1 scores for the baseline model\n",
        "y_preds = model_0.predict(test_text)\n",
        "model_precision, model_recall, model_f1, _ = precision_recall_fscore_support(test_labels, y_preds, average=\"weighted\")\n",
        "baseline_results = {\"accuracy\": baseline_score,\n",
        "                  \"precision\": model_precision,\n",
        "                  \"recall\": model_recall,\n",
        "                  \"f1\": model_f1}"
      ],
      "execution_count": null,
      "outputs": []
    },
    {
      "cell_type": "code",
      "metadata": {
        "id": "v-VYDveHiuuY"
      },
      "source": [
        "# Adding the baseline results to the results dictionary \n",
        "results['baseline_multinomialNB'] = baseline_results"
      ],
      "execution_count": null,
      "outputs": []
    },
    {
      "cell_type": "code",
      "metadata": {
        "id": "pRr1u1EGhV-G",
        "colab": {
          "base_uri": "https://localhost:8080/",
          "height": 237
        },
        "outputId": "6f5c836c-3743-4dfc-bd5a-0aae3675ad10"
      },
      "source": [
        "# Converting the results dictionary into a pandas dataframe\n",
        "results_df = pd.DataFrame.from_dict(results).transpose()\n",
        "results_df.sort_values('accuracy', ascending=False)"
      ],
      "execution_count": null,
      "outputs": [
        {
          "output_type": "execute_result",
          "data": {
            "text/html": [
              "<div>\n",
              "<style scoped>\n",
              "    .dataframe tbody tr th:only-of-type {\n",
              "        vertical-align: middle;\n",
              "    }\n",
              "\n",
              "    .dataframe tbody tr th {\n",
              "        vertical-align: top;\n",
              "    }\n",
              "\n",
              "    .dataframe thead th {\n",
              "        text-align: right;\n",
              "    }\n",
              "</style>\n",
              "<table border=\"1\" class=\"dataframe\">\n",
              "  <thead>\n",
              "    <tr style=\"text-align: right;\">\n",
              "      <th></th>\n",
              "      <th>accuracy</th>\n",
              "      <th>precision</th>\n",
              "      <th>recall</th>\n",
              "      <th>f1</th>\n",
              "    </tr>\n",
              "  </thead>\n",
              "  <tbody>\n",
              "    <tr>\n",
              "      <th>model_3_bilstm_char_conv1d_token_embedding</th>\n",
              "      <td>0.919737</td>\n",
              "      <td>0.919744</td>\n",
              "      <td>0.919737</td>\n",
              "      <td>0.919636</td>\n",
              "    </tr>\n",
              "    <tr>\n",
              "      <th>model_1_conv1d_token_embedding</th>\n",
              "      <td>0.917105</td>\n",
              "      <td>0.917020</td>\n",
              "      <td>0.917105</td>\n",
              "      <td>0.916928</td>\n",
              "    </tr>\n",
              "    <tr>\n",
              "      <th>model_4_bert_token_embedding_lstm</th>\n",
              "      <td>0.908816</td>\n",
              "      <td>0.909080</td>\n",
              "      <td>0.908816</td>\n",
              "      <td>0.908676</td>\n",
              "    </tr>\n",
              "    <tr>\n",
              "      <th>baseline_multinomialNB</th>\n",
              "      <td>0.903421</td>\n",
              "      <td>0.903014</td>\n",
              "      <td>0.903421</td>\n",
              "      <td>0.903150</td>\n",
              "    </tr>\n",
              "    <tr>\n",
              "      <th>model_5_conv1d_bert_token_and_bilstm_char_embeddings</th>\n",
              "      <td>0.902895</td>\n",
              "      <td>0.903337</td>\n",
              "      <td>0.902895</td>\n",
              "      <td>0.902609</td>\n",
              "    </tr>\n",
              "    <tr>\n",
              "      <th>model_2_USE_token_embedding</th>\n",
              "      <td>0.898684</td>\n",
              "      <td>0.899170</td>\n",
              "      <td>0.898684</td>\n",
              "      <td>0.898695</td>\n",
              "    </tr>\n",
              "  </tbody>\n",
              "</table>\n",
              "</div>"
            ],
            "text/plain": [
              "                                                    accuracy  ...        f1\n",
              "model_3_bilstm_char_conv1d_token_embedding          0.919737  ...  0.919636\n",
              "model_1_conv1d_token_embedding                      0.917105  ...  0.916928\n",
              "model_4_bert_token_embedding_lstm                   0.908816  ...  0.908676\n",
              "baseline_multinomialNB                              0.903421  ...  0.903150\n",
              "model_5_conv1d_bert_token_and_bilstm_char_embed...  0.902895  ...  0.902609\n",
              "model_2_USE_token_embedding                         0.898684  ...  0.898695\n",
              "\n",
              "[6 rows x 4 columns]"
            ]
          },
          "metadata": {},
          "execution_count": 89
        }
      ]
    },
    {
      "cell_type": "markdown",
      "metadata": {
        "id": "JdBv1O6Fkkxp"
      },
      "source": [
        "## Saving The Best Model"
      ]
    },
    {
      "cell_type": "code",
      "metadata": {
        "id": "n79TQUOhxBlw",
        "colab": {
          "base_uri": "https://localhost:8080/"
        },
        "outputId": "3cc5fb77-2cc5-4961-ea16-aa4319b108ec"
      },
      "source": [
        "model_3.save('drive/MyDrive/agnews_bestmodel')"
      ],
      "execution_count": null,
      "outputs": [
        {
          "output_type": "stream",
          "text": [
            "INFO:tensorflow:Assets written to: drive/MyDrive/agnews_bestmodel/assets\n"
          ],
          "name": "stdout"
        },
        {
          "output_type": "stream",
          "text": [
            "INFO:tensorflow:Assets written to: drive/MyDrive/agnews_bestmodel/assets\n"
          ],
          "name": "stderr"
        }
      ]
    },
    {
      "cell_type": "markdown",
      "metadata": {
        "id": "xbMR0zWKiVpr"
      },
      "source": [
        "## Most Wrong Predictions Of The Best Model"
      ]
    },
    {
      "cell_type": "code",
      "metadata": {
        "id": "8aNUWh6ZkChW",
        "colab": {
          "base_uri": "https://localhost:8080/"
        },
        "outputId": "0f570a03-9213-4f13-e8b3-e3a0aff56933"
      },
      "source": [
        "# getting the test data's prediction probabilities and getting the classes with the highest probability for each sample\n",
        "test_pred_probs = model_3.predict(test_char_token_dataset,verbose=1)\n",
        "test_preds = tf.argmax(test_pred_probs, axis=1)\n",
        "test_preds[:10].numpy()"
      ],
      "execution_count": null,
      "outputs": [
        {
          "output_type": "stream",
          "text": [
            "238/238 [==============================] - 21s 88ms/step\n"
          ],
          "name": "stdout"
        },
        {
          "output_type": "execute_result",
          "data": {
            "text/plain": [
              "array([2, 3, 3, 3, 3, 3, 3, 3, 3, 2])"
            ]
          },
          "metadata": {},
          "execution_count": 92
        }
      ]
    },
    {
      "cell_type": "code",
      "metadata": {
        "id": "oHGjJ-cmmMOR",
        "colab": {
          "base_uri": "https://localhost:8080/"
        },
        "outputId": "a6e2e997-4ba0-4630-e211-dcb354f75cb5"
      },
      "source": [
        "# revisiting the class names\n",
        "class_names"
      ],
      "execution_count": null,
      "outputs": [
        {
          "output_type": "execute_result",
          "data": {
            "text/plain": [
              "['World', 'Sports', 'Business', 'Sci/Tech']"
            ]
          },
          "metadata": {},
          "execution_count": 93
        }
      ]
    },
    {
      "cell_type": "code",
      "metadata": {
        "id": "VW6zUMk2l5_a",
        "colab": {
          "base_uri": "https://localhost:8080/"
        },
        "outputId": "4a7c39b0-52b7-4c19-a36b-06efd4e99140"
      },
      "source": [
        "# Getting a list of class names of the test predictions\n",
        "test_pred_classes = [class_names[pred] for pred in test_preds]\n",
        "test_pred_classes[:10]"
      ],
      "execution_count": null,
      "outputs": [
        {
          "output_type": "execute_result",
          "data": {
            "text/plain": [
              "['Business',\n",
              " 'Sci/Tech',\n",
              " 'Sci/Tech',\n",
              " 'Sci/Tech',\n",
              " 'Sci/Tech',\n",
              " 'Sci/Tech',\n",
              " 'Sci/Tech',\n",
              " 'Sci/Tech',\n",
              " 'Sci/Tech',\n",
              " 'Business']"
            ]
          },
          "metadata": {},
          "execution_count": 94
        }
      ]
    },
    {
      "cell_type": "code",
      "metadata": {
        "id": "GIyaRS7ZmSup",
        "colab": {
          "base_uri": "https://localhost:8080/",
          "height": 676
        },
        "outputId": "e443aec9-8661-4f20-ed7e-0deac0e84f8a"
      },
      "source": [
        "# Creating prediction-enriched test dataframe\n",
        "test_df = pd.DataFrame(dataset['test'])\n",
        "test_df['class_name'] = [class_names[label] for label in test_df['label'].tolist()]\n",
        "test_df[\"prediction\"] = test_pred_classes # creating column with test prediction class names\n",
        "test_df[\"pred_prob\"] = tf.reduce_max(test_pred_probs, axis=1).numpy() # getting the maximum prediction probability\n",
        "test_df[\"correct\"] = test_df[\"prediction\"] == test_df[\"class_name\"] # creating a binary column for whether the prediction is right or not\n",
        "test_df.head(20)"
      ],
      "execution_count": null,
      "outputs": [
        {
          "output_type": "execute_result",
          "data": {
            "text/html": [
              "<div>\n",
              "<style scoped>\n",
              "    .dataframe tbody tr th:only-of-type {\n",
              "        vertical-align: middle;\n",
              "    }\n",
              "\n",
              "    .dataframe tbody tr th {\n",
              "        vertical-align: top;\n",
              "    }\n",
              "\n",
              "    .dataframe thead th {\n",
              "        text-align: right;\n",
              "    }\n",
              "</style>\n",
              "<table border=\"1\" class=\"dataframe\">\n",
              "  <thead>\n",
              "    <tr style=\"text-align: right;\">\n",
              "      <th></th>\n",
              "      <th>text</th>\n",
              "      <th>label</th>\n",
              "      <th>class_name</th>\n",
              "      <th>prediction</th>\n",
              "      <th>pred_prob</th>\n",
              "      <th>correct</th>\n",
              "    </tr>\n",
              "  </thead>\n",
              "  <tbody>\n",
              "    <tr>\n",
              "      <th>0</th>\n",
              "      <td>Fears for T N pension after talks Unions repre...</td>\n",
              "      <td>2</td>\n",
              "      <td>Business</td>\n",
              "      <td>Business</td>\n",
              "      <td>0.947754</td>\n",
              "      <td>True</td>\n",
              "    </tr>\n",
              "    <tr>\n",
              "      <th>1</th>\n",
              "      <td>The Race is On: Second Private Team Sets Launc...</td>\n",
              "      <td>3</td>\n",
              "      <td>Sci/Tech</td>\n",
              "      <td>Sci/Tech</td>\n",
              "      <td>0.998047</td>\n",
              "      <td>True</td>\n",
              "    </tr>\n",
              "    <tr>\n",
              "      <th>2</th>\n",
              "      <td>Ky. Company Wins Grant to Study Peptides (AP) ...</td>\n",
              "      <td>3</td>\n",
              "      <td>Sci/Tech</td>\n",
              "      <td>Sci/Tech</td>\n",
              "      <td>0.934082</td>\n",
              "      <td>True</td>\n",
              "    </tr>\n",
              "    <tr>\n",
              "      <th>3</th>\n",
              "      <td>Prediction Unit Helps Forecast Wildfires (AP) ...</td>\n",
              "      <td>3</td>\n",
              "      <td>Sci/Tech</td>\n",
              "      <td>Sci/Tech</td>\n",
              "      <td>0.766113</td>\n",
              "      <td>True</td>\n",
              "    </tr>\n",
              "    <tr>\n",
              "      <th>4</th>\n",
              "      <td>Calif. Aims to Limit Farm-Related Smog (AP) AP...</td>\n",
              "      <td>3</td>\n",
              "      <td>Sci/Tech</td>\n",
              "      <td>Sci/Tech</td>\n",
              "      <td>0.868164</td>\n",
              "      <td>True</td>\n",
              "    </tr>\n",
              "    <tr>\n",
              "      <th>5</th>\n",
              "      <td>Open Letter Against British Copyright Indoctri...</td>\n",
              "      <td>3</td>\n",
              "      <td>Sci/Tech</td>\n",
              "      <td>Sci/Tech</td>\n",
              "      <td>0.868164</td>\n",
              "      <td>True</td>\n",
              "    </tr>\n",
              "    <tr>\n",
              "      <th>6</th>\n",
              "      <td>Loosing the War on Terrorism \\\\\"Sven Jaschan, ...</td>\n",
              "      <td>3</td>\n",
              "      <td>Sci/Tech</td>\n",
              "      <td>Sci/Tech</td>\n",
              "      <td>0.996094</td>\n",
              "      <td>True</td>\n",
              "    </tr>\n",
              "    <tr>\n",
              "      <th>7</th>\n",
              "      <td>FOAFKey: FOAF, PGP, Key Distribution, and Bloo...</td>\n",
              "      <td>3</td>\n",
              "      <td>Sci/Tech</td>\n",
              "      <td>Sci/Tech</td>\n",
              "      <td>0.791016</td>\n",
              "      <td>True</td>\n",
              "    </tr>\n",
              "    <tr>\n",
              "      <th>8</th>\n",
              "      <td>E-mail scam targets police chief Wiltshire Pol...</td>\n",
              "      <td>3</td>\n",
              "      <td>Sci/Tech</td>\n",
              "      <td>Sci/Tech</td>\n",
              "      <td>0.844238</td>\n",
              "      <td>True</td>\n",
              "    </tr>\n",
              "    <tr>\n",
              "      <th>9</th>\n",
              "      <td>Card fraud unit nets 36,000 cards In its first...</td>\n",
              "      <td>3</td>\n",
              "      <td>Sci/Tech</td>\n",
              "      <td>Business</td>\n",
              "      <td>0.656738</td>\n",
              "      <td>False</td>\n",
              "    </tr>\n",
              "    <tr>\n",
              "      <th>10</th>\n",
              "      <td>Group to Propose New High-Speed Wireless Forma...</td>\n",
              "      <td>3</td>\n",
              "      <td>Sci/Tech</td>\n",
              "      <td>Sci/Tech</td>\n",
              "      <td>0.730469</td>\n",
              "      <td>True</td>\n",
              "    </tr>\n",
              "    <tr>\n",
              "      <th>11</th>\n",
              "      <td>Apple Launches Graphics Software, Video Bundle...</td>\n",
              "      <td>3</td>\n",
              "      <td>Sci/Tech</td>\n",
              "      <td>Sci/Tech</td>\n",
              "      <td>0.994629</td>\n",
              "      <td>True</td>\n",
              "    </tr>\n",
              "    <tr>\n",
              "      <th>12</th>\n",
              "      <td>Dutch Retailer Beats Apple to Local Download M...</td>\n",
              "      <td>3</td>\n",
              "      <td>Sci/Tech</td>\n",
              "      <td>Sci/Tech</td>\n",
              "      <td>0.895508</td>\n",
              "      <td>True</td>\n",
              "    </tr>\n",
              "    <tr>\n",
              "      <th>13</th>\n",
              "      <td>Super ant colony hits Australia A giant 100km ...</td>\n",
              "      <td>3</td>\n",
              "      <td>Sci/Tech</td>\n",
              "      <td>Sci/Tech</td>\n",
              "      <td>0.893066</td>\n",
              "      <td>True</td>\n",
              "    </tr>\n",
              "    <tr>\n",
              "      <th>14</th>\n",
              "      <td>Socialites unite dolphin groups Dolphin groups...</td>\n",
              "      <td>3</td>\n",
              "      <td>Sci/Tech</td>\n",
              "      <td>Sci/Tech</td>\n",
              "      <td>0.891602</td>\n",
              "      <td>True</td>\n",
              "    </tr>\n",
              "    <tr>\n",
              "      <th>15</th>\n",
              "      <td>Teenage T. rex's monster growth Tyrannosaurus ...</td>\n",
              "      <td>3</td>\n",
              "      <td>Sci/Tech</td>\n",
              "      <td>Sci/Tech</td>\n",
              "      <td>0.690918</td>\n",
              "      <td>True</td>\n",
              "    </tr>\n",
              "    <tr>\n",
              "      <th>16</th>\n",
              "      <td>Scientists Discover Ganymede has a Lumpy Inter...</td>\n",
              "      <td>3</td>\n",
              "      <td>Sci/Tech</td>\n",
              "      <td>Sci/Tech</td>\n",
              "      <td>0.993652</td>\n",
              "      <td>True</td>\n",
              "    </tr>\n",
              "    <tr>\n",
              "      <th>17</th>\n",
              "      <td>Mars Rovers Relay Images Through Mars Express ...</td>\n",
              "      <td>3</td>\n",
              "      <td>Sci/Tech</td>\n",
              "      <td>Sci/Tech</td>\n",
              "      <td>1.000000</td>\n",
              "      <td>True</td>\n",
              "    </tr>\n",
              "    <tr>\n",
              "      <th>18</th>\n",
              "      <td>Rocking the Cradle of Life When did life begin...</td>\n",
              "      <td>3</td>\n",
              "      <td>Sci/Tech</td>\n",
              "      <td>Sci/Tech</td>\n",
              "      <td>0.851074</td>\n",
              "      <td>True</td>\n",
              "    </tr>\n",
              "    <tr>\n",
              "      <th>19</th>\n",
              "      <td>Storage, servers bruise HP earnings update Ear...</td>\n",
              "      <td>3</td>\n",
              "      <td>Sci/Tech</td>\n",
              "      <td>Sci/Tech</td>\n",
              "      <td>0.730469</td>\n",
              "      <td>True</td>\n",
              "    </tr>\n",
              "  </tbody>\n",
              "</table>\n",
              "</div>"
            ],
            "text/plain": [
              "                                                 text  ...  correct\n",
              "0   Fears for T N pension after talks Unions repre...  ...     True\n",
              "1   The Race is On: Second Private Team Sets Launc...  ...     True\n",
              "2   Ky. Company Wins Grant to Study Peptides (AP) ...  ...     True\n",
              "3   Prediction Unit Helps Forecast Wildfires (AP) ...  ...     True\n",
              "4   Calif. Aims to Limit Farm-Related Smog (AP) AP...  ...     True\n",
              "5   Open Letter Against British Copyright Indoctri...  ...     True\n",
              "6   Loosing the War on Terrorism \\\\\"Sven Jaschan, ...  ...     True\n",
              "7   FOAFKey: FOAF, PGP, Key Distribution, and Bloo...  ...     True\n",
              "8   E-mail scam targets police chief Wiltshire Pol...  ...     True\n",
              "9   Card fraud unit nets 36,000 cards In its first...  ...    False\n",
              "10  Group to Propose New High-Speed Wireless Forma...  ...     True\n",
              "11  Apple Launches Graphics Software, Video Bundle...  ...     True\n",
              "12  Dutch Retailer Beats Apple to Local Download M...  ...     True\n",
              "13  Super ant colony hits Australia A giant 100km ...  ...     True\n",
              "14  Socialites unite dolphin groups Dolphin groups...  ...     True\n",
              "15  Teenage T. rex's monster growth Tyrannosaurus ...  ...     True\n",
              "16  Scientists Discover Ganymede has a Lumpy Inter...  ...     True\n",
              "17  Mars Rovers Relay Images Through Mars Express ...  ...     True\n",
              "18  Rocking the Cradle of Life When did life begin...  ...     True\n",
              "19  Storage, servers bruise HP earnings update Ear...  ...     True\n",
              "\n",
              "[20 rows x 6 columns]"
            ]
          },
          "metadata": {},
          "execution_count": 95
        }
      ]
    },
    {
      "cell_type": "code",
      "metadata": {
        "id": "KYCnBlZAnI9P"
      },
      "source": [
        "# Creating a dataframe with the most wrong predictions\n",
        "top_wrong_preds_df = test_df[test_df[\"correct\"] == False].sort_values(\"pred_prob\", ascending=False)"
      ],
      "execution_count": null,
      "outputs": []
    },
    {
      "cell_type": "code",
      "metadata": {
        "id": "ee2WsSqOm8a1",
        "colab": {
          "base_uri": "https://localhost:8080/"
        },
        "outputId": "823711d5-37dc-4e0b-9254-91a6ad9b38e2"
      },
      "source": [
        "# Investigating the most wrong predictions\n",
        "for num, row in enumerate(top_wrong_preds_df[:10].itertuples()):\n",
        "  _, text, label, target, prediction, pred_prob, _ = row\n",
        "  print(f\"{num+1}. Target: {target}, Pred: {prediction}, Prob: {pred_prob}\\n\")\n",
        "  print(f\"Text:\\n{text}\\n\")\n",
        "  print(\"-----\\n\")"
      ],
      "execution_count": null,
      "outputs": [
        {
          "output_type": "stream",
          "text": [
            "1. Target: Sci/Tech, Pred: World, Prob: 0.99853515625\n",
            "\n",
            "Text:\n",
            "Man arrested for fatally stabbing elderly parents SAITAMA -- A middle-aged man who fatally stabbed his parents has been arrested, police said. Hideo Nakajima, an unemployed man from Soka, Saitama Prefecture, apparently called police shortly before 8 pm, Wednesday.\n",
            "\n",
            "-----\n",
            "\n",
            "2. Target: Sci/Tech, Pred: Business, Prob: 0.99853515625\n",
            "\n",
            "Text:\n",
            "DreamWorks Animation IPO Set at 29M Shares Underwriters for DreamWorks Animation SKG Inc., producer of the blockbuster \"Shrek\" movies, Tuesday set the terms of the company's pending initial public offering at 29 million common shares, with an estimated price range of \\$23 to \\$25 a share.\n",
            "\n",
            "-----\n",
            "\n",
            "3. Target: Business, Pred: World, Prob: 0.99853515625\n",
            "\n",
            "Text:\n",
            "Nepal blockade 'blow to tourism' Nepal tour operators say tourists cancelled millions of  dollars of bookings due to the rebel blockade of Kathmandu.\n",
            "\n",
            "-----\n",
            "\n",
            "4. Target: Business, Pred: World, Prob: 0.998046875\n",
            "\n",
            "Text:\n",
            "Megawati kicks off 36th ASEAN economic meeting JAKARTA (Agencies): President Megawati Soekarnoputri opened high-level economic talks between members of the Association of Southeast Asian Nations (ASEAN) on Friday with a warning to ASEAN leaders that they must stay the course on their agreed \n",
            "\n",
            "-----\n",
            "\n",
            "5. Target: Sci/Tech, Pred: World, Prob: 0.998046875\n",
            "\n",
            "Text:\n",
            "Philippines mourns dead in Russian school siege The Philippines Saturday expressed quot;deepest sympathy quot; to the families of the dead in the Russian school siege on Friday, in which 322 people were killed when Russian troops stormed \n",
            "\n",
            "-----\n",
            "\n",
            "6. Target: Sci/Tech, Pred: Business, Prob: 0.99755859375\n",
            "\n",
            "Text:\n",
            "Before-the-Bell: GenCorp Falls 5.6 Pct. (Reuters) Reuters - Shares of GenCorp Inc.  fell 5.6\\percent before the opening bell on Monday after investment fund\\Steel Partners withdrew its proposal to acquire the aerospace\\and real estate company.\n",
            "\n",
            "-----\n",
            "\n",
            "7. Target: Sci/Tech, Pred: Business, Prob: 0.99755859375\n",
            "\n",
            "Text:\n",
            "Greenspan: Debt, home prices not dangerous The record level of debt carried by American households and soaring home prices do not appear to represent serious threats to the US economy, Federal Reserve Chairman Alan Greenspan said Tuesday.\n",
            "\n",
            "-----\n",
            "\n",
            "8. Target: Business, Pred: Sci/Tech, Prob: 0.99755859375\n",
            "\n",
            "Text:\n",
            "Ask Jeeves retools search engine in bid to catch Google, Yahoo SAN FRANCISCO -- Hoping to emerge from the shadow of its more popular rivals, Ask Jeeves Inc. is adding new tools for visitors to save and organize links to Web pages they find through the company's online search engine.\n",
            "\n",
            "-----\n",
            "\n",
            "9. Target: World, Pred: Business, Prob: 0.9970703125\n",
            "\n",
            "Text:\n",
            "German investor confidence slumped in September BERLIN - German investor confidence dropped sharply in September, a key economic indicator released Tuesday showed amid concerns about the impact of high oil prices on consumer demand and the outlook for the global economy.\n",
            "\n",
            "-----\n",
            "\n",
            "10. Target: World, Pred: Sci/Tech, Prob: 0.99609375\n",
            "\n",
            "Text:\n",
            "Gordon Cooper, NASA Mercury Pioneer, Dies LOS ANGELES - Gordon Cooper, who was the youngest and perhaps cockiest member of the original Mercury astronauts and set the space endurance record that helped clear the way for the first moon landing, has died. He was 77...\n",
            "\n",
            "-----\n",
            "\n"
          ],
          "name": "stdout"
        }
      ]
    },
    {
      "cell_type": "markdown",
      "metadata": {
        "id": "ZcoXqS8J2QHc"
      },
      "source": [
        "**Analysis:**\n",
        "\n",
        "Based on the results, I would argue that most of these samples are mislabeled.\n",
        "\n",
        "First sample is about a man stabbing his parents, which is not science or sechnology news. The second sample is about the initial public offerings of DreamWorks, which I would consider business news rather than science/tech. The 3rd example is about how the rebel blockade of Kathmandu negatively impacted Nepal's tourism. The target is business, however I think world news would be a more adequate class since the news is about a foreign country's internal issues. Similarly, the 5th example is about killings of Russian troops in a school siege which also would be interpreted as world news rather than science or tech news.\n",
        "\n",
        "On the other hand, there are some samples where the model gets confused and mispredicts the class. The last sample is about the death of a NASA astronaut. I would interpret it as world news, which is also the target. However, the model predicts science/tech which is understandable since there are many science terms included in text like NASA, astronaut and moon landing. "
      ]
    },
    {
      "cell_type": "markdown",
      "metadata": {
        "id": "sUmxK3ehne7Z"
      },
      "source": [
        "## Making Example Predictions"
      ]
    },
    {
      "cell_type": "code",
      "metadata": {
        "id": "9g4pd0RZnlKI",
        "colab": {
          "base_uri": "https://localhost:8080/",
          "height": 175
        },
        "outputId": "d178ca18-e280-434c-8d6e-c2e308ab7213"
      },
      "source": [
        "# Setting up the sample news dataset\n",
        "news1 = {}\n",
        "news1['text'] = 'United Airlines will require its US staff to be vaccinated against COVID-19. The rule will kick in this fall, CEO Scott Kirby and president Brett Hart said in a memo to staff.'\n",
        "news1['source'] = 'https://www.cnet.com/health/united-airlines-will-require-staff-to-be-vaccinated/'\n",
        "news2 = {}\n",
        "news2['text'] = 'Brazil beat Spain in extra time to retain Olympic football gold'\n",
        "news2['source'] = 'https://www.aljazeera.com/news/2021/8/7/brazil-beat-spain-in-extra-time-to-retain-olympic-football-gold'\n",
        "news3 = {}\n",
        "news3['text'] = \"Biden addresses the crisis in Afghanistan after Taliban take Kabul\"\n",
        "news3['source'] = 'https://www.cnbc.com/2021/08/16/watch-biden-afghanistan-speech-live.html'\n",
        "news4 = {}\n",
        "news4['text'] = 'Probiotics help lab corals survive deadly heat stress'\n",
        "news4['source'] = 'https://www.sciencenews.org/article/probiotics-lab-coral-heat-stress-death-reef-survival-ocean-warming'\n",
        "\n",
        "sample_news = []\n",
        "sample_news.append(news1)\n",
        "sample_news.append(news2)\n",
        "sample_news.append(news3)\n",
        "sample_news.append(news4)\n",
        "\n",
        "sample_news_df = pd.DataFrame(sample_news)\n",
        "sample_news_df['labels'] = [3, 2, 1, 4]\n",
        "sample_news_df['classes'] = [class_names[label-1] for label in sample_news_df['labels']]\n",
        "sample_news_df"
      ],
      "execution_count": null,
      "outputs": [
        {
          "output_type": "execute_result",
          "data": {
            "text/html": [
              "<div>\n",
              "<style scoped>\n",
              "    .dataframe tbody tr th:only-of-type {\n",
              "        vertical-align: middle;\n",
              "    }\n",
              "\n",
              "    .dataframe tbody tr th {\n",
              "        vertical-align: top;\n",
              "    }\n",
              "\n",
              "    .dataframe thead th {\n",
              "        text-align: right;\n",
              "    }\n",
              "</style>\n",
              "<table border=\"1\" class=\"dataframe\">\n",
              "  <thead>\n",
              "    <tr style=\"text-align: right;\">\n",
              "      <th></th>\n",
              "      <th>text</th>\n",
              "      <th>source</th>\n",
              "      <th>labels</th>\n",
              "      <th>classes</th>\n",
              "    </tr>\n",
              "  </thead>\n",
              "  <tbody>\n",
              "    <tr>\n",
              "      <th>0</th>\n",
              "      <td>United Airlines will require its US staff to b...</td>\n",
              "      <td>https://www.cnet.com/health/united-airlines-wi...</td>\n",
              "      <td>3</td>\n",
              "      <td>Business</td>\n",
              "    </tr>\n",
              "    <tr>\n",
              "      <th>1</th>\n",
              "      <td>Brazil beat Spain in extra time to retain Olym...</td>\n",
              "      <td>https://www.aljazeera.com/news/2021/8/7/brazil...</td>\n",
              "      <td>2</td>\n",
              "      <td>Sports</td>\n",
              "    </tr>\n",
              "    <tr>\n",
              "      <th>2</th>\n",
              "      <td>Biden addresses the crisis in Afghanistan afte...</td>\n",
              "      <td>https://www.cnbc.com/2021/08/16/watch-biden-af...</td>\n",
              "      <td>1</td>\n",
              "      <td>World</td>\n",
              "    </tr>\n",
              "    <tr>\n",
              "      <th>3</th>\n",
              "      <td>Probiotics help lab corals survive deadly heat...</td>\n",
              "      <td>https://www.sciencenews.org/article/probiotics...</td>\n",
              "      <td>4</td>\n",
              "      <td>Sci/Tech</td>\n",
              "    </tr>\n",
              "  </tbody>\n",
              "</table>\n",
              "</div>"
            ],
            "text/plain": [
              "                                                text  ...   classes\n",
              "0  United Airlines will require its US staff to b...  ...  Business\n",
              "1  Brazil beat Spain in extra time to retain Olym...  ...    Sports\n",
              "2  Biden addresses the crisis in Afghanistan afte...  ...     World\n",
              "3  Probiotics help lab corals survive deadly heat...  ...  Sci/Tech\n",
              "\n",
              "[4 rows x 4 columns]"
            ]
          },
          "metadata": {},
          "execution_count": 98
        }
      ]
    },
    {
      "cell_type": "code",
      "metadata": {
        "id": "xmJNkx8Y7YtU"
      },
      "source": [
        "# Preparing the sample news for predictions\n",
        "sample_news_df['text'] = sample_news_df['text'].apply(lambda x: remove_unwanted(x))\n",
        "sample_token_data = sample_news_df['text'].tolist()\n",
        "sample_char_data = sample_news_df['text'].apply(lambda x: split_chars(x)).tolist()\n",
        "sample_data = tf.data.Dataset.from_tensor_slices((sample_token_data, sample_char_data))\n",
        "sample_labels = tf.data.Dataset.from_tensor_slices(sample_news_df['labels'].tolist())\n",
        "test_sample = tf.data.Dataset.zip((sample_data, sample_labels))"
      ],
      "execution_count": null,
      "outputs": []
    },
    {
      "cell_type": "code",
      "metadata": {
        "id": "KqtHiBId82kh",
        "colab": {
          "base_uri": "https://localhost:8080/"
        },
        "outputId": "47481685-b0b3-4ead-faec-39c45b0726ee"
      },
      "source": [
        "sample_pred_probs = model_3.predict(test_sample.batch(1))\n",
        "sample_preds = tf.argmax(sample_pred_probs, axis=1)\n",
        "pred_classes = [class_names[pred] for pred in sample_preds]\n",
        "pred_classes"
      ],
      "execution_count": null,
      "outputs": [
        {
          "output_type": "execute_result",
          "data": {
            "text/plain": [
              "['Business', 'Sports', 'World', 'Sci/Tech']"
            ]
          },
          "metadata": {},
          "execution_count": 103
        }
      ]
    },
    {
      "cell_type": "code",
      "metadata": {
        "id": "XjZf6Ww99lrh",
        "colab": {
          "base_uri": "https://localhost:8080/"
        },
        "outputId": "f7e3d767-82e4-431d-8761-7102f9d8b220"
      },
      "source": [
        "sample_news_df['pred'] = pred_classes\n",
        "sample_news_df['pred_probs'] = tf.reduce_max(sample_pred_probs, axis=1).numpy()\n",
        "for row in sample_news_df.itertuples():\n",
        "  _, text, _, label, classes, prediction, pred_prob = row\n",
        "  print(f\"Target: {classes}, Pred: {prediction}, Prob: {pred_prob}\\n\")\n",
        "  print(f\"Text:\\n{text}\\n\")\n",
        "  print(\"-----\\n\")"
      ],
      "execution_count": null,
      "outputs": [
        {
          "output_type": "stream",
          "text": [
            "Target: Business, Pred: Business, Prob: 0.759765625\n",
            "\n",
            "Text:\n",
            "United Airlines require US staff vaccinated COVID19 The rule kick fall CEO Scott Kirby president Brett Hart said memo staff\n",
            "\n",
            "-----\n",
            "\n",
            "Target: Sports, Pred: Sports, Prob: 0.859375\n",
            "\n",
            "Text:\n",
            "Brazil beat Spain extra time retain Olympic football gold\n",
            "\n",
            "-----\n",
            "\n",
            "Target: World, Pred: World, Prob: 0.97216796875\n",
            "\n",
            "Text:\n",
            "Biden addresses crisis Afghanistan Taliban Kabul\n",
            "\n",
            "-----\n",
            "\n",
            "Target: Sci/Tech, Pred: Sci/Tech, Prob: 0.85107421875\n",
            "\n",
            "Text:\n",
            "Probiotics help lab corals survive deadly heat stress\n",
            "\n",
            "-----\n",
            "\n"
          ],
          "name": "stdout"
        }
      ]
    }
  ]
}