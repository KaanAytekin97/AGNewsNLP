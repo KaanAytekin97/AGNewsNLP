{
  "nbformat": 4,
  "nbformat_minor": 0,
  "metadata": {
    "colab": {
      "name": "AG_News_NLP_Project.ipynb adlı not defterinin kopyası",
      "provenance": [],
      "collapsed_sections": [],
      "toc_visible": true
    },
    "kernelspec": {
      "display_name": "Python 3",
      "name": "python3"
    },
    "language_info": {
      "name": "python"
    },
    "widgets": {
      "application/vnd.jupyter.widget-state+json": {
        "99f609e2965f4a8883857b163a563da6": {
          "model_module": "@jupyter-widgets/controls",
          "model_name": "HBoxModel",
          "model_module_version": "1.5.0",
          "state": {
            "_view_name": "HBoxView",
            "_dom_classes": [],
            "_model_name": "HBoxModel",
            "_view_module": "@jupyter-widgets/controls",
            "_model_module_version": "1.5.0",
            "_view_count": null,
            "_view_module_version": "1.5.0",
            "box_style": "",
            "layout": "IPY_MODEL_fdea9702e9884f4abfb0b4763590a98b",
            "_model_module": "@jupyter-widgets/controls",
            "children": [
              "IPY_MODEL_3eec02378ecd4b5da3103983975329b5",
              "IPY_MODEL_089617f6c806411ea1fa78262f3e9d1c",
              "IPY_MODEL_425d70d689094ba385eee310e3aa7dcc"
            ]
          }
        },
        "fdea9702e9884f4abfb0b4763590a98b": {
          "model_module": "@jupyter-widgets/base",
          "model_name": "LayoutModel",
          "model_module_version": "1.2.0",
          "state": {
            "_view_name": "LayoutView",
            "grid_template_rows": null,
            "right": null,
            "justify_content": null,
            "_view_module": "@jupyter-widgets/base",
            "overflow": null,
            "_model_module_version": "1.2.0",
            "_view_count": null,
            "flex_flow": null,
            "width": null,
            "min_width": null,
            "border": null,
            "align_items": null,
            "bottom": null,
            "_model_module": "@jupyter-widgets/base",
            "top": null,
            "grid_column": null,
            "overflow_y": null,
            "overflow_x": null,
            "grid_auto_flow": null,
            "grid_area": null,
            "grid_template_columns": null,
            "flex": null,
            "_model_name": "LayoutModel",
            "justify_items": null,
            "grid_row": null,
            "max_height": null,
            "align_content": null,
            "visibility": null,
            "align_self": null,
            "height": null,
            "min_height": null,
            "padding": null,
            "grid_auto_rows": null,
            "grid_gap": null,
            "max_width": null,
            "order": null,
            "_view_module_version": "1.2.0",
            "grid_template_areas": null,
            "object_position": null,
            "object_fit": null,
            "grid_auto_columns": null,
            "margin": null,
            "display": null,
            "left": null
          }
        },
        "3eec02378ecd4b5da3103983975329b5": {
          "model_module": "@jupyter-widgets/controls",
          "model_name": "HTMLModel",
          "model_module_version": "1.5.0",
          "state": {
            "_view_name": "HTMLView",
            "style": "IPY_MODEL_b219e62c7c744b46a69b630eec46a312",
            "_dom_classes": [],
            "description": "",
            "_model_name": "HTMLModel",
            "placeholder": "​",
            "_view_module": "@jupyter-widgets/controls",
            "_model_module_version": "1.5.0",
            "value": "Downloading: ",
            "_view_count": null,
            "_view_module_version": "1.5.0",
            "description_tooltip": null,
            "_model_module": "@jupyter-widgets/controls",
            "layout": "IPY_MODEL_1de168bb78974beab109d9398999e7b7"
          }
        },
        "089617f6c806411ea1fa78262f3e9d1c": {
          "model_module": "@jupyter-widgets/controls",
          "model_name": "FloatProgressModel",
          "model_module_version": "1.5.0",
          "state": {
            "_view_name": "ProgressView",
            "style": "IPY_MODEL_e9083790d43b46f19cabcdb6224fc1e3",
            "_dom_classes": [],
            "description": "",
            "_model_name": "FloatProgressModel",
            "bar_style": "success",
            "max": 1831,
            "_view_module": "@jupyter-widgets/controls",
            "_model_module_version": "1.5.0",
            "value": 1831,
            "_view_count": null,
            "_view_module_version": "1.5.0",
            "orientation": "horizontal",
            "min": 0,
            "description_tooltip": null,
            "_model_module": "@jupyter-widgets/controls",
            "layout": "IPY_MODEL_871862f3d0aa4d118cd656b834244918"
          }
        },
        "425d70d689094ba385eee310e3aa7dcc": {
          "model_module": "@jupyter-widgets/controls",
          "model_name": "HTMLModel",
          "model_module_version": "1.5.0",
          "state": {
            "_view_name": "HTMLView",
            "style": "IPY_MODEL_40e7cefbc3b54871b6d5c18645a6efe5",
            "_dom_classes": [],
            "description": "",
            "_model_name": "HTMLModel",
            "placeholder": "​",
            "_view_module": "@jupyter-widgets/controls",
            "_model_module_version": "1.5.0",
            "value": " 4.06k/? [00:00&lt;00:00, 88.8kB/s]",
            "_view_count": null,
            "_view_module_version": "1.5.0",
            "description_tooltip": null,
            "_model_module": "@jupyter-widgets/controls",
            "layout": "IPY_MODEL_fa34246e7606458092789454b622fd6e"
          }
        },
        "b219e62c7c744b46a69b630eec46a312": {
          "model_module": "@jupyter-widgets/controls",
          "model_name": "DescriptionStyleModel",
          "model_module_version": "1.5.0",
          "state": {
            "_view_name": "StyleView",
            "_model_name": "DescriptionStyleModel",
            "description_width": "",
            "_view_module": "@jupyter-widgets/base",
            "_model_module_version": "1.5.0",
            "_view_count": null,
            "_view_module_version": "1.2.0",
            "_model_module": "@jupyter-widgets/controls"
          }
        },
        "1de168bb78974beab109d9398999e7b7": {
          "model_module": "@jupyter-widgets/base",
          "model_name": "LayoutModel",
          "model_module_version": "1.2.0",
          "state": {
            "_view_name": "LayoutView",
            "grid_template_rows": null,
            "right": null,
            "justify_content": null,
            "_view_module": "@jupyter-widgets/base",
            "overflow": null,
            "_model_module_version": "1.2.0",
            "_view_count": null,
            "flex_flow": null,
            "width": null,
            "min_width": null,
            "border": null,
            "align_items": null,
            "bottom": null,
            "_model_module": "@jupyter-widgets/base",
            "top": null,
            "grid_column": null,
            "overflow_y": null,
            "overflow_x": null,
            "grid_auto_flow": null,
            "grid_area": null,
            "grid_template_columns": null,
            "flex": null,
            "_model_name": "LayoutModel",
            "justify_items": null,
            "grid_row": null,
            "max_height": null,
            "align_content": null,
            "visibility": null,
            "align_self": null,
            "height": null,
            "min_height": null,
            "padding": null,
            "grid_auto_rows": null,
            "grid_gap": null,
            "max_width": null,
            "order": null,
            "_view_module_version": "1.2.0",
            "grid_template_areas": null,
            "object_position": null,
            "object_fit": null,
            "grid_auto_columns": null,
            "margin": null,
            "display": null,
            "left": null
          }
        },
        "e9083790d43b46f19cabcdb6224fc1e3": {
          "model_module": "@jupyter-widgets/controls",
          "model_name": "ProgressStyleModel",
          "model_module_version": "1.5.0",
          "state": {
            "_view_name": "StyleView",
            "_model_name": "ProgressStyleModel",
            "description_width": "",
            "_view_module": "@jupyter-widgets/base",
            "_model_module_version": "1.5.0",
            "_view_count": null,
            "_view_module_version": "1.2.0",
            "bar_color": null,
            "_model_module": "@jupyter-widgets/controls"
          }
        },
        "871862f3d0aa4d118cd656b834244918": {
          "model_module": "@jupyter-widgets/base",
          "model_name": "LayoutModel",
          "model_module_version": "1.2.0",
          "state": {
            "_view_name": "LayoutView",
            "grid_template_rows": null,
            "right": null,
            "justify_content": null,
            "_view_module": "@jupyter-widgets/base",
            "overflow": null,
            "_model_module_version": "1.2.0",
            "_view_count": null,
            "flex_flow": null,
            "width": null,
            "min_width": null,
            "border": null,
            "align_items": null,
            "bottom": null,
            "_model_module": "@jupyter-widgets/base",
            "top": null,
            "grid_column": null,
            "overflow_y": null,
            "overflow_x": null,
            "grid_auto_flow": null,
            "grid_area": null,
            "grid_template_columns": null,
            "flex": null,
            "_model_name": "LayoutModel",
            "justify_items": null,
            "grid_row": null,
            "max_height": null,
            "align_content": null,
            "visibility": null,
            "align_self": null,
            "height": null,
            "min_height": null,
            "padding": null,
            "grid_auto_rows": null,
            "grid_gap": null,
            "max_width": null,
            "order": null,
            "_view_module_version": "1.2.0",
            "grid_template_areas": null,
            "object_position": null,
            "object_fit": null,
            "grid_auto_columns": null,
            "margin": null,
            "display": null,
            "left": null
          }
        },
        "40e7cefbc3b54871b6d5c18645a6efe5": {
          "model_module": "@jupyter-widgets/controls",
          "model_name": "DescriptionStyleModel",
          "model_module_version": "1.5.0",
          "state": {
            "_view_name": "StyleView",
            "_model_name": "DescriptionStyleModel",
            "description_width": "",
            "_view_module": "@jupyter-widgets/base",
            "_model_module_version": "1.5.0",
            "_view_count": null,
            "_view_module_version": "1.2.0",
            "_model_module": "@jupyter-widgets/controls"
          }
        },
        "fa34246e7606458092789454b622fd6e": {
          "model_module": "@jupyter-widgets/base",
          "model_name": "LayoutModel",
          "model_module_version": "1.2.0",
          "state": {
            "_view_name": "LayoutView",
            "grid_template_rows": null,
            "right": null,
            "justify_content": null,
            "_view_module": "@jupyter-widgets/base",
            "overflow": null,
            "_model_module_version": "1.2.0",
            "_view_count": null,
            "flex_flow": null,
            "width": null,
            "min_width": null,
            "border": null,
            "align_items": null,
            "bottom": null,
            "_model_module": "@jupyter-widgets/base",
            "top": null,
            "grid_column": null,
            "overflow_y": null,
            "overflow_x": null,
            "grid_auto_flow": null,
            "grid_area": null,
            "grid_template_columns": null,
            "flex": null,
            "_model_name": "LayoutModel",
            "justify_items": null,
            "grid_row": null,
            "max_height": null,
            "align_content": null,
            "visibility": null,
            "align_self": null,
            "height": null,
            "min_height": null,
            "padding": null,
            "grid_auto_rows": null,
            "grid_gap": null,
            "max_width": null,
            "order": null,
            "_view_module_version": "1.2.0",
            "grid_template_areas": null,
            "object_position": null,
            "object_fit": null,
            "grid_auto_columns": null,
            "margin": null,
            "display": null,
            "left": null
          }
        },
        "ef5ba83086104311a317d1cfa6e08385": {
          "model_module": "@jupyter-widgets/controls",
          "model_name": "HBoxModel",
          "model_module_version": "1.5.0",
          "state": {
            "_view_name": "HBoxView",
            "_dom_classes": [],
            "_model_name": "HBoxModel",
            "_view_module": "@jupyter-widgets/controls",
            "_model_module_version": "1.5.0",
            "_view_count": null,
            "_view_module_version": "1.5.0",
            "box_style": "",
            "layout": "IPY_MODEL_6e0c273b81964a119be45d0743ae384c",
            "_model_module": "@jupyter-widgets/controls",
            "children": [
              "IPY_MODEL_a22e644d961f4bc9a25c3582b0f1cfe1",
              "IPY_MODEL_8cb9bbb7150849d09a8c0c28e1e352dc",
              "IPY_MODEL_cc2506268964495597d0748574086c7b"
            ]
          }
        },
        "6e0c273b81964a119be45d0743ae384c": {
          "model_module": "@jupyter-widgets/base",
          "model_name": "LayoutModel",
          "model_module_version": "1.2.0",
          "state": {
            "_view_name": "LayoutView",
            "grid_template_rows": null,
            "right": null,
            "justify_content": null,
            "_view_module": "@jupyter-widgets/base",
            "overflow": null,
            "_model_module_version": "1.2.0",
            "_view_count": null,
            "flex_flow": null,
            "width": null,
            "min_width": null,
            "border": null,
            "align_items": null,
            "bottom": null,
            "_model_module": "@jupyter-widgets/base",
            "top": null,
            "grid_column": null,
            "overflow_y": null,
            "overflow_x": null,
            "grid_auto_flow": null,
            "grid_area": null,
            "grid_template_columns": null,
            "flex": null,
            "_model_name": "LayoutModel",
            "justify_items": null,
            "grid_row": null,
            "max_height": null,
            "align_content": null,
            "visibility": null,
            "align_self": null,
            "height": null,
            "min_height": null,
            "padding": null,
            "grid_auto_rows": null,
            "grid_gap": null,
            "max_width": null,
            "order": null,
            "_view_module_version": "1.2.0",
            "grid_template_areas": null,
            "object_position": null,
            "object_fit": null,
            "grid_auto_columns": null,
            "margin": null,
            "display": null,
            "left": null
          }
        },
        "a22e644d961f4bc9a25c3582b0f1cfe1": {
          "model_module": "@jupyter-widgets/controls",
          "model_name": "HTMLModel",
          "model_module_version": "1.5.0",
          "state": {
            "_view_name": "HTMLView",
            "style": "IPY_MODEL_27636ff130d8407d8559793cc5667a4e",
            "_dom_classes": [],
            "description": "",
            "_model_name": "HTMLModel",
            "placeholder": "​",
            "_view_module": "@jupyter-widgets/controls",
            "_model_module_version": "1.5.0",
            "value": "Downloading: ",
            "_view_count": null,
            "_view_module_version": "1.5.0",
            "description_tooltip": null,
            "_model_module": "@jupyter-widgets/controls",
            "layout": "IPY_MODEL_79a0195ce9d24a688a9c8e7db6086223"
          }
        },
        "8cb9bbb7150849d09a8c0c28e1e352dc": {
          "model_module": "@jupyter-widgets/controls",
          "model_name": "FloatProgressModel",
          "model_module_version": "1.5.0",
          "state": {
            "_view_name": "ProgressView",
            "style": "IPY_MODEL_20b7eb4399d04714a03b05a5c3dc50c8",
            "_dom_classes": [],
            "description": "",
            "_model_name": "FloatProgressModel",
            "bar_style": "success",
            "max": 1285,
            "_view_module": "@jupyter-widgets/controls",
            "_model_module_version": "1.5.0",
            "value": 1285,
            "_view_count": null,
            "_view_module_version": "1.5.0",
            "orientation": "horizontal",
            "min": 0,
            "description_tooltip": null,
            "_model_module": "@jupyter-widgets/controls",
            "layout": "IPY_MODEL_63ddb9b6391945f3a126ae693631a2aa"
          }
        },
        "cc2506268964495597d0748574086c7b": {
          "model_module": "@jupyter-widgets/controls",
          "model_name": "HTMLModel",
          "model_module_version": "1.5.0",
          "state": {
            "_view_name": "HTMLView",
            "style": "IPY_MODEL_842ca2e2afb44abc8af3dfbf62e06cfe",
            "_dom_classes": [],
            "description": "",
            "_model_name": "HTMLModel",
            "placeholder": "​",
            "_view_module": "@jupyter-widgets/controls",
            "_model_module_version": "1.5.0",
            "value": " 2.65k/? [00:00&lt;00:00, 62.0kB/s]",
            "_view_count": null,
            "_view_module_version": "1.5.0",
            "description_tooltip": null,
            "_model_module": "@jupyter-widgets/controls",
            "layout": "IPY_MODEL_e3df2e870576474f80a2e250f38f1d85"
          }
        },
        "27636ff130d8407d8559793cc5667a4e": {
          "model_module": "@jupyter-widgets/controls",
          "model_name": "DescriptionStyleModel",
          "model_module_version": "1.5.0",
          "state": {
            "_view_name": "StyleView",
            "_model_name": "DescriptionStyleModel",
            "description_width": "",
            "_view_module": "@jupyter-widgets/base",
            "_model_module_version": "1.5.0",
            "_view_count": null,
            "_view_module_version": "1.2.0",
            "_model_module": "@jupyter-widgets/controls"
          }
        },
        "79a0195ce9d24a688a9c8e7db6086223": {
          "model_module": "@jupyter-widgets/base",
          "model_name": "LayoutModel",
          "model_module_version": "1.2.0",
          "state": {
            "_view_name": "LayoutView",
            "grid_template_rows": null,
            "right": null,
            "justify_content": null,
            "_view_module": "@jupyter-widgets/base",
            "overflow": null,
            "_model_module_version": "1.2.0",
            "_view_count": null,
            "flex_flow": null,
            "width": null,
            "min_width": null,
            "border": null,
            "align_items": null,
            "bottom": null,
            "_model_module": "@jupyter-widgets/base",
            "top": null,
            "grid_column": null,
            "overflow_y": null,
            "overflow_x": null,
            "grid_auto_flow": null,
            "grid_area": null,
            "grid_template_columns": null,
            "flex": null,
            "_model_name": "LayoutModel",
            "justify_items": null,
            "grid_row": null,
            "max_height": null,
            "align_content": null,
            "visibility": null,
            "align_self": null,
            "height": null,
            "min_height": null,
            "padding": null,
            "grid_auto_rows": null,
            "grid_gap": null,
            "max_width": null,
            "order": null,
            "_view_module_version": "1.2.0",
            "grid_template_areas": null,
            "object_position": null,
            "object_fit": null,
            "grid_auto_columns": null,
            "margin": null,
            "display": null,
            "left": null
          }
        },
        "20b7eb4399d04714a03b05a5c3dc50c8": {
          "model_module": "@jupyter-widgets/controls",
          "model_name": "ProgressStyleModel",
          "model_module_version": "1.5.0",
          "state": {
            "_view_name": "StyleView",
            "_model_name": "ProgressStyleModel",
            "description_width": "",
            "_view_module": "@jupyter-widgets/base",
            "_model_module_version": "1.5.0",
            "_view_count": null,
            "_view_module_version": "1.2.0",
            "bar_color": null,
            "_model_module": "@jupyter-widgets/controls"
          }
        },
        "63ddb9b6391945f3a126ae693631a2aa": {
          "model_module": "@jupyter-widgets/base",
          "model_name": "LayoutModel",
          "model_module_version": "1.2.0",
          "state": {
            "_view_name": "LayoutView",
            "grid_template_rows": null,
            "right": null,
            "justify_content": null,
            "_view_module": "@jupyter-widgets/base",
            "overflow": null,
            "_model_module_version": "1.2.0",
            "_view_count": null,
            "flex_flow": null,
            "width": null,
            "min_width": null,
            "border": null,
            "align_items": null,
            "bottom": null,
            "_model_module": "@jupyter-widgets/base",
            "top": null,
            "grid_column": null,
            "overflow_y": null,
            "overflow_x": null,
            "grid_auto_flow": null,
            "grid_area": null,
            "grid_template_columns": null,
            "flex": null,
            "_model_name": "LayoutModel",
            "justify_items": null,
            "grid_row": null,
            "max_height": null,
            "align_content": null,
            "visibility": null,
            "align_self": null,
            "height": null,
            "min_height": null,
            "padding": null,
            "grid_auto_rows": null,
            "grid_gap": null,
            "max_width": null,
            "order": null,
            "_view_module_version": "1.2.0",
            "grid_template_areas": null,
            "object_position": null,
            "object_fit": null,
            "grid_auto_columns": null,
            "margin": null,
            "display": null,
            "left": null
          }
        },
        "842ca2e2afb44abc8af3dfbf62e06cfe": {
          "model_module": "@jupyter-widgets/controls",
          "model_name": "DescriptionStyleModel",
          "model_module_version": "1.5.0",
          "state": {
            "_view_name": "StyleView",
            "_model_name": "DescriptionStyleModel",
            "description_width": "",
            "_view_module": "@jupyter-widgets/base",
            "_model_module_version": "1.5.0",
            "_view_count": null,
            "_view_module_version": "1.2.0",
            "_model_module": "@jupyter-widgets/controls"
          }
        },
        "e3df2e870576474f80a2e250f38f1d85": {
          "model_module": "@jupyter-widgets/base",
          "model_name": "LayoutModel",
          "model_module_version": "1.2.0",
          "state": {
            "_view_name": "LayoutView",
            "grid_template_rows": null,
            "right": null,
            "justify_content": null,
            "_view_module": "@jupyter-widgets/base",
            "overflow": null,
            "_model_module_version": "1.2.0",
            "_view_count": null,
            "flex_flow": null,
            "width": null,
            "min_width": null,
            "border": null,
            "align_items": null,
            "bottom": null,
            "_model_module": "@jupyter-widgets/base",
            "top": null,
            "grid_column": null,
            "overflow_y": null,
            "overflow_x": null,
            "grid_auto_flow": null,
            "grid_area": null,
            "grid_template_columns": null,
            "flex": null,
            "_model_name": "LayoutModel",
            "justify_items": null,
            "grid_row": null,
            "max_height": null,
            "align_content": null,
            "visibility": null,
            "align_self": null,
            "height": null,
            "min_height": null,
            "padding": null,
            "grid_auto_rows": null,
            "grid_gap": null,
            "max_width": null,
            "order": null,
            "_view_module_version": "1.2.0",
            "grid_template_areas": null,
            "object_position": null,
            "object_fit": null,
            "grid_auto_columns": null,
            "margin": null,
            "display": null,
            "left": null
          }
        },
        "e031c60c5d5844dfa5b3c077dfd941e6": {
          "model_module": "@jupyter-widgets/controls",
          "model_name": "HBoxModel",
          "model_module_version": "1.5.0",
          "state": {
            "_view_name": "HBoxView",
            "_dom_classes": [],
            "_model_name": "HBoxModel",
            "_view_module": "@jupyter-widgets/controls",
            "_model_module_version": "1.5.0",
            "_view_count": null,
            "_view_module_version": "1.5.0",
            "box_style": "",
            "layout": "IPY_MODEL_654bc0d2fc3f4a28b7c920dc1c81c409",
            "_model_module": "@jupyter-widgets/controls",
            "children": [
              "IPY_MODEL_1fb6b6da378d4759806448014bbe7d6e",
              "IPY_MODEL_6262e141570949babba72e5d43e4c6da",
              "IPY_MODEL_30edf7e2e5cd4ff69c63297bd15725d7"
            ]
          }
        },
        "654bc0d2fc3f4a28b7c920dc1c81c409": {
          "model_module": "@jupyter-widgets/base",
          "model_name": "LayoutModel",
          "model_module_version": "1.2.0",
          "state": {
            "_view_name": "LayoutView",
            "grid_template_rows": null,
            "right": null,
            "justify_content": null,
            "_view_module": "@jupyter-widgets/base",
            "overflow": null,
            "_model_module_version": "1.2.0",
            "_view_count": null,
            "flex_flow": null,
            "width": null,
            "min_width": null,
            "border": null,
            "align_items": null,
            "bottom": null,
            "_model_module": "@jupyter-widgets/base",
            "top": null,
            "grid_column": null,
            "overflow_y": null,
            "overflow_x": null,
            "grid_auto_flow": null,
            "grid_area": null,
            "grid_template_columns": null,
            "flex": null,
            "_model_name": "LayoutModel",
            "justify_items": null,
            "grid_row": null,
            "max_height": null,
            "align_content": null,
            "visibility": null,
            "align_self": null,
            "height": null,
            "min_height": null,
            "padding": null,
            "grid_auto_rows": null,
            "grid_gap": null,
            "max_width": null,
            "order": null,
            "_view_module_version": "1.2.0",
            "grid_template_areas": null,
            "object_position": null,
            "object_fit": null,
            "grid_auto_columns": null,
            "margin": null,
            "display": null,
            "left": null
          }
        },
        "1fb6b6da378d4759806448014bbe7d6e": {
          "model_module": "@jupyter-widgets/controls",
          "model_name": "HTMLModel",
          "model_module_version": "1.5.0",
          "state": {
            "_view_name": "HTMLView",
            "style": "IPY_MODEL_0059d35ce6c54efcb35ca6f55a3d8fc8",
            "_dom_classes": [],
            "description": "",
            "_model_name": "HTMLModel",
            "placeholder": "​",
            "_view_module": "@jupyter-widgets/controls",
            "_model_module_version": "1.5.0",
            "value": "Downloading: ",
            "_view_count": null,
            "_view_module_version": "1.5.0",
            "description_tooltip": null,
            "_model_module": "@jupyter-widgets/controls",
            "layout": "IPY_MODEL_42d07ed3c36f459f949a2e6e1c96a5e6"
          }
        },
        "6262e141570949babba72e5d43e4c6da": {
          "model_module": "@jupyter-widgets/controls",
          "model_name": "FloatProgressModel",
          "model_module_version": "1.5.0",
          "state": {
            "_view_name": "ProgressView",
            "style": "IPY_MODEL_29bcc030ca7e4fab9af1966a0b2ce790",
            "_dom_classes": [],
            "description": "",
            "_model_name": "FloatProgressModel",
            "bar_style": "success",
            "max": 11045148,
            "_view_module": "@jupyter-widgets/controls",
            "_model_module_version": "1.5.0",
            "value": 11045148,
            "_view_count": null,
            "_view_module_version": "1.5.0",
            "orientation": "horizontal",
            "min": 0,
            "description_tooltip": null,
            "_model_module": "@jupyter-widgets/controls",
            "layout": "IPY_MODEL_647a2e44367349d3a4688e8375cae0b0"
          }
        },
        "30edf7e2e5cd4ff69c63297bd15725d7": {
          "model_module": "@jupyter-widgets/controls",
          "model_name": "HTMLModel",
          "model_module_version": "1.5.0",
          "state": {
            "_view_name": "HTMLView",
            "style": "IPY_MODEL_b477460557984d85852792ede69447c4",
            "_dom_classes": [],
            "description": "",
            "_model_name": "HTMLModel",
            "placeholder": "​",
            "_view_module": "@jupyter-widgets/controls",
            "_model_module_version": "1.5.0",
            "value": " 29.5M/? [00:00&lt;00:00, 39.7MB/s]",
            "_view_count": null,
            "_view_module_version": "1.5.0",
            "description_tooltip": null,
            "_model_module": "@jupyter-widgets/controls",
            "layout": "IPY_MODEL_11df6327f81f478ab649d9eb3677340c"
          }
        },
        "0059d35ce6c54efcb35ca6f55a3d8fc8": {
          "model_module": "@jupyter-widgets/controls",
          "model_name": "DescriptionStyleModel",
          "model_module_version": "1.5.0",
          "state": {
            "_view_name": "StyleView",
            "_model_name": "DescriptionStyleModel",
            "description_width": "",
            "_view_module": "@jupyter-widgets/base",
            "_model_module_version": "1.5.0",
            "_view_count": null,
            "_view_module_version": "1.2.0",
            "_model_module": "@jupyter-widgets/controls"
          }
        },
        "42d07ed3c36f459f949a2e6e1c96a5e6": {
          "model_module": "@jupyter-widgets/base",
          "model_name": "LayoutModel",
          "model_module_version": "1.2.0",
          "state": {
            "_view_name": "LayoutView",
            "grid_template_rows": null,
            "right": null,
            "justify_content": null,
            "_view_module": "@jupyter-widgets/base",
            "overflow": null,
            "_model_module_version": "1.2.0",
            "_view_count": null,
            "flex_flow": null,
            "width": null,
            "min_width": null,
            "border": null,
            "align_items": null,
            "bottom": null,
            "_model_module": "@jupyter-widgets/base",
            "top": null,
            "grid_column": null,
            "overflow_y": null,
            "overflow_x": null,
            "grid_auto_flow": null,
            "grid_area": null,
            "grid_template_columns": null,
            "flex": null,
            "_model_name": "LayoutModel",
            "justify_items": null,
            "grid_row": null,
            "max_height": null,
            "align_content": null,
            "visibility": null,
            "align_self": null,
            "height": null,
            "min_height": null,
            "padding": null,
            "grid_auto_rows": null,
            "grid_gap": null,
            "max_width": null,
            "order": null,
            "_view_module_version": "1.2.0",
            "grid_template_areas": null,
            "object_position": null,
            "object_fit": null,
            "grid_auto_columns": null,
            "margin": null,
            "display": null,
            "left": null
          }
        },
        "29bcc030ca7e4fab9af1966a0b2ce790": {
          "model_module": "@jupyter-widgets/controls",
          "model_name": "ProgressStyleModel",
          "model_module_version": "1.5.0",
          "state": {
            "_view_name": "StyleView",
            "_model_name": "ProgressStyleModel",
            "description_width": "",
            "_view_module": "@jupyter-widgets/base",
            "_model_module_version": "1.5.0",
            "_view_count": null,
            "_view_module_version": "1.2.0",
            "bar_color": null,
            "_model_module": "@jupyter-widgets/controls"
          }
        },
        "647a2e44367349d3a4688e8375cae0b0": {
          "model_module": "@jupyter-widgets/base",
          "model_name": "LayoutModel",
          "model_module_version": "1.2.0",
          "state": {
            "_view_name": "LayoutView",
            "grid_template_rows": null,
            "right": null,
            "justify_content": null,
            "_view_module": "@jupyter-widgets/base",
            "overflow": null,
            "_model_module_version": "1.2.0",
            "_view_count": null,
            "flex_flow": null,
            "width": null,
            "min_width": null,
            "border": null,
            "align_items": null,
            "bottom": null,
            "_model_module": "@jupyter-widgets/base",
            "top": null,
            "grid_column": null,
            "overflow_y": null,
            "overflow_x": null,
            "grid_auto_flow": null,
            "grid_area": null,
            "grid_template_columns": null,
            "flex": null,
            "_model_name": "LayoutModel",
            "justify_items": null,
            "grid_row": null,
            "max_height": null,
            "align_content": null,
            "visibility": null,
            "align_self": null,
            "height": null,
            "min_height": null,
            "padding": null,
            "grid_auto_rows": null,
            "grid_gap": null,
            "max_width": null,
            "order": null,
            "_view_module_version": "1.2.0",
            "grid_template_areas": null,
            "object_position": null,
            "object_fit": null,
            "grid_auto_columns": null,
            "margin": null,
            "display": null,
            "left": null
          }
        },
        "b477460557984d85852792ede69447c4": {
          "model_module": "@jupyter-widgets/controls",
          "model_name": "DescriptionStyleModel",
          "model_module_version": "1.5.0",
          "state": {
            "_view_name": "StyleView",
            "_model_name": "DescriptionStyleModel",
            "description_width": "",
            "_view_module": "@jupyter-widgets/base",
            "_model_module_version": "1.5.0",
            "_view_count": null,
            "_view_module_version": "1.2.0",
            "_model_module": "@jupyter-widgets/controls"
          }
        },
        "11df6327f81f478ab649d9eb3677340c": {
          "model_module": "@jupyter-widgets/base",
          "model_name": "LayoutModel",
          "model_module_version": "1.2.0",
          "state": {
            "_view_name": "LayoutView",
            "grid_template_rows": null,
            "right": null,
            "justify_content": null,
            "_view_module": "@jupyter-widgets/base",
            "overflow": null,
            "_model_module_version": "1.2.0",
            "_view_count": null,
            "flex_flow": null,
            "width": null,
            "min_width": null,
            "border": null,
            "align_items": null,
            "bottom": null,
            "_model_module": "@jupyter-widgets/base",
            "top": null,
            "grid_column": null,
            "overflow_y": null,
            "overflow_x": null,
            "grid_auto_flow": null,
            "grid_area": null,
            "grid_template_columns": null,
            "flex": null,
            "_model_name": "LayoutModel",
            "justify_items": null,
            "grid_row": null,
            "max_height": null,
            "align_content": null,
            "visibility": null,
            "align_self": null,
            "height": null,
            "min_height": null,
            "padding": null,
            "grid_auto_rows": null,
            "grid_gap": null,
            "max_width": null,
            "order": null,
            "_view_module_version": "1.2.0",
            "grid_template_areas": null,
            "object_position": null,
            "object_fit": null,
            "grid_auto_columns": null,
            "margin": null,
            "display": null,
            "left": null
          }
        },
        "c6df84f33ab0496a830adf7ae2ad3525": {
          "model_module": "@jupyter-widgets/controls",
          "model_name": "HBoxModel",
          "model_module_version": "1.5.0",
          "state": {
            "_view_name": "HBoxView",
            "_dom_classes": [],
            "_model_name": "HBoxModel",
            "_view_module": "@jupyter-widgets/controls",
            "_model_module_version": "1.5.0",
            "_view_count": null,
            "_view_module_version": "1.5.0",
            "box_style": "",
            "layout": "IPY_MODEL_064cf589f96f4b35958338ff4fcb956f",
            "_model_module": "@jupyter-widgets/controls",
            "children": [
              "IPY_MODEL_850c0e462a604329a0e76f7c672c4283",
              "IPY_MODEL_2047e50931b444bcb83fc1825f1ff478",
              "IPY_MODEL_50d380c74e0a4eb69f2125296df6ddd5"
            ]
          }
        },
        "064cf589f96f4b35958338ff4fcb956f": {
          "model_module": "@jupyter-widgets/base",
          "model_name": "LayoutModel",
          "model_module_version": "1.2.0",
          "state": {
            "_view_name": "LayoutView",
            "grid_template_rows": null,
            "right": null,
            "justify_content": null,
            "_view_module": "@jupyter-widgets/base",
            "overflow": null,
            "_model_module_version": "1.2.0",
            "_view_count": null,
            "flex_flow": null,
            "width": null,
            "min_width": null,
            "border": null,
            "align_items": null,
            "bottom": null,
            "_model_module": "@jupyter-widgets/base",
            "top": null,
            "grid_column": null,
            "overflow_y": null,
            "overflow_x": null,
            "grid_auto_flow": null,
            "grid_area": null,
            "grid_template_columns": null,
            "flex": null,
            "_model_name": "LayoutModel",
            "justify_items": null,
            "grid_row": null,
            "max_height": null,
            "align_content": null,
            "visibility": null,
            "align_self": null,
            "height": null,
            "min_height": null,
            "padding": null,
            "grid_auto_rows": null,
            "grid_gap": null,
            "max_width": null,
            "order": null,
            "_view_module_version": "1.2.0",
            "grid_template_areas": null,
            "object_position": null,
            "object_fit": null,
            "grid_auto_columns": null,
            "margin": null,
            "display": null,
            "left": null
          }
        },
        "850c0e462a604329a0e76f7c672c4283": {
          "model_module": "@jupyter-widgets/controls",
          "model_name": "HTMLModel",
          "model_module_version": "1.5.0",
          "state": {
            "_view_name": "HTMLView",
            "style": "IPY_MODEL_3d9024785c4342908892be9f722b9b50",
            "_dom_classes": [],
            "description": "",
            "_model_name": "HTMLModel",
            "placeholder": "​",
            "_view_module": "@jupyter-widgets/controls",
            "_model_module_version": "1.5.0",
            "value": "Downloading: ",
            "_view_count": null,
            "_view_module_version": "1.5.0",
            "description_tooltip": null,
            "_model_module": "@jupyter-widgets/controls",
            "layout": "IPY_MODEL_72b62da9c1d7430fbca09e6037321452"
          }
        },
        "2047e50931b444bcb83fc1825f1ff478": {
          "model_module": "@jupyter-widgets/controls",
          "model_name": "FloatProgressModel",
          "model_module_version": "1.5.0",
          "state": {
            "_view_name": "ProgressView",
            "style": "IPY_MODEL_2a3c72a23a7c4bc3918a5d70547b4e5c",
            "_dom_classes": [],
            "description": "",
            "_model_name": "FloatProgressModel",
            "bar_style": "success",
            "max": 751209,
            "_view_module": "@jupyter-widgets/controls",
            "_model_module_version": "1.5.0",
            "value": 751209,
            "_view_count": null,
            "_view_module_version": "1.5.0",
            "orientation": "horizontal",
            "min": 0,
            "description_tooltip": null,
            "_model_module": "@jupyter-widgets/controls",
            "layout": "IPY_MODEL_ece2ee03afbd43569e1daad056c6d8b6"
          }
        },
        "50d380c74e0a4eb69f2125296df6ddd5": {
          "model_module": "@jupyter-widgets/controls",
          "model_name": "HTMLModel",
          "model_module_version": "1.5.0",
          "state": {
            "_view_name": "HTMLView",
            "style": "IPY_MODEL_47e1472d63e7496db50f4c2e48cf588a",
            "_dom_classes": [],
            "description": "",
            "_model_name": "HTMLModel",
            "placeholder": "​",
            "_view_module": "@jupyter-widgets/controls",
            "_model_module_version": "1.5.0",
            "value": " 1.86M/? [00:00&lt;00:00, 7.57MB/s]",
            "_view_count": null,
            "_view_module_version": "1.5.0",
            "description_tooltip": null,
            "_model_module": "@jupyter-widgets/controls",
            "layout": "IPY_MODEL_0f15a24a76f44747a85111f164cfa12e"
          }
        },
        "3d9024785c4342908892be9f722b9b50": {
          "model_module": "@jupyter-widgets/controls",
          "model_name": "DescriptionStyleModel",
          "model_module_version": "1.5.0",
          "state": {
            "_view_name": "StyleView",
            "_model_name": "DescriptionStyleModel",
            "description_width": "",
            "_view_module": "@jupyter-widgets/base",
            "_model_module_version": "1.5.0",
            "_view_count": null,
            "_view_module_version": "1.2.0",
            "_model_module": "@jupyter-widgets/controls"
          }
        },
        "72b62da9c1d7430fbca09e6037321452": {
          "model_module": "@jupyter-widgets/base",
          "model_name": "LayoutModel",
          "model_module_version": "1.2.0",
          "state": {
            "_view_name": "LayoutView",
            "grid_template_rows": null,
            "right": null,
            "justify_content": null,
            "_view_module": "@jupyter-widgets/base",
            "overflow": null,
            "_model_module_version": "1.2.0",
            "_view_count": null,
            "flex_flow": null,
            "width": null,
            "min_width": null,
            "border": null,
            "align_items": null,
            "bottom": null,
            "_model_module": "@jupyter-widgets/base",
            "top": null,
            "grid_column": null,
            "overflow_y": null,
            "overflow_x": null,
            "grid_auto_flow": null,
            "grid_area": null,
            "grid_template_columns": null,
            "flex": null,
            "_model_name": "LayoutModel",
            "justify_items": null,
            "grid_row": null,
            "max_height": null,
            "align_content": null,
            "visibility": null,
            "align_self": null,
            "height": null,
            "min_height": null,
            "padding": null,
            "grid_auto_rows": null,
            "grid_gap": null,
            "max_width": null,
            "order": null,
            "_view_module_version": "1.2.0",
            "grid_template_areas": null,
            "object_position": null,
            "object_fit": null,
            "grid_auto_columns": null,
            "margin": null,
            "display": null,
            "left": null
          }
        },
        "2a3c72a23a7c4bc3918a5d70547b4e5c": {
          "model_module": "@jupyter-widgets/controls",
          "model_name": "ProgressStyleModel",
          "model_module_version": "1.5.0",
          "state": {
            "_view_name": "StyleView",
            "_model_name": "ProgressStyleModel",
            "description_width": "",
            "_view_module": "@jupyter-widgets/base",
            "_model_module_version": "1.5.0",
            "_view_count": null,
            "_view_module_version": "1.2.0",
            "bar_color": null,
            "_model_module": "@jupyter-widgets/controls"
          }
        },
        "ece2ee03afbd43569e1daad056c6d8b6": {
          "model_module": "@jupyter-widgets/base",
          "model_name": "LayoutModel",
          "model_module_version": "1.2.0",
          "state": {
            "_view_name": "LayoutView",
            "grid_template_rows": null,
            "right": null,
            "justify_content": null,
            "_view_module": "@jupyter-widgets/base",
            "overflow": null,
            "_model_module_version": "1.2.0",
            "_view_count": null,
            "flex_flow": null,
            "width": null,
            "min_width": null,
            "border": null,
            "align_items": null,
            "bottom": null,
            "_model_module": "@jupyter-widgets/base",
            "top": null,
            "grid_column": null,
            "overflow_y": null,
            "overflow_x": null,
            "grid_auto_flow": null,
            "grid_area": null,
            "grid_template_columns": null,
            "flex": null,
            "_model_name": "LayoutModel",
            "justify_items": null,
            "grid_row": null,
            "max_height": null,
            "align_content": null,
            "visibility": null,
            "align_self": null,
            "height": null,
            "min_height": null,
            "padding": null,
            "grid_auto_rows": null,
            "grid_gap": null,
            "max_width": null,
            "order": null,
            "_view_module_version": "1.2.0",
            "grid_template_areas": null,
            "object_position": null,
            "object_fit": null,
            "grid_auto_columns": null,
            "margin": null,
            "display": null,
            "left": null
          }
        },
        "47e1472d63e7496db50f4c2e48cf588a": {
          "model_module": "@jupyter-widgets/controls",
          "model_name": "DescriptionStyleModel",
          "model_module_version": "1.5.0",
          "state": {
            "_view_name": "StyleView",
            "_model_name": "DescriptionStyleModel",
            "description_width": "",
            "_view_module": "@jupyter-widgets/base",
            "_model_module_version": "1.5.0",
            "_view_count": null,
            "_view_module_version": "1.2.0",
            "_model_module": "@jupyter-widgets/controls"
          }
        },
        "0f15a24a76f44747a85111f164cfa12e": {
          "model_module": "@jupyter-widgets/base",
          "model_name": "LayoutModel",
          "model_module_version": "1.2.0",
          "state": {
            "_view_name": "LayoutView",
            "grid_template_rows": null,
            "right": null,
            "justify_content": null,
            "_view_module": "@jupyter-widgets/base",
            "overflow": null,
            "_model_module_version": "1.2.0",
            "_view_count": null,
            "flex_flow": null,
            "width": null,
            "min_width": null,
            "border": null,
            "align_items": null,
            "bottom": null,
            "_model_module": "@jupyter-widgets/base",
            "top": null,
            "grid_column": null,
            "overflow_y": null,
            "overflow_x": null,
            "grid_auto_flow": null,
            "grid_area": null,
            "grid_template_columns": null,
            "flex": null,
            "_model_name": "LayoutModel",
            "justify_items": null,
            "grid_row": null,
            "max_height": null,
            "align_content": null,
            "visibility": null,
            "align_self": null,
            "height": null,
            "min_height": null,
            "padding": null,
            "grid_auto_rows": null,
            "grid_gap": null,
            "max_width": null,
            "order": null,
            "_view_module_version": "1.2.0",
            "grid_template_areas": null,
            "object_position": null,
            "object_fit": null,
            "grid_auto_columns": null,
            "margin": null,
            "display": null,
            "left": null
          }
        },
        "b4d055c6e97a41b0b4595ce23c3a4157": {
          "model_module": "@jupyter-widgets/controls",
          "model_name": "HBoxModel",
          "model_module_version": "1.5.0",
          "state": {
            "_view_name": "HBoxView",
            "_dom_classes": [],
            "_model_name": "HBoxModel",
            "_view_module": "@jupyter-widgets/controls",
            "_model_module_version": "1.5.0",
            "_view_count": null,
            "_view_module_version": "1.5.0",
            "box_style": "",
            "layout": "IPY_MODEL_a03548e260444caa8ace790cd26c6e45",
            "_model_module": "@jupyter-widgets/controls",
            "children": [
              "IPY_MODEL_fe730dcd079a4966a7e3f41a9c51ddc1",
              "IPY_MODEL_6c6b144c9ba845b1955893ed3a140103",
              "IPY_MODEL_22e2ac8895a240e796a5020fa29f6e79"
            ]
          }
        },
        "a03548e260444caa8ace790cd26c6e45": {
          "model_module": "@jupyter-widgets/base",
          "model_name": "LayoutModel",
          "model_module_version": "1.2.0",
          "state": {
            "_view_name": "LayoutView",
            "grid_template_rows": null,
            "right": null,
            "justify_content": null,
            "_view_module": "@jupyter-widgets/base",
            "overflow": null,
            "_model_module_version": "1.2.0",
            "_view_count": null,
            "flex_flow": null,
            "width": null,
            "min_width": null,
            "border": null,
            "align_items": null,
            "bottom": null,
            "_model_module": "@jupyter-widgets/base",
            "top": null,
            "grid_column": null,
            "overflow_y": null,
            "overflow_x": null,
            "grid_auto_flow": null,
            "grid_area": null,
            "grid_template_columns": null,
            "flex": null,
            "_model_name": "LayoutModel",
            "justify_items": null,
            "grid_row": null,
            "max_height": null,
            "align_content": null,
            "visibility": null,
            "align_self": null,
            "height": null,
            "min_height": null,
            "padding": null,
            "grid_auto_rows": null,
            "grid_gap": null,
            "max_width": null,
            "order": null,
            "_view_module_version": "1.2.0",
            "grid_template_areas": null,
            "object_position": null,
            "object_fit": null,
            "grid_auto_columns": null,
            "margin": null,
            "display": null,
            "left": null
          }
        },
        "fe730dcd079a4966a7e3f41a9c51ddc1": {
          "model_module": "@jupyter-widgets/controls",
          "model_name": "HTMLModel",
          "model_module_version": "1.5.0",
          "state": {
            "_view_name": "HTMLView",
            "style": "IPY_MODEL_c3b11b7315494706b3d85eb58b35f35e",
            "_dom_classes": [],
            "description": "",
            "_model_name": "HTMLModel",
            "placeholder": "​",
            "_view_module": "@jupyter-widgets/controls",
            "_model_module_version": "1.5.0",
            "value": "",
            "_view_count": null,
            "_view_module_version": "1.5.0",
            "description_tooltip": null,
            "_model_module": "@jupyter-widgets/controls",
            "layout": "IPY_MODEL_7b38be14b0d842fcaec9ef58ac964e49"
          }
        },
        "6c6b144c9ba845b1955893ed3a140103": {
          "model_module": "@jupyter-widgets/controls",
          "model_name": "FloatProgressModel",
          "model_module_version": "1.5.0",
          "state": {
            "_view_name": "ProgressView",
            "style": "IPY_MODEL_55a9d7861eab477482f432f180b4c1b4",
            "_dom_classes": [],
            "description": "",
            "_model_name": "FloatProgressModel",
            "bar_style": "info",
            "max": 1,
            "_view_module": "@jupyter-widgets/controls",
            "_model_module_version": "1.5.0",
            "value": 1,
            "_view_count": null,
            "_view_module_version": "1.5.0",
            "orientation": "horizontal",
            "min": 0,
            "description_tooltip": null,
            "_model_module": "@jupyter-widgets/controls",
            "layout": "IPY_MODEL_045f552528684a178cf91734c49d0c8a"
          }
        },
        "22e2ac8895a240e796a5020fa29f6e79": {
          "model_module": "@jupyter-widgets/controls",
          "model_name": "HTMLModel",
          "model_module_version": "1.5.0",
          "state": {
            "_view_name": "HTMLView",
            "style": "IPY_MODEL_e82152ad939b462fb8686e59bb7a503e",
            "_dom_classes": [],
            "description": "",
            "_model_name": "HTMLModel",
            "placeholder": "​",
            "_view_module": "@jupyter-widgets/controls",
            "_model_module_version": "1.5.0",
            "value": " 119535/0 [00:03&lt;00:00, 31048.78 examples/s]",
            "_view_count": null,
            "_view_module_version": "1.5.0",
            "description_tooltip": null,
            "_model_module": "@jupyter-widgets/controls",
            "layout": "IPY_MODEL_ad96154800f040a99cf031587c276b04"
          }
        },
        "c3b11b7315494706b3d85eb58b35f35e": {
          "model_module": "@jupyter-widgets/controls",
          "model_name": "DescriptionStyleModel",
          "model_module_version": "1.5.0",
          "state": {
            "_view_name": "StyleView",
            "_model_name": "DescriptionStyleModel",
            "description_width": "",
            "_view_module": "@jupyter-widgets/base",
            "_model_module_version": "1.5.0",
            "_view_count": null,
            "_view_module_version": "1.2.0",
            "_model_module": "@jupyter-widgets/controls"
          }
        },
        "7b38be14b0d842fcaec9ef58ac964e49": {
          "model_module": "@jupyter-widgets/base",
          "model_name": "LayoutModel",
          "model_module_version": "1.2.0",
          "state": {
            "_view_name": "LayoutView",
            "grid_template_rows": null,
            "right": null,
            "justify_content": null,
            "_view_module": "@jupyter-widgets/base",
            "overflow": null,
            "_model_module_version": "1.2.0",
            "_view_count": null,
            "flex_flow": null,
            "width": null,
            "min_width": null,
            "border": null,
            "align_items": null,
            "bottom": null,
            "_model_module": "@jupyter-widgets/base",
            "top": null,
            "grid_column": null,
            "overflow_y": null,
            "overflow_x": null,
            "grid_auto_flow": null,
            "grid_area": null,
            "grid_template_columns": null,
            "flex": null,
            "_model_name": "LayoutModel",
            "justify_items": null,
            "grid_row": null,
            "max_height": null,
            "align_content": null,
            "visibility": null,
            "align_self": null,
            "height": null,
            "min_height": null,
            "padding": null,
            "grid_auto_rows": null,
            "grid_gap": null,
            "max_width": null,
            "order": null,
            "_view_module_version": "1.2.0",
            "grid_template_areas": null,
            "object_position": null,
            "object_fit": null,
            "grid_auto_columns": null,
            "margin": null,
            "display": null,
            "left": null
          }
        },
        "55a9d7861eab477482f432f180b4c1b4": {
          "model_module": "@jupyter-widgets/controls",
          "model_name": "ProgressStyleModel",
          "model_module_version": "1.5.0",
          "state": {
            "_view_name": "StyleView",
            "_model_name": "ProgressStyleModel",
            "description_width": "",
            "_view_module": "@jupyter-widgets/base",
            "_model_module_version": "1.5.0",
            "_view_count": null,
            "_view_module_version": "1.2.0",
            "bar_color": null,
            "_model_module": "@jupyter-widgets/controls"
          }
        },
        "045f552528684a178cf91734c49d0c8a": {
          "model_module": "@jupyter-widgets/base",
          "model_name": "LayoutModel",
          "model_module_version": "1.2.0",
          "state": {
            "_view_name": "LayoutView",
            "grid_template_rows": null,
            "right": null,
            "justify_content": null,
            "_view_module": "@jupyter-widgets/base",
            "overflow": null,
            "_model_module_version": "1.2.0",
            "_view_count": null,
            "flex_flow": null,
            "width": "20px",
            "min_width": null,
            "border": null,
            "align_items": null,
            "bottom": null,
            "_model_module": "@jupyter-widgets/base",
            "top": null,
            "grid_column": null,
            "overflow_y": null,
            "overflow_x": null,
            "grid_auto_flow": null,
            "grid_area": null,
            "grid_template_columns": null,
            "flex": null,
            "_model_name": "LayoutModel",
            "justify_items": null,
            "grid_row": null,
            "max_height": null,
            "align_content": null,
            "visibility": null,
            "align_self": null,
            "height": null,
            "min_height": null,
            "padding": null,
            "grid_auto_rows": null,
            "grid_gap": null,
            "max_width": null,
            "order": null,
            "_view_module_version": "1.2.0",
            "grid_template_areas": null,
            "object_position": null,
            "object_fit": null,
            "grid_auto_columns": null,
            "margin": null,
            "display": null,
            "left": null
          }
        },
        "e82152ad939b462fb8686e59bb7a503e": {
          "model_module": "@jupyter-widgets/controls",
          "model_name": "DescriptionStyleModel",
          "model_module_version": "1.5.0",
          "state": {
            "_view_name": "StyleView",
            "_model_name": "DescriptionStyleModel",
            "description_width": "",
            "_view_module": "@jupyter-widgets/base",
            "_model_module_version": "1.5.0",
            "_view_count": null,
            "_view_module_version": "1.2.0",
            "_model_module": "@jupyter-widgets/controls"
          }
        },
        "ad96154800f040a99cf031587c276b04": {
          "model_module": "@jupyter-widgets/base",
          "model_name": "LayoutModel",
          "model_module_version": "1.2.0",
          "state": {
            "_view_name": "LayoutView",
            "grid_template_rows": null,
            "right": null,
            "justify_content": null,
            "_view_module": "@jupyter-widgets/base",
            "overflow": null,
            "_model_module_version": "1.2.0",
            "_view_count": null,
            "flex_flow": null,
            "width": null,
            "min_width": null,
            "border": null,
            "align_items": null,
            "bottom": null,
            "_model_module": "@jupyter-widgets/base",
            "top": null,
            "grid_column": null,
            "overflow_y": null,
            "overflow_x": null,
            "grid_auto_flow": null,
            "grid_area": null,
            "grid_template_columns": null,
            "flex": null,
            "_model_name": "LayoutModel",
            "justify_items": null,
            "grid_row": null,
            "max_height": null,
            "align_content": null,
            "visibility": null,
            "align_self": null,
            "height": null,
            "min_height": null,
            "padding": null,
            "grid_auto_rows": null,
            "grid_gap": null,
            "max_width": null,
            "order": null,
            "_view_module_version": "1.2.0",
            "grid_template_areas": null,
            "object_position": null,
            "object_fit": null,
            "grid_auto_columns": null,
            "margin": null,
            "display": null,
            "left": null
          }
        },
        "f6a2c9c810f94ddf8678de7b3bad7170": {
          "model_module": "@jupyter-widgets/controls",
          "model_name": "HBoxModel",
          "model_module_version": "1.5.0",
          "state": {
            "_view_name": "HBoxView",
            "_dom_classes": [],
            "_model_name": "HBoxModel",
            "_view_module": "@jupyter-widgets/controls",
            "_model_module_version": "1.5.0",
            "_view_count": null,
            "_view_module_version": "1.5.0",
            "box_style": "",
            "layout": "IPY_MODEL_c66afda1f7784736a766adeeedd84c37",
            "_model_module": "@jupyter-widgets/controls",
            "children": [
              "IPY_MODEL_e6507a186e0a483cb31d12cf5fd31ef8",
              "IPY_MODEL_58bc95bd72b946f0b189a92db63fb51e",
              "IPY_MODEL_e00ef1a0260b44e0ba81df32ab15d2da"
            ]
          }
        },
        "c66afda1f7784736a766adeeedd84c37": {
          "model_module": "@jupyter-widgets/base",
          "model_name": "LayoutModel",
          "model_module_version": "1.2.0",
          "state": {
            "_view_name": "LayoutView",
            "grid_template_rows": null,
            "right": null,
            "justify_content": null,
            "_view_module": "@jupyter-widgets/base",
            "overflow": null,
            "_model_module_version": "1.2.0",
            "_view_count": null,
            "flex_flow": null,
            "width": null,
            "min_width": null,
            "border": null,
            "align_items": null,
            "bottom": null,
            "_model_module": "@jupyter-widgets/base",
            "top": null,
            "grid_column": null,
            "overflow_y": null,
            "overflow_x": null,
            "grid_auto_flow": null,
            "grid_area": null,
            "grid_template_columns": null,
            "flex": null,
            "_model_name": "LayoutModel",
            "justify_items": null,
            "grid_row": null,
            "max_height": null,
            "align_content": null,
            "visibility": null,
            "align_self": null,
            "height": null,
            "min_height": null,
            "padding": null,
            "grid_auto_rows": null,
            "grid_gap": null,
            "max_width": null,
            "order": null,
            "_view_module_version": "1.2.0",
            "grid_template_areas": null,
            "object_position": null,
            "object_fit": null,
            "grid_auto_columns": null,
            "margin": null,
            "display": null,
            "left": null
          }
        },
        "e6507a186e0a483cb31d12cf5fd31ef8": {
          "model_module": "@jupyter-widgets/controls",
          "model_name": "HTMLModel",
          "model_module_version": "1.5.0",
          "state": {
            "_view_name": "HTMLView",
            "style": "IPY_MODEL_19caec035b4d4ff79ea1fb0e8dd77a8b",
            "_dom_classes": [],
            "description": "",
            "_model_name": "HTMLModel",
            "placeholder": "​",
            "_view_module": "@jupyter-widgets/controls",
            "_model_module_version": "1.5.0",
            "value": "",
            "_view_count": null,
            "_view_module_version": "1.5.0",
            "description_tooltip": null,
            "_model_module": "@jupyter-widgets/controls",
            "layout": "IPY_MODEL_a760ca25b9a34cc1a976841a5e0e756a"
          }
        },
        "58bc95bd72b946f0b189a92db63fb51e": {
          "model_module": "@jupyter-widgets/controls",
          "model_name": "FloatProgressModel",
          "model_module_version": "1.5.0",
          "state": {
            "_view_name": "ProgressView",
            "style": "IPY_MODEL_21e091f51dd447fdaaf9910ba3ae3863",
            "_dom_classes": [],
            "description": "",
            "_model_name": "FloatProgressModel",
            "bar_style": "info",
            "max": 1,
            "_view_module": "@jupyter-widgets/controls",
            "_model_module_version": "1.5.0",
            "value": 1,
            "_view_count": null,
            "_view_module_version": "1.5.0",
            "orientation": "horizontal",
            "min": 0,
            "description_tooltip": null,
            "_model_module": "@jupyter-widgets/controls",
            "layout": "IPY_MODEL_6e5b82d2d862484f81f96f70174abb9a"
          }
        },
        "e00ef1a0260b44e0ba81df32ab15d2da": {
          "model_module": "@jupyter-widgets/controls",
          "model_name": "HTMLModel",
          "model_module_version": "1.5.0",
          "state": {
            "_view_name": "HTMLView",
            "style": "IPY_MODEL_9516b90aac6a458c9b6fe4c83140e1e2",
            "_dom_classes": [],
            "description": "",
            "_model_name": "HTMLModel",
            "placeholder": "​",
            "_view_module": "@jupyter-widgets/controls",
            "_model_module_version": "1.5.0",
            "value": " 4161/0 [00:00&lt;00:00, 22979.38 examples/s]",
            "_view_count": null,
            "_view_module_version": "1.5.0",
            "description_tooltip": null,
            "_model_module": "@jupyter-widgets/controls",
            "layout": "IPY_MODEL_7c4337faea3a4655b709a8ee631bc4f4"
          }
        },
        "19caec035b4d4ff79ea1fb0e8dd77a8b": {
          "model_module": "@jupyter-widgets/controls",
          "model_name": "DescriptionStyleModel",
          "model_module_version": "1.5.0",
          "state": {
            "_view_name": "StyleView",
            "_model_name": "DescriptionStyleModel",
            "description_width": "",
            "_view_module": "@jupyter-widgets/base",
            "_model_module_version": "1.5.0",
            "_view_count": null,
            "_view_module_version": "1.2.0",
            "_model_module": "@jupyter-widgets/controls"
          }
        },
        "a760ca25b9a34cc1a976841a5e0e756a": {
          "model_module": "@jupyter-widgets/base",
          "model_name": "LayoutModel",
          "model_module_version": "1.2.0",
          "state": {
            "_view_name": "LayoutView",
            "grid_template_rows": null,
            "right": null,
            "justify_content": null,
            "_view_module": "@jupyter-widgets/base",
            "overflow": null,
            "_model_module_version": "1.2.0",
            "_view_count": null,
            "flex_flow": null,
            "width": null,
            "min_width": null,
            "border": null,
            "align_items": null,
            "bottom": null,
            "_model_module": "@jupyter-widgets/base",
            "top": null,
            "grid_column": null,
            "overflow_y": null,
            "overflow_x": null,
            "grid_auto_flow": null,
            "grid_area": null,
            "grid_template_columns": null,
            "flex": null,
            "_model_name": "LayoutModel",
            "justify_items": null,
            "grid_row": null,
            "max_height": null,
            "align_content": null,
            "visibility": null,
            "align_self": null,
            "height": null,
            "min_height": null,
            "padding": null,
            "grid_auto_rows": null,
            "grid_gap": null,
            "max_width": null,
            "order": null,
            "_view_module_version": "1.2.0",
            "grid_template_areas": null,
            "object_position": null,
            "object_fit": null,
            "grid_auto_columns": null,
            "margin": null,
            "display": null,
            "left": null
          }
        },
        "21e091f51dd447fdaaf9910ba3ae3863": {
          "model_module": "@jupyter-widgets/controls",
          "model_name": "ProgressStyleModel",
          "model_module_version": "1.5.0",
          "state": {
            "_view_name": "StyleView",
            "_model_name": "ProgressStyleModel",
            "description_width": "",
            "_view_module": "@jupyter-widgets/base",
            "_model_module_version": "1.5.0",
            "_view_count": null,
            "_view_module_version": "1.2.0",
            "bar_color": null,
            "_model_module": "@jupyter-widgets/controls"
          }
        },
        "6e5b82d2d862484f81f96f70174abb9a": {
          "model_module": "@jupyter-widgets/base",
          "model_name": "LayoutModel",
          "model_module_version": "1.2.0",
          "state": {
            "_view_name": "LayoutView",
            "grid_template_rows": null,
            "right": null,
            "justify_content": null,
            "_view_module": "@jupyter-widgets/base",
            "overflow": null,
            "_model_module_version": "1.2.0",
            "_view_count": null,
            "flex_flow": null,
            "width": "20px",
            "min_width": null,
            "border": null,
            "align_items": null,
            "bottom": null,
            "_model_module": "@jupyter-widgets/base",
            "top": null,
            "grid_column": null,
            "overflow_y": null,
            "overflow_x": null,
            "grid_auto_flow": null,
            "grid_area": null,
            "grid_template_columns": null,
            "flex": null,
            "_model_name": "LayoutModel",
            "justify_items": null,
            "grid_row": null,
            "max_height": null,
            "align_content": null,
            "visibility": null,
            "align_self": null,
            "height": null,
            "min_height": null,
            "padding": null,
            "grid_auto_rows": null,
            "grid_gap": null,
            "max_width": null,
            "order": null,
            "_view_module_version": "1.2.0",
            "grid_template_areas": null,
            "object_position": null,
            "object_fit": null,
            "grid_auto_columns": null,
            "margin": null,
            "display": null,
            "left": null
          }
        },
        "9516b90aac6a458c9b6fe4c83140e1e2": {
          "model_module": "@jupyter-widgets/controls",
          "model_name": "DescriptionStyleModel",
          "model_module_version": "1.5.0",
          "state": {
            "_view_name": "StyleView",
            "_model_name": "DescriptionStyleModel",
            "description_width": "",
            "_view_module": "@jupyter-widgets/base",
            "_model_module_version": "1.5.0",
            "_view_count": null,
            "_view_module_version": "1.2.0",
            "_model_module": "@jupyter-widgets/controls"
          }
        },
        "7c4337faea3a4655b709a8ee631bc4f4": {
          "model_module": "@jupyter-widgets/base",
          "model_name": "LayoutModel",
          "model_module_version": "1.2.0",
          "state": {
            "_view_name": "LayoutView",
            "grid_template_rows": null,
            "right": null,
            "justify_content": null,
            "_view_module": "@jupyter-widgets/base",
            "overflow": null,
            "_model_module_version": "1.2.0",
            "_view_count": null,
            "flex_flow": null,
            "width": null,
            "min_width": null,
            "border": null,
            "align_items": null,
            "bottom": null,
            "_model_module": "@jupyter-widgets/base",
            "top": null,
            "grid_column": null,
            "overflow_y": null,
            "overflow_x": null,
            "grid_auto_flow": null,
            "grid_area": null,
            "grid_template_columns": null,
            "flex": null,
            "_model_name": "LayoutModel",
            "justify_items": null,
            "grid_row": null,
            "max_height": null,
            "align_content": null,
            "visibility": null,
            "align_self": null,
            "height": null,
            "min_height": null,
            "padding": null,
            "grid_auto_rows": null,
            "grid_gap": null,
            "max_width": null,
            "order": null,
            "_view_module_version": "1.2.0",
            "grid_template_areas": null,
            "object_position": null,
            "object_fit": null,
            "grid_auto_columns": null,
            "margin": null,
            "display": null,
            "left": null
          }
        }
      }
    },
    "accelerator": "GPU"
  },
  "cells": [
    {
      "cell_type": "markdown",
      "metadata": {
        "id": "fMLDOQwYEk9i"
      },
      "source": [
        "# AG NEWS NLP PROJECT"
      ]
    },
    {
      "cell_type": "markdown",
      "metadata": {
        "id": "aOJ5UgmxkunX"
      },
      "source": [
        "AG News is a subdataset of AG's corpus of news articles constructed by assembling titles and description fields of articles from the 4 largest classes (“World”, “Sports”, “Business”, “Science/Technology”) of AG’s Corpus. This dataset is also commonly used for experimenting with Natural Language Processing and more specifically text classification models in the machine learning community. I will download it from the Hugging Face website.\n",
        "\n",
        "You can check the papers about the models that achieve the state-of-the-art results on this dataset from this link: https://paperswithcode.com/sota/text-classification-on-ag-news. \n",
        "\n",
        "I will go through several modelling experiments to display my knowledge in natural language processing and to see how close I can get to the state of the art results. \n",
        "\n",
        "Modelling Experiments Outline:\n",
        "\n",
        "* `Model_0 (Baseline)`: Multinomial Naive Bayes with TD-IDF\n",
        "* `Model_1`: 1D Convolutional Neural Network With Custom Token Embeddings\n",
        "* `Model_2`: Universal Sentence Encoder Feature Extraction\n",
        "* `Model_3`: 1D Convolutional Neural Network With Custom Token Embeddings Combined With Bi-LSTM With Custom Character Embeddings \n",
        "* `Model_4`: LSTM Model With BERT Feature Extraction \n",
        "* `Model_5`: 1D Convolutional Neural Network With BERT Tokem Embeddings Combined With Bi-LSTM With Custom Character Embeddings "
      ]
    },
    {
      "cell_type": "markdown",
      "metadata": {
        "id": "5AZuITe6GUmE"
      },
      "source": [
        "## Importing the Dependencies"
      ]
    },
    {
      "cell_type": "code",
      "metadata": {
        "id": "KYQvbk2cgrWG"
      },
      "source": [
        "!pip install datasets"
      ],
      "execution_count": null,
      "outputs": []
    },
    {
      "cell_type": "code",
      "metadata": {
        "id": "fL5mgwK5At0T"
      },
      "source": [
        "!pip install tensorflow-text"
      ],
      "execution_count": null,
      "outputs": []
    },
    {
      "cell_type": "code",
      "metadata": {
        "id": "V6ihEEcZytPd"
      },
      "source": [
        "!pip install transformers"
      ],
      "execution_count": null,
      "outputs": []
    },
    {
      "cell_type": "code",
      "metadata": {
        "id": "-O2iF7uHwVQw"
      },
      "source": [
        "!pip install wordcloud"
      ],
      "execution_count": null,
      "outputs": []
    },
    {
      "cell_type": "code",
      "metadata": {
        "id": "b_EeDYZONicD"
      },
      "source": [
        "from datasets import list_datasets, list_metrics, load_dataset\n",
        "from pprint import pprint\n",
        "\n",
        "import pandas as pd\n",
        "import numpy as np\n",
        "import re\n",
        "\n",
        "import tensorflow as tf\n",
        "from tensorflow.keras import layers\n",
        "from tensorflow import keras\n",
        "from tensorflow.keras.layers.experimental.preprocessing import TextVectorization\n",
        "import tensorflow_text as text\n",
        "import tensorflow_hub as hub\n",
        "from tensorflow.keras.utils import plot_model\n",
        "\n",
        "import spacy\n",
        "from spacy.lang.en import English\n",
        "from spacy.lang.en.stop_words import STOP_WORDS as stop_words  \n",
        "from textblob import TextBlob\n",
        "\n",
        "from wordcloud import WordCloud\n",
        "import matplotlib.pyplot as plt\n",
        "\n",
        "from sklearn.metrics import precision_recall_fscore_support\n",
        "from sklearn.preprocessing import OneHotEncoder\n",
        "from sklearn.feature_extraction.text import TfidfVectorizer\n",
        "from sklearn.naive_bayes import MultinomialNB\n",
        "from sklearn.pipeline import Pipeline\n",
        "\n",
        "import string\n",
        "import random"
      ],
      "execution_count": 5,
      "outputs": []
    },
    {
      "cell_type": "markdown",
      "metadata": {
        "id": "-tiDMRXVGP7d"
      },
      "source": [
        "## Donwloading the Dataset"
      ]
    },
    {
      "cell_type": "code",
      "metadata": {
        "colab": {
          "base_uri": "https://localhost:8080/"
        },
        "id": "s_gQ3wBVGSl_",
        "outputId": "57e20a5f-7595-4176-ee46-b8d0edd3deba"
      },
      "source": [
        "# Accessing various attributes of the ag_news dataset before downloading it\n",
        "datasets = list_datasets()\n",
        "metrics = list_metrics()\n",
        "dataset_info = list_datasets(with_details=True)[datasets.index('ag_news')]\n",
        "pprint(dataset_info.__dict__)"
      ],
      "execution_count": 6,
      "outputs": [
        {
          "output_type": "stream",
          "text": [
            "{'author': None,\n",
            " 'citation': '@inproceedings{Zhang2015CharacterlevelCN,\\n'\n",
            "             '  title={Character-level Convolutional Networks for Text '\n",
            "             'Classification},\\n'\n",
            "             '  author={Xiang Zhang and Junbo Jake Zhao and Yann LeCun},\\n'\n",
            "             '  booktitle={NIPS},\\n'\n",
            "             '  year={2015}\\n'\n",
            "             '}',\n",
            " 'description': 'AG is a collection of more than 1 million news articles. News '\n",
            "                'articles have been\\n'\n",
            "                'gathered from more than 2000 news sources by ComeToMyHead in '\n",
            "                'more than 1 year of\\n'\n",
            "                'activity. ComeToMyHead is an academic news search engine '\n",
            "                'which has been running\\n'\n",
            "                'since July, 2004. The dataset is provided by the academic '\n",
            "                'comunity for research\\n'\n",
            "                'purposes in data mining (clustering, classification, etc), '\n",
            "                'information retrieval\\n'\n",
            "                '(ranking, search, etc), xml, data compression, data '\n",
            "                'streaming, and any other\\n'\n",
            "                'non-commercial activity. For more information, please refer '\n",
            "                'to the link\\n'\n",
            "                'http://www.di.unipi.it/~gulli/AG_corpus_of_news_articles.html '\n",
            "                '.\\n'\n",
            "                '\\n'\n",
            "                \"The AG's news topic classification dataset is constructed by \"\n",
            "                'Xiang Zhang\\n'\n",
            "                '(xiang.zhang@nyu.edu) from the dataset above. It is used as a '\n",
            "                'text\\n'\n",
            "                'classification benchmark in the following paper: Xiang Zhang, '\n",
            "                'Junbo Zhao, Yann\\n'\n",
            "                'LeCun. Character-level Convolutional Networks for Text '\n",
            "                'Classification. Advances\\n'\n",
            "                'in Neural Information Processing Systems 28 (NIPS 2015).',\n",
            " 'etag': None,\n",
            " 'id': 'ag_news',\n",
            " 'key': '',\n",
            " 'lastModified': None,\n",
            " 'paperswithcode_id': 'ag-news',\n",
            " 'siblings': None,\n",
            " 'size': None,\n",
            " 'tags': ['annotations_creators:found',\n",
            "          'language_creators:found',\n",
            "          'languages:en',\n",
            "          'licenses:unknown',\n",
            "          'multilinguality:monolingual',\n",
            "          'size_categories:100K<n<1M',\n",
            "          'source_datasets:original',\n",
            "          'task_categories:text-classification',\n",
            "          'task_ids:topic-classification']}\n"
          ],
          "name": "stdout"
        }
      ]
    },
    {
      "cell_type": "code",
      "metadata": {
        "colab": {
          "base_uri": "https://localhost:8080/",
          "height": 217,
          "referenced_widgets": [
            "99f609e2965f4a8883857b163a563da6",
            "fdea9702e9884f4abfb0b4763590a98b",
            "3eec02378ecd4b5da3103983975329b5",
            "089617f6c806411ea1fa78262f3e9d1c",
            "425d70d689094ba385eee310e3aa7dcc",
            "b219e62c7c744b46a69b630eec46a312",
            "1de168bb78974beab109d9398999e7b7",
            "e9083790d43b46f19cabcdb6224fc1e3",
            "871862f3d0aa4d118cd656b834244918",
            "40e7cefbc3b54871b6d5c18645a6efe5",
            "fa34246e7606458092789454b622fd6e",
            "ef5ba83086104311a317d1cfa6e08385",
            "6e0c273b81964a119be45d0743ae384c",
            "a22e644d961f4bc9a25c3582b0f1cfe1",
            "8cb9bbb7150849d09a8c0c28e1e352dc",
            "cc2506268964495597d0748574086c7b",
            "27636ff130d8407d8559793cc5667a4e",
            "79a0195ce9d24a688a9c8e7db6086223",
            "20b7eb4399d04714a03b05a5c3dc50c8",
            "63ddb9b6391945f3a126ae693631a2aa",
            "842ca2e2afb44abc8af3dfbf62e06cfe",
            "e3df2e870576474f80a2e250f38f1d85",
            "e031c60c5d5844dfa5b3c077dfd941e6",
            "654bc0d2fc3f4a28b7c920dc1c81c409",
            "1fb6b6da378d4759806448014bbe7d6e",
            "6262e141570949babba72e5d43e4c6da",
            "30edf7e2e5cd4ff69c63297bd15725d7",
            "0059d35ce6c54efcb35ca6f55a3d8fc8",
            "42d07ed3c36f459f949a2e6e1c96a5e6",
            "29bcc030ca7e4fab9af1966a0b2ce790",
            "647a2e44367349d3a4688e8375cae0b0",
            "b477460557984d85852792ede69447c4",
            "11df6327f81f478ab649d9eb3677340c",
            "c6df84f33ab0496a830adf7ae2ad3525",
            "064cf589f96f4b35958338ff4fcb956f",
            "850c0e462a604329a0e76f7c672c4283",
            "2047e50931b444bcb83fc1825f1ff478",
            "50d380c74e0a4eb69f2125296df6ddd5",
            "3d9024785c4342908892be9f722b9b50",
            "72b62da9c1d7430fbca09e6037321452",
            "2a3c72a23a7c4bc3918a5d70547b4e5c",
            "ece2ee03afbd43569e1daad056c6d8b6",
            "47e1472d63e7496db50f4c2e48cf588a",
            "0f15a24a76f44747a85111f164cfa12e",
            "b4d055c6e97a41b0b4595ce23c3a4157",
            "a03548e260444caa8ace790cd26c6e45",
            "fe730dcd079a4966a7e3f41a9c51ddc1",
            "6c6b144c9ba845b1955893ed3a140103",
            "22e2ac8895a240e796a5020fa29f6e79",
            "c3b11b7315494706b3d85eb58b35f35e",
            "7b38be14b0d842fcaec9ef58ac964e49",
            "55a9d7861eab477482f432f180b4c1b4",
            "045f552528684a178cf91734c49d0c8a",
            "e82152ad939b462fb8686e59bb7a503e",
            "ad96154800f040a99cf031587c276b04",
            "f6a2c9c810f94ddf8678de7b3bad7170",
            "c66afda1f7784736a766adeeedd84c37",
            "e6507a186e0a483cb31d12cf5fd31ef8",
            "58bc95bd72b946f0b189a92db63fb51e",
            "e00ef1a0260b44e0ba81df32ab15d2da",
            "19caec035b4d4ff79ea1fb0e8dd77a8b",
            "a760ca25b9a34cc1a976841a5e0e756a",
            "21e091f51dd447fdaaf9910ba3ae3863",
            "6e5b82d2d862484f81f96f70174abb9a",
            "9516b90aac6a458c9b6fe4c83140e1e2",
            "7c4337faea3a4655b709a8ee631bc4f4"
          ]
        },
        "id": "MJsQ4HCVOQ-X",
        "outputId": "26b2bde9-e789-49f0-8d1a-9aaa6e63c1dd"
      },
      "source": [
        "dataset = load_dataset('ag_news')"
      ],
      "execution_count": 7,
      "outputs": [
        {
          "output_type": "display_data",
          "data": {
            "application/vnd.jupyter.widget-view+json": {
              "model_id": "99f609e2965f4a8883857b163a563da6",
              "version_minor": 0,
              "version_major": 2
            },
            "text/plain": [
              "Downloading:   0%|          | 0.00/1.83k [00:00<?, ?B/s]"
            ]
          },
          "metadata": {
            "tags": []
          }
        },
        {
          "output_type": "display_data",
          "data": {
            "application/vnd.jupyter.widget-view+json": {
              "model_id": "ef5ba83086104311a317d1cfa6e08385",
              "version_minor": 0,
              "version_major": 2
            },
            "text/plain": [
              "Downloading:   0%|          | 0.00/1.28k [00:00<?, ?B/s]"
            ]
          },
          "metadata": {
            "tags": []
          }
        },
        {
          "output_type": "stream",
          "text": [
            "Using custom data configuration default\n"
          ],
          "name": "stderr"
        },
        {
          "output_type": "stream",
          "text": [
            "Downloading and preparing dataset ag_news/default (download: 29.88 MiB, generated: 30.23 MiB, post-processed: Unknown size, total: 60.10 MiB) to /root/.cache/huggingface/datasets/ag_news/default/0.0.0/bc2bcb40336ace1a0374767fc29bb0296cdaf8a6da7298436239c54d79180548...\n"
          ],
          "name": "stdout"
        },
        {
          "output_type": "display_data",
          "data": {
            "application/vnd.jupyter.widget-view+json": {
              "model_id": "e031c60c5d5844dfa5b3c077dfd941e6",
              "version_minor": 0,
              "version_major": 2
            },
            "text/plain": [
              "Downloading:   0%|          | 0.00/11.0M [00:00<?, ?B/s]"
            ]
          },
          "metadata": {
            "tags": []
          }
        },
        {
          "output_type": "display_data",
          "data": {
            "application/vnd.jupyter.widget-view+json": {
              "model_id": "c6df84f33ab0496a830adf7ae2ad3525",
              "version_minor": 0,
              "version_major": 2
            },
            "text/plain": [
              "Downloading:   0%|          | 0.00/751k [00:00<?, ?B/s]"
            ]
          },
          "metadata": {
            "tags": []
          }
        },
        {
          "output_type": "display_data",
          "data": {
            "application/vnd.jupyter.widget-view+json": {
              "model_id": "b4d055c6e97a41b0b4595ce23c3a4157",
              "version_minor": 0,
              "version_major": 2
            },
            "text/plain": [
              "0 examples [00:00, ? examples/s]"
            ]
          },
          "metadata": {
            "tags": []
          }
        },
        {
          "output_type": "display_data",
          "data": {
            "application/vnd.jupyter.widget-view+json": {
              "model_id": "f6a2c9c810f94ddf8678de7b3bad7170",
              "version_minor": 0,
              "version_major": 2
            },
            "text/plain": [
              "0 examples [00:00, ? examples/s]"
            ]
          },
          "metadata": {
            "tags": []
          }
        },
        {
          "output_type": "stream",
          "text": [
            "Dataset ag_news downloaded and prepared to /root/.cache/huggingface/datasets/ag_news/default/0.0.0/bc2bcb40336ace1a0374767fc29bb0296cdaf8a6da7298436239c54d79180548. Subsequent calls will reuse this data.\n"
          ],
          "name": "stdout"
        }
      ]
    },
    {
      "cell_type": "markdown",
      "metadata": {
        "id": "PujG8VYvfvUe"
      },
      "source": [
        "## Exploring the Dataset"
      ]
    },
    {
      "cell_type": "code",
      "metadata": {
        "colab": {
          "base_uri": "https://localhost:8080/"
        },
        "id": "seLmN1BLHkjG",
        "outputId": "3a6f0b95-3a43-40a3-bfc2-ef85531bcca0"
      },
      "source": [
        "dataset"
      ],
      "execution_count": 8,
      "outputs": [
        {
          "output_type": "execute_result",
          "data": {
            "text/plain": [
              "DatasetDict({\n",
              "    train: Dataset({\n",
              "        features: ['text', 'label'],\n",
              "        num_rows: 120000\n",
              "    })\n",
              "    test: Dataset({\n",
              "        features: ['text', 'label'],\n",
              "        num_rows: 7600\n",
              "    })\n",
              "})"
            ]
          },
          "metadata": {
            "tags": []
          },
          "execution_count": 8
        }
      ]
    },
    {
      "cell_type": "code",
      "metadata": {
        "colab": {
          "base_uri": "https://localhost:8080/"
        },
        "id": "9XlDmSPdbq0Y",
        "outputId": "cf4c7a4c-2319-40aa-950a-cf930c172e39"
      },
      "source": [
        "# Looking at a sample from the training dataset\n",
        "dataset['train'][0]"
      ],
      "execution_count": 9,
      "outputs": [
        {
          "output_type": "execute_result",
          "data": {
            "text/plain": [
              "{'label': 2,\n",
              " 'text': \"Wall St. Bears Claw Back Into the Black (Reuters) Reuters - Short-sellers, Wall Street's dwindling\\\\band of ultra-cynics, are seeing green again.\"}"
            ]
          },
          "metadata": {
            "tags": []
          },
          "execution_count": 9
        }
      ]
    },
    {
      "cell_type": "code",
      "metadata": {
        "colab": {
          "base_uri": "https://localhost:8080/"
        },
        "id": "kAuZovXWMm7-",
        "outputId": "47c4bdcc-feb9-4bc7-fbc3-766f6bb6699f"
      },
      "source": [
        "# Visualizing the label counts\n",
        "pd.Series(dataset['train']['label']).value_counts()"
      ],
      "execution_count": 10,
      "outputs": [
        {
          "output_type": "execute_result",
          "data": {
            "text/plain": [
              "3    30000\n",
              "2    30000\n",
              "1    30000\n",
              "0    30000\n",
              "dtype: int64"
            ]
          },
          "metadata": {
            "tags": []
          },
          "execution_count": 10
        }
      ]
    },
    {
      "cell_type": "code",
      "metadata": {
        "colab": {
          "base_uri": "https://localhost:8080/"
        },
        "id": "935oyvn_mXEW",
        "outputId": "b726cc2f-e79e-48b0-9514-a47494da8892"
      },
      "source": [
        "pd.Series(dataset['test']['label']).value_counts()"
      ],
      "execution_count": 11,
      "outputs": [
        {
          "output_type": "execute_result",
          "data": {
            "text/plain": [
              "3    1900\n",
              "2    1900\n",
              "1    1900\n",
              "0    1900\n",
              "dtype: int64"
            ]
          },
          "metadata": {
            "tags": []
          },
          "execution_count": 11
        }
      ]
    },
    {
      "cell_type": "markdown",
      "metadata": {
        "id": "BAh9_pvhlyAm"
      },
      "source": [
        "Both datasets are prefectly balanced"
      ]
    },
    {
      "cell_type": "markdown",
      "metadata": {
        "id": "SNgqvz3P3Yn7"
      },
      "source": [
        "The labels are encoded accordingly:\n",
        "\n",
        "* 0: World\n",
        "* 1: Sports\n",
        "* 2: Business\n",
        "* 3: Sci/Tech\n",
        "\n",
        "For more information you can check the link: https://huggingface.co/datasets/ag_news"
      ]
    },
    {
      "cell_type": "code",
      "metadata": {
        "id": "DwvLsLGm37V4"
      },
      "source": [
        "# Creating variables for class names and number of classes\n",
        "class_names = ['World', 'Sports', 'Business', 'Sci/Tech']\n",
        "num_classes = len(class_names)"
      ],
      "execution_count": 12,
      "outputs": []
    },
    {
      "cell_type": "markdown",
      "metadata": {
        "id": "OHSUX2RuVRZC"
      },
      "source": [
        "## Preprocessing the Data"
      ]
    },
    {
      "cell_type": "code",
      "metadata": {
        "colab": {
          "base_uri": "https://localhost:8080/"
        },
        "id": "NOMZRrAXhLWy",
        "outputId": "61eb991a-6bb4-4735-a5c4-6b2aa88dc18d"
      },
      "source": [
        "# Creating different variables for train, validation and test sets\n",
        "train_dataset = pd.DataFrame(dataset['train'])\n",
        "test_dataset = pd.DataFrame(dataset['test'])\n",
        "print(len(train_dataset), len(test_dataset))"
      ],
      "execution_count": 13,
      "outputs": [
        {
          "output_type": "stream",
          "text": [
            "120000 7600\n"
          ],
          "name": "stdout"
        }
      ]
    },
    {
      "cell_type": "markdown",
      "metadata": {
        "id": "cC1SvdlXNgK0"
      },
      "source": [
        "### Checking the Word Counts"
      ]
    },
    {
      "cell_type": "code",
      "metadata": {
        "colab": {
          "base_uri": "https://localhost:8080/",
          "height": 265
        },
        "id": "ORACqV0QNken",
        "outputId": "412ef670-7a47-49c7-f354-7bdcf66f1849"
      },
      "source": [
        "# Checking the statement length distribution for the training set\n",
        "train_statement_lengths = [len(statement.split()) for statement in train_dataset['text']]\n",
        "plt.hist(train_statement_lengths, bins=20);"
      ],
      "execution_count": 14,
      "outputs": [
        {
          "output_type": "display_data",
          "data": {
            "image/png": "[encoded data removed]",
            "text/plain": [
              "<Figure size 432x288 with 1 Axes>"
            ]
          },
          "metadata": {
            "tags": [],
            "needs_background": "light"
          }
        }
      ]
    },
    {
      "cell_type": "code",
      "metadata": {
        "colab": {
          "base_uri": "https://localhost:8080/"
        },
        "id": "THtbgqNENr92",
        "outputId": "7013a13f-ad6c-41d8-bd08-27185a5eb4ef"
      },
      "source": [
        "# Finding the maximum and minimum statement lengths\n",
        "max(train_statement_lengths), min(train_statement_lengths)"
      ],
      "execution_count": 15,
      "outputs": [
        {
          "output_type": "execute_result",
          "data": {
            "text/plain": [
              "(177, 8)"
            ]
          },
          "metadata": {
            "tags": []
          },
          "execution_count": 15
        }
      ]
    },
    {
      "cell_type": "code",
      "metadata": {
        "colab": {
          "base_uri": "https://localhost:8080/",
          "height": 265
        },
        "id": "MFnL-E9APLyW",
        "outputId": "b94b3ea2-4359-4190-875d-633f1b1ec723"
      },
      "source": [
        "# Checking the statement length distribution for the test set\n",
        "test_statement_lengths = [len(statement.split()) for statement in test_dataset['text']]\n",
        "plt.hist(test_statement_lengths, bins=20);"
      ],
      "execution_count": 16,
      "outputs": [
        {
          "output_type": "display_data",
          "data": {
            "image/png": "[encoded data removed]",
            "text/plain": [
              "<Figure size 432x288 with 1 Axes>"
            ]
          },
          "metadata": {
            "tags": [],
            "needs_background": "light"
          }
        }
      ]
    },
    {
      "cell_type": "code",
      "metadata": {
        "colab": {
          "base_uri": "https://localhost:8080/"
        },
        "id": "s2Vb5W9iPR_u",
        "outputId": "91eed02d-3959-479e-a868-c759b6ba2519"
      },
      "source": [
        "# Finding the maximum and minimum statement lengths\n",
        "max(test_statement_lengths), min(test_statement_lengths)"
      ],
      "execution_count": 17,
      "outputs": [
        {
          "output_type": "execute_result",
          "data": {
            "text/plain": [
              "(137, 11)"
            ]
          },
          "metadata": {
            "tags": []
          },
          "execution_count": 17
        }
      ]
    },
    {
      "cell_type": "markdown",
      "metadata": {
        "id": "F833KrCrOpBH"
      },
      "source": [
        "### Checking the Character counts"
      ]
    },
    {
      "cell_type": "code",
      "metadata": {
        "colab": {
          "base_uri": "https://localhost:8080/",
          "height": 53
        },
        "id": "CXDqcy9mfqxd",
        "outputId": "6faa63d3-5a34-49e5-9438-ed21a9608e89"
      },
      "source": [
        "# creating a function to remove spaces from text and testing on a random sentence\n",
        "def remove_space(text):\n",
        "  return ''.join(text.split())\n",
        "\n",
        "random_text = random.choice(train_dataset['text'])\n",
        "remove_space(random_text)"
      ],
      "execution_count": 18,
      "outputs": [
        {
          "output_type": "execute_result",
          "data": {
            "application/vnd.google.colaboratory.intrinsic+json": {
              "type": "string"
            },
            "text/plain": [
              "'AthensParalympicsendswithChinaontopChinaturnedoutagreatsurpriseinthe12-day-long12thParalympicGameswhichclosedhereonTuesday,toppingthegoldmedaltallywith63.'"
            ]
          },
          "metadata": {
            "tags": []
          },
          "execution_count": 18
        }
      ]
    },
    {
      "cell_type": "code",
      "metadata": {
        "colab": {
          "base_uri": "https://localhost:8080/"
        },
        "id": "bn3jZpldRd3t",
        "outputId": "0f537244-dc54-455a-a8df-7cf3c1d9fef1"
      },
      "source": [
        "# getting number of characters in the random sentence\n",
        "len(remove_space(random_text))"
      ],
      "execution_count": 19,
      "outputs": [
        {
          "output_type": "execute_result",
          "data": {
            "text/plain": [
              "154"
            ]
          },
          "metadata": {
            "tags": []
          },
          "execution_count": 19
        }
      ]
    },
    {
      "cell_type": "code",
      "metadata": {
        "colab": {
          "base_uri": "https://localhost:8080/",
          "height": 265
        },
        "id": "huozqM53Sf4j",
        "outputId": "74156e42-07e0-4a5b-e2ac-d8b8384f6ad8"
      },
      "source": [
        "# Checking the character count distribution for the train set\n",
        "train_char_count = [len(remove_space(text)) for text in train_dataset['text']]\n",
        "plt.hist(train_char_count, bins=20);"
      ],
      "execution_count": 20,
      "outputs": [
        {
          "output_type": "display_data",
          "data": {
            "image/png": "[encoded data removed]",
            "text/plain": [
              "<Figure size 432x288 with 1 Axes>"
            ]
          },
          "metadata": {
            "tags": [],
            "needs_background": "light"
          }
        }
      ]
    },
    {
      "cell_type": "code",
      "metadata": {
        "colab": {
          "base_uri": "https://localhost:8080/"
        },
        "id": "PwEgTMrFTauK",
        "outputId": "9936a321-607e-4833-a121-1bb635aaa706"
      },
      "source": [
        "# Finding the maximum and minimum character counts\n",
        "max(train_char_count), min(train_char_count)"
      ],
      "execution_count": 21,
      "outputs": [
        {
          "output_type": "execute_result",
          "data": {
            "text/plain": [
              "(911, 79)"
            ]
          },
          "metadata": {
            "tags": []
          },
          "execution_count": 21
        }
      ]
    },
    {
      "cell_type": "code",
      "metadata": {
        "colab": {
          "base_uri": "https://localhost:8080/"
        },
        "id": "SDowOHOEgZ0_",
        "outputId": "a85acff0-5f8a-40e6-ba69-b14310dc5342"
      },
      "source": [
        "# Checking the character length that covers 95% of the statements\n",
        "output_char_len = int(np.percentile(train_char_count, 95))\n",
        "output_char_len "
      ],
      "execution_count": 22,
      "outputs": [
        {
          "output_type": "execute_result",
          "data": {
            "text/plain": [
              "290"
            ]
          },
          "metadata": {
            "tags": []
          },
          "execution_count": 22
        }
      ]
    },
    {
      "cell_type": "code",
      "metadata": {
        "colab": {
          "base_uri": "https://localhost:8080/",
          "height": 265
        },
        "id": "_g0GHVePTMiq",
        "outputId": "1b3abece-564c-43b3-e19c-102e81e24268"
      },
      "source": [
        "# Checking the character count distribution for the test set\n",
        "test_char_count = [len(remove_space(text)) for text in test_dataset['text']]\n",
        "plt.hist(test_char_count, bins=20);"
      ],
      "execution_count": 23,
      "outputs": [
        {
          "output_type": "display_data",
          "data": {
            "image/png": "[encoded data removed]",
            "text/plain": [
              "<Figure size 432x288 with 1 Axes>"
            ]
          },
          "metadata": {
            "tags": [],
            "needs_background": "light"
          }
        }
      ]
    },
    {
      "cell_type": "code",
      "metadata": {
        "colab": {
          "base_uri": "https://localhost:8080/"
        },
        "id": "2DsVH2l4TuRx",
        "outputId": "8a7552f7-af18-41e4-9142-7cc7449aaae4"
      },
      "source": [
        "# Finding the maximum and minimum character counts\n",
        "max(test_char_count), min(test_char_count)"
      ],
      "execution_count": 24,
      "outputs": [
        {
          "output_type": "execute_result",
          "data": {
            "text/plain": [
              "(744, 82)"
            ]
          },
          "metadata": {
            "tags": []
          },
          "execution_count": 24
        }
      ]
    },
    {
      "cell_type": "markdown",
      "metadata": {
        "id": "mBDij3S1UYLF"
      },
      "source": [
        "### Checking the Average Word Lenghts"
      ]
    },
    {
      "cell_type": "code",
      "metadata": {
        "colab": {
          "base_uri": "https://localhost:8080/",
          "height": 268
        },
        "id": "mofcpmFoUeYt",
        "outputId": "bfb9d83b-2cf9-4bc6-88c2-c2d5c553c530"
      },
      "source": [
        "# Checking the distribution of average word lengths for the training dataset\n",
        "train_avg_word_len = np.array(train_char_count) / np.array(train_statement_lengths) \n",
        "plt.hist(train_avg_word_len, bins=20);"
      ],
      "execution_count": 25,
      "outputs": [
        {
          "output_type": "display_data",
          "data": {
            "image/png": "[encoded data removed]",
            "text/plain": [
              "<Figure size 432x288 with 1 Axes>"
            ]
          },
          "metadata": {
            "tags": [],
            "needs_background": "light"
          }
        }
      ]
    },
    {
      "cell_type": "code",
      "metadata": {
        "colab": {
          "base_uri": "https://localhost:8080/"
        },
        "id": "B4FVbKFzVv5a",
        "outputId": "d4f859fc-fe35-4177-a14a-6581e2e64cf9"
      },
      "source": [
        "# Finding the maximum and minimum average word lengths\n",
        "max(train_avg_word_len), min(train_avg_word_len)"
      ],
      "execution_count": 26,
      "outputs": [
        {
          "output_type": "execute_result",
          "data": {
            "text/plain": [
              "(20.8, 3.357142857142857)"
            ]
          },
          "metadata": {
            "tags": []
          },
          "execution_count": 26
        }
      ]
    },
    {
      "cell_type": "code",
      "metadata": {
        "colab": {
          "base_uri": "https://localhost:8080/",
          "height": 267
        },
        "id": "4dgNFa2gU7fL",
        "outputId": "bc9382bd-17ef-4a80-ad2c-daac148df7cc"
      },
      "source": [
        "# Checking the distribution of average word lengths for the training dataset\n",
        "test_avg_word_len = np.array(test_char_count) / np.array(test_statement_lengths) \n",
        "plt.hist(test_avg_word_len, bins=20);"
      ],
      "execution_count": 27,
      "outputs": [
        {
          "output_type": "display_data",
          "data": {
            "image/png": "[encoded data removed]",
            "text/plain": [
              "<Figure size 432x288 with 1 Axes>"
            ]
          },
          "metadata": {
            "tags": [],
            "needs_background": "light"
          }
        }
      ]
    },
    {
      "cell_type": "code",
      "metadata": {
        "colab": {
          "base_uri": "https://localhost:8080/"
        },
        "id": "c0nv054YWCy4",
        "outputId": "9f4410e8-c925-4740-bce8-d67c6d5e302a"
      },
      "source": [
        "# Finding the maximum and minimum average word lengths\n",
        "max(test_avg_word_len), min(test_avg_word_len)"
      ],
      "execution_count": 28,
      "outputs": [
        {
          "output_type": "execute_result",
          "data": {
            "text/plain": [
              "(14.588235294117647, 2.8260869565217392)"
            ]
          },
          "metadata": {
            "tags": []
          },
          "execution_count": 28
        }
      ]
    },
    {
      "cell_type": "markdown",
      "metadata": {
        "id": "rWBLh-vbJvO7"
      },
      "source": [
        "### Removing the Unwanted Words and Characters"
      ]
    },
    {
      "cell_type": "code",
      "metadata": {
        "id": "LrjaRufuJ0u-"
      },
      "source": [
        "# creating a function to remove unwanted words\n",
        "def remove_unwanted(text):\n",
        "    #remove urls\n",
        "    text = re.sub(r'http\\S+', '', text)\n",
        "    \n",
        "    #remove mentions\n",
        "    text = re.sub(r'@\\w+','',text)\n",
        "    \n",
        "    #remove hashtags\n",
        "    text = re.sub(r'#\\w+', '', text)\n",
        "    \n",
        "    #remove html tags\n",
        "    text = re.sub('r<.*?>','', text)\n",
        "\n",
        "    #remove emails\n",
        "    text = re.sub(r'([a-zA-Z0-9+_-]+@[a-zA-Z0-9._-]+\\.[a-zA-Z0-9_-]+)','', text)\n",
        "\n",
        "    #remove special caharacters and punctuations\n",
        "    text = re.sub(r'[^\\w ]+','', text)\n",
        "\n",
        "    #remove stop words \n",
        "    text = text.split()\n",
        "    text = ' '.join([word for word in text if not word in stop_words])\n",
        "\n",
        "    #remove multiple spaces\n",
        "    text = ' '.join(text.split())\n",
        "    \n",
        "    return text"
      ],
      "execution_count": 29,
      "outputs": []
    },
    {
      "cell_type": "code",
      "metadata": {
        "id": "VQmUF8loeZ2h"
      },
      "source": [
        "# removing the unwanted words from train and test sets\n",
        "train_dataset['text'] = train_dataset['text'].apply(lambda x: remove_unwanted(x))\n",
        "test_dataset['text'] = test_dataset['text'].apply(lambda x: remove_unwanted(x))"
      ],
      "execution_count": 30,
      "outputs": []
    },
    {
      "cell_type": "markdown",
      "metadata": {
        "id": "GyWSCmjFrW9a"
      },
      "source": [
        "I lemmatized the text using the function below, but it ended up yielding less accurate models. Therefore, I decided not to use it."
      ]
    },
    {
      "cell_type": "code",
      "metadata": {
        "id": "Lv-ZEOParbM9"
      },
      "source": [
        "# creating a function to lemmatize the sentences using SpaCy\n",
        "nlp = spacy.load('en_core_web_sm')\n",
        "def lemmatize(text):\n",
        "  lem_text = []\n",
        "  doc = nlp(text)\n",
        "  for token in doc:\n",
        "    lemma = token.lemma_\n",
        "    if lemma == '-PRON-' or lemma == 'be':\n",
        "      lemma = token.text\n",
        "    lem_text.append(lemma)\n",
        "  return ' '.join(lem_text)\n",
        "\n",
        "# lemmatizing the train and test sets using the function\n",
        "#train_dataset['text'] = train_dataset['text'].apply(lambda x: lemmatize(x))\n",
        "#test_dataset['text'] = test_dataset['text'].apply(lambda x: lemmatize(x))"
      ],
      "execution_count": 31,
      "outputs": []
    },
    {
      "cell_type": "code",
      "metadata": {
        "colab": {
          "base_uri": "https://localhost:8080/",
          "height": 363
        },
        "id": "-3RdM9E4zGVg",
        "outputId": "5d49eb56-49ef-42c6-e899-2d96fab31fb7"
      },
      "source": [
        "# Visualizing 10 samples from the training dataset\n",
        "train_dataset.sample(10)"
      ],
      "execution_count": 32,
      "outputs": [
        {
          "output_type": "execute_result",
          "data": {
            "text/html": [
              "<div>\n",
              "<style scoped>\n",
              "    .dataframe tbody tr th:only-of-type {\n",
              "        vertical-align: middle;\n",
              "    }\n",
              "\n",
              "    .dataframe tbody tr th {\n",
              "        vertical-align: top;\n",
              "    }\n",
              "\n",
              "    .dataframe thead th {\n",
              "        text-align: right;\n",
              "    }\n",
              "</style>\n",
              "<table border=\"1\" class=\"dataframe\">\n",
              "  <thead>\n",
              "    <tr style=\"text-align: right;\">\n",
              "      <th></th>\n",
              "      <th>text</th>\n",
              "      <th>label</th>\n",
              "    </tr>\n",
              "  </thead>\n",
              "  <tbody>\n",
              "    <tr>\n",
              "      <th>28534</th>\n",
              "      <td>Blackburn Hughes The Football Association Wale...</td>\n",
              "      <td>1</td>\n",
              "    </tr>\n",
              "    <tr>\n",
              "      <th>714</th>\n",
              "      <td>Gateway lands retailers shelves Company set se...</td>\n",
              "      <td>3</td>\n",
              "    </tr>\n",
              "    <tr>\n",
              "      <th>20426</th>\n",
              "      <td>Digital Gear Gadgets Networks Go Mobile A high...</td>\n",
              "      <td>3</td>\n",
              "    </tr>\n",
              "    <tr>\n",
              "      <th>50378</th>\n",
              "      <td>Tokyo shares drop USD weakens Tokyo share pric...</td>\n",
              "      <td>2</td>\n",
              "    </tr>\n",
              "    <tr>\n",
              "      <th>64496</th>\n",
              "      <td>Housing Boom Over After Rate Hikes The house p...</td>\n",
              "      <td>2</td>\n",
              "    </tr>\n",
              "    <tr>\n",
              "      <th>91206</th>\n",
              "      <td>Sudan s Darfur security quotfarce quot says gr...</td>\n",
              "      <td>0</td>\n",
              "    </tr>\n",
              "    <tr>\n",
              "      <th>82237</th>\n",
              "      <td>Chirac skip EU meeting Allawi Jacques Chirac F...</td>\n",
              "      <td>0</td>\n",
              "    </tr>\n",
              "    <tr>\n",
              "      <th>64225</th>\n",
              "      <td>ExNew York Rangers Cheerleader Sues AP AP A ca...</td>\n",
              "      <td>1</td>\n",
              "    </tr>\n",
              "    <tr>\n",
              "      <th>37691</th>\n",
              "      <td>PeopleSoft woos woes Dont O word PeopleSofts c...</td>\n",
              "      <td>3</td>\n",
              "    </tr>\n",
              "    <tr>\n",
              "      <th>75651</th>\n",
              "      <td>A Classic NY battle At conclusion yesterday s ...</td>\n",
              "      <td>1</td>\n",
              "    </tr>\n",
              "  </tbody>\n",
              "</table>\n",
              "</div>"
            ],
            "text/plain": [
              "                                                    text  label\n",
              "28534  Blackburn Hughes The Football Association Wale...      1\n",
              "714    Gateway lands retailers shelves Company set se...      3\n",
              "20426  Digital Gear Gadgets Networks Go Mobile A high...      3\n",
              "50378  Tokyo shares drop USD weakens Tokyo share pric...      2\n",
              "64496  Housing Boom Over After Rate Hikes The house p...      2\n",
              "91206  Sudan s Darfur security quotfarce quot says gr...      0\n",
              "82237  Chirac skip EU meeting Allawi Jacques Chirac F...      0\n",
              "64225  ExNew York Rangers Cheerleader Sues AP AP A ca...      1\n",
              "37691  PeopleSoft woos woes Dont O word PeopleSofts c...      3\n",
              "75651  A Classic NY battle At conclusion yesterday s ...      1"
            ]
          },
          "metadata": {
            "tags": []
          },
          "execution_count": 32
        }
      ]
    },
    {
      "cell_type": "markdown",
      "metadata": {
        "id": "PYKjsENmw7vo"
      },
      "source": [
        "### Checking the Word and Character Counts After Preprocessing"
      ]
    },
    {
      "cell_type": "code",
      "metadata": {
        "colab": {
          "base_uri": "https://localhost:8080/"
        },
        "id": "Y0swpy7LxFIS",
        "outputId": "025e89a2-f523-4b22-e1cb-459a7b07d48d"
      },
      "source": [
        "# Finding the maximum and minimum statement lengths of the train set\n",
        "train_statement_lengths = [len(statement.split()) for statement in train_dataset['text']]\n",
        "max(train_statement_lengths), min(train_statement_lengths)"
      ],
      "execution_count": 33,
      "outputs": [
        {
          "output_type": "execute_result",
          "data": {
            "text/plain": [
              "(98, 5)"
            ]
          },
          "metadata": {
            "tags": []
          },
          "execution_count": 33
        }
      ]
    },
    {
      "cell_type": "code",
      "metadata": {
        "colab": {
          "base_uri": "https://localhost:8080/"
        },
        "id": "pUt5vLcOxP2W",
        "outputId": "964e5e2e-39e7-49ec-cf9c-4f4808259763"
      },
      "source": [
        "# Finding the maximum and minimum statement lengths of the test set\n",
        "test_statement_lengths = [len(statement.split()) for statement in test_dataset['text']]\n",
        "max(test_statement_lengths), min(test_statement_lengths)"
      ],
      "execution_count": 34,
      "outputs": [
        {
          "output_type": "execute_result",
          "data": {
            "text/plain": [
              "(82, 8)"
            ]
          },
          "metadata": {
            "tags": []
          },
          "execution_count": 34
        }
      ]
    },
    {
      "cell_type": "code",
      "metadata": {
        "colab": {
          "base_uri": "https://localhost:8080/"
        },
        "id": "lALsUUOFxtFc",
        "outputId": "80145bdd-2d8e-4962-96e5-9838e5e7f951"
      },
      "source": [
        "# Finding the maximum and minimum character counts of the train set\n",
        "train_char_count = [len(remove_space(text)) for text in train_dataset['text']]\n",
        "max(train_char_count), min(train_char_count)"
      ],
      "execution_count": 35,
      "outputs": [
        {
          "output_type": "execute_result",
          "data": {
            "text/plain": [
              "(687, 22)"
            ]
          },
          "metadata": {
            "tags": []
          },
          "execution_count": 35
        }
      ]
    },
    {
      "cell_type": "code",
      "metadata": {
        "colab": {
          "base_uri": "https://localhost:8080/"
        },
        "id": "Upqyimb8yKNn",
        "outputId": "3b7ea50d-7f76-4100-be56-1efb6e7e20f5"
      },
      "source": [
        "# Finding the maximum and minimum character counts of the test set\n",
        "test_char_count = [len(remove_space(text)) for text in test_dataset['text']]\n",
        "max(test_char_count), min(test_char_count)"
      ],
      "execution_count": 36,
      "outputs": [
        {
          "output_type": "execute_result",
          "data": {
            "text/plain": [
              "(546, 50)"
            ]
          },
          "metadata": {
            "tags": []
          },
          "execution_count": 36
        }
      ]
    },
    {
      "cell_type": "code",
      "metadata": {
        "colab": {
          "base_uri": "https://localhost:8080/"
        },
        "id": "28wP6Yd4yIfE",
        "outputId": "4690cbae-336b-4532-8493-21bb15dafb92"
      },
      "source": [
        "# Checking the word and character length that covers 95% of the statements\n",
        "output_seq_len = int(np.percentile(train_statement_lengths, 95))\n",
        "output_char_len = int(np.percentile(train_char_count, 95))\n",
        "print(output_seq_len , output_char_len) # I will use these numbers for the embedding layers"
      ],
      "execution_count": 37,
      "outputs": [
        {
          "output_type": "stream",
          "text": [
            "35 221\n"
          ],
          "name": "stdout"
        }
      ]
    },
    {
      "cell_type": "code",
      "metadata": {
        "colab": {
          "base_uri": "https://localhost:8080/",
          "height": 248
        },
        "id": "WhqTMrQALADk",
        "outputId": "7caa8a48-ce62-4a2e-db0c-14ee8cef5e09"
      },
      "source": [
        "# Looking at the most common words in the training dataset with wordcloud\n",
        "wc = WordCloud(width=800, height=600).generate(str(train_dataset['text'].tolist()))\n",
        "plt.imshow(wc)\n",
        "plt.axis('off')\n",
        "plt.show()"
      ],
      "execution_count": 38,
      "outputs": [
        {
          "output_type": "display_data",
          "data": {
            "image/png": "[encoded data removed]",
            "text/plain": [
              "<Figure size 432x288 with 1 Axes>"
            ]
          },
          "metadata": {
            "tags": [],
            "needs_background": "light"
          }
        }
      ]
    },
    {
      "cell_type": "code",
      "metadata": {
        "colab": {
          "base_uri": "https://localhost:8080/",
          "height": 363
        },
        "id": "KyohnmI1zLIW",
        "outputId": "a15e7922-0ca3-4a2e-dce3-663ff59ff428"
      },
      "source": [
        "# Shuffling the training dataframe\n",
        "train_dataset = train_dataset.sample(frac=1, random_state=57) # shuffle with random_state=57 for reproducibility\n",
        "train_dataset.head(10)"
      ],
      "execution_count": 39,
      "outputs": [
        {
          "output_type": "execute_result",
          "data": {
            "text/html": [
              "<div>\n",
              "<style scoped>\n",
              "    .dataframe tbody tr th:only-of-type {\n",
              "        vertical-align: middle;\n",
              "    }\n",
              "\n",
              "    .dataframe tbody tr th {\n",
              "        vertical-align: top;\n",
              "    }\n",
              "\n",
              "    .dataframe thead th {\n",
              "        text-align: right;\n",
              "    }\n",
              "</style>\n",
              "<table border=\"1\" class=\"dataframe\">\n",
              "  <thead>\n",
              "    <tr style=\"text-align: right;\">\n",
              "      <th></th>\n",
              "      <th>text</th>\n",
              "      <th>label</th>\n",
              "    </tr>\n",
              "  </thead>\n",
              "  <tbody>\n",
              "    <tr>\n",
              "      <th>27510</th>\n",
              "      <td>ABB won t close Guelph transformer plant ABB I...</td>\n",
              "      <td>2</td>\n",
              "    </tr>\n",
              "    <tr>\n",
              "      <th>84528</th>\n",
              "      <td>Poison pill News NEWS Corporation yesterday in...</td>\n",
              "      <td>2</td>\n",
              "    </tr>\n",
              "    <tr>\n",
              "      <th>96252</th>\n",
              "      <td>Does Your Site Need Custom Search Engine Toolb...</td>\n",
              "      <td>3</td>\n",
              "    </tr>\n",
              "    <tr>\n",
              "      <th>92001</th>\n",
              "      <td>Europes Mission Moon Nears Lunar Orbit AP AP A...</td>\n",
              "      <td>3</td>\n",
              "    </tr>\n",
              "    <tr>\n",
              "      <th>26401</th>\n",
              "      <td>Neville injury blow United England SvenGoran E...</td>\n",
              "      <td>1</td>\n",
              "    </tr>\n",
              "    <tr>\n",
              "      <th>71693</th>\n",
              "      <td>Will Ericssons Future Match Its Past The big S...</td>\n",
              "      <td>2</td>\n",
              "    </tr>\n",
              "    <tr>\n",
              "      <th>119751</th>\n",
              "      <td>Langer batting Shoaib bowling AUSTRALIAN opene...</td>\n",
              "      <td>1</td>\n",
              "    </tr>\n",
              "    <tr>\n",
              "      <th>44743</th>\n",
              "      <td>Natural gas supply fears raise prices Natural ...</td>\n",
              "      <td>2</td>\n",
              "    </tr>\n",
              "    <tr>\n",
              "      <th>105454</th>\n",
              "      <td>Philly Broadband Clash Pits City Against Telco...</td>\n",
              "      <td>3</td>\n",
              "    </tr>\n",
              "    <tr>\n",
              "      <th>94525</th>\n",
              "      <td>Court Panel Skeptical About Penalty Sought Aga...</td>\n",
              "      <td>2</td>\n",
              "    </tr>\n",
              "  </tbody>\n",
              "</table>\n",
              "</div>"
            ],
            "text/plain": [
              "                                                     text  label\n",
              "27510   ABB won t close Guelph transformer plant ABB I...      2\n",
              "84528   Poison pill News NEWS Corporation yesterday in...      2\n",
              "96252   Does Your Site Need Custom Search Engine Toolb...      3\n",
              "92001   Europes Mission Moon Nears Lunar Orbit AP AP A...      3\n",
              "26401   Neville injury blow United England SvenGoran E...      1\n",
              "71693   Will Ericssons Future Match Its Past The big S...      2\n",
              "119751  Langer batting Shoaib bowling AUSTRALIAN opene...      1\n",
              "44743   Natural gas supply fears raise prices Natural ...      2\n",
              "105454  Philly Broadband Clash Pits City Against Telco...      3\n",
              "94525   Court Panel Skeptical About Penalty Sought Aga...      2"
            ]
          },
          "metadata": {
            "tags": []
          },
          "execution_count": 39
        }
      ]
    },
    {
      "cell_type": "code",
      "metadata": {
        "id": "03OXvUuFzPsW"
      },
      "source": [
        "# Creating different variables (lists) for text and labels for each dataset\n",
        "train_text = train_dataset['text'].tolist()\n",
        "test_text = test_dataset['text'].tolist()\n",
        "\n",
        "train_labels = train_dataset['label'].tolist()\n",
        "test_labels = test_dataset['label'].tolist()"
      ],
      "execution_count": 40,
      "outputs": []
    },
    {
      "cell_type": "markdown",
      "metadata": {
        "id": "GvlzAtPpYJs7"
      },
      "source": [
        "### One Hot Encoding the Labels"
      ]
    },
    {
      "cell_type": "code",
      "metadata": {
        "colab": {
          "base_uri": "https://localhost:8080/"
        },
        "id": "W0ve4jgJ11KD",
        "outputId": "a3cd974f-eaa5-4b07-9a9d-acc6a6a3d21d"
      },
      "source": [
        "# One hot-encoding the labels for deep models\n",
        "one_hot_encoder = OneHotEncoder(sparse=False)\n",
        "train_labels_one_hot = one_hot_encoder.fit_transform(train_dataset['label'].to_numpy().reshape(-1, 1))\n",
        "test_labels_one_hot = one_hot_encoder.transform(test_dataset['label'].to_numpy().reshape(-1, 1))\n",
        "\n",
        "# Checking what training labels look like\n",
        "train_labels_one_hot"
      ],
      "execution_count": 41,
      "outputs": [
        {
          "output_type": "execute_result",
          "data": {
            "text/plain": [
              "array([[0., 0., 1., 0.],\n",
              "       [0., 0., 1., 0.],\n",
              "       [0., 0., 0., 1.],\n",
              "       ...,\n",
              "       [0., 0., 0., 1.],\n",
              "       [0., 1., 0., 0.],\n",
              "       [0., 1., 0., 0.]])"
            ]
          },
          "metadata": {
            "tags": []
          },
          "execution_count": 41
        }
      ]
    },
    {
      "cell_type": "markdown",
      "metadata": {
        "id": "nJ0mtqPZ3GzQ"
      },
      "source": [
        "## Baseline Model: TF-IDF MultinomialNB"
      ]
    },
    {
      "cell_type": "code",
      "metadata": {
        "colab": {
          "base_uri": "https://localhost:8080/"
        },
        "id": "SHo6WSMC3THG",
        "outputId": "ccd8ce68-96f0-44b6-cda8-ce71ae61cf64"
      },
      "source": [
        "# Creating tokenization and modelling pipeline\n",
        "model_0 = Pipeline([\n",
        "                    (\"tfidf\", TfidfVectorizer()), # convert words to numbers using tfidf\n",
        "                    (\"clf\", MultinomialNB()) # model the text\n",
        "])\n",
        "\n",
        "# Fitting the pipeline to the training data\n",
        "model_0.fit(train_text, train_labels)"
      ],
      "execution_count": 42,
      "outputs": [
        {
          "output_type": "execute_result",
          "data": {
            "text/plain": [
              "Pipeline(memory=None,\n",
              "         steps=[('tfidf',\n",
              "                 TfidfVectorizer(analyzer='word', binary=False,\n",
              "                                 decode_error='strict',\n",
              "                                 dtype=<class 'numpy.float64'>,\n",
              "                                 encoding='utf-8', input='content',\n",
              "                                 lowercase=True, max_df=1.0, max_features=None,\n",
              "                                 min_df=1, ngram_range=(1, 1), norm='l2',\n",
              "                                 preprocessor=None, smooth_idf=True,\n",
              "                                 stop_words=None, strip_accents=None,\n",
              "                                 sublinear_tf=False,\n",
              "                                 token_pattern='(?u)\\\\b\\\\w\\\\w+\\\\b',\n",
              "                                 tokenizer=None, use_idf=True,\n",
              "                                 vocabulary=None)),\n",
              "                ('clf',\n",
              "                 MultinomialNB(alpha=1.0, class_prior=None, fit_prior=True))],\n",
              "         verbose=False)"
            ]
          },
          "metadata": {
            "tags": []
          },
          "execution_count": 42
        }
      ]
    },
    {
      "cell_type": "code",
      "metadata": {
        "colab": {
          "base_uri": "https://localhost:8080/"
        },
        "id": "lJVpbuKV6Dpf",
        "outputId": "2583d904-d409-4239-98ef-043fa8bab66c"
      },
      "source": [
        "# Evaluating the baseline model on the evaluation set\n",
        "baseline_score = model_0.score(test_text, test_labels)\n",
        "print(f\"Our baseline model achieves an accuracy of: {baseline_score*100:.2f}%\")"
      ],
      "execution_count": 43,
      "outputs": [
        {
          "output_type": "stream",
          "text": [
            "Our baseline model achieves an accuracy of: 90.34%\n"
          ],
          "name": "stdout"
        }
      ]
    },
    {
      "cell_type": "markdown",
      "metadata": {
        "id": "kIx4hIQcuK2R"
      },
      "source": [
        "## Creating Embedding Layers for the Deep Models\n"
      ]
    },
    {
      "cell_type": "markdown",
      "metadata": {
        "id": "GF7dkpalx1rf"
      },
      "source": [
        "### Custom Token Embedding Layer"
      ]
    },
    {
      "cell_type": "code",
      "metadata": {
        "id": "r7yFoTm2xrCg"
      },
      "source": [
        "# Creating a text vectorization layer \n",
        "text_vectorizer = TextVectorization(output_sequence_length=output_seq_len)"
      ],
      "execution_count": 44,
      "outputs": []
    },
    {
      "cell_type": "code",
      "metadata": {
        "id": "yiiIu8nu617q"
      },
      "source": [
        "# Adapting the text vectorizer to training text data\n",
        "text_vectorizer.adapt(train_text)"
      ],
      "execution_count": 45,
      "outputs": []
    },
    {
      "cell_type": "code",
      "metadata": {
        "id": "_HrFifFV7IZ-",
        "colab": {
          "base_uri": "https://localhost:8080/"
        },
        "outputId": "b7fc54f0-00fc-4605-e8bc-d54bab7b69bb"
      },
      "source": [
        "# Testing out the text vectorizer on random sentences\n",
        "print(f\"Text:\\n{random_text}\")\n",
        "print(f\"\\nLength of text: {len(random_text.split())}\")\n",
        "print(f\"\\nVectorized text:\\n{text_vectorizer([random_text])}\")"
      ],
      "execution_count": 46,
      "outputs": [
        {
          "output_type": "stream",
          "text": [
            "Text:\n",
            "Athens Paralympics ends with China on top China turned out a great surprise in the 12-day-long 12th Paralympic Games which closed here on Tuesday, topping the gold medal tally with 63.\n",
            "\n",
            "Length of text: 31\n",
            "\n",
            "Vectorized text:\n",
            "[[  235  9865  1161   156    54   386   791    54   966   681     9   658\n",
            "   1395    70     3 98863  3967  8404   122  9505  1313  3775   386    13\n",
            "   7308     3   167   562  7631   156  1259     0     0     0     0]]\n"
          ],
          "name": "stdout"
        }
      ]
    },
    {
      "cell_type": "code",
      "metadata": {
        "id": "HfAYTPZl7UZM",
        "colab": {
          "base_uri": "https://localhost:8080/"
        },
        "outputId": "1dd5caaa-4d4a-4dcb-a168-2eb6b7f17ff9"
      },
      "source": [
        "# Checking the length of the vocab size and top 5 most and least common words\n",
        "tab_fact_text_vocab = text_vectorizer.get_vocabulary()\n",
        "print(f\"Number of words in vocabulary: {len(tab_fact_text_vocab)}\"), \n",
        "print(f\"Most common words in the vocabulary: {tab_fact_text_vocab[:5]}\")\n",
        "print(f\"Least common words in the vocabulary: {tab_fact_text_vocab[-5:]}\")"
      ],
      "execution_count": 47,
      "outputs": [
        {
          "output_type": "stream",
          "text": [
            "Number of words in vocabulary: 99442\n",
            "Most common words in the vocabulary: ['', '[UNK]', 's', 'the', 'new']\n",
            "Least common words in the vocabulary: ['0029', '0013', '000th', '000strong', '000660se']\n"
          ],
          "name": "stdout"
        }
      ]
    },
    {
      "cell_type": "code",
      "metadata": {
        "id": "vRid0Nzi74wD"
      },
      "source": [
        "# Creating the embedding layer\n",
        "token_embed = layers.Embedding(input_dim=len(tab_fact_text_vocab),\n",
        "                               output_dim=128, # I chose 128, but it is a hyperparameter and we can experiment with different numbers\n",
        "                               mask_zero=True, \n",
        "                               name='token_embedding')"
      ],
      "execution_count": 48,
      "outputs": []
    },
    {
      "cell_type": "code",
      "metadata": {
        "id": "o51F57yu8wwZ",
        "colab": {
          "base_uri": "https://localhost:8080/"
        },
        "outputId": "44fed4ba-4d94-435d-c499-1352044e7072"
      },
      "source": [
        "# Testing the embedding layer on a random sample\n",
        "print(f\"Sentence before vectorization:\\n{random_text}\\n\")\n",
        "vectorized_sentence = text_vectorizer([random_text])\n",
        "print(f\"Sentence after vectorization (before embedding):\\n{vectorized_sentence}\\n\")\n",
        "embedded_sentence = token_embed(vectorized_sentence)\n",
        "print(f\"Sentence after embedding:\\n{embedded_sentence}\\n\")\n",
        "print(f\"Embedded sentence shape: {embedded_sentence.shape}\")"
      ],
      "execution_count": 49,
      "outputs": [
        {
          "output_type": "stream",
          "text": [
            "Sentence before vectorization:\n",
            "Athens Paralympics ends with China on top China turned out a great surprise in the 12-day-long 12th Paralympic Games which closed here on Tuesday, topping the gold medal tally with 63.\n",
            "\n",
            "Sentence after vectorization (before embedding):\n",
            "[[  235  9865  1161   156    54   386   791    54   966   681     9   658\n",
            "   1395    70     3 98863  3967  8404   122  9505  1313  3775   386    13\n",
            "   7308     3   167   562  7631   156  1259     0     0     0     0]]\n",
            "\n",
            "Sentence after embedding:\n",
            "[[[ 0.04043819  0.03281694 -0.04388639 ...  0.03122592  0.03228115\n",
            "   -0.03399198]\n",
            "  [-0.03538579  0.02420887 -0.0115542  ... -0.02978011  0.02386003\n",
            "   -0.01209667]\n",
            "  [-0.0380388   0.02772244 -0.03285028 ... -0.0222517  -0.04756732\n",
            "    0.01623689]\n",
            "  ...\n",
            "  [ 0.03633085 -0.03596162 -0.00658911 ...  0.03795696 -0.04603608\n",
            "    0.00476392]\n",
            "  [ 0.03633085 -0.03596162 -0.00658911 ...  0.03795696 -0.04603608\n",
            "    0.00476392]\n",
            "  [ 0.03633085 -0.03596162 -0.00658911 ...  0.03795696 -0.04603608\n",
            "    0.00476392]]]\n",
            "\n",
            "Embedded sentence shape: (1, 35, 128)\n"
          ],
          "name": "stdout"
        }
      ]
    },
    {
      "cell_type": "markdown",
      "metadata": {
        "id": "Lvt1fWCRPfqs"
      },
      "source": [
        "### Custom Character Embedding Layer"
      ]
    },
    {
      "cell_type": "code",
      "metadata": {
        "id": "NRt8CmAMIPVa",
        "colab": {
          "base_uri": "https://localhost:8080/",
          "height": 35
        },
        "outputId": "b344faf6-b5ab-43d8-bf4a-09d4b4f76c03"
      },
      "source": [
        "# Getting all keyboard characters for char-level embedding\n",
        "alphabet = string.ascii_lowercase + string.digits + string.punctuation\n",
        "alphabet"
      ],
      "execution_count": 50,
      "outputs": [
        {
          "output_type": "execute_result",
          "data": {
            "application/vnd.google.colaboratory.intrinsic+json": {
              "type": "string"
            },
            "text/plain": [
              "'abcdefghijklmnopqrstuvwxyz0123456789!\"#$%&\\'()*+,-./:;<=>?@[\\\\]^_`{|}~'"
            ]
          },
          "metadata": {
            "tags": []
          },
          "execution_count": 50
        }
      ]
    },
    {
      "cell_type": "code",
      "metadata": {
        "id": "ExP4Cgh3Z2Pf",
        "colab": {
          "base_uri": "https://localhost:8080/",
          "height": 87
        },
        "outputId": "1fc12691-7910-4eb9-e3a9-d05136098260"
      },
      "source": [
        "# Making a function to split sentences into characters\n",
        "def split_chars(text):\n",
        "  return \" \".join(list(text))\n",
        "\n",
        "# Testing the function on the random sample\n",
        "split_chars(random_text)"
      ],
      "execution_count": 51,
      "outputs": [
        {
          "output_type": "execute_result",
          "data": {
            "application/vnd.google.colaboratory.intrinsic+json": {
              "type": "string"
            },
            "text/plain": [
              "'A t h e n s   P a r a l y m p i c s   e n d s   w i t h   C h i n a   o n   t o p   C h i n a   t u r n e d   o u t   a   g r e a t   s u r p r i s e   i n   t h e   1 2 - d a y - l o n g   1 2 t h   P a r a l y m p i c   G a m e s   w h i c h   c l o s e d   h e r e   o n   T u e s d a y ,   t o p p i n g   t h e   g o l d   m e d a l   t a l l y   w i t h   6 3 .'"
            ]
          },
          "metadata": {
            "tags": []
          },
          "execution_count": 51
        }
      ]
    },
    {
      "cell_type": "code",
      "metadata": {
        "id": "R5x7_59jZaQJ",
        "colab": {
          "base_uri": "https://localhost:8080/",
          "height": 70
        },
        "outputId": "9121753e-645d-43cb-9853-8fe1b10b066e"
      },
      "source": [
        "# Turning sequence-level data splits into character-level data splits\n",
        "train_chars = [split_chars(text) for text in train_text]\n",
        "test_chars = [split_chars(text) for text in test_text]\n",
        "train_chars[0]"
      ],
      "execution_count": 52,
      "outputs": [
        {
          "output_type": "execute_result",
          "data": {
            "application/vnd.google.colaboratory.intrinsic+json": {
              "type": "string"
            },
            "text/plain": [
              "'A B B   w o n   t   c l o s e   G u e l p h   t r a n s f o r m e r   p l a n t   A B B   I n c   r e v e r s e d   d e c i s i o n   c l o s e   t r a n s f o r m e r   p l a n t   G u e l p h   O n t   s a v i n g   3 0 0   j o b s   u n i o n   r e p r e s e n t i n g   w o r k e r s   s a i d   t o d a y'"
            ]
          },
          "metadata": {
            "tags": []
          },
          "execution_count": 52
        }
      ]
    },
    {
      "cell_type": "code",
      "metadata": {
        "id": "ruIsbX5YISI5"
      },
      "source": [
        "# Creating char-level token vectorizer instance\n",
        "num_char_tokens = len(alphabet) + 2 # num characters in alphabet + space + OOV token\n",
        "char_vectorizer = TextVectorization(max_tokens=num_char_tokens,  \n",
        "                                    output_sequence_length= output_char_len,\n",
        "                                    standardize=\"lower_and_strip_punctuation\",\n",
        "                                    name=\"char_vectorizer\")\n",
        "\n",
        "# Adapting character vectorizer to training characters\n",
        "char_vectorizer.adapt(train_chars)"
      ],
      "execution_count": 88,
      "outputs": []
    },
    {
      "cell_type": "code",
      "metadata": {
        "id": "jzXoGu9yIpqy",
        "colab": {
          "base_uri": "https://localhost:8080/"
        },
        "outputId": "10370502-f95d-49a7-a7a1-baaa7ec213cf"
      },
      "source": [
        "# Checking character vocabulary characteristics\n",
        "char_vocab = char_vectorizer.get_vocabulary()\n",
        "print(f\"Number of different characters in character vocab: {len(char_vocab)}\")\n",
        "print(f\"5 most common characters: {char_vocab[:5]}\")\n",
        "print(f\"5 least common characters: {char_vocab[-5:]}\")"
      ],
      "execution_count": 54,
      "outputs": [
        {
          "output_type": "stream",
          "text": [
            "Number of different characters in character vocab: 38\n",
            "5 most common characters: ['', '[UNK]', 'e', 'a', 's']\n",
            "5 least common characters: ['3', '6', '7', '9', '8']\n"
          ],
          "name": "stdout"
        }
      ]
    },
    {
      "cell_type": "code",
      "metadata": {
        "id": "xN9rbBcpI9U4"
      },
      "source": [
        "# Creating the character level embedding layer\n",
        "char_embed = layers.Embedding(input_dim=num_char_tokens,\n",
        "                              output_dim=128, \n",
        "                              mask_zero=True,\n",
        "                              name=\"char_embed\")"
      ],
      "execution_count": 55,
      "outputs": []
    },
    {
      "cell_type": "markdown",
      "metadata": {
        "id": "kql1Dg2yk1lY"
      },
      "source": [
        "### Universal Sentence Encoder Embedding Layer"
      ]
    },
    {
      "cell_type": "code",
      "metadata": {
        "id": "FMkgbGcuk6qK"
      },
      "source": [
        "# Downloading pretrained TensorFlow Hub USE\n",
        "use_embedding = hub.KerasLayer('https://tfhub.dev/google/universal-sentence-encoder/4',\n",
        "                                        trainable = False,\n",
        "                                        name='universal_sentence_encoder')"
      ],
      "execution_count": 56,
      "outputs": []
    },
    {
      "cell_type": "markdown",
      "metadata": {
        "id": "RbL-Q2F_x0Z5"
      },
      "source": [
        "### BERT Embedding Layer"
      ]
    },
    {
      "cell_type": "code",
      "metadata": {
        "id": "-uIx98BR-Oll"
      },
      "source": [
        "# Downloading the Bert Transformer\n",
        "text_input = tf.keras.layers.Input(shape=(), dtype=tf.string)\n",
        "preprocessor = hub.KerasLayer(\n",
        "    \"https://tfhub.dev/tensorflow/bert_en_uncased_preprocess/3\", \n",
        "    trainable=False)\n",
        "encoder_inputs = preprocessor(text_input)\n",
        "encoder = hub.KerasLayer(\n",
        "    \"https://tfhub.dev/tensorflow/bert_en_uncased_L-12_H-768_A-12/4\",\n",
        "    trainable=False)\n",
        "outputs = encoder(encoder_inputs)\n",
        "pooled_output = outputs[\"pooled_output\"]      # [batch_size, 768]\n",
        "sequence_output = outputs[\"sequence_output\"]  # [batch_size, seq_length, 768]\n",
        "bert_embedding_model = tf.keras.Model(text_input, sequence_output)"
      ],
      "execution_count": 57,
      "outputs": []
    },
    {
      "cell_type": "code",
      "metadata": {
        "id": "GhwaZOyBBjKO",
        "colab": {
          "base_uri": "https://localhost:8080/"
        },
        "outputId": "9d938495-7589-407c-df4c-ce7b1d773e5a"
      },
      "source": [
        "print(f\"Sentence before vectorization:\\n{random_text}\\n\")\n",
        "embedded_sentence = bert_embedding_model(tf.constant([random_text]))\n",
        "print(f\"Sentence after embedding:\\n{embedded_sentence}\\n\")\n",
        "print(f\"Embedded sentence shape: {embedded_sentence.shape}\")"
      ],
      "execution_count": 58,
      "outputs": [
        {
          "output_type": "stream",
          "text": [
            "Sentence before vectorization:\n",
            "Athens Paralympics ends with China on top China turned out a great surprise in the 12-day-long 12th Paralympic Games which closed here on Tuesday, topping the gold medal tally with 63.\n",
            "\n",
            "Sentence after embedding:\n",
            "[[[-0.23824811 -0.05941061  0.554491   ... -0.6635231   0.79320335\n",
            "   -0.26560336]\n",
            "  [ 0.10805839  0.094887   -0.20998138 ... -0.5260384   0.45425016\n",
            "   -0.6680553 ]\n",
            "  [ 0.36684376  0.8295935   0.53015417 ...  0.10202473 -0.6817883\n",
            "   -0.39228478]\n",
            "  ...\n",
            "  [-0.6367726  -0.16723159  0.5352709  ...  0.5766106   0.67152214\n",
            "   -0.1786001 ]\n",
            "  [-0.6233241  -0.5710221   0.32028103 ...  0.54077154  0.8119166\n",
            "   -0.42445096]\n",
            "  [-0.6880226  -0.06894204  0.5122877  ...  0.41912723  0.35883218\n",
            "   -0.08180346]]]\n",
            "\n",
            "Embedded sentence shape: (1, 128, 768)\n"
          ],
          "name": "stdout"
        }
      ]
    },
    {
      "cell_type": "markdown",
      "metadata": {
        "id": "vVSEi0Pv9TEL"
      },
      "source": [
        "## Creating Datasets for the Deep Models\n",
        "\n",
        "\n",
        "I am going to set up our data to run as fast as possible with TensorFlow tf.data.API, many of the steps here are discussed at length in these two resources:\n",
        "* [tf.data: Build TensorFlow input pipelines](https://www.tensorflow.org/guide/data)\n",
        "* [Better performance with the tf.data API](https://www.tensorflow.org/guide/data_performance)"
      ]
    },
    {
      "cell_type": "code",
      "metadata": {
        "id": "EPJ1TXu_88m-",
        "colab": {
          "base_uri": "https://localhost:8080/"
        },
        "outputId": "82ee7d99-83d8-4d92-bfe6-282e2e0324d1"
      },
      "source": [
        "train_dataset = tf.data.Dataset.from_tensor_slices((train_text, train_labels_one_hot))\n",
        "test_dataset = tf.data.Dataset.from_tensor_slices((test_text, test_labels_one_hot))\n",
        "\n",
        "train_dataset"
      ],
      "execution_count": 59,
      "outputs": [
        {
          "output_type": "execute_result",
          "data": {
            "text/plain": [
              "<TensorSliceDataset shapes: ((), (4,)), types: (tf.string, tf.float64)>"
            ]
          },
          "metadata": {
            "tags": []
          },
          "execution_count": 59
        }
      ]
    },
    {
      "cell_type": "code",
      "metadata": {
        "id": "cCrghlxo9usP",
        "colab": {
          "base_uri": "https://localhost:8080/"
        },
        "outputId": "5b019254-930a-4c93-d368-1f5b1bb16b7e"
      },
      "source": [
        "# Batching the TensorSlicedDatasets and prefetching them\n",
        "train_dataset = train_dataset.batch(32).prefetch(tf.data.AUTOTUNE)\n",
        "test_dataset = test_dataset.batch(32).prefetch(tf.data.AUTOTUNE)\n",
        "\n",
        "print(train_dataset)\n",
        "print(test_dataset)"
      ],
      "execution_count": 60,
      "outputs": [
        {
          "output_type": "stream",
          "text": [
            "<PrefetchDataset shapes: ((None,), (None, 4)), types: (tf.string, tf.float64)>\n",
            "<PrefetchDataset shapes: ((None,), (None, 4)), types: (tf.string, tf.float64)>\n"
          ],
          "name": "stdout"
        }
      ]
    },
    {
      "cell_type": "code",
      "metadata": {
        "id": "qYJYQcl9Jmj-"
      },
      "source": [
        "# Creating datasets with combined character level and token level data\n",
        "char_token_train =  tf.data.Dataset.from_tensor_slices((train_text, train_chars)) \n",
        "char_token_train_labels = tf.data.Dataset.from_tensor_slices(train_labels_one_hot) \n",
        "train_char_token_dataset = tf.data.Dataset.zip((char_token_train, char_token_train_labels))\n",
        "\n",
        "# Prefetching and batching the train data\n",
        "train_char_token_dataset = train_char_token_dataset.batch(32).prefetch(tf.data.AUTOTUNE) \n",
        "\n",
        "# Repeating the same process for the test dataset\n",
        "char_token_test = tf.data.Dataset.from_tensor_slices((test_text, test_chars)) \n",
        "char_token_test_labels = tf.data.Dataset.from_tensor_slices(test_labels_one_hot) \n",
        "test_char_token_dataset = tf.data.Dataset.zip((char_token_test, char_token_test_labels))\n",
        "\n",
        "test_char_token_dataset = test_char_token_dataset.batch(32).prefetch(tf.data.AUTOTUNE)"
      ],
      "execution_count": 61,
      "outputs": []
    },
    {
      "cell_type": "markdown",
      "metadata": {
        "id": "IViMcF_y-IRG"
      },
      "source": [
        "## Deep Modelling Experiments"
      ]
    },
    {
      "cell_type": "code",
      "metadata": {
        "id": "lxulGB4LpMCh"
      },
      "source": [
        "# Creating a function to evaluate the models in terms of accuracy, precision, recall, f1 and save the results\n",
        "results = {}\n",
        "def evaluate_model(model, test_data):\n",
        "  model_accuracy = model.evaluate(test_data)[1]\n",
        "  y_pred_probs = model.predict(test_data) # getting the prediction probabilities\n",
        "  y_pred = tf.argmax(y_pred_probs, axis=1) # turning the prediction probabilities into prediction classes\n",
        "  model_precision, model_recall, model_f1, _ = precision_recall_fscore_support(test_labels, y_pred, average=\"weighted\")\n",
        "  model_results = {\"accuracy\": model_accuracy,\n",
        "                  \"precision\": model_precision,\n",
        "                  \"recall\": model_recall,\n",
        "                  \"f1\": model_f1}\n",
        "  results[f'{model.name}'] =  model_results"
      ],
      "execution_count": 62,
      "outputs": []
    },
    {
      "cell_type": "markdown",
      "metadata": {
        "id": "SQdx-iKoooo5"
      },
      "source": [
        "### Model 1: Conv1D with Custom Token Embeddings"
      ]
    },
    {
      "cell_type": "code",
      "metadata": {
        "id": "u_3zLC5CovvY"
      },
      "source": [
        "# Creating the model\n",
        "inputs = layers.Input(shape=(1,), dtype=tf.string)\n",
        "text_vectors = text_vectorizer(inputs)\n",
        "token_embeddings = token_embed(text_vectors) \n",
        "x = layers.Conv1D(64, kernel_size=5, padding=\"same\", activation=\"relu\")(token_embeddings)\n",
        "x = layers.GlobalAveragePooling1D()(x)\n",
        "outputs = layers.Dense(num_classes, activation=\"softmax\")(x)\n",
        "model_1 = tf.keras.Model(inputs=inputs,\n",
        "                        outputs=outputs,\n",
        "                        name='model_1_conv1d_token_embedding')\n",
        "\n",
        "# compiling the model\n",
        "model_1.compile(loss='categorical_crossentropy',\n",
        "                optimizer='Adam',\n",
        "                metrics = ['accuracy'])"
      ],
      "execution_count": 63,
      "outputs": []
    },
    {
      "cell_type": "code",
      "metadata": {
        "id": "Yk9mcklgqKAQ",
        "colab": {
          "base_uri": "https://localhost:8080/"
        },
        "outputId": "3880271a-458c-4558-b632-18ffeb4294fd"
      },
      "source": [
        "model_1.summary()"
      ],
      "execution_count": 64,
      "outputs": [
        {
          "output_type": "stream",
          "text": [
            "Model: \"model_1_conv1d_token_embedding\"\n",
            "_________________________________________________________________\n",
            "Layer (type)                 Output Shape              Param #   \n",
            "=================================================================\n",
            "input_2 (InputLayer)         [(None, 1)]               0         \n",
            "_________________________________________________________________\n",
            "text_vectorization (TextVect (None, 35)                0         \n",
            "_________________________________________________________________\n",
            "token_embedding (Embedding)  (None, 35, 128)           12728576  \n",
            "_________________________________________________________________\n",
            "conv1d (Conv1D)              (None, 35, 64)            41024     \n",
            "_________________________________________________________________\n",
            "global_average_pooling1d (Gl (None, 64)                0         \n",
            "_________________________________________________________________\n",
            "dense (Dense)                (None, 4)                 260       \n",
            "=================================================================\n",
            "Total params: 12,769,860\n",
            "Trainable params: 12,769,860\n",
            "Non-trainable params: 0\n",
            "_________________________________________________________________\n"
          ],
          "name": "stdout"
        }
      ]
    },
    {
      "cell_type": "code",
      "metadata": {
        "id": "NSp-wxCdp28d",
        "colab": {
          "base_uri": "https://localhost:8080/"
        },
        "outputId": "2a67397f-9c2b-4439-a29f-0164e5cee2c7"
      },
      "source": [
        "# fitting the model\n",
        "model_1_hist = model_1.fit(train_dataset,\n",
        "                           steps_per_epoch=int(0.1*len(train_dataset)),\n",
        "                           epochs=10,\n",
        "                           validation_data=test_dataset,\n",
        "                           validation_steps = int(0.1*len(test_dataset)))"
      ],
      "execution_count": 65,
      "outputs": [
        {
          "output_type": "stream",
          "text": [
            "Epoch 1/10\n",
            "375/375 [==============================] - 78s 136ms/step - loss: 0.5812 - accuracy: 0.8152 - val_loss: 0.4018 - val_accuracy: 0.8682\n",
            "Epoch 2/10\n",
            "375/375 [==============================] - 51s 136ms/step - loss: 0.3071 - accuracy: 0.8997 - val_loss: 0.3713 - val_accuracy: 0.8777\n",
            "Epoch 3/10\n",
            "375/375 [==============================] - 51s 136ms/step - loss: 0.2818 - accuracy: 0.9111 - val_loss: 0.3421 - val_accuracy: 0.8845\n",
            "Epoch 4/10\n",
            "375/375 [==============================] - 51s 136ms/step - loss: 0.2839 - accuracy: 0.9072 - val_loss: 0.3355 - val_accuracy: 0.8709\n",
            "Epoch 5/10\n",
            "375/375 [==============================] - 51s 137ms/step - loss: 0.2533 - accuracy: 0.9197 - val_loss: 0.3099 - val_accuracy: 0.8927\n",
            "Epoch 6/10\n",
            "375/375 [==============================] - 51s 136ms/step - loss: 0.2645 - accuracy: 0.9091 - val_loss: 0.2878 - val_accuracy: 0.8981\n",
            "Epoch 7/10\n",
            "375/375 [==============================] - 51s 136ms/step - loss: 0.2426 - accuracy: 0.9194 - val_loss: 0.2824 - val_accuracy: 0.8981\n",
            "Epoch 8/10\n",
            "375/375 [==============================] - 51s 136ms/step - loss: 0.2592 - accuracy: 0.9143 - val_loss: 0.2907 - val_accuracy: 0.8954\n",
            "Epoch 9/10\n",
            "375/375 [==============================] - 51s 136ms/step - loss: 0.2482 - accuracy: 0.9166 - val_loss: 0.2917 - val_accuracy: 0.9008\n",
            "Epoch 10/10\n",
            "375/375 [==============================] - 51s 137ms/step - loss: 0.2411 - accuracy: 0.9212 - val_loss: 0.2846 - val_accuracy: 0.9049\n"
          ],
          "name": "stdout"
        }
      ]
    },
    {
      "cell_type": "code",
      "metadata": {
        "id": "m2osHaI2pSvC",
        "colab": {
          "base_uri": "https://localhost:8080/"
        },
        "outputId": "7be18515-6409-44ef-89c8-53e7e2f8a603"
      },
      "source": [
        "evaluate_model(model_1, test_dataset)"
      ],
      "execution_count": 66,
      "outputs": [
        {
          "output_type": "stream",
          "text": [
            "238/238 [==============================] - 1s 5ms/step - loss: 0.2473 - accuracy: 0.9184\n"
          ],
          "name": "stdout"
        }
      ]
    },
    {
      "cell_type": "markdown",
      "metadata": {
        "id": "7XiVtLWfsAzf"
      },
      "source": [
        "### Model 2: Universal Sentence Encoder Feature Extraction Model"
      ]
    },
    {
      "cell_type": "code",
      "metadata": {
        "id": "u3FdL8o6sM1M"
      },
      "source": [
        "# Creating the model\n",
        "inputs = layers.Input(shape=(), dtype=tf.string)\n",
        "embeddings = use_embedding(inputs)\n",
        "x = layers.Dense(128, activation='relu')(embeddings)\n",
        "x = layers.Dense(128, activation='relu')(x)\n",
        "outputs = layers.Dense(num_classes, activation='softmax')(x)\n",
        "model_2 = tf.keras.Model(inputs=inputs,\n",
        "                        outputs=outputs,\n",
        "                        name='model_2_USE_token_embedding')\n",
        "\n",
        "# compiling the model\n",
        "model_2.compile(loss='categorical_crossentropy',\n",
        "                optimizer='Adam',\n",
        "                metrics = ['accuracy'])"
      ],
      "execution_count": 67,
      "outputs": []
    },
    {
      "cell_type": "code",
      "metadata": {
        "id": "JuYOgFXAsoQa",
        "colab": {
          "base_uri": "https://localhost:8080/"
        },
        "outputId": "11c6054e-cda6-402a-fac4-352e6150cdf8"
      },
      "source": [
        "model_2.summary()"
      ],
      "execution_count": 68,
      "outputs": [
        {
          "output_type": "stream",
          "text": [
            "Model: \"model_2_USE_token_embedding\"\n",
            "_________________________________________________________________\n",
            "Layer (type)                 Output Shape              Param #   \n",
            "=================================================================\n",
            "input_3 (InputLayer)         [(None,)]                 0         \n",
            "_________________________________________________________________\n",
            "universal_sentence_encoder ( (None, 512)               256797824 \n",
            "_________________________________________________________________\n",
            "dense_1 (Dense)              (None, 128)               65664     \n",
            "_________________________________________________________________\n",
            "dense_2 (Dense)              (None, 128)               16512     \n",
            "_________________________________________________________________\n",
            "dense_3 (Dense)              (None, 4)                 516       \n",
            "=================================================================\n",
            "Total params: 256,880,516\n",
            "Trainable params: 82,692\n",
            "Non-trainable params: 256,797,824\n",
            "_________________________________________________________________\n"
          ],
          "name": "stdout"
        }
      ]
    },
    {
      "cell_type": "code",
      "metadata": {
        "id": "IrmaVi9CsXej",
        "colab": {
          "base_uri": "https://localhost:8080/"
        },
        "outputId": "a88a53ff-ed80-4183-bc3c-51a0a6626a4c"
      },
      "source": [
        "# fitting the model\n",
        "model_2_hist = model_2.fit(train_dataset,\n",
        "                           steps_per_epoch=int(0.1*len(train_dataset)),\n",
        "                           epochs=10,\n",
        "                           validation_data=test_dataset,\n",
        "                           validation_steps = int(0.1*len(test_dataset)))"
      ],
      "execution_count": 69,
      "outputs": [
        {
          "output_type": "stream",
          "text": [
            "Epoch 1/10\n",
            "375/375 [==============================] - 10s 19ms/step - loss: 0.4380 - accuracy: 0.8604 - val_loss: 0.4055 - val_accuracy: 0.8696\n",
            "Epoch 2/10\n",
            "375/375 [==============================] - 7s 18ms/step - loss: 0.3230 - accuracy: 0.8876 - val_loss: 0.3489 - val_accuracy: 0.8832\n",
            "Epoch 3/10\n",
            "375/375 [==============================] - 7s 18ms/step - loss: 0.3046 - accuracy: 0.8924 - val_loss: 0.3515 - val_accuracy: 0.8832\n",
            "Epoch 4/10\n",
            "375/375 [==============================] - 7s 18ms/step - loss: 0.3052 - accuracy: 0.8923 - val_loss: 0.3372 - val_accuracy: 0.8899\n",
            "Epoch 5/10\n",
            "375/375 [==============================] - 7s 18ms/step - loss: 0.2856 - accuracy: 0.9015 - val_loss: 0.3410 - val_accuracy: 0.8818\n",
            "Epoch 6/10\n",
            "375/375 [==============================] - 7s 18ms/step - loss: 0.2960 - accuracy: 0.8949 - val_loss: 0.3390 - val_accuracy: 0.8750\n",
            "Epoch 7/10\n",
            "375/375 [==============================] - 7s 18ms/step - loss: 0.2825 - accuracy: 0.9016 - val_loss: 0.3369 - val_accuracy: 0.8845\n",
            "Epoch 8/10\n",
            "375/375 [==============================] - 7s 18ms/step - loss: 0.2975 - accuracy: 0.8945 - val_loss: 0.3222 - val_accuracy: 0.8899\n",
            "Epoch 9/10\n",
            "375/375 [==============================] - 7s 18ms/step - loss: 0.2818 - accuracy: 0.8987 - val_loss: 0.3214 - val_accuracy: 0.8927\n",
            "Epoch 10/10\n",
            "375/375 [==============================] - 7s 18ms/step - loss: 0.2735 - accuracy: 0.9025 - val_loss: 0.3241 - val_accuracy: 0.8886\n"
          ],
          "name": "stdout"
        }
      ]
    },
    {
      "cell_type": "code",
      "metadata": {
        "id": "TjC4FRhGpbnk",
        "colab": {
          "base_uri": "https://localhost:8080/"
        },
        "outputId": "5c5c3b10-00d6-4b6b-a372-4e4755034ffb"
      },
      "source": [
        "evaluate_model(model_2, test_dataset)"
      ],
      "execution_count": 70,
      "outputs": [
        {
          "output_type": "stream",
          "text": [
            "238/238 [==============================] - 4s 16ms/step - loss: 0.2967 - accuracy: 0.8982\n"
          ],
          "name": "stdout"
        }
      ]
    },
    {
      "cell_type": "markdown",
      "metadata": {
        "id": "puwQSrm_MpD9"
      },
      "source": [
        "### Model 3: Conv1D with Custom Token Embeddings Combined with Caracter Level Embeddings with Bi-LSTM Layers"
      ]
    },
    {
      "cell_type": "code",
      "metadata": {
        "id": "thCktsAisL0-"
      },
      "source": [
        "# resetting the learned patterns from the previous experiments\n",
        "text_vectorizer.adapt(train_text)\n",
        "token_embed = layers.Embedding(input_dim=len(tab_fact_text_vocab),\n",
        "                               output_dim=128,\n",
        "                               mask_zero=True, \n",
        "                               name='token_embedding')"
      ],
      "execution_count": 89,
      "outputs": []
    },
    {
      "cell_type": "code",
      "metadata": {
        "id": "_QdCkKCGOMfy"
      },
      "source": [
        "# Setting up token inputs/model\n",
        "token_inputs = token_inputs = layers.Input(shape=[], dtype=tf.string, name=\"token_input\")\n",
        "text_vectors = text_vectorizer(token_inputs)\n",
        "token_embeddings = token_embed(text_vectors) \n",
        "x = layers.Conv1D(128, kernel_size=5, padding=\"same\", activation=\"relu\")(token_embeddings)\n",
        "x = layers.GlobalAveragePooling1D()(x)\n",
        "token_output = layers.Dense(64, activation=\"relu\")(x)\n",
        "token_model = tf.keras.Model(inputs=token_inputs,\n",
        "                             outputs=token_output)\n",
        "\n",
        "# 2. Setting up character inputs/model\n",
        "char_inputs = layers.Input(shape=(1,), dtype=tf.string, name=\"char_input\")\n",
        "char_vectors = char_vectorizer(char_inputs)\n",
        "char_embeddings = char_embed(char_vectors)\n",
        "char_bi_lstm = layers.Bidirectional(layers.LSTM(64, return_sequences=True))(char_embeddings)\n",
        "char_bi_lstm2 = layers.Bidirectional(layers.LSTM(64, return_sequences=True))(char_bi_lstm)\n",
        "char_output = layers.LSTM(64)(char_bi_lstm2)\n",
        "char_model = tf.keras.Model(inputs=char_inputs,\n",
        "                            outputs=char_output)\n",
        "\n",
        "# 3. Concatenating token and char inputs \n",
        "token_char_concat = layers.Concatenate(name=\"token_char_hybrid\")([token_model.output, \n",
        "                                                                  char_model.output])\n",
        "\n",
        "# 4. Creating output layers \n",
        "combined_dropout = layers.Dropout(0.5)(token_char_concat)\n",
        "combined_dense = layers.Dense(128, activation=\"relu\")(combined_dropout)\n",
        "final_dropout = layers.Dropout(0.5)(combined_dense)\n",
        "output_layer = layers.Dense(num_classes, activation=\"softmax\")(final_dropout)\n",
        "\n",
        "# 5. Constructing the multimodal model with character and token inputs\n",
        "model_3 = tf.keras.Model(inputs=[token_model.input, char_model.input],\n",
        "                         outputs=output_layer,\n",
        "                         name=\"model_3_bilstm_char_conv1d_token_embedding\")"
      ],
      "execution_count": 90,
      "outputs": []
    },
    {
      "cell_type": "code",
      "metadata": {
        "id": "O5wjmqL2Pwe3",
        "colab": {
          "base_uri": "https://localhost:8080/",
          "height": 775
        },
        "outputId": "8cfc9aea-3967-4019-9f4e-2bc030a67f8c"
      },
      "source": [
        "# Plotting the hybrid token and character model\n",
        "plot_model(model_3, show_shapes=True)"
      ],
      "execution_count": 91,
      "outputs": [
        {
          "output_type": "execute_result",
          "data": {
            "image/png": "[encoded data removed]",
            "text/plain": [
              "<IPython.core.display.Image object>"
            ]
          },
          "metadata": {
            "tags": []
          },
          "execution_count": 91
        }
      ]
    },
    {
      "cell_type": "code",
      "metadata": {
        "id": "M55JQxb8QKCF"
      },
      "source": [
        "# compiling the model\n",
        "model_3.compile(loss='categorical_crossentropy',\n",
        "                optimizer='Adam',\n",
        "                metrics = ['accuracy'])"
      ],
      "execution_count": 92,
      "outputs": []
    },
    {
      "cell_type": "code",
      "metadata": {
        "id": "XTpY0P_sQShw",
        "colab": {
          "base_uri": "https://localhost:8080/"
        },
        "outputId": "738a5f55-00e0-42f3-eb59-5a09a8e970f6"
      },
      "source": [
        "# fitting the model\n",
        "model_3_hist = model_3.fit(train_char_token_dataset, \n",
        "                            steps_per_epoch=int(0.1 * len(train_char_token_dataset)),\n",
        "                            epochs=10,\n",
        "                            validation_data=test_char_token_dataset,\n",
        "                            validation_steps=int(0.1 * len(test_char_token_dataset)))"
      ],
      "execution_count": 93,
      "outputs": [
        {
          "output_type": "stream",
          "text": [
            "Epoch 1/10\n",
            "375/375 [==============================] - 144s 324ms/step - loss: 0.7512 - accuracy: 0.6892 - val_loss: 0.4336 - val_accuracy: 0.8682\n",
            "Epoch 2/10\n",
            "375/375 [==============================] - 115s 306ms/step - loss: 0.3869 - accuracy: 0.8889 - val_loss: 0.3909 - val_accuracy: 0.8736\n",
            "Epoch 3/10\n",
            "375/375 [==============================] - 114s 305ms/step - loss: 0.3468 - accuracy: 0.8962 - val_loss: 0.3806 - val_accuracy: 0.8859\n",
            "Epoch 4/10\n",
            "375/375 [==============================] - 115s 306ms/step - loss: 0.3343 - accuracy: 0.8985 - val_loss: 0.3465 - val_accuracy: 0.8913\n",
            "Epoch 5/10\n",
            "375/375 [==============================] - 115s 307ms/step - loss: 0.2964 - accuracy: 0.9114 - val_loss: 0.3303 - val_accuracy: 0.9022\n",
            "Epoch 6/10\n",
            "375/375 [==============================] - 114s 305ms/step - loss: 0.3047 - accuracy: 0.9051 - val_loss: 0.2934 - val_accuracy: 0.9117\n",
            "Epoch 7/10\n",
            "375/375 [==============================] - 113s 302ms/step - loss: 0.2827 - accuracy: 0.9153 - val_loss: 0.2944 - val_accuracy: 0.9130\n",
            "Epoch 8/10\n",
            "375/375 [==============================] - 114s 304ms/step - loss: 0.3003 - accuracy: 0.9079 - val_loss: 0.3056 - val_accuracy: 0.9062\n",
            "Epoch 9/10\n",
            "375/375 [==============================] - 114s 303ms/step - loss: 0.2855 - accuracy: 0.9101 - val_loss: 0.2930 - val_accuracy: 0.9022\n",
            "Epoch 10/10\n",
            "375/375 [==============================] - 114s 303ms/step - loss: 0.2742 - accuracy: 0.9140 - val_loss: 0.2941 - val_accuracy: 0.9090\n"
          ],
          "name": "stdout"
        }
      ]
    },
    {
      "cell_type": "code",
      "metadata": {
        "id": "9tUTxcrKpiSe",
        "colab": {
          "base_uri": "https://localhost:8080/"
        },
        "outputId": "151827ab-f720-4901-99ad-d54a2bf626c8"
      },
      "source": [
        "evaluate_model(model_3, test_char_token_dataset)"
      ],
      "execution_count": 94,
      "outputs": [
        {
          "output_type": "stream",
          "text": [
            "238/238 [==============================] - 22s 92ms/step - loss: 0.2570 - accuracy: 0.9187\n"
          ],
          "name": "stdout"
        }
      ]
    },
    {
      "cell_type": "markdown",
      "metadata": {
        "id": "40jFU8XEqDdp"
      },
      "source": [
        "### Model 4: BERT Feature Extraction Model With LSTM Layers"
      ]
    },
    {
      "cell_type": "code",
      "metadata": {
        "id": "r7sYdeTZqCe0"
      },
      "source": [
        "# Creating the model\n",
        "inputs = layers.Input(shape=(), dtype=tf.string)\n",
        "token_embeddings = bert_embedding_model(inputs)\n",
        "x = layers.LSTM(128, return_sequences=True)(token_embeddings)\n",
        "x = layers.LSTM(64)(x)\n",
        "outputs = layers.Dense(num_classes, activation='softmax')(x)\n",
        "model_4 = tf.keras.Model(inputs=inputs,\n",
        "                        outputs=outputs,\n",
        "                        name='model_4_bert_token_embedding_lstm')\n",
        "\n",
        "# compiling the model\n",
        "model_4.compile(loss='categorical_crossentropy',\n",
        "                optimizer='Adam',\n",
        "                metrics = ['accuracy'])"
      ],
      "execution_count": 96,
      "outputs": []
    },
    {
      "cell_type": "code",
      "metadata": {
        "id": "W5tL7AJVS3zy",
        "colab": {
          "base_uri": "https://localhost:8080/"
        },
        "outputId": "f59c8253-6b70-4cb8-f8fc-7e34fcd33f8a"
      },
      "source": [
        "model_4.summary()"
      ],
      "execution_count": 97,
      "outputs": [
        {
          "output_type": "stream",
          "text": [
            "Model: \"model_4_bert_token_embedding_lstm\"\n",
            "_________________________________________________________________\n",
            "Layer (type)                 Output Shape              Param #   \n",
            "=================================================================\n",
            "input_4 (InputLayer)         [(None,)]                 0         \n",
            "_________________________________________________________________\n",
            "model (Functional)           (None, 128, 768)          109482241 \n",
            "_________________________________________________________________\n",
            "lstm_12 (LSTM)               (None, 128, 128)          459264    \n",
            "_________________________________________________________________\n",
            "lstm_13 (LSTM)               (None, 64)                49408     \n",
            "_________________________________________________________________\n",
            "dense_16 (Dense)             (None, 4)                 260       \n",
            "=================================================================\n",
            "Total params: 109,991,173\n",
            "Trainable params: 508,932\n",
            "Non-trainable params: 109,482,241\n",
            "_________________________________________________________________\n"
          ],
          "name": "stdout"
        }
      ]
    },
    {
      "cell_type": "code",
      "metadata": {
        "id": "M9T1am4fKKVW",
        "colab": {
          "base_uri": "https://localhost:8080/"
        },
        "outputId": "996263e8-ee72-4c8c-d44d-71c97ddca103"
      },
      "source": [
        "# fitting the model\n",
        "model_4_hist = model_4.fit(train_dataset, \n",
        "                            steps_per_epoch=int(0.1 * len(train_dataset)),\n",
        "                            epochs=10,\n",
        "                            validation_data=test_dataset,\n",
        "                            validation_steps=int(0.1 * len(test_dataset)))"
      ],
      "execution_count": 98,
      "outputs": [
        {
          "output_type": "stream",
          "text": [
            "Epoch 1/10\n",
            "375/375 [==============================] - 267s 672ms/step - loss: 0.4211 - accuracy: 0.8509 - val_loss: 0.4450 - val_accuracy: 0.8546\n",
            "Epoch 2/10\n",
            "375/375 [==============================] - 251s 668ms/step - loss: 0.3564 - accuracy: 0.8794 - val_loss: 0.3746 - val_accuracy: 0.8764\n",
            "Epoch 3/10\n",
            "375/375 [==============================] - 250s 668ms/step - loss: 0.3374 - accuracy: 0.8832 - val_loss: 0.3864 - val_accuracy: 0.8832\n",
            "Epoch 4/10\n",
            "375/375 [==============================] - 250s 667ms/step - loss: 0.3306 - accuracy: 0.8867 - val_loss: 0.3808 - val_accuracy: 0.8709\n",
            "Epoch 5/10\n",
            "375/375 [==============================] - 249s 665ms/step - loss: 0.3095 - accuracy: 0.8942 - val_loss: 0.3843 - val_accuracy: 0.8832\n",
            "Epoch 6/10\n",
            "375/375 [==============================] - 249s 665ms/step - loss: 0.3019 - accuracy: 0.8952 - val_loss: 0.3347 - val_accuracy: 0.8913\n",
            "Epoch 7/10\n",
            "375/375 [==============================] - 249s 664ms/step - loss: 0.2786 - accuracy: 0.9046 - val_loss: 0.3449 - val_accuracy: 0.8886\n",
            "Epoch 8/10\n",
            "375/375 [==============================] - 249s 664ms/step - loss: 0.2917 - accuracy: 0.8993 - val_loss: 0.3285 - val_accuracy: 0.9049\n",
            "Epoch 9/10\n",
            "375/375 [==============================] - 249s 663ms/step - loss: 0.2783 - accuracy: 0.9032 - val_loss: 0.3251 - val_accuracy: 0.8954\n",
            "Epoch 10/10\n",
            "375/375 [==============================] - 249s 663ms/step - loss: 0.2605 - accuracy: 0.9134 - val_loss: 0.3267 - val_accuracy: 0.8913\n"
          ],
          "name": "stdout"
        }
      ]
    },
    {
      "cell_type": "code",
      "metadata": {
        "id": "PJ1E7Y4Dpn4I",
        "colab": {
          "base_uri": "https://localhost:8080/"
        },
        "outputId": "44f62c2f-ed17-4dce-caa3-5fa40276b77e"
      },
      "source": [
        "evaluate_model(model_4, test_dataset)"
      ],
      "execution_count": 99,
      "outputs": [
        {
          "output_type": "stream",
          "text": [
            "238/238 [==============================] - 142s 598ms/step - loss: 0.2807 - accuracy: 0.9058\n"
          ],
          "name": "stdout"
        }
      ]
    },
    {
      "cell_type": "markdown",
      "metadata": {
        "id": "v4iXw_TKbYde"
      },
      "source": [
        "### Model 5: Conv1D with BERT Token Embeddings Combined With Character Level Embeddings with a Bi-LSTM Layer"
      ]
    },
    {
      "cell_type": "code",
      "metadata": {
        "id": "jsKf3pGvfCWR"
      },
      "source": [
        "# resetting character vectorizer and the embedding layer\n",
        "char_vectorizer.adapt(train_chars)\n",
        "char_embed = layers.Embedding(input_dim=num_char_tokens,\n",
        "                              output_dim=256, \n",
        "                              mask_zero=True,\n",
        "                              name=\"char_embed\")"
      ],
      "execution_count": 100,
      "outputs": []
    },
    {
      "cell_type": "code",
      "metadata": {
        "id": "TAitx_xWb0Sb"
      },
      "source": [
        "# Setting up token inputs/model\n",
        "token_inputs = token_inputs = layers.Input(shape=(), dtype=tf.string, name=\"token_input\")\n",
        "token_embeddings = bert_embedding_model(token_inputs)\n",
        "x = layers.Conv1D(64, kernel_size=5, padding=\"same\", activation=\"relu\")(token_embeddings)\n",
        "x = layers.GlobalAveragePooling1D()(x)\n",
        "token_output = layers.Dense(128, activation=\"relu\")(x)\n",
        "token_model = tf.keras.Model(inputs=token_inputs,\n",
        "                             outputs=token_output)\n",
        "\n",
        "# 2. Setting up character inputs/model\n",
        "char_inputs = layers.Input(shape=(1,), dtype=tf.string, name=\"char_input\")\n",
        "char_vectors = char_vectorizer(char_inputs)\n",
        "char_embeddings = char_embed(char_vectors)\n",
        "char_bi_lstm = layers.Bidirectional(layers.LSTM(64))(char_embeddings)\n",
        "char_model = tf.keras.Model(inputs=char_inputs,\n",
        "                            outputs=char_bi_lstm)\n",
        "\n",
        "# 3. Concatenating token and char inputs \n",
        "token_char_concat = layers.Concatenate(name=\"token_char_hybrid\")([token_model.output, \n",
        "                                                                  char_model.output])\n",
        "\n",
        "# 4. Creating output layers \n",
        "combined_dropout = layers.Dropout(0.5)(token_char_concat)\n",
        "combined_dense = layers.Dense(128, activation=\"relu\")(combined_dropout)\n",
        "final_dropout = layers.Dropout(0.5)(combined_dense)\n",
        "output_layer = layers.Dense(num_classes, activation=\"softmax\")(final_dropout)\n",
        "\n",
        "# 5. Constructing the multimodal model with character and token inputs\n",
        "model_5 = tf.keras.Model(inputs=[token_model.input, char_model.input],\n",
        "                         outputs=output_layer,\n",
        "                         name=\"model_5_conv1d_bert_token_and_bilstm_char_embeddings\")\n",
        "\n",
        "# compiling the model\n",
        "model_5.compile(loss='categorical_crossentropy',\n",
        "                optimizer='Adam',\n",
        "                metrics = ['accuracy'])"
      ],
      "execution_count": 101,
      "outputs": []
    },
    {
      "cell_type": "code",
      "metadata": {
        "id": "1si3ulTWc0WR",
        "colab": {
          "base_uri": "https://localhost:8080/",
          "height": 763
        },
        "outputId": "b0dd8fe4-91e8-4589-a8bf-4898190b5dca"
      },
      "source": [
        "plot_model(model_5, show_shapes=True)"
      ],
      "execution_count": 102,
      "outputs": [
        {
          "output_type": "execute_result",
          "data": {
            "image/png": "[encoded data removed]",
            "text/plain": [
              "<IPython.core.display.Image object>"
            ]
          },
          "metadata": {
            "tags": []
          },
          "execution_count": 102
        }
      ]
    },
    {
      "cell_type": "code",
      "metadata": {
        "id": "fuJtRqCUdjJO",
        "colab": {
          "base_uri": "https://localhost:8080/"
        },
        "outputId": "83bf97a7-4f85-4727-ae00-bc8ea5c3c3f8"
      },
      "source": [
        "# fitting the model\n",
        "model_5_hist = model_5.fit(train_char_token_dataset, \n",
        "                            steps_per_epoch=int(0.1 * len(train_char_token_dataset)),\n",
        "                            epochs=10,\n",
        "                            validation_data=test_char_token_dataset,\n",
        "                            validation_steps=int(0.1 * len(test_char_token_dataset)))"
      ],
      "execution_count": 103,
      "outputs": [
        {
          "output_type": "stream",
          "text": [
            "Epoch 1/10\n",
            "375/375 [==============================] - 274s 703ms/step - loss: 0.4680 - accuracy: 0.8401 - val_loss: 0.4379 - val_accuracy: 0.8655\n",
            "Epoch 2/10\n",
            "375/375 [==============================] - 260s 693ms/step - loss: 0.3753 - accuracy: 0.8807 - val_loss: 0.3543 - val_accuracy: 0.8872\n",
            "Epoch 3/10\n",
            "375/375 [==============================] - 260s 692ms/step - loss: 0.3524 - accuracy: 0.8898 - val_loss: 0.3609 - val_accuracy: 0.8777\n",
            "Epoch 4/10\n",
            "375/375 [==============================] - 259s 692ms/step - loss: 0.3457 - accuracy: 0.8889 - val_loss: 0.3689 - val_accuracy: 0.8927\n",
            "Epoch 5/10\n",
            "375/375 [==============================] - 260s 692ms/step - loss: 0.3221 - accuracy: 0.8961 - val_loss: 0.3618 - val_accuracy: 0.8872\n",
            "Epoch 6/10\n",
            "375/375 [==============================] - 260s 692ms/step - loss: 0.3276 - accuracy: 0.8963 - val_loss: 0.3394 - val_accuracy: 0.8899\n",
            "Epoch 7/10\n",
            "375/375 [==============================] - 259s 692ms/step - loss: 0.3063 - accuracy: 0.9006 - val_loss: 0.3398 - val_accuracy: 0.8927\n",
            "Epoch 8/10\n",
            "375/375 [==============================] - 259s 692ms/step - loss: 0.3251 - accuracy: 0.8934 - val_loss: 0.3230 - val_accuracy: 0.8981\n",
            "Epoch 9/10\n",
            "375/375 [==============================] - 260s 693ms/step - loss: 0.3088 - accuracy: 0.8989 - val_loss: 0.3289 - val_accuracy: 0.8940\n",
            "Epoch 10/10\n",
            "375/375 [==============================] - 259s 692ms/step - loss: 0.2961 - accuracy: 0.9032 - val_loss: 0.3329 - val_accuracy: 0.8940\n"
          ],
          "name": "stdout"
        }
      ]
    },
    {
      "cell_type": "code",
      "metadata": {
        "id": "8fDYl7FIpyHu",
        "colab": {
          "base_uri": "https://localhost:8080/"
        },
        "outputId": "9127ccd1-65e3-4296-bbfc-b17581ffa13e"
      },
      "source": [
        "evaluate_model(model_5, test_char_token_dataset)"
      ],
      "execution_count": 104,
      "outputs": [
        {
          "output_type": "stream",
          "text": [
            "238/238 [==============================] - 143s 602ms/step - loss: 0.2868 - accuracy: 0.9030\n"
          ],
          "name": "stdout"
        }
      ]
    },
    {
      "cell_type": "markdown",
      "metadata": {
        "id": "uvD7-eI3p3sB"
      },
      "source": [
        "## Comparing The Model Results"
      ]
    },
    {
      "cell_type": "code",
      "metadata": {
        "id": "BtFK797JiBRP"
      },
      "source": [
        "# Getting the precision, recall and f1 scores for the baseline model\n",
        "y_preds = model_0.predict(test_text)\n",
        "model_precision, model_recall, model_f1, _ = precision_recall_fscore_support(test_labels, y_preds, average=\"weighted\")\n",
        "baseline_results = {\"accuracy\": baseline_score,\n",
        "                  \"precision\": model_precision,\n",
        "                  \"recall\": model_recall,\n",
        "                  \"f1\": model_f1}"
      ],
      "execution_count": 105,
      "outputs": []
    },
    {
      "cell_type": "code",
      "metadata": {
        "id": "v-VYDveHiuuY"
      },
      "source": [
        "# Adding the baseline results to the results dictionary \n",
        "results['baseline_multinomialNB'] = baseline_results"
      ],
      "execution_count": 106,
      "outputs": []
    },
    {
      "cell_type": "code",
      "metadata": {
        "id": "pRr1u1EGhV-G",
        "colab": {
          "base_uri": "https://localhost:8080/",
          "height": 237
        },
        "outputId": "d5b00462-ae30-431b-df11-7f09d629a5f7"
      },
      "source": [
        "# Converting the results dictionary into a pandas dataframe\n",
        "results_df = pd.DataFrame.from_dict(results).transpose()\n",
        "results_df.sort_values('accuracy', ascending=False)"
      ],
      "execution_count": 107,
      "outputs": [
        {
          "output_type": "execute_result",
          "data": {
            "text/html": [
              "<div>\n",
              "<style scoped>\n",
              "    .dataframe tbody tr th:only-of-type {\n",
              "        vertical-align: middle;\n",
              "    }\n",
              "\n",
              "    .dataframe tbody tr th {\n",
              "        vertical-align: top;\n",
              "    }\n",
              "\n",
              "    .dataframe thead th {\n",
              "        text-align: right;\n",
              "    }\n",
              "</style>\n",
              "<table border=\"1\" class=\"dataframe\">\n",
              "  <thead>\n",
              "    <tr style=\"text-align: right;\">\n",
              "      <th></th>\n",
              "      <th>accuracy</th>\n",
              "      <th>precision</th>\n",
              "      <th>recall</th>\n",
              "      <th>f1</th>\n",
              "    </tr>\n",
              "  </thead>\n",
              "  <tbody>\n",
              "    <tr>\n",
              "      <th>model_3_bilstm_char_conv1d_token_embedding</th>\n",
              "      <td>0.918684</td>\n",
              "      <td>0.918471</td>\n",
              "      <td>0.918684</td>\n",
              "      <td>0.918418</td>\n",
              "    </tr>\n",
              "    <tr>\n",
              "      <th>model_1_conv1d_token_embedding</th>\n",
              "      <td>0.918421</td>\n",
              "      <td>0.918414</td>\n",
              "      <td>0.918421</td>\n",
              "      <td>0.918273</td>\n",
              "    </tr>\n",
              "    <tr>\n",
              "      <th>model_4_bert_token_embedding_lstm</th>\n",
              "      <td>0.905789</td>\n",
              "      <td>0.905799</td>\n",
              "      <td>0.905789</td>\n",
              "      <td>0.905564</td>\n",
              "    </tr>\n",
              "    <tr>\n",
              "      <th>baseline_multinomialNB</th>\n",
              "      <td>0.903421</td>\n",
              "      <td>0.903014</td>\n",
              "      <td>0.903421</td>\n",
              "      <td>0.903150</td>\n",
              "    </tr>\n",
              "    <tr>\n",
              "      <th>model_5_conv1d_bert_token_and_bilstm_char_embeddings</th>\n",
              "      <td>0.903026</td>\n",
              "      <td>0.903627</td>\n",
              "      <td>0.903026</td>\n",
              "      <td>0.902987</td>\n",
              "    </tr>\n",
              "    <tr>\n",
              "      <th>model_2_USE_token_embedding</th>\n",
              "      <td>0.898158</td>\n",
              "      <td>0.898539</td>\n",
              "      <td>0.898158</td>\n",
              "      <td>0.898070</td>\n",
              "    </tr>\n",
              "  </tbody>\n",
              "</table>\n",
              "</div>"
            ],
            "text/plain": [
              "                                                    accuracy  ...        f1\n",
              "model_3_bilstm_char_conv1d_token_embedding          0.918684  ...  0.918418\n",
              "model_1_conv1d_token_embedding                      0.918421  ...  0.918273\n",
              "model_4_bert_token_embedding_lstm                   0.905789  ...  0.905564\n",
              "baseline_multinomialNB                              0.903421  ...  0.903150\n",
              "model_5_conv1d_bert_token_and_bilstm_char_embed...  0.903026  ...  0.902987\n",
              "model_2_USE_token_embedding                         0.898158  ...  0.898070\n",
              "\n",
              "[6 rows x 4 columns]"
            ]
          },
          "metadata": {
            "tags": []
          },
          "execution_count": 107
        }
      ]
    },
    {
      "cell_type": "markdown",
      "metadata": {
        "id": "JdBv1O6Fkkxp"
      },
      "source": [
        "## Saving The Best Model"
      ]
    },
    {
      "cell_type": "code",
      "metadata": {
        "id": "BudxyKi1kpxr",
        "colab": {
          "base_uri": "https://localhost:8080/"
        },
        "outputId": "c0620ced-3638-4b73-d5cf-56419ba472df"
      },
      "source": [
        "model_3.save(f'drive/MyDrive/{model_3.name}')"
      ],
      "execution_count": 95,
      "outputs": [
        {
          "output_type": "stream",
          "text": [
            "WARNING:absl:Found untraced functions such as lstm_cell_27_layer_call_and_return_conditional_losses, lstm_cell_27_layer_call_fn, lstm_cell_22_layer_call_and_return_conditional_losses, lstm_cell_22_layer_call_fn, lstm_cell_23_layer_call_and_return_conditional_losses while saving (showing 5 of 25). These functions will not be directly callable after loading.\n"
          ],
          "name": "stderr"
        },
        {
          "output_type": "stream",
          "text": [
            "INFO:tensorflow:Assets written to: drive/MyDrive/model_3_bilstm_char_conv1d_token_embedding/assets\n"
          ],
          "name": "stdout"
        },
        {
          "output_type": "stream",
          "text": [
            "INFO:tensorflow:Assets written to: drive/MyDrive/model_3_bilstm_char_conv1d_token_embedding/assets\n"
          ],
          "name": "stderr"
        }
      ]
    },
    {
      "cell_type": "markdown",
      "metadata": {
        "id": "xbMR0zWKiVpr"
      },
      "source": [
        "## Most Wrong Predictions Of The Best Model"
      ]
    },
    {
      "cell_type": "code",
      "metadata": {
        "id": "8aNUWh6ZkChW",
        "colab": {
          "base_uri": "https://localhost:8080/"
        },
        "outputId": "e0ddf7a3-9e50-4f24-d1b8-029bbca623aa"
      },
      "source": [
        "# Loading the best model\n",
        "model_path = f'drive/MyDrive/{model_3.name}'\n",
        "best_model = tf.keras.models.load_model(model_path)\n",
        "\n",
        "test_pred_probs = best_model.predict(test_char_token_dataset,verbose=1)\n",
        "test_preds = tf.argmax(test_pred_probs, axis=1)\n",
        "test_preds[:10].numpy()"
      ],
      "execution_count": 108,
      "outputs": [
        {
          "output_type": "stream",
          "text": [
            "238/238 [==============================] - 26s 84ms/step\n"
          ],
          "name": "stdout"
        },
        {
          "output_type": "execute_result",
          "data": {
            "text/plain": [
              "array([2, 3, 3, 1, 3, 3, 3, 3, 3, 2])"
            ]
          },
          "metadata": {
            "tags": []
          },
          "execution_count": 108
        }
      ]
    },
    {
      "cell_type": "code",
      "metadata": {
        "id": "oHGjJ-cmmMOR",
        "colab": {
          "base_uri": "https://localhost:8080/"
        },
        "outputId": "9e323535-d493-4292-a965-c2a489a4f6ed"
      },
      "source": [
        "# checking the class names\n",
        "class_names"
      ],
      "execution_count": 109,
      "outputs": [
        {
          "output_type": "execute_result",
          "data": {
            "text/plain": [
              "['World', 'Sports', 'Business', 'Sci/Tech']"
            ]
          },
          "metadata": {
            "tags": []
          },
          "execution_count": 109
        }
      ]
    },
    {
      "cell_type": "code",
      "metadata": {
        "id": "VW6zUMk2l5_a",
        "colab": {
          "base_uri": "https://localhost:8080/"
        },
        "outputId": "6633b069-d5f5-4c1e-a90d-e55465e55138"
      },
      "source": [
        "# Getting a list of class names of the test predictions\n",
        "test_pred_classes = [class_names[pred] for pred in test_preds]\n",
        "test_pred_classes[:10]"
      ],
      "execution_count": 110,
      "outputs": [
        {
          "output_type": "execute_result",
          "data": {
            "text/plain": [
              "['Business',\n",
              " 'Sci/Tech',\n",
              " 'Sci/Tech',\n",
              " 'Sports',\n",
              " 'Sci/Tech',\n",
              " 'Sci/Tech',\n",
              " 'Sci/Tech',\n",
              " 'Sci/Tech',\n",
              " 'Sci/Tech',\n",
              " 'Business']"
            ]
          },
          "metadata": {
            "tags": []
          },
          "execution_count": 110
        }
      ]
    },
    {
      "cell_type": "code",
      "metadata": {
        "id": "GIyaRS7ZmSup",
        "colab": {
          "base_uri": "https://localhost:8080/",
          "height": 676
        },
        "outputId": "4c844b73-8c0d-496e-aa8f-4bfa45a4a2f3"
      },
      "source": [
        "# Creating prediction-enriched test dataframe\n",
        "test_df = pd.DataFrame(dataset['test'])\n",
        "test_df['class_name'] = [class_names[label] for label in test_df['label'].tolist()]\n",
        "test_df[\"prediction\"] = test_pred_classes # creating column with test prediction class names\n",
        "test_df[\"pred_prob\"] = tf.reduce_max(test_pred_probs, axis=1).numpy() # getting the maximum prediction probability\n",
        "test_df[\"correct\"] = test_df[\"prediction\"] == test_df[\"class_name\"] # creating a binary column for whether the prediction is right or not\n",
        "test_df.head(20)"
      ],
      "execution_count": 111,
      "outputs": [
        {
          "output_type": "execute_result",
          "data": {
            "text/html": [
              "<div>\n",
              "<style scoped>\n",
              "    .dataframe tbody tr th:only-of-type {\n",
              "        vertical-align: middle;\n",
              "    }\n",
              "\n",
              "    .dataframe tbody tr th {\n",
              "        vertical-align: top;\n",
              "    }\n",
              "\n",
              "    .dataframe thead th {\n",
              "        text-align: right;\n",
              "    }\n",
              "</style>\n",
              "<table border=\"1\" class=\"dataframe\">\n",
              "  <thead>\n",
              "    <tr style=\"text-align: right;\">\n",
              "      <th></th>\n",
              "      <th>text</th>\n",
              "      <th>label</th>\n",
              "      <th>class_name</th>\n",
              "      <th>prediction</th>\n",
              "      <th>pred_prob</th>\n",
              "      <th>correct</th>\n",
              "    </tr>\n",
              "  </thead>\n",
              "  <tbody>\n",
              "    <tr>\n",
              "      <th>0</th>\n",
              "      <td>Fears for T N pension after talks Unions repre...</td>\n",
              "      <td>2</td>\n",
              "      <td>Business</td>\n",
              "      <td>Business</td>\n",
              "      <td>0.941953</td>\n",
              "      <td>True</td>\n",
              "    </tr>\n",
              "    <tr>\n",
              "      <th>1</th>\n",
              "      <td>The Race is On: Second Private Team Sets Launc...</td>\n",
              "      <td>3</td>\n",
              "      <td>Sci/Tech</td>\n",
              "      <td>Sci/Tech</td>\n",
              "      <td>0.998720</td>\n",
              "      <td>True</td>\n",
              "    </tr>\n",
              "    <tr>\n",
              "      <th>2</th>\n",
              "      <td>Ky. Company Wins Grant to Study Peptides (AP) ...</td>\n",
              "      <td>3</td>\n",
              "      <td>Sci/Tech</td>\n",
              "      <td>Sci/Tech</td>\n",
              "      <td>0.962834</td>\n",
              "      <td>True</td>\n",
              "    </tr>\n",
              "    <tr>\n",
              "      <th>3</th>\n",
              "      <td>Prediction Unit Helps Forecast Wildfires (AP) ...</td>\n",
              "      <td>3</td>\n",
              "      <td>Sci/Tech</td>\n",
              "      <td>Sports</td>\n",
              "      <td>0.688644</td>\n",
              "      <td>False</td>\n",
              "    </tr>\n",
              "    <tr>\n",
              "      <th>4</th>\n",
              "      <td>Calif. Aims to Limit Farm-Related Smog (AP) AP...</td>\n",
              "      <td>3</td>\n",
              "      <td>Sci/Tech</td>\n",
              "      <td>Sci/Tech</td>\n",
              "      <td>0.773384</td>\n",
              "      <td>True</td>\n",
              "    </tr>\n",
              "    <tr>\n",
              "      <th>5</th>\n",
              "      <td>Open Letter Against British Copyright Indoctri...</td>\n",
              "      <td>3</td>\n",
              "      <td>Sci/Tech</td>\n",
              "      <td>Sci/Tech</td>\n",
              "      <td>0.893997</td>\n",
              "      <td>True</td>\n",
              "    </tr>\n",
              "    <tr>\n",
              "      <th>6</th>\n",
              "      <td>Loosing the War on Terrorism \\\\\"Sven Jaschan, ...</td>\n",
              "      <td>3</td>\n",
              "      <td>Sci/Tech</td>\n",
              "      <td>Sci/Tech</td>\n",
              "      <td>0.989346</td>\n",
              "      <td>True</td>\n",
              "    </tr>\n",
              "    <tr>\n",
              "      <th>7</th>\n",
              "      <td>FOAFKey: FOAF, PGP, Key Distribution, and Bloo...</td>\n",
              "      <td>3</td>\n",
              "      <td>Sci/Tech</td>\n",
              "      <td>Sci/Tech</td>\n",
              "      <td>0.839012</td>\n",
              "      <td>True</td>\n",
              "    </tr>\n",
              "    <tr>\n",
              "      <th>8</th>\n",
              "      <td>E-mail scam targets police chief Wiltshire Pol...</td>\n",
              "      <td>3</td>\n",
              "      <td>Sci/Tech</td>\n",
              "      <td>Sci/Tech</td>\n",
              "      <td>0.803951</td>\n",
              "      <td>True</td>\n",
              "    </tr>\n",
              "    <tr>\n",
              "      <th>9</th>\n",
              "      <td>Card fraud unit nets 36,000 cards In its first...</td>\n",
              "      <td>3</td>\n",
              "      <td>Sci/Tech</td>\n",
              "      <td>Business</td>\n",
              "      <td>0.503528</td>\n",
              "      <td>False</td>\n",
              "    </tr>\n",
              "    <tr>\n",
              "      <th>10</th>\n",
              "      <td>Group to Propose New High-Speed Wireless Forma...</td>\n",
              "      <td>3</td>\n",
              "      <td>Sci/Tech</td>\n",
              "      <td>Sci/Tech</td>\n",
              "      <td>0.836889</td>\n",
              "      <td>True</td>\n",
              "    </tr>\n",
              "    <tr>\n",
              "      <th>11</th>\n",
              "      <td>Apple Launches Graphics Software, Video Bundle...</td>\n",
              "      <td>3</td>\n",
              "      <td>Sci/Tech</td>\n",
              "      <td>Sci/Tech</td>\n",
              "      <td>0.994866</td>\n",
              "      <td>True</td>\n",
              "    </tr>\n",
              "    <tr>\n",
              "      <th>12</th>\n",
              "      <td>Dutch Retailer Beats Apple to Local Download M...</td>\n",
              "      <td>3</td>\n",
              "      <td>Sci/Tech</td>\n",
              "      <td>Sci/Tech</td>\n",
              "      <td>0.912684</td>\n",
              "      <td>True</td>\n",
              "    </tr>\n",
              "    <tr>\n",
              "      <th>13</th>\n",
              "      <td>Super ant colony hits Australia A giant 100km ...</td>\n",
              "      <td>3</td>\n",
              "      <td>Sci/Tech</td>\n",
              "      <td>Sci/Tech</td>\n",
              "      <td>0.890897</td>\n",
              "      <td>True</td>\n",
              "    </tr>\n",
              "    <tr>\n",
              "      <th>14</th>\n",
              "      <td>Socialites unite dolphin groups Dolphin groups...</td>\n",
              "      <td>3</td>\n",
              "      <td>Sci/Tech</td>\n",
              "      <td>Sci/Tech</td>\n",
              "      <td>0.831412</td>\n",
              "      <td>True</td>\n",
              "    </tr>\n",
              "    <tr>\n",
              "      <th>15</th>\n",
              "      <td>Teenage T. rex's monster growth Tyrannosaurus ...</td>\n",
              "      <td>3</td>\n",
              "      <td>Sci/Tech</td>\n",
              "      <td>Sci/Tech</td>\n",
              "      <td>0.710714</td>\n",
              "      <td>True</td>\n",
              "    </tr>\n",
              "    <tr>\n",
              "      <th>16</th>\n",
              "      <td>Scientists Discover Ganymede has a Lumpy Inter...</td>\n",
              "      <td>3</td>\n",
              "      <td>Sci/Tech</td>\n",
              "      <td>Sci/Tech</td>\n",
              "      <td>0.993083</td>\n",
              "      <td>True</td>\n",
              "    </tr>\n",
              "    <tr>\n",
              "      <th>17</th>\n",
              "      <td>Mars Rovers Relay Images Through Mars Express ...</td>\n",
              "      <td>3</td>\n",
              "      <td>Sci/Tech</td>\n",
              "      <td>Sci/Tech</td>\n",
              "      <td>0.999958</td>\n",
              "      <td>True</td>\n",
              "    </tr>\n",
              "    <tr>\n",
              "      <th>18</th>\n",
              "      <td>Rocking the Cradle of Life When did life begin...</td>\n",
              "      <td>3</td>\n",
              "      <td>Sci/Tech</td>\n",
              "      <td>Sci/Tech</td>\n",
              "      <td>0.824976</td>\n",
              "      <td>True</td>\n",
              "    </tr>\n",
              "    <tr>\n",
              "      <th>19</th>\n",
              "      <td>Storage, servers bruise HP earnings update Ear...</td>\n",
              "      <td>3</td>\n",
              "      <td>Sci/Tech</td>\n",
              "      <td>Sci/Tech</td>\n",
              "      <td>0.710979</td>\n",
              "      <td>True</td>\n",
              "    </tr>\n",
              "  </tbody>\n",
              "</table>\n",
              "</div>"
            ],
            "text/plain": [
              "                                                 text  ...  correct\n",
              "0   Fears for T N pension after talks Unions repre...  ...     True\n",
              "1   The Race is On: Second Private Team Sets Launc...  ...     True\n",
              "2   Ky. Company Wins Grant to Study Peptides (AP) ...  ...     True\n",
              "3   Prediction Unit Helps Forecast Wildfires (AP) ...  ...    False\n",
              "4   Calif. Aims to Limit Farm-Related Smog (AP) AP...  ...     True\n",
              "5   Open Letter Against British Copyright Indoctri...  ...     True\n",
              "6   Loosing the War on Terrorism \\\\\"Sven Jaschan, ...  ...     True\n",
              "7   FOAFKey: FOAF, PGP, Key Distribution, and Bloo...  ...     True\n",
              "8   E-mail scam targets police chief Wiltshire Pol...  ...     True\n",
              "9   Card fraud unit nets 36,000 cards In its first...  ...    False\n",
              "10  Group to Propose New High-Speed Wireless Forma...  ...     True\n",
              "11  Apple Launches Graphics Software, Video Bundle...  ...     True\n",
              "12  Dutch Retailer Beats Apple to Local Download M...  ...     True\n",
              "13  Super ant colony hits Australia A giant 100km ...  ...     True\n",
              "14  Socialites unite dolphin groups Dolphin groups...  ...     True\n",
              "15  Teenage T. rex's monster growth Tyrannosaurus ...  ...     True\n",
              "16  Scientists Discover Ganymede has a Lumpy Inter...  ...     True\n",
              "17  Mars Rovers Relay Images Through Mars Express ...  ...     True\n",
              "18  Rocking the Cradle of Life When did life begin...  ...     True\n",
              "19  Storage, servers bruise HP earnings update Ear...  ...     True\n",
              "\n",
              "[20 rows x 6 columns]"
            ]
          },
          "metadata": {
            "tags": []
          },
          "execution_count": 111
        }
      ]
    },
    {
      "cell_type": "code",
      "metadata": {
        "id": "KYCnBlZAnI9P"
      },
      "source": [
        "# Creating a dataframe with the most wrong predictions\n",
        "top_wrong_preds_df = test_df[test_df[\"correct\"] == False].sort_values(\"pred_prob\", ascending=False)"
      ],
      "execution_count": 112,
      "outputs": []
    },
    {
      "cell_type": "code",
      "metadata": {
        "id": "ee2WsSqOm8a1",
        "colab": {
          "base_uri": "https://localhost:8080/"
        },
        "outputId": "848acd41-9a68-4113-926f-124095aff175"
      },
      "source": [
        "# Investigating the most wrong predictions\n",
        "for num, row in enumerate(top_wrong_preds_df[:10].itertuples()): # adjust indexes to view different samples\n",
        "  _, text, label, target, prediction, pred_prob, _ = row\n",
        "  print(f\"{num+1}. Target: {target}, Pred: {prediction}, Prob: {pred_prob}\\n\")\n",
        "  print(f\"Text:\\n{text}\\n\")\n",
        "  print(\"-----\\n\")"
      ],
      "execution_count": 113,
      "outputs": [
        {
          "output_type": "stream",
          "text": [
            "1. Target: Sci/Tech, Pred: World, Prob: 0.9995064735412598\n",
            "\n",
            "Text:\n",
            "Philippines mourns dead in Russian school siege The Philippines Saturday expressed quot;deepest sympathy quot; to the families of the dead in the Russian school siege on Friday, in which 322 people were killed when Russian troops stormed \n",
            "\n",
            "-----\n",
            "\n",
            "2. Target: Business, Pred: World, Prob: 0.9994194507598877\n",
            "\n",
            "Text:\n",
            "Megawati kicks off 36th ASEAN economic meeting JAKARTA (Agencies): President Megawati Soekarnoputri opened high-level economic talks between members of the Association of Southeast Asian Nations (ASEAN) on Friday with a warning to ASEAN leaders that they must stay the course on their agreed \n",
            "\n",
            "-----\n",
            "\n",
            "3. Target: Sci/Tech, Pred: Business, Prob: 0.9992642998695374\n",
            "\n",
            "Text:\n",
            "DreamWorks Animation IPO Set at 29M Shares Underwriters for DreamWorks Animation SKG Inc., producer of the blockbuster \"Shrek\" movies, Tuesday set the terms of the company's pending initial public offering at 29 million common shares, with an estimated price range of \\$23 to \\$25 a share.\n",
            "\n",
            "-----\n",
            "\n",
            "4. Target: Sci/Tech, Pred: World, Prob: 0.9986832737922668\n",
            "\n",
            "Text:\n",
            "Another homicide in Holland  It is a sad day.      In what seems to be another politically inspired homicide in Holland, Dutch filmmaker, and controversial columnist Theo van Gogh was brutally murdered in the streets of Amsterdam this morning.\n",
            "\n",
            "-----\n",
            "\n",
            "5. Target: Business, Pred: World, Prob: 0.9986351132392883\n",
            "\n",
            "Text:\n",
            "Indonesian diplomats asked to help improve RI #39;s bad image JAKARTA (Antara): President Susilo Yudhoyono asked Indonesian diplomats on Monday to help the government improve Indonesia #39;s bad image.\n",
            "\n",
            "-----\n",
            "\n",
            "6. Target: Business, Pred: World, Prob: 0.9983541965484619\n",
            "\n",
            "Text:\n",
            "Nepal blockade 'blow to tourism' Nepal tour operators say tourists cancelled millions of  dollars of bookings due to the rebel blockade of Kathmandu.\n",
            "\n",
            "-----\n",
            "\n",
            "7. Target: World, Pred: Sports, Prob: 0.9974429607391357\n",
            "\n",
            "Text:\n",
            "Munro, Morris Face Off in NLCS Game 2 ST. LOUIS - The Houston Astros put their hopes in a pitcher untested in the postseason when they give Pete Munro the ball to start Game 2 of the NL Championship series on Thursday, one night after dropping the opener to the St...\n",
            "\n",
            "-----\n",
            "\n",
            "8. Target: World, Pred: Business, Prob: 0.9972506165504456\n",
            "\n",
            "Text:\n",
            "Dow Jones Agrees to Buy MarketWatch in \\$519 Million Deal Dow Jones   Company, the publisher of The Wall Street Journal, has agreed to buy MarketWatch, the parent company of the financial news Web site CBS MarketWatch, for approximately \\$519 million, the companies said today.\n",
            "\n",
            "-----\n",
            "\n",
            "9. Target: World, Pred: Business, Prob: 0.9971997737884521\n",
            "\n",
            "Text:\n",
            "German investor confidence slumped in September BERLIN - German investor confidence dropped sharply in September, a key economic indicator released Tuesday showed amid concerns about the impact of high oil prices on consumer demand and the outlook for the global economy.\n",
            "\n",
            "-----\n",
            "\n",
            "10. Target: Sci/Tech, Pred: Business, Prob: 0.9970711469650269\n",
            "\n",
            "Text:\n",
            "Greenspan: Debt, home prices not dangerous The record level of debt carried by American households and soaring home prices do not appear to represent serious threats to the US economy, Federal Reserve Chairman Alan Greenspan said Tuesday.\n",
            "\n",
            "-----\n",
            "\n"
          ],
          "name": "stdout"
        }
      ]
    },
    {
      "cell_type": "markdown",
      "metadata": {
        "id": "ZcoXqS8J2QHc"
      },
      "source": [
        "While some examples look like they are mislabeled, some examples are ambiguous in a sense that it could be interpreted as two different categories.\n",
        "\n",
        "First sample is about the killings of Russian Troops, which is not Science or Technology news. Similarly, the 7th example is about the baseball team Houston Astros which considered more of a sports news rather than world news. It seems like these examples are mislabeled. \n",
        "\n",
        "On the other hand, the 9th example is about the increase in oil prices and concerns about its impact on the global economy. This one is more ambiguous, since the text contains multiple business terms like 'oil price', 'consumer demand' etc. It is understandable why the model predicted business. However, it could also be considered world news since it mentions its impact on the 'global economy'."
      ]
    },
    {
      "cell_type": "markdown",
      "metadata": {
        "id": "sUmxK3ehne7Z"
      },
      "source": [
        "## Making Example Predictions"
      ]
    },
    {
      "cell_type": "code",
      "metadata": {
        "id": "9g4pd0RZnlKI",
        "colab": {
          "base_uri": "https://localhost:8080/",
          "height": 175
        },
        "outputId": "e13e32a9-4006-41a3-a282-d27c36e770c7"
      },
      "source": [
        "# Setting up the sample news dataset\n",
        "news1 = {}\n",
        "news1['text'] = 'United Airlines will require its US staff to be vaccinated against COVID-19. The rule will kick in this fall, CEO Scott Kirby and president Brett Hart said in a memo to staff.'\n",
        "news1['source'] = 'https://www.cnet.com/health/united-airlines-will-require-staff-to-be-vaccinated/'\n",
        "news2 = {}\n",
        "news2['text'] = 'Brazil beat Spain in extra time to retain Olympic football gold'\n",
        "news2['source'] = 'https://www.aljazeera.com/news/2021/8/7/brazil-beat-spain-in-extra-time-to-retain-olympic-football-gold'\n",
        "news3 = {}\n",
        "news3['text'] = \"Biden addresses the crisis in Afghanistan after Taliban take Kabul\"\n",
        "news3['source'] = 'https://www.cnbc.com/2021/08/16/watch-biden-afghanistan-speech-live.html'\n",
        "news4 = {}\n",
        "news4['text'] = 'Probiotics help lab corals survive deadly heat stress'\n",
        "news4['source'] = 'https://www.sciencenews.org/article/probiotics-lab-coral-heat-stress-death-reef-survival-ocean-warming'\n",
        "\n",
        "sample_news = []\n",
        "sample_news.append(news1)\n",
        "sample_news.append(news2)\n",
        "sample_news.append(news3)\n",
        "sample_news.append(news4)\n",
        "\n",
        "sample_news_df = pd.DataFrame(sample_news)\n",
        "sample_news_df['labels'] = [3, 2, 1, 4]\n",
        "sample_news_df['classes'] = [class_names[label-1] for label in sample_news_df['labels']]\n",
        "sample_news_df"
      ],
      "execution_count": 197,
      "outputs": [
        {
          "output_type": "execute_result",
          "data": {
            "text/html": [
              "<div>\n",
              "<style scoped>\n",
              "    .dataframe tbody tr th:only-of-type {\n",
              "        vertical-align: middle;\n",
              "    }\n",
              "\n",
              "    .dataframe tbody tr th {\n",
              "        vertical-align: top;\n",
              "    }\n",
              "\n",
              "    .dataframe thead th {\n",
              "        text-align: right;\n",
              "    }\n",
              "</style>\n",
              "<table border=\"1\" class=\"dataframe\">\n",
              "  <thead>\n",
              "    <tr style=\"text-align: right;\">\n",
              "      <th></th>\n",
              "      <th>text</th>\n",
              "      <th>source</th>\n",
              "      <th>labels</th>\n",
              "      <th>classes</th>\n",
              "    </tr>\n",
              "  </thead>\n",
              "  <tbody>\n",
              "    <tr>\n",
              "      <th>0</th>\n",
              "      <td>United Airlines will require its US staff to b...</td>\n",
              "      <td>https://www.cnet.com/health/united-airlines-wi...</td>\n",
              "      <td>3</td>\n",
              "      <td>Business</td>\n",
              "    </tr>\n",
              "    <tr>\n",
              "      <th>1</th>\n",
              "      <td>Brazil beat Spain in extra time to retain Olym...</td>\n",
              "      <td>https://www.aljazeera.com/news/2021/8/7/brazil...</td>\n",
              "      <td>2</td>\n",
              "      <td>Sports</td>\n",
              "    </tr>\n",
              "    <tr>\n",
              "      <th>2</th>\n",
              "      <td>Biden addresses the crisis in Afghanistan afte...</td>\n",
              "      <td>https://www.cnbc.com/2021/08/16/watch-biden-af...</td>\n",
              "      <td>1</td>\n",
              "      <td>World</td>\n",
              "    </tr>\n",
              "    <tr>\n",
              "      <th>3</th>\n",
              "      <td>Probiotics help lab corals survive deadly heat...</td>\n",
              "      <td>https://www.sciencenews.org/article/probiotics...</td>\n",
              "      <td>4</td>\n",
              "      <td>Sci/Tech</td>\n",
              "    </tr>\n",
              "  </tbody>\n",
              "</table>\n",
              "</div>"
            ],
            "text/plain": [
              "                                                text  ...   classes\n",
              "0  United Airlines will require its US staff to b...  ...  Business\n",
              "1  Brazil beat Spain in extra time to retain Olym...  ...    Sports\n",
              "2  Biden addresses the crisis in Afghanistan afte...  ...     World\n",
              "3  Probiotics help lab corals survive deadly heat...  ...  Sci/Tech\n",
              "\n",
              "[4 rows x 4 columns]"
            ]
          },
          "metadata": {
            "tags": []
          },
          "execution_count": 197
        }
      ]
    },
    {
      "cell_type": "code",
      "metadata": {
        "id": "xmJNkx8Y7YtU"
      },
      "source": [
        "# Preparing the sample news for predictions\n",
        "sample_news_df['text'] = sample_news_df['text'].apply(lambda x: remove_unwanted(x))\n",
        "sample_token_data = sample_news_df['text'].tolist()\n",
        "sample_char_data = sample_news_df['text'].apply(lambda x: split_chars(x)).tolist()\n",
        "sample_data = tf.data.Dataset.from_tensor_slices((sample_token_data, sample_char_data))\n",
        "labels = tf.data.Dataset.from_tensor_slices(tf.one_hot(sample_news_df['labels'], depth=4))\n",
        "test_sample = tf.data.Dataset.zip((sample_data, labels))"
      ],
      "execution_count": 198,
      "outputs": []
    },
    {
      "cell_type": "code",
      "metadata": {
        "id": "KqtHiBId82kh",
        "colab": {
          "base_uri": "https://localhost:8080/"
        },
        "outputId": "06b620cb-184e-4eb3-d8e8-6b551e15fd4d"
      },
      "source": [
        "sample_pred_probs = best_model.predict(test_sample.batch(1))\n",
        "sample_preds = tf.argmax(sample_pred_probs, axis=1)\n",
        "pred_classes = [class_names[pred] for pred in sample_preds]\n",
        "pred_classes"
      ],
      "execution_count": 199,
      "outputs": [
        {
          "output_type": "execute_result",
          "data": {
            "text/plain": [
              "['Business', 'Sports', 'World', 'Sci/Tech']"
            ]
          },
          "metadata": {
            "tags": []
          },
          "execution_count": 199
        }
      ]
    },
    {
      "cell_type": "code",
      "metadata": {
        "id": "XjZf6Ww99lrh",
        "colab": {
          "base_uri": "https://localhost:8080/"
        },
        "outputId": "f36ef797-611f-4ed4-9fcd-660594b3acda"
      },
      "source": [
        "sample_news_df['pred'] = pred_classes\n",
        "sample_news_df['pred_probs'] = tf.reduce_max(sample_pred_probs, axis=1).numpy()\n",
        "for row in sample_news_df.itertuples():\n",
        "  _, text, _, label, classes, prediction, pred_prob = row\n",
        "  print(f\"Target: {classes}, Pred: {prediction}, Prob: {pred_prob}\\n\")\n",
        "  print(f\"Text:\\n{text}\\n\")\n",
        "  print(\"-----\\n\")"
      ],
      "execution_count": 200,
      "outputs": [
        {
          "output_type": "stream",
          "text": [
            "Target: Business, Pred: Business, Prob: 0.6714275479316711\n",
            "\n",
            "Text:\n",
            "United Airlines require US staff vaccinated COVID19 The rule kick fall CEO Scott Kirby president Brett Hart said memo staff\n",
            "\n",
            "-----\n",
            "\n",
            "Target: Sports, Pred: Sports, Prob: 0.887169599533081\n",
            "\n",
            "Text:\n",
            "Brazil beat Spain extra time retain Olympic football gold\n",
            "\n",
            "-----\n",
            "\n",
            "Target: World, Pred: World, Prob: 0.9871206879615784\n",
            "\n",
            "Text:\n",
            "Biden addresses crisis Afghanistan Taliban Kabul\n",
            "\n",
            "-----\n",
            "\n",
            "Target: Sci/Tech, Pred: Sci/Tech, Prob: 0.8007504940032959\n",
            "\n",
            "Text:\n",
            "Probiotics help lab corals survive deadly heat stress\n",
            "\n",
            "-----\n",
            "\n"
          ],
          "name": "stdout"
        }
      ]
    }
  ]
}